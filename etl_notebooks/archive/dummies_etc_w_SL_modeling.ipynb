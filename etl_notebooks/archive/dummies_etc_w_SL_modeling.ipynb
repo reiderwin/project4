{
 "cells": [
  {
   "cell_type": "code",
   "execution_count": 1,
   "id": "80a3e6ac",
   "metadata": {},
   "outputs": [],
   "source": [
    "import pandas as pd\n",
    "from sklearn.model_selection import train_test_split\n",
    "from sklearn.preprocessing import StandardScaler, MinMaxScaler, LabelEncoder\n",
    "import numpy as np\n",
    "from matplotlib import pyplot as plt\n",
    "from sklearn.linear_model import LogisticRegression\n",
    "from sklearn.ensemble import RandomForestClassifier, AdaBoostClassifier\n",
    "from sklearn.neighbors import KNeighborsClassifier\n",
    "from sklearn.svm import SVC, LinearSVC\n",
    "from sklearn.model_selection import GridSearchCV\n",
    "from sklearn.tree import DecisionTreeClassifier\n",
    "from sklearn.ensemble import ExtraTreesClassifier"
   ]
  },
  {
   "cell_type": "code",
   "execution_count": 2,
   "id": "4e93cb84",
   "metadata": {},
   "outputs": [],
   "source": [
    "df=pd.read_csv(\"resources/small_loans_no_geo_bin.csv\")"
   ]
  },
  {
   "cell_type": "code",
   "execution_count": 3,
   "id": "f701c9c6",
   "metadata": {},
   "outputs": [],
   "source": [
    "retypes={\n",
    "'loan_type':'str'\n",
    ",'loan_amount_000s':'int64'\n",
    ",'action_taken':'int8'\n",
    ",'applicant_ethnicity':'str'\n",
    ",'co_applicant_ethnicity':'str'\n",
    ",'applicant_race_1':'str'\n",
    ",'co_applicant_race_1':'str'\n",
    ",'applicant_sex':'str'\n",
    ",'co_applicant_sex':'str'\n",
    ",'applicant_income_000s':'int64'\n",
    ",'purchaser_type':'str'}"
   ]
  },
  {
   "cell_type": "code",
   "execution_count": 4,
   "id": "9741763b",
   "metadata": {},
   "outputs": [],
   "source": [
    "# categorical fields to strings for one-hot encoding\n",
    "df = df.astype(retypes)\n"
   ]
  },
  {
   "cell_type": "code",
   "execution_count": 5,
   "id": "f21bfa3b",
   "metadata": {},
   "outputs": [
    {
     "name": "stdout",
     "output_type": "stream",
     "text": [
      "<class 'pandas.core.frame.DataFrame'>\n",
      "RangeIndex: 50000 entries, 0 to 49999\n",
      "Data columns (total 12 columns):\n",
      " #   Column                  Non-Null Count  Dtype \n",
      "---  ------                  --------------  ----- \n",
      " 0   Unnamed: 0              50000 non-null  int64 \n",
      " 1   loan_type               50000 non-null  object\n",
      " 2   loan_amount_000s        50000 non-null  int64 \n",
      " 3   action_taken            50000 non-null  int8  \n",
      " 4   applicant_ethnicity     50000 non-null  object\n",
      " 5   co_applicant_ethnicity  50000 non-null  object\n",
      " 6   applicant_race_1        50000 non-null  object\n",
      " 7   co_applicant_race_1     50000 non-null  object\n",
      " 8   applicant_sex           50000 non-null  object\n",
      " 9   co_applicant_sex        50000 non-null  object\n",
      " 10  applicant_income_000s   50000 non-null  int64 \n",
      " 11  purchaser_type          50000 non-null  object\n",
      "dtypes: int64(3), int8(1), object(8)\n",
      "memory usage: 4.2+ MB\n"
     ]
    }
   ],
   "source": [
    "df.info()"
   ]
  },
  {
   "cell_type": "code",
   "execution_count": 6,
   "id": "33eafc1b",
   "metadata": {},
   "outputs": [
    {
     "data": {
      "text/html": [
       "<div>\n",
       "<style scoped>\n",
       "    .dataframe tbody tr th:only-of-type {\n",
       "        vertical-align: middle;\n",
       "    }\n",
       "\n",
       "    .dataframe tbody tr th {\n",
       "        vertical-align: top;\n",
       "    }\n",
       "\n",
       "    .dataframe thead th {\n",
       "        text-align: right;\n",
       "    }\n",
       "</style>\n",
       "<table border=\"1\" class=\"dataframe\">\n",
       "  <thead>\n",
       "    <tr style=\"text-align: right;\">\n",
       "      <th></th>\n",
       "      <th>loan_type</th>\n",
       "      <th>loan_amount_000s</th>\n",
       "      <th>applicant_ethnicity</th>\n",
       "      <th>co_applicant_ethnicity</th>\n",
       "      <th>applicant_race_1</th>\n",
       "      <th>co_applicant_race_1</th>\n",
       "      <th>applicant_sex</th>\n",
       "      <th>co_applicant_sex</th>\n",
       "      <th>applicant_income_000s</th>\n",
       "      <th>purchaser_type</th>\n",
       "    </tr>\n",
       "  </thead>\n",
       "  <tbody>\n",
       "    <tr>\n",
       "      <th>0</th>\n",
       "      <td>2</td>\n",
       "      <td>172</td>\n",
       "      <td>2</td>\n",
       "      <td>5</td>\n",
       "      <td>5</td>\n",
       "      <td>8</td>\n",
       "      <td>1</td>\n",
       "      <td>5</td>\n",
       "      <td>42</td>\n",
       "      <td>6</td>\n",
       "    </tr>\n",
       "    <tr>\n",
       "      <th>1</th>\n",
       "      <td>1</td>\n",
       "      <td>65</td>\n",
       "      <td>2</td>\n",
       "      <td>2</td>\n",
       "      <td>5</td>\n",
       "      <td>5</td>\n",
       "      <td>1</td>\n",
       "      <td>2</td>\n",
       "      <td>150</td>\n",
       "      <td>0</td>\n",
       "    </tr>\n",
       "    <tr>\n",
       "      <th>2</th>\n",
       "      <td>1</td>\n",
       "      <td>146</td>\n",
       "      <td>2</td>\n",
       "      <td>5</td>\n",
       "      <td>5</td>\n",
       "      <td>8</td>\n",
       "      <td>2</td>\n",
       "      <td>5</td>\n",
       "      <td>32</td>\n",
       "      <td>6</td>\n",
       "    </tr>\n",
       "    <tr>\n",
       "      <th>3</th>\n",
       "      <td>2</td>\n",
       "      <td>212</td>\n",
       "      <td>2</td>\n",
       "      <td>5</td>\n",
       "      <td>5</td>\n",
       "      <td>8</td>\n",
       "      <td>1</td>\n",
       "      <td>5</td>\n",
       "      <td>59</td>\n",
       "      <td>7</td>\n",
       "    </tr>\n",
       "    <tr>\n",
       "      <th>4</th>\n",
       "      <td>Other</td>\n",
       "      <td>275</td>\n",
       "      <td>2</td>\n",
       "      <td>2</td>\n",
       "      <td>5</td>\n",
       "      <td>5</td>\n",
       "      <td>1</td>\n",
       "      <td>2</td>\n",
       "      <td>72</td>\n",
       "      <td>6</td>\n",
       "    </tr>\n",
       "    <tr>\n",
       "      <th>...</th>\n",
       "      <td>...</td>\n",
       "      <td>...</td>\n",
       "      <td>...</td>\n",
       "      <td>...</td>\n",
       "      <td>...</td>\n",
       "      <td>...</td>\n",
       "      <td>...</td>\n",
       "      <td>...</td>\n",
       "      <td>...</td>\n",
       "      <td>...</td>\n",
       "    </tr>\n",
       "    <tr>\n",
       "      <th>49995</th>\n",
       "      <td>Other</td>\n",
       "      <td>113</td>\n",
       "      <td>1</td>\n",
       "      <td>5</td>\n",
       "      <td>5</td>\n",
       "      <td>8</td>\n",
       "      <td>1</td>\n",
       "      <td>5</td>\n",
       "      <td>47</td>\n",
       "      <td>0</td>\n",
       "    </tr>\n",
       "    <tr>\n",
       "      <th>49996</th>\n",
       "      <td>1</td>\n",
       "      <td>245</td>\n",
       "      <td>2</td>\n",
       "      <td>2</td>\n",
       "      <td>5</td>\n",
       "      <td>5</td>\n",
       "      <td>1</td>\n",
       "      <td>2</td>\n",
       "      <td>101</td>\n",
       "      <td>6</td>\n",
       "    </tr>\n",
       "    <tr>\n",
       "      <th>49997</th>\n",
       "      <td>Other</td>\n",
       "      <td>146</td>\n",
       "      <td>2</td>\n",
       "      <td>5</td>\n",
       "      <td>5</td>\n",
       "      <td>8</td>\n",
       "      <td>1</td>\n",
       "      <td>5</td>\n",
       "      <td>74</td>\n",
       "      <td>6</td>\n",
       "    </tr>\n",
       "    <tr>\n",
       "      <th>49998</th>\n",
       "      <td>1</td>\n",
       "      <td>279</td>\n",
       "      <td>2</td>\n",
       "      <td>2</td>\n",
       "      <td>5</td>\n",
       "      <td>5</td>\n",
       "      <td>1</td>\n",
       "      <td>2</td>\n",
       "      <td>152</td>\n",
       "      <td>6</td>\n",
       "    </tr>\n",
       "    <tr>\n",
       "      <th>49999</th>\n",
       "      <td>1</td>\n",
       "      <td>395</td>\n",
       "      <td>2</td>\n",
       "      <td>2</td>\n",
       "      <td>5</td>\n",
       "      <td>5</td>\n",
       "      <td>1</td>\n",
       "      <td>2</td>\n",
       "      <td>120</td>\n",
       "      <td>0</td>\n",
       "    </tr>\n",
       "  </tbody>\n",
       "</table>\n",
       "<p>50000 rows × 10 columns</p>\n",
       "</div>"
      ],
      "text/plain": [
       "      loan_type  loan_amount_000s applicant_ethnicity co_applicant_ethnicity  \\\n",
       "0             2               172                   2                      5   \n",
       "1             1                65                   2                      2   \n",
       "2             1               146                   2                      5   \n",
       "3             2               212                   2                      5   \n",
       "4         Other               275                   2                      2   \n",
       "...         ...               ...                 ...                    ...   \n",
       "49995     Other               113                   1                      5   \n",
       "49996         1               245                   2                      2   \n",
       "49997     Other               146                   2                      5   \n",
       "49998         1               279                   2                      2   \n",
       "49999         1               395                   2                      2   \n",
       "\n",
       "      applicant_race_1 co_applicant_race_1 applicant_sex co_applicant_sex  \\\n",
       "0                    5                   8             1                5   \n",
       "1                    5                   5             1                2   \n",
       "2                    5                   8             2                5   \n",
       "3                    5                   8             1                5   \n",
       "4                    5                   5             1                2   \n",
       "...                ...                 ...           ...              ...   \n",
       "49995                5                   8             1                5   \n",
       "49996                5                   5             1                2   \n",
       "49997                5                   8             1                5   \n",
       "49998                5                   5             1                2   \n",
       "49999                5                   5             1                2   \n",
       "\n",
       "       applicant_income_000s purchaser_type  \n",
       "0                         42              6  \n",
       "1                        150              0  \n",
       "2                         32              6  \n",
       "3                         59              7  \n",
       "4                         72              6  \n",
       "...                      ...            ...  \n",
       "49995                     47              0  \n",
       "49996                    101              6  \n",
       "49997                     74              6  \n",
       "49998                    152              6  \n",
       "49999                    120              0  \n",
       "\n",
       "[50000 rows x 10 columns]"
      ]
     },
     "execution_count": 6,
     "metadata": {},
     "output_type": "execute_result"
    }
   ],
   "source": [
    "X = df.drop(columns=['action_taken','Unnamed: 0'])\n",
    "X"
   ]
  },
  {
   "cell_type": "code",
   "execution_count": 7,
   "id": "52f65f1c",
   "metadata": {},
   "outputs": [
    {
     "name": "stdout",
     "output_type": "stream",
     "text": [
      "Index(['loan_amount_000s', 'applicant_income_000s', 'loan_type_1',\n",
      "       'loan_type_2', 'loan_type_Other', 'applicant_ethnicity_1',\n",
      "       'applicant_ethnicity_2', 'co_applicant_ethnicity_1',\n",
      "       'co_applicant_ethnicity_2', 'co_applicant_ethnicity_5',\n",
      "       'applicant_race_1_1', 'applicant_race_1_2', 'applicant_race_1_3',\n",
      "       'applicant_race_1_4', 'applicant_race_1_5', 'co_applicant_race_1_1',\n",
      "       'co_applicant_race_1_2', 'co_applicant_race_1_3',\n",
      "       'co_applicant_race_1_4', 'co_applicant_race_1_5',\n",
      "       'co_applicant_race_1_8', 'applicant_sex_1', 'applicant_sex_2',\n",
      "       'applicant_sex_3', 'co_applicant_sex_1', 'co_applicant_sex_2',\n",
      "       'co_applicant_sex_3', 'co_applicant_sex_4', 'co_applicant_sex_5',\n",
      "       'purchaser_type_0', 'purchaser_type_1', 'purchaser_type_2',\n",
      "       'purchaser_type_3', 'purchaser_type_6', 'purchaser_type_7',\n",
      "       'purchaser_type_Other'],\n",
      "      dtype='object')\n"
     ]
    },
    {
     "data": {
      "text/html": [
       "<div>\n",
       "<style scoped>\n",
       "    .dataframe tbody tr th:only-of-type {\n",
       "        vertical-align: middle;\n",
       "    }\n",
       "\n",
       "    .dataframe tbody tr th {\n",
       "        vertical-align: top;\n",
       "    }\n",
       "\n",
       "    .dataframe thead th {\n",
       "        text-align: right;\n",
       "    }\n",
       "</style>\n",
       "<table border=\"1\" class=\"dataframe\">\n",
       "  <thead>\n",
       "    <tr style=\"text-align: right;\">\n",
       "      <th></th>\n",
       "      <th>loan_amount_000s</th>\n",
       "      <th>applicant_income_000s</th>\n",
       "      <th>loan_type_1</th>\n",
       "      <th>loan_type_2</th>\n",
       "      <th>loan_type_Other</th>\n",
       "      <th>applicant_ethnicity_1</th>\n",
       "      <th>applicant_ethnicity_2</th>\n",
       "      <th>co_applicant_ethnicity_1</th>\n",
       "      <th>co_applicant_ethnicity_2</th>\n",
       "      <th>co_applicant_ethnicity_5</th>\n",
       "      <th>...</th>\n",
       "      <th>co_applicant_sex_3</th>\n",
       "      <th>co_applicant_sex_4</th>\n",
       "      <th>co_applicant_sex_5</th>\n",
       "      <th>purchaser_type_0</th>\n",
       "      <th>purchaser_type_1</th>\n",
       "      <th>purchaser_type_2</th>\n",
       "      <th>purchaser_type_3</th>\n",
       "      <th>purchaser_type_6</th>\n",
       "      <th>purchaser_type_7</th>\n",
       "      <th>purchaser_type_Other</th>\n",
       "    </tr>\n",
       "  </thead>\n",
       "  <tbody>\n",
       "    <tr>\n",
       "      <th>0</th>\n",
       "      <td>172</td>\n",
       "      <td>42</td>\n",
       "      <td>0</td>\n",
       "      <td>1</td>\n",
       "      <td>0</td>\n",
       "      <td>0</td>\n",
       "      <td>1</td>\n",
       "      <td>0</td>\n",
       "      <td>0</td>\n",
       "      <td>1</td>\n",
       "      <td>...</td>\n",
       "      <td>0</td>\n",
       "      <td>0</td>\n",
       "      <td>1</td>\n",
       "      <td>0</td>\n",
       "      <td>0</td>\n",
       "      <td>0</td>\n",
       "      <td>0</td>\n",
       "      <td>1</td>\n",
       "      <td>0</td>\n",
       "      <td>0</td>\n",
       "    </tr>\n",
       "    <tr>\n",
       "      <th>1</th>\n",
       "      <td>65</td>\n",
       "      <td>150</td>\n",
       "      <td>1</td>\n",
       "      <td>0</td>\n",
       "      <td>0</td>\n",
       "      <td>0</td>\n",
       "      <td>1</td>\n",
       "      <td>0</td>\n",
       "      <td>1</td>\n",
       "      <td>0</td>\n",
       "      <td>...</td>\n",
       "      <td>0</td>\n",
       "      <td>0</td>\n",
       "      <td>0</td>\n",
       "      <td>1</td>\n",
       "      <td>0</td>\n",
       "      <td>0</td>\n",
       "      <td>0</td>\n",
       "      <td>0</td>\n",
       "      <td>0</td>\n",
       "      <td>0</td>\n",
       "    </tr>\n",
       "    <tr>\n",
       "      <th>2</th>\n",
       "      <td>146</td>\n",
       "      <td>32</td>\n",
       "      <td>1</td>\n",
       "      <td>0</td>\n",
       "      <td>0</td>\n",
       "      <td>0</td>\n",
       "      <td>1</td>\n",
       "      <td>0</td>\n",
       "      <td>0</td>\n",
       "      <td>1</td>\n",
       "      <td>...</td>\n",
       "      <td>0</td>\n",
       "      <td>0</td>\n",
       "      <td>1</td>\n",
       "      <td>0</td>\n",
       "      <td>0</td>\n",
       "      <td>0</td>\n",
       "      <td>0</td>\n",
       "      <td>1</td>\n",
       "      <td>0</td>\n",
       "      <td>0</td>\n",
       "    </tr>\n",
       "    <tr>\n",
       "      <th>3</th>\n",
       "      <td>212</td>\n",
       "      <td>59</td>\n",
       "      <td>0</td>\n",
       "      <td>1</td>\n",
       "      <td>0</td>\n",
       "      <td>0</td>\n",
       "      <td>1</td>\n",
       "      <td>0</td>\n",
       "      <td>0</td>\n",
       "      <td>1</td>\n",
       "      <td>...</td>\n",
       "      <td>0</td>\n",
       "      <td>0</td>\n",
       "      <td>1</td>\n",
       "      <td>0</td>\n",
       "      <td>0</td>\n",
       "      <td>0</td>\n",
       "      <td>0</td>\n",
       "      <td>0</td>\n",
       "      <td>1</td>\n",
       "      <td>0</td>\n",
       "    </tr>\n",
       "    <tr>\n",
       "      <th>4</th>\n",
       "      <td>275</td>\n",
       "      <td>72</td>\n",
       "      <td>0</td>\n",
       "      <td>0</td>\n",
       "      <td>1</td>\n",
       "      <td>0</td>\n",
       "      <td>1</td>\n",
       "      <td>0</td>\n",
       "      <td>1</td>\n",
       "      <td>0</td>\n",
       "      <td>...</td>\n",
       "      <td>0</td>\n",
       "      <td>0</td>\n",
       "      <td>0</td>\n",
       "      <td>0</td>\n",
       "      <td>0</td>\n",
       "      <td>0</td>\n",
       "      <td>0</td>\n",
       "      <td>1</td>\n",
       "      <td>0</td>\n",
       "      <td>0</td>\n",
       "    </tr>\n",
       "    <tr>\n",
       "      <th>...</th>\n",
       "      <td>...</td>\n",
       "      <td>...</td>\n",
       "      <td>...</td>\n",
       "      <td>...</td>\n",
       "      <td>...</td>\n",
       "      <td>...</td>\n",
       "      <td>...</td>\n",
       "      <td>...</td>\n",
       "      <td>...</td>\n",
       "      <td>...</td>\n",
       "      <td>...</td>\n",
       "      <td>...</td>\n",
       "      <td>...</td>\n",
       "      <td>...</td>\n",
       "      <td>...</td>\n",
       "      <td>...</td>\n",
       "      <td>...</td>\n",
       "      <td>...</td>\n",
       "      <td>...</td>\n",
       "      <td>...</td>\n",
       "      <td>...</td>\n",
       "    </tr>\n",
       "    <tr>\n",
       "      <th>49995</th>\n",
       "      <td>113</td>\n",
       "      <td>47</td>\n",
       "      <td>0</td>\n",
       "      <td>0</td>\n",
       "      <td>1</td>\n",
       "      <td>1</td>\n",
       "      <td>0</td>\n",
       "      <td>0</td>\n",
       "      <td>0</td>\n",
       "      <td>1</td>\n",
       "      <td>...</td>\n",
       "      <td>0</td>\n",
       "      <td>0</td>\n",
       "      <td>1</td>\n",
       "      <td>1</td>\n",
       "      <td>0</td>\n",
       "      <td>0</td>\n",
       "      <td>0</td>\n",
       "      <td>0</td>\n",
       "      <td>0</td>\n",
       "      <td>0</td>\n",
       "    </tr>\n",
       "    <tr>\n",
       "      <th>49996</th>\n",
       "      <td>245</td>\n",
       "      <td>101</td>\n",
       "      <td>1</td>\n",
       "      <td>0</td>\n",
       "      <td>0</td>\n",
       "      <td>0</td>\n",
       "      <td>1</td>\n",
       "      <td>0</td>\n",
       "      <td>1</td>\n",
       "      <td>0</td>\n",
       "      <td>...</td>\n",
       "      <td>0</td>\n",
       "      <td>0</td>\n",
       "      <td>0</td>\n",
       "      <td>0</td>\n",
       "      <td>0</td>\n",
       "      <td>0</td>\n",
       "      <td>0</td>\n",
       "      <td>1</td>\n",
       "      <td>0</td>\n",
       "      <td>0</td>\n",
       "    </tr>\n",
       "    <tr>\n",
       "      <th>49997</th>\n",
       "      <td>146</td>\n",
       "      <td>74</td>\n",
       "      <td>0</td>\n",
       "      <td>0</td>\n",
       "      <td>1</td>\n",
       "      <td>0</td>\n",
       "      <td>1</td>\n",
       "      <td>0</td>\n",
       "      <td>0</td>\n",
       "      <td>1</td>\n",
       "      <td>...</td>\n",
       "      <td>0</td>\n",
       "      <td>0</td>\n",
       "      <td>1</td>\n",
       "      <td>0</td>\n",
       "      <td>0</td>\n",
       "      <td>0</td>\n",
       "      <td>0</td>\n",
       "      <td>1</td>\n",
       "      <td>0</td>\n",
       "      <td>0</td>\n",
       "    </tr>\n",
       "    <tr>\n",
       "      <th>49998</th>\n",
       "      <td>279</td>\n",
       "      <td>152</td>\n",
       "      <td>1</td>\n",
       "      <td>0</td>\n",
       "      <td>0</td>\n",
       "      <td>0</td>\n",
       "      <td>1</td>\n",
       "      <td>0</td>\n",
       "      <td>1</td>\n",
       "      <td>0</td>\n",
       "      <td>...</td>\n",
       "      <td>0</td>\n",
       "      <td>0</td>\n",
       "      <td>0</td>\n",
       "      <td>0</td>\n",
       "      <td>0</td>\n",
       "      <td>0</td>\n",
       "      <td>0</td>\n",
       "      <td>1</td>\n",
       "      <td>0</td>\n",
       "      <td>0</td>\n",
       "    </tr>\n",
       "    <tr>\n",
       "      <th>49999</th>\n",
       "      <td>395</td>\n",
       "      <td>120</td>\n",
       "      <td>1</td>\n",
       "      <td>0</td>\n",
       "      <td>0</td>\n",
       "      <td>0</td>\n",
       "      <td>1</td>\n",
       "      <td>0</td>\n",
       "      <td>1</td>\n",
       "      <td>0</td>\n",
       "      <td>...</td>\n",
       "      <td>0</td>\n",
       "      <td>0</td>\n",
       "      <td>0</td>\n",
       "      <td>1</td>\n",
       "      <td>0</td>\n",
       "      <td>0</td>\n",
       "      <td>0</td>\n",
       "      <td>0</td>\n",
       "      <td>0</td>\n",
       "      <td>0</td>\n",
       "    </tr>\n",
       "  </tbody>\n",
       "</table>\n",
       "<p>50000 rows × 36 columns</p>\n",
       "</div>"
      ],
      "text/plain": [
       "       loan_amount_000s  applicant_income_000s  loan_type_1  loan_type_2  \\\n",
       "0                   172                     42            0            1   \n",
       "1                    65                    150            1            0   \n",
       "2                   146                     32            1            0   \n",
       "3                   212                     59            0            1   \n",
       "4                   275                     72            0            0   \n",
       "...                 ...                    ...          ...          ...   \n",
       "49995               113                     47            0            0   \n",
       "49996               245                    101            1            0   \n",
       "49997               146                     74            0            0   \n",
       "49998               279                    152            1            0   \n",
       "49999               395                    120            1            0   \n",
       "\n",
       "       loan_type_Other  applicant_ethnicity_1  applicant_ethnicity_2  \\\n",
       "0                    0                      0                      1   \n",
       "1                    0                      0                      1   \n",
       "2                    0                      0                      1   \n",
       "3                    0                      0                      1   \n",
       "4                    1                      0                      1   \n",
       "...                ...                    ...                    ...   \n",
       "49995                1                      1                      0   \n",
       "49996                0                      0                      1   \n",
       "49997                1                      0                      1   \n",
       "49998                0                      0                      1   \n",
       "49999                0                      0                      1   \n",
       "\n",
       "       co_applicant_ethnicity_1  co_applicant_ethnicity_2  \\\n",
       "0                             0                         0   \n",
       "1                             0                         1   \n",
       "2                             0                         0   \n",
       "3                             0                         0   \n",
       "4                             0                         1   \n",
       "...                         ...                       ...   \n",
       "49995                         0                         0   \n",
       "49996                         0                         1   \n",
       "49997                         0                         0   \n",
       "49998                         0                         1   \n",
       "49999                         0                         1   \n",
       "\n",
       "       co_applicant_ethnicity_5  ...  co_applicant_sex_3  co_applicant_sex_4  \\\n",
       "0                             1  ...                   0                   0   \n",
       "1                             0  ...                   0                   0   \n",
       "2                             1  ...                   0                   0   \n",
       "3                             1  ...                   0                   0   \n",
       "4                             0  ...                   0                   0   \n",
       "...                         ...  ...                 ...                 ...   \n",
       "49995                         1  ...                   0                   0   \n",
       "49996                         0  ...                   0                   0   \n",
       "49997                         1  ...                   0                   0   \n",
       "49998                         0  ...                   0                   0   \n",
       "49999                         0  ...                   0                   0   \n",
       "\n",
       "       co_applicant_sex_5  purchaser_type_0  purchaser_type_1  \\\n",
       "0                       1                 0                 0   \n",
       "1                       0                 1                 0   \n",
       "2                       1                 0                 0   \n",
       "3                       1                 0                 0   \n",
       "4                       0                 0                 0   \n",
       "...                   ...               ...               ...   \n",
       "49995                   1                 1                 0   \n",
       "49996                   0                 0                 0   \n",
       "49997                   1                 0                 0   \n",
       "49998                   0                 0                 0   \n",
       "49999                   0                 1                 0   \n",
       "\n",
       "       purchaser_type_2  purchaser_type_3  purchaser_type_6  purchaser_type_7  \\\n",
       "0                     0                 0                 1                 0   \n",
       "1                     0                 0                 0                 0   \n",
       "2                     0                 0                 1                 0   \n",
       "3                     0                 0                 0                 1   \n",
       "4                     0                 0                 1                 0   \n",
       "...                 ...               ...               ...               ...   \n",
       "49995                 0                 0                 0                 0   \n",
       "49996                 0                 0                 1                 0   \n",
       "49997                 0                 0                 1                 0   \n",
       "49998                 0                 0                 1                 0   \n",
       "49999                 0                 0                 0                 0   \n",
       "\n",
       "       purchaser_type_Other  \n",
       "0                         0  \n",
       "1                         0  \n",
       "2                         0  \n",
       "3                         0  \n",
       "4                         0  \n",
       "...                     ...  \n",
       "49995                     0  \n",
       "49996                     0  \n",
       "49997                     0  \n",
       "49998                     0  \n",
       "49999                     0  \n",
       "\n",
       "[50000 rows x 36 columns]"
      ]
     },
     "execution_count": 7,
     "metadata": {},
     "output_type": "execute_result"
    }
   ],
   "source": [
    "X_dummies = pd.get_dummies(X)\n",
    "print(X_dummies.columns)\n",
    "X_dummies"
   ]
  },
  {
   "cell_type": "code",
   "execution_count": 8,
   "id": "19c23c53",
   "metadata": {},
   "outputs": [],
   "source": [
    "# Split our preprocessed data into our features and target arrays\n",
    "\n",
    "y = df['action_taken']\n",
    "\n",
    "# Split the preprocessed data into a training and testing dataset\n",
    "X_train, X_test, y_train, y_test = train_test_split(X_dummies, y, random_state=42)"
   ]
  },
  {
   "cell_type": "code",
   "execution_count": 9,
   "id": "457bc722",
   "metadata": {},
   "outputs": [],
   "source": [
    "# Create a StandardScaler instances\n",
    "scaler = StandardScaler()\n",
    "\n",
    "# Fit the StandardScaler\n",
    "X_scaler = scaler.fit(X_train)\n",
    "\n",
    "# Scale the data\n",
    "X_train_scaled = X_scaler.transform(X_train)\n",
    "X_test_scaled = X_scaler.transform(X_test)"
   ]
  },
  {
   "cell_type": "markdown",
   "id": "2cc4666f",
   "metadata": {},
   "source": [
    "## Baseline Testing"
   ]
  },
  {
   "cell_type": "code",
   "execution_count": 10,
   "id": "44046759",
   "metadata": {},
   "outputs": [],
   "source": [
    "data = [X_train_scaled, X_test_scaled, y_train, y_test]"
   ]
  },
  {
   "cell_type": "code",
   "execution_count": 11,
   "id": "c03abb04",
   "metadata": {},
   "outputs": [],
   "source": [
    "def test_model(model, data):\n",
    "    X_train_scaled, X_test_scaled, y_train, y_test = data\n",
    "    reg = model.fit(X_train_scaled, y_train)\n",
    "    print(f'Model: {type(reg).__name__}')\n",
    "    print(f'Train score: {reg.score(X_train_scaled, y_train)}')\n",
    "    print(f'Test Score: {reg.score(X_test_scaled, y_test)}\\n')\n",
    "    plt.show()   "
   ]
  },
  {
   "cell_type": "code",
   "execution_count": 12,
   "id": "bdae2bc9",
   "metadata": {},
   "outputs": [
    {
     "name": "stdout",
     "output_type": "stream",
     "text": [
      "Model: LogisticRegression\n",
      "Train score: 0.9114933333333334\n",
      "Test Score: 0.9112\n",
      "\n",
      "Model: AdaBoostClassifier\n",
      "Train score: 0.9133333333333333\n",
      "Test Score: 0.91032\n",
      "\n",
      "Model: RandomForestClassifier\n",
      "Train score: 0.99856\n",
      "Test Score: 0.89416\n",
      "\n"
     ]
    },
    {
     "name": "stderr",
     "output_type": "stream",
     "text": [
      "/Users/michaelraines/opt/anaconda3/lib/python3.8/site-packages/sklearn/svm/_base.py:1206: ConvergenceWarning: Liblinear failed to converge, increase the number of iterations.\n",
      "  warnings.warn(\n"
     ]
    },
    {
     "name": "stdout",
     "output_type": "stream",
     "text": [
      "Model: LinearSVC\n",
      "Train score: 0.9115733333333333\n",
      "Test Score: 0.90984\n",
      "\n",
      "Model: DecisionTreeClassifier\n",
      "Train score: 0.99856\n",
      "Test Score: 0.88128\n",
      "\n",
      "Model: ExtraTreesClassifier\n",
      "Train score: 0.99856\n",
      "Test Score: 0.89216\n",
      "\n"
     ]
    }
   ],
   "source": [
    "#test defaults \n",
    "test_model(LogisticRegression(), data)\n",
    "test_model(AdaBoostClassifier(), data)\n",
    "test_model(RandomForestClassifier(), data)\n",
    "test_model(LinearSVC(), data)\n",
    "test_model(DecisionTreeClassifier(), data)\n",
    "test_model(ExtraTreesClassifier(), data)"
   ]
  },
  {
   "cell_type": "markdown",
   "id": "fd5afc60",
   "metadata": {},
   "source": [
    "### Grid CV of Classifiers"
   ]
  },
  {
   "cell_type": "markdown",
   "id": "218ceaba",
   "metadata": {},
   "source": [
    "#### Logistic Regression"
   ]
  },
  {
   "cell_type": "code",
   "execution_count": 31,
   "id": "b9d70169",
   "metadata": {},
   "outputs": [
    {
     "name": "stdout",
     "output_type": "stream",
     "text": [
      "Fitting 5 folds for each of 240 candidates, totalling 1200 fits\n",
      "[CV 1/5] END C=1.0, max_iter=500, penalty=l1, solver=newton-cg;, score=nan total time=   0.0s\n",
      "[CV 2/5] END C=1.0, max_iter=500, penalty=l1, solver=newton-cg;, score=nan total time=   0.0s\n",
      "[CV 3/5] END C=1.0, max_iter=500, penalty=l1, solver=newton-cg;, score=nan total time=   0.0s\n",
      "[CV 4/5] END C=1.0, max_iter=500, penalty=l1, solver=newton-cg;, score=nan total time=   0.0s\n",
      "[CV 5/5] END C=1.0, max_iter=500, penalty=l1, solver=newton-cg;, score=nan total time=   0.0s\n",
      "[CV 1/5] END C=1.0, max_iter=500, penalty=l1, solver=sag;, score=nan total time=   0.0s\n",
      "[CV 2/5] END C=1.0, max_iter=500, penalty=l1, solver=sag;, score=nan total time=   0.0s\n",
      "[CV 3/5] END C=1.0, max_iter=500, penalty=l1, solver=sag;, score=nan total time=   0.0s\n",
      "[CV 4/5] END C=1.0, max_iter=500, penalty=l1, solver=sag;, score=nan total time=   0.0s\n",
      "[CV 5/5] END C=1.0, max_iter=500, penalty=l1, solver=sag;, score=nan total time=   0.0s\n"
     ]
    },
    {
     "name": "stderr",
     "output_type": "stream",
     "text": [
      "/Users/michaelraines/opt/anaconda3/lib/python3.8/site-packages/sklearn/linear_model/_sag.py:352: ConvergenceWarning: The max_iter was reached which means the coef_ did not converge\n",
      "  warnings.warn(\n"
     ]
    },
    {
     "name": "stdout",
     "output_type": "stream",
     "text": [
      "[CV 1/5] END C=1.0, max_iter=500, penalty=l1, solver=saga;, score=0.896 total time=   4.6s\n"
     ]
    },
    {
     "name": "stderr",
     "output_type": "stream",
     "text": [
      "/Users/michaelraines/opt/anaconda3/lib/python3.8/site-packages/sklearn/linear_model/_sag.py:352: ConvergenceWarning: The max_iter was reached which means the coef_ did not converge\n",
      "  warnings.warn(\n"
     ]
    },
    {
     "name": "stdout",
     "output_type": "stream",
     "text": [
      "[CV 2/5] END C=1.0, max_iter=500, penalty=l1, solver=saga;, score=0.896 total time=   4.9s\n"
     ]
    },
    {
     "name": "stderr",
     "output_type": "stream",
     "text": [
      "/Users/michaelraines/opt/anaconda3/lib/python3.8/site-packages/sklearn/linear_model/_sag.py:352: ConvergenceWarning: The max_iter was reached which means the coef_ did not converge\n",
      "  warnings.warn(\n"
     ]
    },
    {
     "name": "stdout",
     "output_type": "stream",
     "text": [
      "[CV 3/5] END C=1.0, max_iter=500, penalty=l1, solver=saga;, score=0.896 total time=   5.4s\n"
     ]
    },
    {
     "name": "stderr",
     "output_type": "stream",
     "text": [
      "/Users/michaelraines/opt/anaconda3/lib/python3.8/site-packages/sklearn/linear_model/_sag.py:352: ConvergenceWarning: The max_iter was reached which means the coef_ did not converge\n",
      "  warnings.warn(\n"
     ]
    },
    {
     "name": "stdout",
     "output_type": "stream",
     "text": [
      "[CV 4/5] END C=1.0, max_iter=500, penalty=l1, solver=saga;, score=0.896 total time=   5.4s\n"
     ]
    },
    {
     "name": "stderr",
     "output_type": "stream",
     "text": [
      "/Users/michaelraines/opt/anaconda3/lib/python3.8/site-packages/sklearn/linear_model/_sag.py:352: ConvergenceWarning: The max_iter was reached which means the coef_ did not converge\n",
      "  warnings.warn(\n"
     ]
    },
    {
     "name": "stdout",
     "output_type": "stream",
     "text": [
      "[CV 5/5] END C=1.0, max_iter=500, penalty=l1, solver=saga;, score=0.896 total time=   5.2s\n",
      "[CV 1/5] END C=1.0, max_iter=500, penalty=l1, solver=liblinear;, score=0.909 total time=   1.0s\n",
      "[CV 2/5] END C=1.0, max_iter=500, penalty=l1, solver=liblinear;, score=0.910 total time=   2.4s\n",
      "[CV 3/5] END C=1.0, max_iter=500, penalty=l1, solver=liblinear;, score=0.916 total time=   0.6s\n",
      "[CV 4/5] END C=1.0, max_iter=500, penalty=l1, solver=liblinear;, score=0.911 total time=   2.5s\n",
      "[CV 5/5] END C=1.0, max_iter=500, penalty=l1, solver=liblinear;, score=0.908 total time=   0.4s\n",
      "[CV 1/5] END C=1.0, max_iter=500, penalty=l2, solver=newton-cg;, score=0.909 total time=   0.9s\n",
      "[CV 2/5] END C=1.0, max_iter=500, penalty=l2, solver=newton-cg;, score=0.909 total time=   1.0s\n",
      "[CV 3/5] END C=1.0, max_iter=500, penalty=l2, solver=newton-cg;, score=0.916 total time=   0.8s\n",
      "[CV 4/5] END C=1.0, max_iter=500, penalty=l2, solver=newton-cg;, score=0.911 total time=   0.8s\n",
      "[CV 5/5] END C=1.0, max_iter=500, penalty=l2, solver=newton-cg;, score=0.908 total time=   0.8s\n"
     ]
    },
    {
     "name": "stderr",
     "output_type": "stream",
     "text": [
      "/Users/michaelraines/opt/anaconda3/lib/python3.8/site-packages/sklearn/linear_model/_sag.py:352: ConvergenceWarning: The max_iter was reached which means the coef_ did not converge\n",
      "  warnings.warn(\n"
     ]
    },
    {
     "name": "stdout",
     "output_type": "stream",
     "text": [
      "[CV 1/5] END C=1.0, max_iter=500, penalty=l2, solver=sag;, score=0.896 total time=   4.0s\n"
     ]
    },
    {
     "name": "stderr",
     "output_type": "stream",
     "text": [
      "/Users/michaelraines/opt/anaconda3/lib/python3.8/site-packages/sklearn/linear_model/_sag.py:352: ConvergenceWarning: The max_iter was reached which means the coef_ did not converge\n",
      "  warnings.warn(\n"
     ]
    },
    {
     "name": "stdout",
     "output_type": "stream",
     "text": [
      "[CV 2/5] END C=1.0, max_iter=500, penalty=l2, solver=sag;, score=0.896 total time=   4.1s\n"
     ]
    },
    {
     "name": "stderr",
     "output_type": "stream",
     "text": [
      "/Users/michaelraines/opt/anaconda3/lib/python3.8/site-packages/sklearn/linear_model/_sag.py:352: ConvergenceWarning: The max_iter was reached which means the coef_ did not converge\n",
      "  warnings.warn(\n"
     ]
    },
    {
     "name": "stdout",
     "output_type": "stream",
     "text": [
      "[CV 3/5] END C=1.0, max_iter=500, penalty=l2, solver=sag;, score=0.896 total time=   3.7s\n"
     ]
    },
    {
     "name": "stderr",
     "output_type": "stream",
     "text": [
      "/Users/michaelraines/opt/anaconda3/lib/python3.8/site-packages/sklearn/linear_model/_sag.py:352: ConvergenceWarning: The max_iter was reached which means the coef_ did not converge\n",
      "  warnings.warn(\n"
     ]
    },
    {
     "name": "stdout",
     "output_type": "stream",
     "text": [
      "[CV 4/5] END C=1.0, max_iter=500, penalty=l2, solver=sag;, score=0.896 total time=   4.2s\n"
     ]
    },
    {
     "name": "stderr",
     "output_type": "stream",
     "text": [
      "/Users/michaelraines/opt/anaconda3/lib/python3.8/site-packages/sklearn/linear_model/_sag.py:352: ConvergenceWarning: The max_iter was reached which means the coef_ did not converge\n",
      "  warnings.warn(\n"
     ]
    },
    {
     "name": "stdout",
     "output_type": "stream",
     "text": [
      "[CV 5/5] END C=1.0, max_iter=500, penalty=l2, solver=sag;, score=0.896 total time=   4.4s\n"
     ]
    },
    {
     "name": "stderr",
     "output_type": "stream",
     "text": [
      "/Users/michaelraines/opt/anaconda3/lib/python3.8/site-packages/sklearn/linear_model/_sag.py:352: ConvergenceWarning: The max_iter was reached which means the coef_ did not converge\n",
      "  warnings.warn(\n"
     ]
    },
    {
     "name": "stdout",
     "output_type": "stream",
     "text": [
      "[CV 1/5] END C=1.0, max_iter=500, penalty=l2, solver=saga;, score=0.896 total time=   4.7s\n"
     ]
    },
    {
     "name": "stderr",
     "output_type": "stream",
     "text": [
      "/Users/michaelraines/opt/anaconda3/lib/python3.8/site-packages/sklearn/linear_model/_sag.py:352: ConvergenceWarning: The max_iter was reached which means the coef_ did not converge\n",
      "  warnings.warn(\n"
     ]
    },
    {
     "name": "stdout",
     "output_type": "stream",
     "text": [
      "[CV 2/5] END C=1.0, max_iter=500, penalty=l2, solver=saga;, score=0.896 total time=   4.7s\n"
     ]
    },
    {
     "name": "stderr",
     "output_type": "stream",
     "text": [
      "/Users/michaelraines/opt/anaconda3/lib/python3.8/site-packages/sklearn/linear_model/_sag.py:352: ConvergenceWarning: The max_iter was reached which means the coef_ did not converge\n",
      "  warnings.warn(\n"
     ]
    },
    {
     "name": "stdout",
     "output_type": "stream",
     "text": [
      "[CV 3/5] END C=1.0, max_iter=500, penalty=l2, solver=saga;, score=0.896 total time=   3.8s\n"
     ]
    },
    {
     "name": "stderr",
     "output_type": "stream",
     "text": [
      "/Users/michaelraines/opt/anaconda3/lib/python3.8/site-packages/sklearn/linear_model/_sag.py:352: ConvergenceWarning: The max_iter was reached which means the coef_ did not converge\n",
      "  warnings.warn(\n"
     ]
    },
    {
     "name": "stdout",
     "output_type": "stream",
     "text": [
      "[CV 4/5] END C=1.0, max_iter=500, penalty=l2, solver=saga;, score=0.896 total time=   4.0s\n"
     ]
    },
    {
     "name": "stderr",
     "output_type": "stream",
     "text": [
      "/Users/michaelraines/opt/anaconda3/lib/python3.8/site-packages/sklearn/linear_model/_sag.py:352: ConvergenceWarning: The max_iter was reached which means the coef_ did not converge\n",
      "  warnings.warn(\n"
     ]
    },
    {
     "name": "stdout",
     "output_type": "stream",
     "text": [
      "[CV 5/5] END C=1.0, max_iter=500, penalty=l2, solver=saga;, score=0.896 total time=   4.1s\n",
      "[CV 1/5] END C=1.0, max_iter=500, penalty=l2, solver=liblinear;, score=0.910 total time=   0.1s\n",
      "[CV 2/5] END C=1.0, max_iter=500, penalty=l2, solver=liblinear;, score=0.910 total time=   0.1s\n",
      "[CV 3/5] END C=1.0, max_iter=500, penalty=l2, solver=liblinear;, score=0.916 total time=   0.1s\n",
      "[CV 4/5] END C=1.0, max_iter=500, penalty=l2, solver=liblinear;, score=0.911 total time=   0.1s\n",
      "[CV 5/5] END C=1.0, max_iter=500, penalty=l2, solver=liblinear;, score=0.908 total time=   0.1s\n",
      "[CV 1/5] END C=1.0, max_iter=500, penalty=elasticnet, solver=newton-cg;, score=nan total time=   0.0s\n",
      "[CV 2/5] END C=1.0, max_iter=500, penalty=elasticnet, solver=newton-cg;, score=nan total time=   0.0s\n",
      "[CV 3/5] END C=1.0, max_iter=500, penalty=elasticnet, solver=newton-cg;, score=nan total time=   0.0s\n",
      "[CV 4/5] END C=1.0, max_iter=500, penalty=elasticnet, solver=newton-cg;, score=nan total time=   0.0s\n",
      "[CV 5/5] END C=1.0, max_iter=500, penalty=elasticnet, solver=newton-cg;, score=nan total time=   0.0s\n",
      "[CV 1/5] END C=1.0, max_iter=500, penalty=elasticnet, solver=sag;, score=nan total time=   0.0s\n",
      "[CV 2/5] END C=1.0, max_iter=500, penalty=elasticnet, solver=sag;, score=nan total time=   0.0s\n",
      "[CV 3/5] END C=1.0, max_iter=500, penalty=elasticnet, solver=sag;, score=nan total time=   0.0s\n",
      "[CV 4/5] END C=1.0, max_iter=500, penalty=elasticnet, solver=sag;, score=nan total time=   0.0s\n",
      "[CV 5/5] END C=1.0, max_iter=500, penalty=elasticnet, solver=sag;, score=nan total time=   0.0s\n",
      "[CV 1/5] END C=1.0, max_iter=500, penalty=elasticnet, solver=saga;, score=nan total time=   0.0s\n",
      "[CV 2/5] END C=1.0, max_iter=500, penalty=elasticnet, solver=saga;, score=nan total time=   0.0s\n",
      "[CV 3/5] END C=1.0, max_iter=500, penalty=elasticnet, solver=saga;, score=nan total time=   0.0s\n",
      "[CV 4/5] END C=1.0, max_iter=500, penalty=elasticnet, solver=saga;, score=nan total time=   0.0s\n",
      "[CV 5/5] END C=1.0, max_iter=500, penalty=elasticnet, solver=saga;, score=nan total time=   0.0s\n",
      "[CV 1/5] END C=1.0, max_iter=500, penalty=elasticnet, solver=liblinear;, score=nan total time=   0.0s\n",
      "[CV 2/5] END C=1.0, max_iter=500, penalty=elasticnet, solver=liblinear;, score=nan total time=   0.0s\n",
      "[CV 3/5] END C=1.0, max_iter=500, penalty=elasticnet, solver=liblinear;, score=nan total time=   0.0s\n",
      "[CV 4/5] END C=1.0, max_iter=500, penalty=elasticnet, solver=liblinear;, score=nan total time=   0.0s\n",
      "[CV 5/5] END C=1.0, max_iter=500, penalty=elasticnet, solver=liblinear;, score=nan total time=   0.0s\n",
      "[CV 1/5] END C=1.0, max_iter=1000, penalty=l1, solver=newton-cg;, score=nan total time=   0.0s\n",
      "[CV 2/5] END C=1.0, max_iter=1000, penalty=l1, solver=newton-cg;, score=nan total time=   0.0s\n",
      "[CV 3/5] END C=1.0, max_iter=1000, penalty=l1, solver=newton-cg;, score=nan total time=   0.0s\n",
      "[CV 4/5] END C=1.0, max_iter=1000, penalty=l1, solver=newton-cg;, score=nan total time=   0.0s\n",
      "[CV 5/5] END C=1.0, max_iter=1000, penalty=l1, solver=newton-cg;, score=nan total time=   0.0s\n",
      "[CV 1/5] END C=1.0, max_iter=1000, penalty=l1, solver=sag;, score=nan total time=   0.0s\n",
      "[CV 2/5] END C=1.0, max_iter=1000, penalty=l1, solver=sag;, score=nan total time=   0.0s\n",
      "[CV 3/5] END C=1.0, max_iter=1000, penalty=l1, solver=sag;, score=nan total time=   0.0s\n",
      "[CV 4/5] END C=1.0, max_iter=1000, penalty=l1, solver=sag;, score=nan total time=   0.0s\n",
      "[CV 5/5] END C=1.0, max_iter=1000, penalty=l1, solver=sag;, score=nan total time=   0.0s\n"
     ]
    },
    {
     "name": "stderr",
     "output_type": "stream",
     "text": [
      "/Users/michaelraines/opt/anaconda3/lib/python3.8/site-packages/sklearn/linear_model/_sag.py:352: ConvergenceWarning: The max_iter was reached which means the coef_ did not converge\n",
      "  warnings.warn(\n"
     ]
    },
    {
     "name": "stdout",
     "output_type": "stream",
     "text": [
      "[CV 1/5] END C=1.0, max_iter=1000, penalty=l1, solver=saga;, score=0.896 total time=   9.4s\n"
     ]
    },
    {
     "name": "stderr",
     "output_type": "stream",
     "text": [
      "/Users/michaelraines/opt/anaconda3/lib/python3.8/site-packages/sklearn/linear_model/_sag.py:352: ConvergenceWarning: The max_iter was reached which means the coef_ did not converge\n",
      "  warnings.warn(\n"
     ]
    },
    {
     "name": "stdout",
     "output_type": "stream",
     "text": [
      "[CV 2/5] END C=1.0, max_iter=1000, penalty=l1, solver=saga;, score=0.896 total time=   9.6s\n"
     ]
    },
    {
     "name": "stderr",
     "output_type": "stream",
     "text": [
      "/Users/michaelraines/opt/anaconda3/lib/python3.8/site-packages/sklearn/linear_model/_sag.py:352: ConvergenceWarning: The max_iter was reached which means the coef_ did not converge\n",
      "  warnings.warn(\n"
     ]
    },
    {
     "name": "stdout",
     "output_type": "stream",
     "text": [
      "[CV 3/5] END C=1.0, max_iter=1000, penalty=l1, solver=saga;, score=0.896 total time=   9.6s\n"
     ]
    },
    {
     "name": "stderr",
     "output_type": "stream",
     "text": [
      "/Users/michaelraines/opt/anaconda3/lib/python3.8/site-packages/sklearn/linear_model/_sag.py:352: ConvergenceWarning: The max_iter was reached which means the coef_ did not converge\n",
      "  warnings.warn(\n"
     ]
    },
    {
     "name": "stdout",
     "output_type": "stream",
     "text": [
      "[CV 4/5] END C=1.0, max_iter=1000, penalty=l1, solver=saga;, score=0.896 total time=   9.1s\n"
     ]
    },
    {
     "name": "stderr",
     "output_type": "stream",
     "text": [
      "/Users/michaelraines/opt/anaconda3/lib/python3.8/site-packages/sklearn/linear_model/_sag.py:352: ConvergenceWarning: The max_iter was reached which means the coef_ did not converge\n",
      "  warnings.warn(\n"
     ]
    },
    {
     "name": "stdout",
     "output_type": "stream",
     "text": [
      "[CV 5/5] END C=1.0, max_iter=1000, penalty=l1, solver=saga;, score=0.896 total time=   9.2s\n",
      "[CV 1/5] END C=1.0, max_iter=1000, penalty=l1, solver=liblinear;, score=0.909 total time=   1.0s\n",
      "[CV 2/5] END C=1.0, max_iter=1000, penalty=l1, solver=liblinear;, score=0.910 total time=   2.4s\n",
      "[CV 3/5] END C=1.0, max_iter=1000, penalty=l1, solver=liblinear;, score=0.916 total time=   0.6s\n",
      "[CV 4/5] END C=1.0, max_iter=1000, penalty=l1, solver=liblinear;, score=0.911 total time=   2.4s\n",
      "[CV 5/5] END C=1.0, max_iter=1000, penalty=l1, solver=liblinear;, score=0.908 total time=   0.4s\n",
      "[CV 1/5] END C=1.0, max_iter=1000, penalty=l2, solver=newton-cg;, score=0.909 total time=   0.7s\n",
      "[CV 2/5] END C=1.0, max_iter=1000, penalty=l2, solver=newton-cg;, score=0.909 total time=   0.8s\n",
      "[CV 3/5] END C=1.0, max_iter=1000, penalty=l2, solver=newton-cg;, score=0.916 total time=   0.8s\n",
      "[CV 4/5] END C=1.0, max_iter=1000, penalty=l2, solver=newton-cg;, score=0.911 total time=   0.8s\n",
      "[CV 5/5] END C=1.0, max_iter=1000, penalty=l2, solver=newton-cg;, score=0.908 total time=   0.7s\n"
     ]
    },
    {
     "name": "stderr",
     "output_type": "stream",
     "text": [
      "/Users/michaelraines/opt/anaconda3/lib/python3.8/site-packages/sklearn/linear_model/_sag.py:352: ConvergenceWarning: The max_iter was reached which means the coef_ did not converge\n",
      "  warnings.warn(\n"
     ]
    },
    {
     "name": "stdout",
     "output_type": "stream",
     "text": [
      "[CV 1/5] END C=1.0, max_iter=1000, penalty=l2, solver=sag;, score=0.896 total time=   7.4s\n"
     ]
    },
    {
     "name": "stderr",
     "output_type": "stream",
     "text": [
      "/Users/michaelraines/opt/anaconda3/lib/python3.8/site-packages/sklearn/linear_model/_sag.py:352: ConvergenceWarning: The max_iter was reached which means the coef_ did not converge\n",
      "  warnings.warn(\n"
     ]
    },
    {
     "name": "stdout",
     "output_type": "stream",
     "text": [
      "[CV 2/5] END C=1.0, max_iter=1000, penalty=l2, solver=sag;, score=0.896 total time=   7.4s\n"
     ]
    },
    {
     "name": "stderr",
     "output_type": "stream",
     "text": [
      "/Users/michaelraines/opt/anaconda3/lib/python3.8/site-packages/sklearn/linear_model/_sag.py:352: ConvergenceWarning: The max_iter was reached which means the coef_ did not converge\n",
      "  warnings.warn(\n"
     ]
    },
    {
     "name": "stdout",
     "output_type": "stream",
     "text": [
      "[CV 3/5] END C=1.0, max_iter=1000, penalty=l2, solver=sag;, score=0.896 total time=   7.4s\n"
     ]
    },
    {
     "name": "stderr",
     "output_type": "stream",
     "text": [
      "/Users/michaelraines/opt/anaconda3/lib/python3.8/site-packages/sklearn/linear_model/_sag.py:352: ConvergenceWarning: The max_iter was reached which means the coef_ did not converge\n",
      "  warnings.warn(\n"
     ]
    },
    {
     "name": "stdout",
     "output_type": "stream",
     "text": [
      "[CV 4/5] END C=1.0, max_iter=1000, penalty=l2, solver=sag;, score=0.896 total time=   7.4s\n"
     ]
    },
    {
     "name": "stderr",
     "output_type": "stream",
     "text": [
      "/Users/michaelraines/opt/anaconda3/lib/python3.8/site-packages/sklearn/linear_model/_sag.py:352: ConvergenceWarning: The max_iter was reached which means the coef_ did not converge\n",
      "  warnings.warn(\n"
     ]
    },
    {
     "name": "stdout",
     "output_type": "stream",
     "text": [
      "[CV 5/5] END C=1.0, max_iter=1000, penalty=l2, solver=sag;, score=0.896 total time=   7.4s\n"
     ]
    },
    {
     "name": "stderr",
     "output_type": "stream",
     "text": [
      "/Users/michaelraines/opt/anaconda3/lib/python3.8/site-packages/sklearn/linear_model/_sag.py:352: ConvergenceWarning: The max_iter was reached which means the coef_ did not converge\n",
      "  warnings.warn(\n"
     ]
    },
    {
     "name": "stdout",
     "output_type": "stream",
     "text": [
      "[CV 1/5] END C=1.0, max_iter=1000, penalty=l2, solver=saga;, score=0.896 total time=   7.4s\n"
     ]
    },
    {
     "name": "stderr",
     "output_type": "stream",
     "text": [
      "/Users/michaelraines/opt/anaconda3/lib/python3.8/site-packages/sklearn/linear_model/_sag.py:352: ConvergenceWarning: The max_iter was reached which means the coef_ did not converge\n",
      "  warnings.warn(\n"
     ]
    },
    {
     "name": "stdout",
     "output_type": "stream",
     "text": [
      "[CV 2/5] END C=1.0, max_iter=1000, penalty=l2, solver=saga;, score=0.896 total time=   7.5s\n"
     ]
    },
    {
     "name": "stderr",
     "output_type": "stream",
     "text": [
      "/Users/michaelraines/opt/anaconda3/lib/python3.8/site-packages/sklearn/linear_model/_sag.py:352: ConvergenceWarning: The max_iter was reached which means the coef_ did not converge\n",
      "  warnings.warn(\n"
     ]
    },
    {
     "name": "stdout",
     "output_type": "stream",
     "text": [
      "[CV 3/5] END C=1.0, max_iter=1000, penalty=l2, solver=saga;, score=0.896 total time=   7.4s\n"
     ]
    },
    {
     "name": "stderr",
     "output_type": "stream",
     "text": [
      "/Users/michaelraines/opt/anaconda3/lib/python3.8/site-packages/sklearn/linear_model/_sag.py:352: ConvergenceWarning: The max_iter was reached which means the coef_ did not converge\n",
      "  warnings.warn(\n"
     ]
    },
    {
     "name": "stdout",
     "output_type": "stream",
     "text": [
      "[CV 4/5] END C=1.0, max_iter=1000, penalty=l2, solver=saga;, score=0.896 total time=   7.4s\n"
     ]
    },
    {
     "name": "stderr",
     "output_type": "stream",
     "text": [
      "/Users/michaelraines/opt/anaconda3/lib/python3.8/site-packages/sklearn/linear_model/_sag.py:352: ConvergenceWarning: The max_iter was reached which means the coef_ did not converge\n",
      "  warnings.warn(\n"
     ]
    },
    {
     "name": "stdout",
     "output_type": "stream",
     "text": [
      "[CV 5/5] END C=1.0, max_iter=1000, penalty=l2, solver=saga;, score=0.896 total time=   7.5s\n",
      "[CV 1/5] END C=1.0, max_iter=1000, penalty=l2, solver=liblinear;, score=0.910 total time=   0.1s\n",
      "[CV 2/5] END C=1.0, max_iter=1000, penalty=l2, solver=liblinear;, score=0.910 total time=   0.1s\n",
      "[CV 3/5] END C=1.0, max_iter=1000, penalty=l2, solver=liblinear;, score=0.916 total time=   0.1s\n",
      "[CV 4/5] END C=1.0, max_iter=1000, penalty=l2, solver=liblinear;, score=0.911 total time=   0.1s\n",
      "[CV 5/5] END C=1.0, max_iter=1000, penalty=l2, solver=liblinear;, score=0.908 total time=   0.1s\n",
      "[CV 1/5] END C=1.0, max_iter=1000, penalty=elasticnet, solver=newton-cg;, score=nan total time=   0.0s\n",
      "[CV 2/5] END C=1.0, max_iter=1000, penalty=elasticnet, solver=newton-cg;, score=nan total time=   0.0s\n",
      "[CV 3/5] END C=1.0, max_iter=1000, penalty=elasticnet, solver=newton-cg;, score=nan total time=   0.0s\n",
      "[CV 4/5] END C=1.0, max_iter=1000, penalty=elasticnet, solver=newton-cg;, score=nan total time=   0.0s\n",
      "[CV 5/5] END C=1.0, max_iter=1000, penalty=elasticnet, solver=newton-cg;, score=nan total time=   0.0s\n",
      "[CV 1/5] END C=1.0, max_iter=1000, penalty=elasticnet, solver=sag;, score=nan total time=   0.0s\n",
      "[CV 2/5] END C=1.0, max_iter=1000, penalty=elasticnet, solver=sag;, score=nan total time=   0.0s\n",
      "[CV 3/5] END C=1.0, max_iter=1000, penalty=elasticnet, solver=sag;, score=nan total time=   0.0s\n",
      "[CV 4/5] END C=1.0, max_iter=1000, penalty=elasticnet, solver=sag;, score=nan total time=   0.0s\n",
      "[CV 5/5] END C=1.0, max_iter=1000, penalty=elasticnet, solver=sag;, score=nan total time=   0.0s\n",
      "[CV 1/5] END C=1.0, max_iter=1000, penalty=elasticnet, solver=saga;, score=nan total time=   0.0s\n",
      "[CV 2/5] END C=1.0, max_iter=1000, penalty=elasticnet, solver=saga;, score=nan total time=   0.0s\n",
      "[CV 3/5] END C=1.0, max_iter=1000, penalty=elasticnet, solver=saga;, score=nan total time=   0.0s\n",
      "[CV 4/5] END C=1.0, max_iter=1000, penalty=elasticnet, solver=saga;, score=nan total time=   0.0s\n",
      "[CV 5/5] END C=1.0, max_iter=1000, penalty=elasticnet, solver=saga;, score=nan total time=   0.0s\n",
      "[CV 1/5] END C=1.0, max_iter=1000, penalty=elasticnet, solver=liblinear;, score=nan total time=   0.0s\n",
      "[CV 2/5] END C=1.0, max_iter=1000, penalty=elasticnet, solver=liblinear;, score=nan total time=   0.0s\n",
      "[CV 3/5] END C=1.0, max_iter=1000, penalty=elasticnet, solver=liblinear;, score=nan total time=   0.0s\n",
      "[CV 4/5] END C=1.0, max_iter=1000, penalty=elasticnet, solver=liblinear;, score=nan total time=   0.0s\n",
      "[CV 5/5] END C=1.0, max_iter=1000, penalty=elasticnet, solver=liblinear;, score=nan total time=   0.0s\n",
      "[CV 1/5] END C=1.0, max_iter=1500, penalty=l1, solver=newton-cg;, score=nan total time=   0.0s\n",
      "[CV 2/5] END C=1.0, max_iter=1500, penalty=l1, solver=newton-cg;, score=nan total time=   0.0s\n",
      "[CV 3/5] END C=1.0, max_iter=1500, penalty=l1, solver=newton-cg;, score=nan total time=   0.0s\n",
      "[CV 4/5] END C=1.0, max_iter=1500, penalty=l1, solver=newton-cg;, score=nan total time=   0.0s\n",
      "[CV 5/5] END C=1.0, max_iter=1500, penalty=l1, solver=newton-cg;, score=nan total time=   0.0s\n",
      "[CV 1/5] END C=1.0, max_iter=1500, penalty=l1, solver=sag;, score=nan total time=   0.0s\n",
      "[CV 2/5] END C=1.0, max_iter=1500, penalty=l1, solver=sag;, score=nan total time=   0.0s\n",
      "[CV 3/5] END C=1.0, max_iter=1500, penalty=l1, solver=sag;, score=nan total time=   0.0s\n",
      "[CV 4/5] END C=1.0, max_iter=1500, penalty=l1, solver=sag;, score=nan total time=   0.0s\n",
      "[CV 5/5] END C=1.0, max_iter=1500, penalty=l1, solver=sag;, score=nan total time=   0.0s\n"
     ]
    },
    {
     "name": "stderr",
     "output_type": "stream",
     "text": [
      "/Users/michaelraines/opt/anaconda3/lib/python3.8/site-packages/sklearn/linear_model/_sag.py:352: ConvergenceWarning: The max_iter was reached which means the coef_ did not converge\n",
      "  warnings.warn(\n"
     ]
    },
    {
     "name": "stdout",
     "output_type": "stream",
     "text": [
      "[CV 1/5] END C=1.0, max_iter=1500, penalty=l1, solver=saga;, score=0.896 total time=  12.8s\n"
     ]
    },
    {
     "name": "stderr",
     "output_type": "stream",
     "text": [
      "/Users/michaelraines/opt/anaconda3/lib/python3.8/site-packages/sklearn/linear_model/_sag.py:352: ConvergenceWarning: The max_iter was reached which means the coef_ did not converge\n",
      "  warnings.warn(\n"
     ]
    },
    {
     "name": "stdout",
     "output_type": "stream",
     "text": [
      "[CV 2/5] END C=1.0, max_iter=1500, penalty=l1, solver=saga;, score=0.896 total time=  14.3s\n"
     ]
    },
    {
     "name": "stderr",
     "output_type": "stream",
     "text": [
      "/Users/michaelraines/opt/anaconda3/lib/python3.8/site-packages/sklearn/linear_model/_sag.py:352: ConvergenceWarning: The max_iter was reached which means the coef_ did not converge\n",
      "  warnings.warn(\n"
     ]
    },
    {
     "name": "stdout",
     "output_type": "stream",
     "text": [
      "[CV 3/5] END C=1.0, max_iter=1500, penalty=l1, solver=saga;, score=0.896 total time= 6.9min\n"
     ]
    },
    {
     "name": "stderr",
     "output_type": "stream",
     "text": [
      "/Users/michaelraines/opt/anaconda3/lib/python3.8/site-packages/sklearn/linear_model/_sag.py:352: ConvergenceWarning: The max_iter was reached which means the coef_ did not converge\n",
      "  warnings.warn(\n"
     ]
    },
    {
     "name": "stdout",
     "output_type": "stream",
     "text": [
      "[CV 4/5] END C=1.0, max_iter=1500, penalty=l1, solver=saga;, score=0.896 total time= 3.5min\n"
     ]
    },
    {
     "name": "stderr",
     "output_type": "stream",
     "text": [
      "/Users/michaelraines/opt/anaconda3/lib/python3.8/site-packages/sklearn/linear_model/_sag.py:352: ConvergenceWarning: The max_iter was reached which means the coef_ did not converge\n",
      "  warnings.warn(\n"
     ]
    },
    {
     "name": "stdout",
     "output_type": "stream",
     "text": [
      "[CV 5/5] END C=1.0, max_iter=1500, penalty=l1, solver=saga;, score=0.896 total time= 7.1min\n",
      "[CV 1/5] END C=1.0, max_iter=1500, penalty=l1, solver=liblinear;, score=0.909 total time=   1.0s\n",
      "[CV 2/5] END C=1.0, max_iter=1500, penalty=l1, solver=liblinear;, score=0.910 total time=   2.4s\n",
      "[CV 3/5] END C=1.0, max_iter=1500, penalty=l1, solver=liblinear;, score=0.916 total time=   0.6s\n",
      "[CV 4/5] END C=1.0, max_iter=1500, penalty=l1, solver=liblinear;, score=0.911 total time=   2.4s\n",
      "[CV 5/5] END C=1.0, max_iter=1500, penalty=l1, solver=liblinear;, score=0.908 total time=   0.4s\n",
      "[CV 1/5] END C=1.0, max_iter=1500, penalty=l2, solver=newton-cg;, score=0.909 total time=   0.8s\n",
      "[CV 2/5] END C=1.0, max_iter=1500, penalty=l2, solver=newton-cg;, score=0.909 total time=   1.0s\n",
      "[CV 3/5] END C=1.0, max_iter=1500, penalty=l2, solver=newton-cg;, score=0.916 total time=   1.1s\n",
      "[CV 4/5] END C=1.0, max_iter=1500, penalty=l2, solver=newton-cg;, score=0.911 total time=   0.9s\n",
      "[CV 5/5] END C=1.0, max_iter=1500, penalty=l2, solver=newton-cg;, score=0.908 total time=   0.9s\n",
      "[CV 1/5] END C=1.0, max_iter=1500, penalty=l2, solver=sag;, score=0.896 total time=   9.6s\n",
      "[CV 2/5] END C=1.0, max_iter=1500, penalty=l2, solver=sag;, score=0.896 total time=   9.7s\n",
      "[CV 3/5] END C=1.0, max_iter=1500, penalty=l2, solver=sag;, score=0.896 total time=  10.4s\n"
     ]
    },
    {
     "name": "stderr",
     "output_type": "stream",
     "text": [
      "/Users/michaelraines/opt/anaconda3/lib/python3.8/site-packages/sklearn/linear_model/_sag.py:352: ConvergenceWarning: The max_iter was reached which means the coef_ did not converge\n",
      "  warnings.warn(\n"
     ]
    },
    {
     "name": "stdout",
     "output_type": "stream",
     "text": [
      "[CV 4/5] END C=1.0, max_iter=1500, penalty=l2, solver=sag;, score=0.896 total time=  11.9s\n",
      "[CV 5/5] END C=1.0, max_iter=1500, penalty=l2, solver=sag;, score=0.896 total time=  10.8s\n"
     ]
    },
    {
     "name": "stderr",
     "output_type": "stream",
     "text": [
      "/Users/michaelraines/opt/anaconda3/lib/python3.8/site-packages/sklearn/linear_model/_sag.py:352: ConvergenceWarning: The max_iter was reached which means the coef_ did not converge\n",
      "  warnings.warn(\n"
     ]
    },
    {
     "name": "stdout",
     "output_type": "stream",
     "text": [
      "[CV 1/5] END C=1.0, max_iter=1500, penalty=l2, solver=saga;, score=0.896 total time=  13.4s\n"
     ]
    },
    {
     "name": "stderr",
     "output_type": "stream",
     "text": [
      "/Users/michaelraines/opt/anaconda3/lib/python3.8/site-packages/sklearn/linear_model/_sag.py:352: ConvergenceWarning: The max_iter was reached which means the coef_ did not converge\n",
      "  warnings.warn(\n"
     ]
    },
    {
     "name": "stdout",
     "output_type": "stream",
     "text": [
      "[CV 2/5] END C=1.0, max_iter=1500, penalty=l2, solver=saga;, score=0.896 total time=  13.3s\n"
     ]
    },
    {
     "name": "stderr",
     "output_type": "stream",
     "text": [
      "/Users/michaelraines/opt/anaconda3/lib/python3.8/site-packages/sklearn/linear_model/_sag.py:352: ConvergenceWarning: The max_iter was reached which means the coef_ did not converge\n",
      "  warnings.warn(\n"
     ]
    },
    {
     "name": "stdout",
     "output_type": "stream",
     "text": [
      "[CV 3/5] END C=1.0, max_iter=1500, penalty=l2, solver=saga;, score=0.896 total time=  12.9s\n"
     ]
    },
    {
     "name": "stderr",
     "output_type": "stream",
     "text": [
      "/Users/michaelraines/opt/anaconda3/lib/python3.8/site-packages/sklearn/linear_model/_sag.py:352: ConvergenceWarning: The max_iter was reached which means the coef_ did not converge\n",
      "  warnings.warn(\n"
     ]
    },
    {
     "name": "stdout",
     "output_type": "stream",
     "text": [
      "[CV 4/5] END C=1.0, max_iter=1500, penalty=l2, solver=saga;, score=0.896 total time=  12.6s\n"
     ]
    },
    {
     "name": "stderr",
     "output_type": "stream",
     "text": [
      "/Users/michaelraines/opt/anaconda3/lib/python3.8/site-packages/sklearn/linear_model/_sag.py:352: ConvergenceWarning: The max_iter was reached which means the coef_ did not converge\n",
      "  warnings.warn(\n"
     ]
    },
    {
     "name": "stdout",
     "output_type": "stream",
     "text": [
      "[CV 5/5] END C=1.0, max_iter=1500, penalty=l2, solver=saga;, score=0.896 total time=  11.9s\n",
      "[CV 1/5] END C=1.0, max_iter=1500, penalty=l2, solver=liblinear;, score=0.910 total time=   0.1s\n",
      "[CV 2/5] END C=1.0, max_iter=1500, penalty=l2, solver=liblinear;, score=0.910 total time=   0.1s\n",
      "[CV 3/5] END C=1.0, max_iter=1500, penalty=l2, solver=liblinear;, score=0.916 total time=   0.1s\n",
      "[CV 4/5] END C=1.0, max_iter=1500, penalty=l2, solver=liblinear;, score=0.911 total time=   0.1s\n",
      "[CV 5/5] END C=1.0, max_iter=1500, penalty=l2, solver=liblinear;, score=0.908 total time=   0.1s\n",
      "[CV 1/5] END C=1.0, max_iter=1500, penalty=elasticnet, solver=newton-cg;, score=nan total time=   0.0s\n",
      "[CV 2/5] END C=1.0, max_iter=1500, penalty=elasticnet, solver=newton-cg;, score=nan total time=   0.0s\n",
      "[CV 3/5] END C=1.0, max_iter=1500, penalty=elasticnet, solver=newton-cg;, score=nan total time=   0.0s\n",
      "[CV 4/5] END C=1.0, max_iter=1500, penalty=elasticnet, solver=newton-cg;, score=nan total time=   0.0s\n",
      "[CV 5/5] END C=1.0, max_iter=1500, penalty=elasticnet, solver=newton-cg;, score=nan total time=   0.0s\n",
      "[CV 1/5] END C=1.0, max_iter=1500, penalty=elasticnet, solver=sag;, score=nan total time=   0.0s\n",
      "[CV 2/5] END C=1.0, max_iter=1500, penalty=elasticnet, solver=sag;, score=nan total time=   0.0s\n",
      "[CV 3/5] END C=1.0, max_iter=1500, penalty=elasticnet, solver=sag;, score=nan total time=   0.0s\n",
      "[CV 4/5] END C=1.0, max_iter=1500, penalty=elasticnet, solver=sag;, score=nan total time=   0.0s\n",
      "[CV 5/5] END C=1.0, max_iter=1500, penalty=elasticnet, solver=sag;, score=nan total time=   0.0s\n",
      "[CV 1/5] END C=1.0, max_iter=1500, penalty=elasticnet, solver=saga;, score=nan total time=   0.0s\n",
      "[CV 2/5] END C=1.0, max_iter=1500, penalty=elasticnet, solver=saga;, score=nan total time=   0.0s\n",
      "[CV 3/5] END C=1.0, max_iter=1500, penalty=elasticnet, solver=saga;, score=nan total time=   0.0s\n",
      "[CV 4/5] END C=1.0, max_iter=1500, penalty=elasticnet, solver=saga;, score=nan total time=   0.0s\n",
      "[CV 5/5] END C=1.0, max_iter=1500, penalty=elasticnet, solver=saga;, score=nan total time=   0.0s\n",
      "[CV 1/5] END C=1.0, max_iter=1500, penalty=elasticnet, solver=liblinear;, score=nan total time=   0.0s\n",
      "[CV 2/5] END C=1.0, max_iter=1500, penalty=elasticnet, solver=liblinear;, score=nan total time=   0.0s\n",
      "[CV 3/5] END C=1.0, max_iter=1500, penalty=elasticnet, solver=liblinear;, score=nan total time=   0.0s\n",
      "[CV 4/5] END C=1.0, max_iter=1500, penalty=elasticnet, solver=liblinear;, score=nan total time=   0.0s\n",
      "[CV 5/5] END C=1.0, max_iter=1500, penalty=elasticnet, solver=liblinear;, score=nan total time=   0.0s\n",
      "[CV 1/5] END C=1.0, max_iter=2000, penalty=l1, solver=newton-cg;, score=nan total time=   0.0s\n",
      "[CV 2/5] END C=1.0, max_iter=2000, penalty=l1, solver=newton-cg;, score=nan total time=   0.0s\n",
      "[CV 3/5] END C=1.0, max_iter=2000, penalty=l1, solver=newton-cg;, score=nan total time=   0.0s\n",
      "[CV 4/5] END C=1.0, max_iter=2000, penalty=l1, solver=newton-cg;, score=nan total time=   0.0s\n",
      "[CV 5/5] END C=1.0, max_iter=2000, penalty=l1, solver=newton-cg;, score=nan total time=   0.0s\n",
      "[CV 1/5] END C=1.0, max_iter=2000, penalty=l1, solver=sag;, score=nan total time=   0.0s\n",
      "[CV 2/5] END C=1.0, max_iter=2000, penalty=l1, solver=sag;, score=nan total time=   0.0s\n",
      "[CV 3/5] END C=1.0, max_iter=2000, penalty=l1, solver=sag;, score=nan total time=   0.0s\n",
      "[CV 4/5] END C=1.0, max_iter=2000, penalty=l1, solver=sag;, score=nan total time=   0.0s\n",
      "[CV 5/5] END C=1.0, max_iter=2000, penalty=l1, solver=sag;, score=nan total time=   0.0s\n",
      "[CV 1/5] END C=1.0, max_iter=2000, penalty=l1, solver=saga;, score=0.896 total time=  16.4s\n",
      "[CV 2/5] END C=1.0, max_iter=2000, penalty=l1, solver=saga;, score=0.896 total time=  18.0s\n"
     ]
    },
    {
     "name": "stderr",
     "output_type": "stream",
     "text": [
      "/Users/michaelraines/opt/anaconda3/lib/python3.8/site-packages/sklearn/linear_model/_sag.py:352: ConvergenceWarning: The max_iter was reached which means the coef_ did not converge\n",
      "  warnings.warn(\n"
     ]
    },
    {
     "name": "stdout",
     "output_type": "stream",
     "text": [
      "[CV 3/5] END C=1.0, max_iter=2000, penalty=l1, solver=saga;, score=0.896 total time=  18.3s\n"
     ]
    },
    {
     "name": "stderr",
     "output_type": "stream",
     "text": [
      "/Users/michaelraines/opt/anaconda3/lib/python3.8/site-packages/sklearn/linear_model/_sag.py:352: ConvergenceWarning: The max_iter was reached which means the coef_ did not converge\n",
      "  warnings.warn(\n"
     ]
    },
    {
     "name": "stdout",
     "output_type": "stream",
     "text": [
      "[CV 4/5] END C=1.0, max_iter=2000, penalty=l1, solver=saga;, score=0.896 total time=  18.4s\n",
      "[CV 5/5] END C=1.0, max_iter=2000, penalty=l1, solver=saga;, score=0.896 total time=  18.8s\n",
      "[CV 1/5] END C=1.0, max_iter=2000, penalty=l1, solver=liblinear;, score=0.909 total time=   1.0s\n",
      "[CV 2/5] END C=1.0, max_iter=2000, penalty=l1, solver=liblinear;, score=0.910 total time=   2.4s\n",
      "[CV 3/5] END C=1.0, max_iter=2000, penalty=l1, solver=liblinear;, score=0.916 total time=   0.6s\n",
      "[CV 4/5] END C=1.0, max_iter=2000, penalty=l1, solver=liblinear;, score=0.911 total time=   2.4s\n",
      "[CV 5/5] END C=1.0, max_iter=2000, penalty=l1, solver=liblinear;, score=0.908 total time=   0.4s\n",
      "[CV 1/5] END C=1.0, max_iter=2000, penalty=l2, solver=newton-cg;, score=0.909 total time=   1.1s\n",
      "[CV 2/5] END C=1.0, max_iter=2000, penalty=l2, solver=newton-cg;, score=0.909 total time=   1.3s\n",
      "[CV 3/5] END C=1.0, max_iter=2000, penalty=l2, solver=newton-cg;, score=0.916 total time=   1.3s\n",
      "[CV 4/5] END C=1.0, max_iter=2000, penalty=l2, solver=newton-cg;, score=0.911 total time=   1.1s\n",
      "[CV 5/5] END C=1.0, max_iter=2000, penalty=l2, solver=newton-cg;, score=0.908 total time=   1.1s\n",
      "[CV 1/5] END C=1.0, max_iter=2000, penalty=l2, solver=sag;, score=0.896 total time=   9.5s\n",
      "[CV 2/5] END C=1.0, max_iter=2000, penalty=l2, solver=sag;, score=0.896 total time=   9.7s\n",
      "[CV 3/5] END C=1.0, max_iter=2000, penalty=l2, solver=sag;, score=0.896 total time=  10.6s\n"
     ]
    },
    {
     "name": "stderr",
     "output_type": "stream",
     "text": [
      "/Users/michaelraines/opt/anaconda3/lib/python3.8/site-packages/sklearn/linear_model/_sag.py:352: ConvergenceWarning: The max_iter was reached which means the coef_ did not converge\n",
      "  warnings.warn(\n"
     ]
    },
    {
     "name": "stdout",
     "output_type": "stream",
     "text": [
      "[CV 4/5] END C=1.0, max_iter=2000, penalty=l2, solver=sag;, score=0.896 total time=  14.9s\n",
      "[CV 5/5] END C=1.0, max_iter=2000, penalty=l2, solver=sag;, score=0.896 total time=   9.6s\n",
      "[CV 1/5] END C=1.0, max_iter=2000, penalty=l2, solver=saga;, score=0.896 total time=  14.0s\n",
      "[CV 2/5] END C=1.0, max_iter=2000, penalty=l2, solver=saga;, score=0.896 total time=  14.3s\n"
     ]
    },
    {
     "name": "stderr",
     "output_type": "stream",
     "text": [
      "/Users/michaelraines/opt/anaconda3/lib/python3.8/site-packages/sklearn/linear_model/_sag.py:352: ConvergenceWarning: The max_iter was reached which means the coef_ did not converge\n",
      "  warnings.warn(\n"
     ]
    },
    {
     "name": "stdout",
     "output_type": "stream",
     "text": [
      "[CV 3/5] END C=1.0, max_iter=2000, penalty=l2, solver=saga;, score=0.896 total time=  14.8s\n"
     ]
    },
    {
     "name": "stderr",
     "output_type": "stream",
     "text": [
      "/Users/michaelraines/opt/anaconda3/lib/python3.8/site-packages/sklearn/linear_model/_sag.py:352: ConvergenceWarning: The max_iter was reached which means the coef_ did not converge\n",
      "  warnings.warn(\n"
     ]
    },
    {
     "name": "stdout",
     "output_type": "stream",
     "text": [
      "[CV 4/5] END C=1.0, max_iter=2000, penalty=l2, solver=saga;, score=0.896 total time=  14.8s\n",
      "[CV 5/5] END C=1.0, max_iter=2000, penalty=l2, solver=saga;, score=0.896 total time=  14.4s\n",
      "[CV 1/5] END C=1.0, max_iter=2000, penalty=l2, solver=liblinear;, score=0.910 total time=   0.1s\n",
      "[CV 2/5] END C=1.0, max_iter=2000, penalty=l2, solver=liblinear;, score=0.910 total time=   0.1s\n",
      "[CV 3/5] END C=1.0, max_iter=2000, penalty=l2, solver=liblinear;, score=0.916 total time=   0.1s\n",
      "[CV 4/5] END C=1.0, max_iter=2000, penalty=l2, solver=liblinear;, score=0.911 total time=   0.1s\n",
      "[CV 5/5] END C=1.0, max_iter=2000, penalty=l2, solver=liblinear;, score=0.908 total time=   0.1s\n",
      "[CV 1/5] END C=1.0, max_iter=2000, penalty=elasticnet, solver=newton-cg;, score=nan total time=   0.0s\n",
      "[CV 2/5] END C=1.0, max_iter=2000, penalty=elasticnet, solver=newton-cg;, score=nan total time=   0.0s\n",
      "[CV 3/5] END C=1.0, max_iter=2000, penalty=elasticnet, solver=newton-cg;, score=nan total time=   0.0s\n",
      "[CV 4/5] END C=1.0, max_iter=2000, penalty=elasticnet, solver=newton-cg;, score=nan total time=   0.0s\n",
      "[CV 5/5] END C=1.0, max_iter=2000, penalty=elasticnet, solver=newton-cg;, score=nan total time=   0.0s\n",
      "[CV 1/5] END C=1.0, max_iter=2000, penalty=elasticnet, solver=sag;, score=nan total time=   0.0s\n",
      "[CV 2/5] END C=1.0, max_iter=2000, penalty=elasticnet, solver=sag;, score=nan total time=   0.0s\n",
      "[CV 3/5] END C=1.0, max_iter=2000, penalty=elasticnet, solver=sag;, score=nan total time=   0.0s\n",
      "[CV 4/5] END C=1.0, max_iter=2000, penalty=elasticnet, solver=sag;, score=nan total time=   0.0s\n",
      "[CV 5/5] END C=1.0, max_iter=2000, penalty=elasticnet, solver=sag;, score=nan total time=   0.0s\n",
      "[CV 1/5] END C=1.0, max_iter=2000, penalty=elasticnet, solver=saga;, score=nan total time=   0.0s\n",
      "[CV 2/5] END C=1.0, max_iter=2000, penalty=elasticnet, solver=saga;, score=nan total time=   0.0s\n",
      "[CV 3/5] END C=1.0, max_iter=2000, penalty=elasticnet, solver=saga;, score=nan total time=   0.0s\n",
      "[CV 4/5] END C=1.0, max_iter=2000, penalty=elasticnet, solver=saga;, score=nan total time=   0.0s\n",
      "[CV 5/5] END C=1.0, max_iter=2000, penalty=elasticnet, solver=saga;, score=nan total time=   0.0s\n",
      "[CV 1/5] END C=1.0, max_iter=2000, penalty=elasticnet, solver=liblinear;, score=nan total time=   0.0s\n",
      "[CV 2/5] END C=1.0, max_iter=2000, penalty=elasticnet, solver=liblinear;, score=nan total time=   0.0s\n",
      "[CV 3/5] END C=1.0, max_iter=2000, penalty=elasticnet, solver=liblinear;, score=nan total time=   0.0s\n",
      "[CV 4/5] END C=1.0, max_iter=2000, penalty=elasticnet, solver=liblinear;, score=nan total time=   0.0s\n",
      "[CV 5/5] END C=1.0, max_iter=2000, penalty=elasticnet, solver=liblinear;, score=nan total time=   0.0s\n",
      "[CV 1/5] END C=1.0, max_iter=4000, penalty=l1, solver=newton-cg;, score=nan total time=   0.0s\n",
      "[CV 2/5] END C=1.0, max_iter=4000, penalty=l1, solver=newton-cg;, score=nan total time=   0.0s\n",
      "[CV 3/5] END C=1.0, max_iter=4000, penalty=l1, solver=newton-cg;, score=nan total time=   0.0s\n",
      "[CV 4/5] END C=1.0, max_iter=4000, penalty=l1, solver=newton-cg;, score=nan total time=   0.0s\n",
      "[CV 5/5] END C=1.0, max_iter=4000, penalty=l1, solver=newton-cg;, score=nan total time=   0.0s\n",
      "[CV 1/5] END C=1.0, max_iter=4000, penalty=l1, solver=sag;, score=nan total time=   0.0s\n",
      "[CV 2/5] END C=1.0, max_iter=4000, penalty=l1, solver=sag;, score=nan total time=   0.0s\n",
      "[CV 3/5] END C=1.0, max_iter=4000, penalty=l1, solver=sag;, score=nan total time=   0.0s\n",
      "[CV 4/5] END C=1.0, max_iter=4000, penalty=l1, solver=sag;, score=nan total time=   0.0s\n",
      "[CV 5/5] END C=1.0, max_iter=4000, penalty=l1, solver=sag;, score=nan total time=   0.0s\n",
      "[CV 1/5] END C=1.0, max_iter=4000, penalty=l1, solver=saga;, score=0.896 total time=  16.2s\n",
      "[CV 2/5] END C=1.0, max_iter=4000, penalty=l1, solver=saga;, score=0.896 total time=  17.8s\n",
      "[CV 3/5] END C=1.0, max_iter=4000, penalty=l1, solver=saga;, score=0.896 total time=  18.9s\n"
     ]
    },
    {
     "name": "stderr",
     "output_type": "stream",
     "text": [
      "/Users/michaelraines/opt/anaconda3/lib/python3.8/site-packages/sklearn/linear_model/_sag.py:352: ConvergenceWarning: The max_iter was reached which means the coef_ did not converge\n",
      "  warnings.warn(\n"
     ]
    },
    {
     "name": "stdout",
     "output_type": "stream",
     "text": [
      "[CV 4/5] END C=1.0, max_iter=4000, penalty=l1, solver=saga;, score=0.896 total time=  36.8s\n",
      "[CV 5/5] END C=1.0, max_iter=4000, penalty=l1, solver=saga;, score=0.896 total time=  17.5s\n",
      "[CV 1/5] END C=1.0, max_iter=4000, penalty=l1, solver=liblinear;, score=0.909 total time=   1.0s\n",
      "[CV 2/5] END C=1.0, max_iter=4000, penalty=l1, solver=liblinear;, score=0.910 total time=   2.4s\n",
      "[CV 3/5] END C=1.0, max_iter=4000, penalty=l1, solver=liblinear;, score=0.916 total time=   0.6s\n",
      "[CV 4/5] END C=1.0, max_iter=4000, penalty=l1, solver=liblinear;, score=0.911 total time=   2.4s\n",
      "[CV 5/5] END C=1.0, max_iter=4000, penalty=l1, solver=liblinear;, score=0.908 total time=   0.4s\n",
      "[CV 1/5] END C=1.0, max_iter=4000, penalty=l2, solver=newton-cg;, score=0.909 total time=   1.1s\n",
      "[CV 2/5] END C=1.0, max_iter=4000, penalty=l2, solver=newton-cg;, score=0.909 total time=   1.2s\n",
      "[CV 3/5] END C=1.0, max_iter=4000, penalty=l2, solver=newton-cg;, score=0.916 total time=   1.1s\n",
      "[CV 4/5] END C=1.0, max_iter=4000, penalty=l2, solver=newton-cg;, score=0.911 total time=   1.3s\n",
      "[CV 5/5] END C=1.0, max_iter=4000, penalty=l2, solver=newton-cg;, score=0.908 total time=   1.2s\n",
      "[CV 1/5] END C=1.0, max_iter=4000, penalty=l2, solver=sag;, score=0.896 total time=   9.5s\n",
      "[CV 2/5] END C=1.0, max_iter=4000, penalty=l2, solver=sag;, score=0.896 total time=   9.7s\n",
      "[CV 3/5] END C=1.0, max_iter=4000, penalty=l2, solver=sag;, score=0.896 total time=  10.5s\n"
     ]
    },
    {
     "name": "stderr",
     "output_type": "stream",
     "text": [
      "/Users/michaelraines/opt/anaconda3/lib/python3.8/site-packages/sklearn/linear_model/_sag.py:352: ConvergenceWarning: The max_iter was reached which means the coef_ did not converge\n",
      "  warnings.warn(\n"
     ]
    },
    {
     "name": "stdout",
     "output_type": "stream",
     "text": [
      "[CV 4/5] END C=1.0, max_iter=4000, penalty=l2, solver=sag;, score=0.896 total time=  29.8s\n",
      "[CV 5/5] END C=1.0, max_iter=4000, penalty=l2, solver=sag;, score=0.896 total time=   9.6s\n",
      "[CV 1/5] END C=1.0, max_iter=4000, penalty=l2, solver=saga;, score=0.896 total time=  14.2s\n",
      "[CV 2/5] END C=1.0, max_iter=4000, penalty=l2, solver=saga;, score=0.896 total time=  14.2s\n",
      "[CV 3/5] END C=1.0, max_iter=4000, penalty=l2, solver=saga;, score=0.896 total time=  15.5s\n"
     ]
    },
    {
     "name": "stderr",
     "output_type": "stream",
     "text": [
      "/Users/michaelraines/opt/anaconda3/lib/python3.8/site-packages/sklearn/linear_model/_sag.py:352: ConvergenceWarning: The max_iter was reached which means the coef_ did not converge\n",
      "  warnings.warn(\n"
     ]
    },
    {
     "name": "stdout",
     "output_type": "stream",
     "text": [
      "[CV 4/5] END C=1.0, max_iter=4000, penalty=l2, solver=saga;, score=0.896 total time=  29.9s\n",
      "[CV 5/5] END C=1.0, max_iter=4000, penalty=l2, solver=saga;, score=0.896 total time=  14.2s\n",
      "[CV 1/5] END C=1.0, max_iter=4000, penalty=l2, solver=liblinear;, score=0.910 total time=   0.1s\n",
      "[CV 2/5] END C=1.0, max_iter=4000, penalty=l2, solver=liblinear;, score=0.910 total time=   0.1s\n",
      "[CV 3/5] END C=1.0, max_iter=4000, penalty=l2, solver=liblinear;, score=0.916 total time=   0.1s\n",
      "[CV 4/5] END C=1.0, max_iter=4000, penalty=l2, solver=liblinear;, score=0.911 total time=   0.1s\n",
      "[CV 5/5] END C=1.0, max_iter=4000, penalty=l2, solver=liblinear;, score=0.908 total time=   0.1s\n",
      "[CV 1/5] END C=1.0, max_iter=4000, penalty=elasticnet, solver=newton-cg;, score=nan total time=   0.0s\n",
      "[CV 2/5] END C=1.0, max_iter=4000, penalty=elasticnet, solver=newton-cg;, score=nan total time=   0.0s\n",
      "[CV 3/5] END C=1.0, max_iter=4000, penalty=elasticnet, solver=newton-cg;, score=nan total time=   0.0s\n",
      "[CV 4/5] END C=1.0, max_iter=4000, penalty=elasticnet, solver=newton-cg;, score=nan total time=   0.0s\n",
      "[CV 5/5] END C=1.0, max_iter=4000, penalty=elasticnet, solver=newton-cg;, score=nan total time=   0.0s\n",
      "[CV 1/5] END C=1.0, max_iter=4000, penalty=elasticnet, solver=sag;, score=nan total time=   0.0s\n",
      "[CV 2/5] END C=1.0, max_iter=4000, penalty=elasticnet, solver=sag;, score=nan total time=   0.0s\n",
      "[CV 3/5] END C=1.0, max_iter=4000, penalty=elasticnet, solver=sag;, score=nan total time=   0.0s\n",
      "[CV 4/5] END C=1.0, max_iter=4000, penalty=elasticnet, solver=sag;, score=nan total time=   0.0s\n",
      "[CV 5/5] END C=1.0, max_iter=4000, penalty=elasticnet, solver=sag;, score=nan total time=   0.0s\n",
      "[CV 1/5] END C=1.0, max_iter=4000, penalty=elasticnet, solver=saga;, score=nan total time=   0.0s\n",
      "[CV 2/5] END C=1.0, max_iter=4000, penalty=elasticnet, solver=saga;, score=nan total time=   0.0s\n",
      "[CV 3/5] END C=1.0, max_iter=4000, penalty=elasticnet, solver=saga;, score=nan total time=   0.0s\n",
      "[CV 4/5] END C=1.0, max_iter=4000, penalty=elasticnet, solver=saga;, score=nan total time=   0.0s\n",
      "[CV 5/5] END C=1.0, max_iter=4000, penalty=elasticnet, solver=saga;, score=nan total time=   0.0s\n",
      "[CV 1/5] END C=1.0, max_iter=4000, penalty=elasticnet, solver=liblinear;, score=nan total time=   0.0s\n",
      "[CV 2/5] END C=1.0, max_iter=4000, penalty=elasticnet, solver=liblinear;, score=nan total time=   0.0s\n",
      "[CV 3/5] END C=1.0, max_iter=4000, penalty=elasticnet, solver=liblinear;, score=nan total time=   0.0s\n",
      "[CV 4/5] END C=1.0, max_iter=4000, penalty=elasticnet, solver=liblinear;, score=nan total time=   0.0s\n",
      "[CV 5/5] END C=1.0, max_iter=4000, penalty=elasticnet, solver=liblinear;, score=nan total time=   0.0s\n",
      "[CV 1/5] END C=0.1, max_iter=500, penalty=l1, solver=newton-cg;, score=nan total time=   0.0s\n",
      "[CV 2/5] END C=0.1, max_iter=500, penalty=l1, solver=newton-cg;, score=nan total time=   0.0s\n",
      "[CV 3/5] END C=0.1, max_iter=500, penalty=l1, solver=newton-cg;, score=nan total time=   0.0s\n",
      "[CV 4/5] END C=0.1, max_iter=500, penalty=l1, solver=newton-cg;, score=nan total time=   0.0s\n",
      "[CV 5/5] END C=0.1, max_iter=500, penalty=l1, solver=newton-cg;, score=nan total time=   0.0s\n",
      "[CV 1/5] END C=0.1, max_iter=500, penalty=l1, solver=sag;, score=nan total time=   0.0s\n",
      "[CV 2/5] END C=0.1, max_iter=500, penalty=l1, solver=sag;, score=nan total time=   0.0s\n",
      "[CV 3/5] END C=0.1, max_iter=500, penalty=l1, solver=sag;, score=nan total time=   0.0s\n",
      "[CV 4/5] END C=0.1, max_iter=500, penalty=l1, solver=sag;, score=nan total time=   0.0s\n",
      "[CV 5/5] END C=0.1, max_iter=500, penalty=l1, solver=sag;, score=nan total time=   0.0s\n"
     ]
    },
    {
     "name": "stderr",
     "output_type": "stream",
     "text": [
      "/Users/michaelraines/opt/anaconda3/lib/python3.8/site-packages/sklearn/linear_model/_sag.py:352: ConvergenceWarning: The max_iter was reached which means the coef_ did not converge\n",
      "  warnings.warn(\n"
     ]
    },
    {
     "name": "stdout",
     "output_type": "stream",
     "text": [
      "[CV 1/5] END C=0.1, max_iter=500, penalty=l1, solver=saga;, score=0.896 total time=   4.3s\n"
     ]
    },
    {
     "name": "stderr",
     "output_type": "stream",
     "text": [
      "/Users/michaelraines/opt/anaconda3/lib/python3.8/site-packages/sklearn/linear_model/_sag.py:352: ConvergenceWarning: The max_iter was reached which means the coef_ did not converge\n",
      "  warnings.warn(\n"
     ]
    },
    {
     "name": "stdout",
     "output_type": "stream",
     "text": [
      "[CV 2/5] END C=0.1, max_iter=500, penalty=l1, solver=saga;, score=0.896 total time=   4.3s\n"
     ]
    },
    {
     "name": "stderr",
     "output_type": "stream",
     "text": [
      "/Users/michaelraines/opt/anaconda3/lib/python3.8/site-packages/sklearn/linear_model/_sag.py:352: ConvergenceWarning: The max_iter was reached which means the coef_ did not converge\n",
      "  warnings.warn(\n"
     ]
    },
    {
     "name": "stdout",
     "output_type": "stream",
     "text": [
      "[CV 3/5] END C=0.1, max_iter=500, penalty=l1, solver=saga;, score=0.896 total time=   4.3s\n"
     ]
    },
    {
     "name": "stderr",
     "output_type": "stream",
     "text": [
      "/Users/michaelraines/opt/anaconda3/lib/python3.8/site-packages/sklearn/linear_model/_sag.py:352: ConvergenceWarning: The max_iter was reached which means the coef_ did not converge\n",
      "  warnings.warn(\n"
     ]
    },
    {
     "name": "stdout",
     "output_type": "stream",
     "text": [
      "[CV 4/5] END C=0.1, max_iter=500, penalty=l1, solver=saga;, score=0.896 total time=   4.3s\n"
     ]
    },
    {
     "name": "stderr",
     "output_type": "stream",
     "text": [
      "/Users/michaelraines/opt/anaconda3/lib/python3.8/site-packages/sklearn/linear_model/_sag.py:352: ConvergenceWarning: The max_iter was reached which means the coef_ did not converge\n",
      "  warnings.warn(\n"
     ]
    },
    {
     "name": "stdout",
     "output_type": "stream",
     "text": [
      "[CV 5/5] END C=0.1, max_iter=500, penalty=l1, solver=saga;, score=0.896 total time=   4.3s\n",
      "[CV 1/5] END C=0.1, max_iter=500, penalty=l1, solver=liblinear;, score=0.909 total time=   0.4s\n",
      "[CV 2/5] END C=0.1, max_iter=500, penalty=l1, solver=liblinear;, score=0.910 total time=   0.4s\n",
      "[CV 3/5] END C=0.1, max_iter=500, penalty=l1, solver=liblinear;, score=0.916 total time=   0.4s\n",
      "[CV 4/5] END C=0.1, max_iter=500, penalty=l1, solver=liblinear;, score=0.912 total time=   0.4s\n",
      "[CV 5/5] END C=0.1, max_iter=500, penalty=l1, solver=liblinear;, score=0.908 total time=   0.4s\n",
      "[CV 1/5] END C=0.1, max_iter=500, penalty=l2, solver=newton-cg;, score=0.909 total time=   1.4s\n",
      "[CV 2/5] END C=0.1, max_iter=500, penalty=l2, solver=newton-cg;, score=0.911 total time=   1.6s\n",
      "[CV 3/5] END C=0.1, max_iter=500, penalty=l2, solver=newton-cg;, score=0.916 total time=   1.3s\n",
      "[CV 4/5] END C=0.1, max_iter=500, penalty=l2, solver=newton-cg;, score=0.911 total time=   1.2s\n",
      "[CV 5/5] END C=0.1, max_iter=500, penalty=l2, solver=newton-cg;, score=0.908 total time=   0.9s\n"
     ]
    },
    {
     "name": "stderr",
     "output_type": "stream",
     "text": [
      "/Users/michaelraines/opt/anaconda3/lib/python3.8/site-packages/sklearn/linear_model/_sag.py:352: ConvergenceWarning: The max_iter was reached which means the coef_ did not converge\n",
      "  warnings.warn(\n"
     ]
    },
    {
     "name": "stdout",
     "output_type": "stream",
     "text": [
      "[CV 1/5] END C=0.1, max_iter=500, penalty=l2, solver=sag;, score=0.896 total time=   3.8s\n"
     ]
    },
    {
     "name": "stderr",
     "output_type": "stream",
     "text": [
      "/Users/michaelraines/opt/anaconda3/lib/python3.8/site-packages/sklearn/linear_model/_sag.py:352: ConvergenceWarning: The max_iter was reached which means the coef_ did not converge\n",
      "  warnings.warn(\n"
     ]
    },
    {
     "name": "stdout",
     "output_type": "stream",
     "text": [
      "[CV 2/5] END C=0.1, max_iter=500, penalty=l2, solver=sag;, score=0.896 total time=   3.7s\n"
     ]
    },
    {
     "name": "stderr",
     "output_type": "stream",
     "text": [
      "/Users/michaelraines/opt/anaconda3/lib/python3.8/site-packages/sklearn/linear_model/_sag.py:352: ConvergenceWarning: The max_iter was reached which means the coef_ did not converge\n",
      "  warnings.warn(\n"
     ]
    },
    {
     "name": "stdout",
     "output_type": "stream",
     "text": [
      "[CV 3/5] END C=0.1, max_iter=500, penalty=l2, solver=sag;, score=0.896 total time=   3.7s\n"
     ]
    },
    {
     "name": "stderr",
     "output_type": "stream",
     "text": [
      "/Users/michaelraines/opt/anaconda3/lib/python3.8/site-packages/sklearn/linear_model/_sag.py:352: ConvergenceWarning: The max_iter was reached which means the coef_ did not converge\n",
      "  warnings.warn(\n"
     ]
    },
    {
     "name": "stdout",
     "output_type": "stream",
     "text": [
      "[CV 4/5] END C=0.1, max_iter=500, penalty=l2, solver=sag;, score=0.896 total time=   3.8s\n"
     ]
    },
    {
     "name": "stderr",
     "output_type": "stream",
     "text": [
      "/Users/michaelraines/opt/anaconda3/lib/python3.8/site-packages/sklearn/linear_model/_sag.py:352: ConvergenceWarning: The max_iter was reached which means the coef_ did not converge\n",
      "  warnings.warn(\n"
     ]
    },
    {
     "name": "stdout",
     "output_type": "stream",
     "text": [
      "[CV 5/5] END C=0.1, max_iter=500, penalty=l2, solver=sag;, score=0.896 total time=   3.7s\n"
     ]
    },
    {
     "name": "stderr",
     "output_type": "stream",
     "text": [
      "/Users/michaelraines/opt/anaconda3/lib/python3.8/site-packages/sklearn/linear_model/_sag.py:352: ConvergenceWarning: The max_iter was reached which means the coef_ did not converge\n",
      "  warnings.warn(\n"
     ]
    },
    {
     "name": "stdout",
     "output_type": "stream",
     "text": [
      "[CV 1/5] END C=0.1, max_iter=500, penalty=l2, solver=saga;, score=0.896 total time=   3.9s\n"
     ]
    },
    {
     "name": "stderr",
     "output_type": "stream",
     "text": [
      "/Users/michaelraines/opt/anaconda3/lib/python3.8/site-packages/sklearn/linear_model/_sag.py:352: ConvergenceWarning: The max_iter was reached which means the coef_ did not converge\n",
      "  warnings.warn(\n"
     ]
    },
    {
     "name": "stdout",
     "output_type": "stream",
     "text": [
      "[CV 2/5] END C=0.1, max_iter=500, penalty=l2, solver=saga;, score=0.896 total time=   3.8s\n"
     ]
    },
    {
     "name": "stderr",
     "output_type": "stream",
     "text": [
      "/Users/michaelraines/opt/anaconda3/lib/python3.8/site-packages/sklearn/linear_model/_sag.py:352: ConvergenceWarning: The max_iter was reached which means the coef_ did not converge\n",
      "  warnings.warn(\n"
     ]
    },
    {
     "name": "stdout",
     "output_type": "stream",
     "text": [
      "[CV 3/5] END C=0.1, max_iter=500, penalty=l2, solver=saga;, score=0.896 total time=   3.7s\n"
     ]
    },
    {
     "name": "stderr",
     "output_type": "stream",
     "text": [
      "/Users/michaelraines/opt/anaconda3/lib/python3.8/site-packages/sklearn/linear_model/_sag.py:352: ConvergenceWarning: The max_iter was reached which means the coef_ did not converge\n",
      "  warnings.warn(\n"
     ]
    },
    {
     "name": "stdout",
     "output_type": "stream",
     "text": [
      "[CV 4/5] END C=0.1, max_iter=500, penalty=l2, solver=saga;, score=0.896 total time=   3.8s\n"
     ]
    },
    {
     "name": "stderr",
     "output_type": "stream",
     "text": [
      "/Users/michaelraines/opt/anaconda3/lib/python3.8/site-packages/sklearn/linear_model/_sag.py:352: ConvergenceWarning: The max_iter was reached which means the coef_ did not converge\n",
      "  warnings.warn(\n"
     ]
    },
    {
     "name": "stdout",
     "output_type": "stream",
     "text": [
      "[CV 5/5] END C=0.1, max_iter=500, penalty=l2, solver=saga;, score=0.896 total time=   3.8s\n",
      "[CV 1/5] END C=0.1, max_iter=500, penalty=l2, solver=liblinear;, score=0.909 total time=   0.1s\n",
      "[CV 2/5] END C=0.1, max_iter=500, penalty=l2, solver=liblinear;, score=0.910 total time=   0.1s\n",
      "[CV 3/5] END C=0.1, max_iter=500, penalty=l2, solver=liblinear;, score=0.917 total time=   0.1s\n",
      "[CV 4/5] END C=0.1, max_iter=500, penalty=l2, solver=liblinear;, score=0.911 total time=   0.1s\n",
      "[CV 5/5] END C=0.1, max_iter=500, penalty=l2, solver=liblinear;, score=0.909 total time=   0.1s\n",
      "[CV 1/5] END C=0.1, max_iter=500, penalty=elasticnet, solver=newton-cg;, score=nan total time=   0.0s\n",
      "[CV 2/5] END C=0.1, max_iter=500, penalty=elasticnet, solver=newton-cg;, score=nan total time=   0.0s\n",
      "[CV 3/5] END C=0.1, max_iter=500, penalty=elasticnet, solver=newton-cg;, score=nan total time=   0.0s\n",
      "[CV 4/5] END C=0.1, max_iter=500, penalty=elasticnet, solver=newton-cg;, score=nan total time=   0.0s\n",
      "[CV 5/5] END C=0.1, max_iter=500, penalty=elasticnet, solver=newton-cg;, score=nan total time=   0.0s\n",
      "[CV 1/5] END C=0.1, max_iter=500, penalty=elasticnet, solver=sag;, score=nan total time=   0.0s\n",
      "[CV 2/5] END C=0.1, max_iter=500, penalty=elasticnet, solver=sag;, score=nan total time=   0.0s\n",
      "[CV 3/5] END C=0.1, max_iter=500, penalty=elasticnet, solver=sag;, score=nan total time=   0.0s\n",
      "[CV 4/5] END C=0.1, max_iter=500, penalty=elasticnet, solver=sag;, score=nan total time=   0.0s\n",
      "[CV 5/5] END C=0.1, max_iter=500, penalty=elasticnet, solver=sag;, score=nan total time=   0.0s\n",
      "[CV 1/5] END C=0.1, max_iter=500, penalty=elasticnet, solver=saga;, score=nan total time=   0.0s\n",
      "[CV 2/5] END C=0.1, max_iter=500, penalty=elasticnet, solver=saga;, score=nan total time=   0.0s\n",
      "[CV 3/5] END C=0.1, max_iter=500, penalty=elasticnet, solver=saga;, score=nan total time=   0.0s\n",
      "[CV 4/5] END C=0.1, max_iter=500, penalty=elasticnet, solver=saga;, score=nan total time=   0.0s\n",
      "[CV 5/5] END C=0.1, max_iter=500, penalty=elasticnet, solver=saga;, score=nan total time=   0.0s\n",
      "[CV 1/5] END C=0.1, max_iter=500, penalty=elasticnet, solver=liblinear;, score=nan total time=   0.0s\n",
      "[CV 2/5] END C=0.1, max_iter=500, penalty=elasticnet, solver=liblinear;, score=nan total time=   0.0s\n",
      "[CV 3/5] END C=0.1, max_iter=500, penalty=elasticnet, solver=liblinear;, score=nan total time=   0.0s\n",
      "[CV 4/5] END C=0.1, max_iter=500, penalty=elasticnet, solver=liblinear;, score=nan total time=   0.0s\n",
      "[CV 5/5] END C=0.1, max_iter=500, penalty=elasticnet, solver=liblinear;, score=nan total time=   0.0s\n",
      "[CV 1/5] END C=0.1, max_iter=1000, penalty=l1, solver=newton-cg;, score=nan total time=   0.0s\n",
      "[CV 2/5] END C=0.1, max_iter=1000, penalty=l1, solver=newton-cg;, score=nan total time=   0.0s\n",
      "[CV 3/5] END C=0.1, max_iter=1000, penalty=l1, solver=newton-cg;, score=nan total time=   0.0s\n",
      "[CV 4/5] END C=0.1, max_iter=1000, penalty=l1, solver=newton-cg;, score=nan total time=   0.0s\n",
      "[CV 5/5] END C=0.1, max_iter=1000, penalty=l1, solver=newton-cg;, score=nan total time=   0.0s\n",
      "[CV 1/5] END C=0.1, max_iter=1000, penalty=l1, solver=sag;, score=nan total time=   0.0s\n",
      "[CV 2/5] END C=0.1, max_iter=1000, penalty=l1, solver=sag;, score=nan total time=   0.0s\n",
      "[CV 3/5] END C=0.1, max_iter=1000, penalty=l1, solver=sag;, score=nan total time=   0.0s\n",
      "[CV 4/5] END C=0.1, max_iter=1000, penalty=l1, solver=sag;, score=nan total time=   0.0s\n",
      "[CV 5/5] END C=0.1, max_iter=1000, penalty=l1, solver=sag;, score=nan total time=   0.0s\n"
     ]
    },
    {
     "name": "stderr",
     "output_type": "stream",
     "text": [
      "/Users/michaelraines/opt/anaconda3/lib/python3.8/site-packages/sklearn/linear_model/_sag.py:352: ConvergenceWarning: The max_iter was reached which means the coef_ did not converge\n",
      "  warnings.warn(\n"
     ]
    },
    {
     "name": "stdout",
     "output_type": "stream",
     "text": [
      "[CV 1/5] END C=0.1, max_iter=1000, penalty=l1, solver=saga;, score=0.896 total time=   8.6s\n"
     ]
    },
    {
     "name": "stderr",
     "output_type": "stream",
     "text": [
      "/Users/michaelraines/opt/anaconda3/lib/python3.8/site-packages/sklearn/linear_model/_sag.py:352: ConvergenceWarning: The max_iter was reached which means the coef_ did not converge\n",
      "  warnings.warn(\n"
     ]
    },
    {
     "name": "stdout",
     "output_type": "stream",
     "text": [
      "[CV 2/5] END C=0.1, max_iter=1000, penalty=l1, solver=saga;, score=0.896 total time=   8.8s\n"
     ]
    },
    {
     "name": "stderr",
     "output_type": "stream",
     "text": [
      "/Users/michaelraines/opt/anaconda3/lib/python3.8/site-packages/sklearn/linear_model/_sag.py:352: ConvergenceWarning: The max_iter was reached which means the coef_ did not converge\n",
      "  warnings.warn(\n"
     ]
    },
    {
     "name": "stdout",
     "output_type": "stream",
     "text": [
      "[CV 3/5] END C=0.1, max_iter=1000, penalty=l1, solver=saga;, score=0.896 total time=   9.2s\n"
     ]
    },
    {
     "name": "stderr",
     "output_type": "stream",
     "text": [
      "/Users/michaelraines/opt/anaconda3/lib/python3.8/site-packages/sklearn/linear_model/_sag.py:352: ConvergenceWarning: The max_iter was reached which means the coef_ did not converge\n",
      "  warnings.warn(\n"
     ]
    },
    {
     "name": "stdout",
     "output_type": "stream",
     "text": [
      "[CV 4/5] END C=0.1, max_iter=1000, penalty=l1, solver=saga;, score=0.896 total time=   8.5s\n"
     ]
    },
    {
     "name": "stderr",
     "output_type": "stream",
     "text": [
      "/Users/michaelraines/opt/anaconda3/lib/python3.8/site-packages/sklearn/linear_model/_sag.py:352: ConvergenceWarning: The max_iter was reached which means the coef_ did not converge\n",
      "  warnings.warn(\n"
     ]
    },
    {
     "name": "stdout",
     "output_type": "stream",
     "text": [
      "[CV 5/5] END C=0.1, max_iter=1000, penalty=l1, solver=saga;, score=0.896 total time=   8.8s\n",
      "[CV 1/5] END C=0.1, max_iter=1000, penalty=l1, solver=liblinear;, score=0.909 total time=   0.4s\n",
      "[CV 2/5] END C=0.1, max_iter=1000, penalty=l1, solver=liblinear;, score=0.910 total time=   0.4s\n",
      "[CV 3/5] END C=0.1, max_iter=1000, penalty=l1, solver=liblinear;, score=0.916 total time=   0.4s\n",
      "[CV 4/5] END C=0.1, max_iter=1000, penalty=l1, solver=liblinear;, score=0.912 total time=   0.4s\n",
      "[CV 5/5] END C=0.1, max_iter=1000, penalty=l1, solver=liblinear;, score=0.908 total time=   0.4s\n",
      "[CV 1/5] END C=0.1, max_iter=1000, penalty=l2, solver=newton-cg;, score=0.909 total time=   0.6s\n",
      "[CV 2/5] END C=0.1, max_iter=1000, penalty=l2, solver=newton-cg;, score=0.911 total time=   0.7s\n",
      "[CV 3/5] END C=0.1, max_iter=1000, penalty=l2, solver=newton-cg;, score=0.916 total time=   0.6s\n",
      "[CV 4/5] END C=0.1, max_iter=1000, penalty=l2, solver=newton-cg;, score=0.911 total time=   0.6s\n",
      "[CV 5/5] END C=0.1, max_iter=1000, penalty=l2, solver=newton-cg;, score=0.908 total time=   0.7s\n"
     ]
    },
    {
     "name": "stderr",
     "output_type": "stream",
     "text": [
      "/Users/michaelraines/opt/anaconda3/lib/python3.8/site-packages/sklearn/linear_model/_sag.py:352: ConvergenceWarning: The max_iter was reached which means the coef_ did not converge\n",
      "  warnings.warn(\n"
     ]
    },
    {
     "name": "stdout",
     "output_type": "stream",
     "text": [
      "[CV 1/5] END C=0.1, max_iter=1000, penalty=l2, solver=sag;, score=0.896 total time=   7.5s\n"
     ]
    },
    {
     "name": "stderr",
     "output_type": "stream",
     "text": [
      "/Users/michaelraines/opt/anaconda3/lib/python3.8/site-packages/sklearn/linear_model/_sag.py:352: ConvergenceWarning: The max_iter was reached which means the coef_ did not converge\n",
      "  warnings.warn(\n"
     ]
    },
    {
     "name": "stdout",
     "output_type": "stream",
     "text": [
      "[CV 2/5] END C=0.1, max_iter=1000, penalty=l2, solver=sag;, score=0.896 total time=   7.4s\n"
     ]
    },
    {
     "name": "stderr",
     "output_type": "stream",
     "text": [
      "/Users/michaelraines/opt/anaconda3/lib/python3.8/site-packages/sklearn/linear_model/_sag.py:352: ConvergenceWarning: The max_iter was reached which means the coef_ did not converge\n",
      "  warnings.warn(\n"
     ]
    },
    {
     "name": "stdout",
     "output_type": "stream",
     "text": [
      "[CV 3/5] END C=0.1, max_iter=1000, penalty=l2, solver=sag;, score=0.896 total time=   7.5s\n"
     ]
    },
    {
     "name": "stderr",
     "output_type": "stream",
     "text": [
      "/Users/michaelraines/opt/anaconda3/lib/python3.8/site-packages/sklearn/linear_model/_sag.py:352: ConvergenceWarning: The max_iter was reached which means the coef_ did not converge\n",
      "  warnings.warn(\n"
     ]
    },
    {
     "name": "stdout",
     "output_type": "stream",
     "text": [
      "[CV 4/5] END C=0.1, max_iter=1000, penalty=l2, solver=sag;, score=0.896 total time=   7.5s\n"
     ]
    },
    {
     "name": "stderr",
     "output_type": "stream",
     "text": [
      "/Users/michaelraines/opt/anaconda3/lib/python3.8/site-packages/sklearn/linear_model/_sag.py:352: ConvergenceWarning: The max_iter was reached which means the coef_ did not converge\n",
      "  warnings.warn(\n"
     ]
    },
    {
     "name": "stdout",
     "output_type": "stream",
     "text": [
      "[CV 5/5] END C=0.1, max_iter=1000, penalty=l2, solver=sag;, score=0.896 total time=   7.5s\n"
     ]
    },
    {
     "name": "stderr",
     "output_type": "stream",
     "text": [
      "/Users/michaelraines/opt/anaconda3/lib/python3.8/site-packages/sklearn/linear_model/_sag.py:352: ConvergenceWarning: The max_iter was reached which means the coef_ did not converge\n",
      "  warnings.warn(\n"
     ]
    },
    {
     "name": "stdout",
     "output_type": "stream",
     "text": [
      "[CV 1/5] END C=0.1, max_iter=1000, penalty=l2, solver=saga;, score=0.896 total time=   7.6s\n"
     ]
    },
    {
     "name": "stderr",
     "output_type": "stream",
     "text": [
      "/Users/michaelraines/opt/anaconda3/lib/python3.8/site-packages/sklearn/linear_model/_sag.py:352: ConvergenceWarning: The max_iter was reached which means the coef_ did not converge\n",
      "  warnings.warn(\n"
     ]
    },
    {
     "name": "stdout",
     "output_type": "stream",
     "text": [
      "[CV 2/5] END C=0.1, max_iter=1000, penalty=l2, solver=saga;, score=0.896 total time=   7.5s\n"
     ]
    },
    {
     "name": "stderr",
     "output_type": "stream",
     "text": [
      "/Users/michaelraines/opt/anaconda3/lib/python3.8/site-packages/sklearn/linear_model/_sag.py:352: ConvergenceWarning: The max_iter was reached which means the coef_ did not converge\n",
      "  warnings.warn(\n"
     ]
    },
    {
     "name": "stdout",
     "output_type": "stream",
     "text": [
      "[CV 3/5] END C=0.1, max_iter=1000, penalty=l2, solver=saga;, score=0.896 total time=   7.4s\n"
     ]
    },
    {
     "name": "stderr",
     "output_type": "stream",
     "text": [
      "/Users/michaelraines/opt/anaconda3/lib/python3.8/site-packages/sklearn/linear_model/_sag.py:352: ConvergenceWarning: The max_iter was reached which means the coef_ did not converge\n",
      "  warnings.warn(\n"
     ]
    },
    {
     "name": "stdout",
     "output_type": "stream",
     "text": [
      "[CV 4/5] END C=0.1, max_iter=1000, penalty=l2, solver=saga;, score=0.896 total time=   7.5s\n"
     ]
    },
    {
     "name": "stderr",
     "output_type": "stream",
     "text": [
      "/Users/michaelraines/opt/anaconda3/lib/python3.8/site-packages/sklearn/linear_model/_sag.py:352: ConvergenceWarning: The max_iter was reached which means the coef_ did not converge\n",
      "  warnings.warn(\n"
     ]
    },
    {
     "name": "stdout",
     "output_type": "stream",
     "text": [
      "[CV 5/5] END C=0.1, max_iter=1000, penalty=l2, solver=saga;, score=0.896 total time=   7.5s\n",
      "[CV 1/5] END C=0.1, max_iter=1000, penalty=l2, solver=liblinear;, score=0.909 total time=   0.1s\n",
      "[CV 2/5] END C=0.1, max_iter=1000, penalty=l2, solver=liblinear;, score=0.910 total time=   0.1s\n",
      "[CV 3/5] END C=0.1, max_iter=1000, penalty=l2, solver=liblinear;, score=0.917 total time=   0.1s\n",
      "[CV 4/5] END C=0.1, max_iter=1000, penalty=l2, solver=liblinear;, score=0.911 total time=   0.1s\n",
      "[CV 5/5] END C=0.1, max_iter=1000, penalty=l2, solver=liblinear;, score=0.909 total time=   0.1s\n",
      "[CV 1/5] END C=0.1, max_iter=1000, penalty=elasticnet, solver=newton-cg;, score=nan total time=   0.0s\n",
      "[CV 2/5] END C=0.1, max_iter=1000, penalty=elasticnet, solver=newton-cg;, score=nan total time=   0.0s\n",
      "[CV 3/5] END C=0.1, max_iter=1000, penalty=elasticnet, solver=newton-cg;, score=nan total time=   0.0s\n",
      "[CV 4/5] END C=0.1, max_iter=1000, penalty=elasticnet, solver=newton-cg;, score=nan total time=   0.0s\n",
      "[CV 5/5] END C=0.1, max_iter=1000, penalty=elasticnet, solver=newton-cg;, score=nan total time=   0.0s\n",
      "[CV 1/5] END C=0.1, max_iter=1000, penalty=elasticnet, solver=sag;, score=nan total time=   0.0s\n",
      "[CV 2/5] END C=0.1, max_iter=1000, penalty=elasticnet, solver=sag;, score=nan total time=   0.0s\n",
      "[CV 3/5] END C=0.1, max_iter=1000, penalty=elasticnet, solver=sag;, score=nan total time=   0.0s\n",
      "[CV 4/5] END C=0.1, max_iter=1000, penalty=elasticnet, solver=sag;, score=nan total time=   0.0s\n",
      "[CV 5/5] END C=0.1, max_iter=1000, penalty=elasticnet, solver=sag;, score=nan total time=   0.0s\n",
      "[CV 1/5] END C=0.1, max_iter=1000, penalty=elasticnet, solver=saga;, score=nan total time=   0.0s\n",
      "[CV 2/5] END C=0.1, max_iter=1000, penalty=elasticnet, solver=saga;, score=nan total time=   0.0s\n",
      "[CV 3/5] END C=0.1, max_iter=1000, penalty=elasticnet, solver=saga;, score=nan total time=   0.0s\n",
      "[CV 4/5] END C=0.1, max_iter=1000, penalty=elasticnet, solver=saga;, score=nan total time=   0.0s\n",
      "[CV 5/5] END C=0.1, max_iter=1000, penalty=elasticnet, solver=saga;, score=nan total time=   0.0s\n",
      "[CV 1/5] END C=0.1, max_iter=1000, penalty=elasticnet, solver=liblinear;, score=nan total time=   0.0s\n",
      "[CV 2/5] END C=0.1, max_iter=1000, penalty=elasticnet, solver=liblinear;, score=nan total time=   0.0s\n",
      "[CV 3/5] END C=0.1, max_iter=1000, penalty=elasticnet, solver=liblinear;, score=nan total time=   0.0s\n",
      "[CV 4/5] END C=0.1, max_iter=1000, penalty=elasticnet, solver=liblinear;, score=nan total time=   0.0s\n",
      "[CV 5/5] END C=0.1, max_iter=1000, penalty=elasticnet, solver=liblinear;, score=nan total time=   0.0s\n",
      "[CV 1/5] END C=0.1, max_iter=1500, penalty=l1, solver=newton-cg;, score=nan total time=   0.0s\n",
      "[CV 2/5] END C=0.1, max_iter=1500, penalty=l1, solver=newton-cg;, score=nan total time=   0.0s\n",
      "[CV 3/5] END C=0.1, max_iter=1500, penalty=l1, solver=newton-cg;, score=nan total time=   0.0s\n",
      "[CV 4/5] END C=0.1, max_iter=1500, penalty=l1, solver=newton-cg;, score=nan total time=   0.0s\n",
      "[CV 5/5] END C=0.1, max_iter=1500, penalty=l1, solver=newton-cg;, score=nan total time=   0.0s\n",
      "[CV 1/5] END C=0.1, max_iter=1500, penalty=l1, solver=sag;, score=nan total time=   0.0s\n",
      "[CV 2/5] END C=0.1, max_iter=1500, penalty=l1, solver=sag;, score=nan total time=   0.0s\n",
      "[CV 3/5] END C=0.1, max_iter=1500, penalty=l1, solver=sag;, score=nan total time=   0.0s\n",
      "[CV 4/5] END C=0.1, max_iter=1500, penalty=l1, solver=sag;, score=nan total time=   0.0s\n",
      "[CV 5/5] END C=0.1, max_iter=1500, penalty=l1, solver=sag;, score=nan total time=   0.0s\n"
     ]
    },
    {
     "name": "stderr",
     "output_type": "stream",
     "text": [
      "/Users/michaelraines/opt/anaconda3/lib/python3.8/site-packages/sklearn/linear_model/_sag.py:352: ConvergenceWarning: The max_iter was reached which means the coef_ did not converge\n",
      "  warnings.warn(\n"
     ]
    },
    {
     "name": "stdout",
     "output_type": "stream",
     "text": [
      "[CV 1/5] END C=0.1, max_iter=1500, penalty=l1, solver=saga;, score=0.896 total time=  16.3s\n"
     ]
    },
    {
     "name": "stderr",
     "output_type": "stream",
     "text": [
      "/Users/michaelraines/opt/anaconda3/lib/python3.8/site-packages/sklearn/linear_model/_sag.py:352: ConvergenceWarning: The max_iter was reached which means the coef_ did not converge\n",
      "  warnings.warn(\n"
     ]
    },
    {
     "name": "stdout",
     "output_type": "stream",
     "text": [
      "[CV 2/5] END C=0.1, max_iter=1500, penalty=l1, solver=saga;, score=0.896 total time=  12.9s\n"
     ]
    },
    {
     "name": "stderr",
     "output_type": "stream",
     "text": [
      "/Users/michaelraines/opt/anaconda3/lib/python3.8/site-packages/sklearn/linear_model/_sag.py:352: ConvergenceWarning: The max_iter was reached which means the coef_ did not converge\n",
      "  warnings.warn(\n"
     ]
    },
    {
     "name": "stdout",
     "output_type": "stream",
     "text": [
      "[CV 3/5] END C=0.1, max_iter=1500, penalty=l1, solver=saga;, score=0.896 total time=  13.5s\n"
     ]
    },
    {
     "name": "stderr",
     "output_type": "stream",
     "text": [
      "/Users/michaelraines/opt/anaconda3/lib/python3.8/site-packages/sklearn/linear_model/_sag.py:352: ConvergenceWarning: The max_iter was reached which means the coef_ did not converge\n",
      "  warnings.warn(\n"
     ]
    },
    {
     "name": "stdout",
     "output_type": "stream",
     "text": [
      "[CV 4/5] END C=0.1, max_iter=1500, penalty=l1, solver=saga;, score=0.896 total time=  13.4s\n"
     ]
    },
    {
     "name": "stderr",
     "output_type": "stream",
     "text": [
      "/Users/michaelraines/opt/anaconda3/lib/python3.8/site-packages/sklearn/linear_model/_sag.py:352: ConvergenceWarning: The max_iter was reached which means the coef_ did not converge\n",
      "  warnings.warn(\n"
     ]
    },
    {
     "name": "stdout",
     "output_type": "stream",
     "text": [
      "[CV 5/5] END C=0.1, max_iter=1500, penalty=l1, solver=saga;, score=0.896 total time=  41.9s\n",
      "[CV 1/5] END C=0.1, max_iter=1500, penalty=l1, solver=liblinear;, score=0.909 total time=   0.4s\n",
      "[CV 2/5] END C=0.1, max_iter=1500, penalty=l1, solver=liblinear;, score=0.910 total time=   0.4s\n",
      "[CV 3/5] END C=0.1, max_iter=1500, penalty=l1, solver=liblinear;, score=0.916 total time=   0.4s\n",
      "[CV 4/5] END C=0.1, max_iter=1500, penalty=l1, solver=liblinear;, score=0.912 total time=   0.4s\n",
      "[CV 5/5] END C=0.1, max_iter=1500, penalty=l1, solver=liblinear;, score=0.908 total time=   0.4s\n",
      "[CV 1/5] END C=0.1, max_iter=1500, penalty=l2, solver=newton-cg;, score=0.909 total time=   0.5s\n",
      "[CV 2/5] END C=0.1, max_iter=1500, penalty=l2, solver=newton-cg;, score=0.911 total time=   0.6s\n",
      "[CV 3/5] END C=0.1, max_iter=1500, penalty=l2, solver=newton-cg;, score=0.916 total time=   0.5s\n",
      "[CV 4/5] END C=0.1, max_iter=1500, penalty=l2, solver=newton-cg;, score=0.911 total time=   0.5s\n",
      "[CV 5/5] END C=0.1, max_iter=1500, penalty=l2, solver=newton-cg;, score=0.908 total time=   0.5s\n",
      "[CV 1/5] END C=0.1, max_iter=1500, penalty=l2, solver=sag;, score=0.896 total time=   9.5s\n",
      "[CV 2/5] END C=0.1, max_iter=1500, penalty=l2, solver=sag;, score=0.896 total time=   9.6s\n",
      "[CV 3/5] END C=0.1, max_iter=1500, penalty=l2, solver=sag;, score=0.896 total time=  10.5s\n"
     ]
    },
    {
     "name": "stderr",
     "output_type": "stream",
     "text": [
      "/Users/michaelraines/opt/anaconda3/lib/python3.8/site-packages/sklearn/linear_model/_sag.py:352: ConvergenceWarning: The max_iter was reached which means the coef_ did not converge\n",
      "  warnings.warn(\n"
     ]
    },
    {
     "name": "stdout",
     "output_type": "stream",
     "text": [
      "[CV 4/5] END C=0.1, max_iter=1500, penalty=l2, solver=sag;, score=0.896 total time= 3.6min\n",
      "[CV 5/5] END C=0.1, max_iter=1500, penalty=l2, solver=sag;, score=0.896 total time=   9.4s\n"
     ]
    },
    {
     "name": "stderr",
     "output_type": "stream",
     "text": [
      "/Users/michaelraines/opt/anaconda3/lib/python3.8/site-packages/sklearn/linear_model/_sag.py:352: ConvergenceWarning: The max_iter was reached which means the coef_ did not converge\n",
      "  warnings.warn(\n"
     ]
    },
    {
     "name": "stdout",
     "output_type": "stream",
     "text": [
      "[CV 1/5] END C=0.1, max_iter=1500, penalty=l2, solver=saga;, score=0.896 total time=  11.1s\n"
     ]
    },
    {
     "name": "stderr",
     "output_type": "stream",
     "text": [
      "/Users/michaelraines/opt/anaconda3/lib/python3.8/site-packages/sklearn/linear_model/_sag.py:352: ConvergenceWarning: The max_iter was reached which means the coef_ did not converge\n",
      "  warnings.warn(\n"
     ]
    },
    {
     "name": "stdout",
     "output_type": "stream",
     "text": [
      "[CV 2/5] END C=0.1, max_iter=1500, penalty=l2, solver=saga;, score=0.896 total time=  11.1s\n"
     ]
    },
    {
     "name": "stderr",
     "output_type": "stream",
     "text": [
      "/Users/michaelraines/opt/anaconda3/lib/python3.8/site-packages/sklearn/linear_model/_sag.py:352: ConvergenceWarning: The max_iter was reached which means the coef_ did not converge\n",
      "  warnings.warn(\n"
     ]
    },
    {
     "name": "stdout",
     "output_type": "stream",
     "text": [
      "[CV 3/5] END C=0.1, max_iter=1500, penalty=l2, solver=saga;, score=0.896 total time=  11.1s\n"
     ]
    },
    {
     "name": "stderr",
     "output_type": "stream",
     "text": [
      "/Users/michaelraines/opt/anaconda3/lib/python3.8/site-packages/sklearn/linear_model/_sag.py:352: ConvergenceWarning: The max_iter was reached which means the coef_ did not converge\n",
      "  warnings.warn(\n"
     ]
    },
    {
     "name": "stdout",
     "output_type": "stream",
     "text": [
      "[CV 4/5] END C=0.1, max_iter=1500, penalty=l2, solver=saga;, score=0.896 total time=15.9min\n"
     ]
    },
    {
     "name": "stderr",
     "output_type": "stream",
     "text": [
      "/Users/michaelraines/opt/anaconda3/lib/python3.8/site-packages/sklearn/linear_model/_sag.py:352: ConvergenceWarning: The max_iter was reached which means the coef_ did not converge\n",
      "  warnings.warn(\n"
     ]
    },
    {
     "name": "stdout",
     "output_type": "stream",
     "text": [
      "[CV 5/5] END C=0.1, max_iter=1500, penalty=l2, solver=saga;, score=0.896 total time=  14.2s\n",
      "[CV 1/5] END C=0.1, max_iter=1500, penalty=l2, solver=liblinear;, score=0.909 total time=   0.2s\n",
      "[CV 2/5] END C=0.1, max_iter=1500, penalty=l2, solver=liblinear;, score=0.910 total time=   0.2s\n",
      "[CV 3/5] END C=0.1, max_iter=1500, penalty=l2, solver=liblinear;, score=0.917 total time=   0.1s\n",
      "[CV 4/5] END C=0.1, max_iter=1500, penalty=l2, solver=liblinear;, score=0.911 total time=   0.1s\n",
      "[CV 5/5] END C=0.1, max_iter=1500, penalty=l2, solver=liblinear;, score=0.909 total time=   0.1s\n",
      "[CV 1/5] END C=0.1, max_iter=1500, penalty=elasticnet, solver=newton-cg;, score=nan total time=   0.0s\n",
      "[CV 2/5] END C=0.1, max_iter=1500, penalty=elasticnet, solver=newton-cg;, score=nan total time=   0.0s\n",
      "[CV 3/5] END C=0.1, max_iter=1500, penalty=elasticnet, solver=newton-cg;, score=nan total time=   0.0s\n",
      "[CV 4/5] END C=0.1, max_iter=1500, penalty=elasticnet, solver=newton-cg;, score=nan total time=   0.0s\n",
      "[CV 5/5] END C=0.1, max_iter=1500, penalty=elasticnet, solver=newton-cg;, score=nan total time=   0.0s\n",
      "[CV 1/5] END C=0.1, max_iter=1500, penalty=elasticnet, solver=sag;, score=nan total time=   0.0s\n",
      "[CV 2/5] END C=0.1, max_iter=1500, penalty=elasticnet, solver=sag;, score=nan total time=   0.0s\n",
      "[CV 3/5] END C=0.1, max_iter=1500, penalty=elasticnet, solver=sag;, score=nan total time=   0.0s\n",
      "[CV 4/5] END C=0.1, max_iter=1500, penalty=elasticnet, solver=sag;, score=nan total time=   0.0s\n",
      "[CV 5/5] END C=0.1, max_iter=1500, penalty=elasticnet, solver=sag;, score=nan total time=   0.0s\n",
      "[CV 1/5] END C=0.1, max_iter=1500, penalty=elasticnet, solver=saga;, score=nan total time=   0.0s\n",
      "[CV 2/5] END C=0.1, max_iter=1500, penalty=elasticnet, solver=saga;, score=nan total time=   0.0s\n",
      "[CV 3/5] END C=0.1, max_iter=1500, penalty=elasticnet, solver=saga;, score=nan total time=   0.0s\n",
      "[CV 4/5] END C=0.1, max_iter=1500, penalty=elasticnet, solver=saga;, score=nan total time=   0.0s\n",
      "[CV 5/5] END C=0.1, max_iter=1500, penalty=elasticnet, solver=saga;, score=nan total time=   0.0s\n",
      "[CV 1/5] END C=0.1, max_iter=1500, penalty=elasticnet, solver=liblinear;, score=nan total time=   0.0s\n",
      "[CV 2/5] END C=0.1, max_iter=1500, penalty=elasticnet, solver=liblinear;, score=nan total time=   0.0s\n",
      "[CV 3/5] END C=0.1, max_iter=1500, penalty=elasticnet, solver=liblinear;, score=nan total time=   0.0s\n",
      "[CV 4/5] END C=0.1, max_iter=1500, penalty=elasticnet, solver=liblinear;, score=nan total time=   0.0s\n",
      "[CV 5/5] END C=0.1, max_iter=1500, penalty=elasticnet, solver=liblinear;, score=nan total time=   0.0s\n",
      "[CV 1/5] END C=0.1, max_iter=2000, penalty=l1, solver=newton-cg;, score=nan total time=   0.0s\n",
      "[CV 2/5] END C=0.1, max_iter=2000, penalty=l1, solver=newton-cg;, score=nan total time=   0.0s\n",
      "[CV 3/5] END C=0.1, max_iter=2000, penalty=l1, solver=newton-cg;, score=nan total time=   0.0s\n",
      "[CV 4/5] END C=0.1, max_iter=2000, penalty=l1, solver=newton-cg;, score=nan total time=   0.0s\n",
      "[CV 5/5] END C=0.1, max_iter=2000, penalty=l1, solver=newton-cg;, score=nan total time=   0.0s\n",
      "[CV 1/5] END C=0.1, max_iter=2000, penalty=l1, solver=sag;, score=nan total time=   0.0s\n",
      "[CV 2/5] END C=0.1, max_iter=2000, penalty=l1, solver=sag;, score=nan total time=   0.0s\n",
      "[CV 3/5] END C=0.1, max_iter=2000, penalty=l1, solver=sag;, score=nan total time=   0.0s\n",
      "[CV 4/5] END C=0.1, max_iter=2000, penalty=l1, solver=sag;, score=nan total time=   0.0s\n",
      "[CV 5/5] END C=0.1, max_iter=2000, penalty=l1, solver=sag;, score=nan total time=   0.0s\n",
      "[CV 1/5] END C=0.1, max_iter=2000, penalty=l1, solver=saga;, score=0.896 total time=  17.5s\n",
      "[CV 2/5] END C=0.1, max_iter=2000, penalty=l1, solver=saga;, score=0.896 total time=  17.0s\n"
     ]
    },
    {
     "name": "stderr",
     "output_type": "stream",
     "text": [
      "/Users/michaelraines/opt/anaconda3/lib/python3.8/site-packages/sklearn/linear_model/_sag.py:352: ConvergenceWarning: The max_iter was reached which means the coef_ did not converge\n",
      "  warnings.warn(\n"
     ]
    },
    {
     "name": "stdout",
     "output_type": "stream",
     "text": [
      "[CV 3/5] END C=0.1, max_iter=2000, penalty=l1, solver=saga;, score=0.896 total time=  17.5s\n"
     ]
    },
    {
     "name": "stderr",
     "output_type": "stream",
     "text": [
      "/Users/michaelraines/opt/anaconda3/lib/python3.8/site-packages/sklearn/linear_model/_sag.py:352: ConvergenceWarning: The max_iter was reached which means the coef_ did not converge\n",
      "  warnings.warn(\n"
     ]
    },
    {
     "name": "stdout",
     "output_type": "stream",
     "text": [
      "[CV 4/5] END C=0.1, max_iter=2000, penalty=l1, solver=saga;, score=0.896 total time=  17.1s\n",
      "[CV 5/5] END C=0.1, max_iter=2000, penalty=l1, solver=saga;, score=0.896 total time=  16.4s\n",
      "[CV 1/5] END C=0.1, max_iter=2000, penalty=l1, solver=liblinear;, score=0.909 total time=   0.4s\n",
      "[CV 2/5] END C=0.1, max_iter=2000, penalty=l1, solver=liblinear;, score=0.910 total time=   0.4s\n",
      "[CV 3/5] END C=0.1, max_iter=2000, penalty=l1, solver=liblinear;, score=0.916 total time=   0.4s\n",
      "[CV 4/5] END C=0.1, max_iter=2000, penalty=l1, solver=liblinear;, score=0.912 total time=   0.4s\n",
      "[CV 5/5] END C=0.1, max_iter=2000, penalty=l1, solver=liblinear;, score=0.908 total time=   0.4s\n",
      "[CV 1/5] END C=0.1, max_iter=2000, penalty=l2, solver=newton-cg;, score=0.909 total time=   0.6s\n",
      "[CV 2/5] END C=0.1, max_iter=2000, penalty=l2, solver=newton-cg;, score=0.911 total time=   0.6s\n",
      "[CV 3/5] END C=0.1, max_iter=2000, penalty=l2, solver=newton-cg;, score=0.916 total time=   0.6s\n",
      "[CV 4/5] END C=0.1, max_iter=2000, penalty=l2, solver=newton-cg;, score=0.911 total time=   0.6s\n",
      "[CV 5/5] END C=0.1, max_iter=2000, penalty=l2, solver=newton-cg;, score=0.908 total time=   0.6s\n",
      "[CV 1/5] END C=0.1, max_iter=2000, penalty=l2, solver=sag;, score=0.896 total time=  10.9s\n",
      "[CV 2/5] END C=0.1, max_iter=2000, penalty=l2, solver=sag;, score=0.896 total time=  10.9s\n",
      "[CV 3/5] END C=0.1, max_iter=2000, penalty=l2, solver=sag;, score=0.896 total time=  11.2s\n"
     ]
    },
    {
     "name": "stderr",
     "output_type": "stream",
     "text": [
      "/Users/michaelraines/opt/anaconda3/lib/python3.8/site-packages/sklearn/linear_model/_sag.py:352: ConvergenceWarning: The max_iter was reached which means the coef_ did not converge\n",
      "  warnings.warn(\n"
     ]
    },
    {
     "name": "stdout",
     "output_type": "stream",
     "text": [
      "[CV 4/5] END C=0.1, max_iter=2000, penalty=l2, solver=sag;, score=0.896 total time=  15.3s\n",
      "[CV 5/5] END C=0.1, max_iter=2000, penalty=l2, solver=sag;, score=0.896 total time=   9.9s\n",
      "[CV 1/5] END C=0.1, max_iter=2000, penalty=l2, solver=saga;, score=0.896 total time=  14.2s\n",
      "[CV 2/5] END C=0.1, max_iter=2000, penalty=l2, solver=saga;, score=0.896 total time=  14.5s\n"
     ]
    },
    {
     "name": "stderr",
     "output_type": "stream",
     "text": [
      "/Users/michaelraines/opt/anaconda3/lib/python3.8/site-packages/sklearn/linear_model/_sag.py:352: ConvergenceWarning: The max_iter was reached which means the coef_ did not converge\n",
      "  warnings.warn(\n"
     ]
    },
    {
     "name": "stdout",
     "output_type": "stream",
     "text": [
      "[CV 3/5] END C=0.1, max_iter=2000, penalty=l2, solver=saga;, score=0.896 total time=  15.6s\n"
     ]
    },
    {
     "name": "stderr",
     "output_type": "stream",
     "text": [
      "/Users/michaelraines/opt/anaconda3/lib/python3.8/site-packages/sklearn/linear_model/_sag.py:352: ConvergenceWarning: The max_iter was reached which means the coef_ did not converge\n",
      "  warnings.warn(\n"
     ]
    },
    {
     "name": "stdout",
     "output_type": "stream",
     "text": [
      "[CV 4/5] END C=0.1, max_iter=2000, penalty=l2, solver=saga;, score=0.896 total time=  15.3s\n",
      "[CV 5/5] END C=0.1, max_iter=2000, penalty=l2, solver=saga;, score=0.896 total time=  14.8s\n",
      "[CV 1/5] END C=0.1, max_iter=2000, penalty=l2, solver=liblinear;, score=0.909 total time=   0.1s\n",
      "[CV 2/5] END C=0.1, max_iter=2000, penalty=l2, solver=liblinear;, score=0.910 total time=   0.1s\n",
      "[CV 3/5] END C=0.1, max_iter=2000, penalty=l2, solver=liblinear;, score=0.917 total time=   0.1s\n",
      "[CV 4/5] END C=0.1, max_iter=2000, penalty=l2, solver=liblinear;, score=0.911 total time=   0.1s\n",
      "[CV 5/5] END C=0.1, max_iter=2000, penalty=l2, solver=liblinear;, score=0.909 total time=   0.1s\n",
      "[CV 1/5] END C=0.1, max_iter=2000, penalty=elasticnet, solver=newton-cg;, score=nan total time=   0.0s\n",
      "[CV 2/5] END C=0.1, max_iter=2000, penalty=elasticnet, solver=newton-cg;, score=nan total time=   0.0s\n",
      "[CV 3/5] END C=0.1, max_iter=2000, penalty=elasticnet, solver=newton-cg;, score=nan total time=   0.0s\n",
      "[CV 4/5] END C=0.1, max_iter=2000, penalty=elasticnet, solver=newton-cg;, score=nan total time=   0.0s\n",
      "[CV 5/5] END C=0.1, max_iter=2000, penalty=elasticnet, solver=newton-cg;, score=nan total time=   0.0s\n",
      "[CV 1/5] END C=0.1, max_iter=2000, penalty=elasticnet, solver=sag;, score=nan total time=   0.0s\n",
      "[CV 2/5] END C=0.1, max_iter=2000, penalty=elasticnet, solver=sag;, score=nan total time=   0.0s\n",
      "[CV 3/5] END C=0.1, max_iter=2000, penalty=elasticnet, solver=sag;, score=nan total time=   0.0s\n",
      "[CV 4/5] END C=0.1, max_iter=2000, penalty=elasticnet, solver=sag;, score=nan total time=   0.0s\n",
      "[CV 5/5] END C=0.1, max_iter=2000, penalty=elasticnet, solver=sag;, score=nan total time=   0.0s\n",
      "[CV 1/5] END C=0.1, max_iter=2000, penalty=elasticnet, solver=saga;, score=nan total time=   0.0s\n",
      "[CV 2/5] END C=0.1, max_iter=2000, penalty=elasticnet, solver=saga;, score=nan total time=   0.0s\n",
      "[CV 3/5] END C=0.1, max_iter=2000, penalty=elasticnet, solver=saga;, score=nan total time=   0.0s\n",
      "[CV 4/5] END C=0.1, max_iter=2000, penalty=elasticnet, solver=saga;, score=nan total time=   0.0s\n",
      "[CV 5/5] END C=0.1, max_iter=2000, penalty=elasticnet, solver=saga;, score=nan total time=   0.0s\n",
      "[CV 1/5] END C=0.1, max_iter=2000, penalty=elasticnet, solver=liblinear;, score=nan total time=   0.0s\n",
      "[CV 2/5] END C=0.1, max_iter=2000, penalty=elasticnet, solver=liblinear;, score=nan total time=   0.0s\n",
      "[CV 3/5] END C=0.1, max_iter=2000, penalty=elasticnet, solver=liblinear;, score=nan total time=   0.0s\n",
      "[CV 4/5] END C=0.1, max_iter=2000, penalty=elasticnet, solver=liblinear;, score=nan total time=   0.0s\n",
      "[CV 5/5] END C=0.1, max_iter=2000, penalty=elasticnet, solver=liblinear;, score=nan total time=   0.0s\n",
      "[CV 1/5] END C=0.1, max_iter=4000, penalty=l1, solver=newton-cg;, score=nan total time=   0.0s\n",
      "[CV 2/5] END C=0.1, max_iter=4000, penalty=l1, solver=newton-cg;, score=nan total time=   0.0s\n",
      "[CV 3/5] END C=0.1, max_iter=4000, penalty=l1, solver=newton-cg;, score=nan total time=   0.0s\n",
      "[CV 4/5] END C=0.1, max_iter=4000, penalty=l1, solver=newton-cg;, score=nan total time=   0.0s\n",
      "[CV 5/5] END C=0.1, max_iter=4000, penalty=l1, solver=newton-cg;, score=nan total time=   0.0s\n",
      "[CV 1/5] END C=0.1, max_iter=4000, penalty=l1, solver=sag;, score=nan total time=   0.0s\n",
      "[CV 2/5] END C=0.1, max_iter=4000, penalty=l1, solver=sag;, score=nan total time=   0.0s\n",
      "[CV 3/5] END C=0.1, max_iter=4000, penalty=l1, solver=sag;, score=nan total time=   0.0s\n",
      "[CV 4/5] END C=0.1, max_iter=4000, penalty=l1, solver=sag;, score=nan total time=   0.0s\n",
      "[CV 5/5] END C=0.1, max_iter=4000, penalty=l1, solver=sag;, score=nan total time=   0.0s\n",
      "[CV 1/5] END C=0.1, max_iter=4000, penalty=l1, solver=saga;, score=0.896 total time=  16.9s\n",
      "[CV 2/5] END C=0.1, max_iter=4000, penalty=l1, solver=saga;, score=0.896 total time=  18.3s\n",
      "[CV 3/5] END C=0.1, max_iter=4000, penalty=l1, solver=saga;, score=0.896 total time=  19.9s\n"
     ]
    },
    {
     "name": "stderr",
     "output_type": "stream",
     "text": [
      "/Users/michaelraines/opt/anaconda3/lib/python3.8/site-packages/sklearn/linear_model/_sag.py:352: ConvergenceWarning: The max_iter was reached which means the coef_ did not converge\n",
      "  warnings.warn(\n"
     ]
    },
    {
     "name": "stdout",
     "output_type": "stream",
     "text": [
      "[CV 4/5] END C=0.1, max_iter=4000, penalty=l1, solver=saga;, score=0.896 total time=  38.0s\n",
      "[CV 5/5] END C=0.1, max_iter=4000, penalty=l1, solver=saga;, score=0.896 total time=  16.6s\n",
      "[CV 1/5] END C=0.1, max_iter=4000, penalty=l1, solver=liblinear;, score=0.909 total time=   0.4s\n",
      "[CV 2/5] END C=0.1, max_iter=4000, penalty=l1, solver=liblinear;, score=0.910 total time=   0.4s\n",
      "[CV 3/5] END C=0.1, max_iter=4000, penalty=l1, solver=liblinear;, score=0.916 total time=   0.4s\n",
      "[CV 4/5] END C=0.1, max_iter=4000, penalty=l1, solver=liblinear;, score=0.912 total time=   0.4s\n",
      "[CV 5/5] END C=0.1, max_iter=4000, penalty=l1, solver=liblinear;, score=0.908 total time=   0.4s\n",
      "[CV 1/5] END C=0.1, max_iter=4000, penalty=l2, solver=newton-cg;, score=0.909 total time=   0.8s\n",
      "[CV 2/5] END C=0.1, max_iter=4000, penalty=l2, solver=newton-cg;, score=0.911 total time=   0.9s\n",
      "[CV 3/5] END C=0.1, max_iter=4000, penalty=l2, solver=newton-cg;, score=0.916 total time=   0.8s\n",
      "[CV 4/5] END C=0.1, max_iter=4000, penalty=l2, solver=newton-cg;, score=0.911 total time=   0.7s\n",
      "[CV 5/5] END C=0.1, max_iter=4000, penalty=l2, solver=newton-cg;, score=0.908 total time=   0.8s\n",
      "[CV 1/5] END C=0.1, max_iter=4000, penalty=l2, solver=sag;, score=0.896 total time=  10.5s\n",
      "[CV 2/5] END C=0.1, max_iter=4000, penalty=l2, solver=sag;, score=0.896 total time=  11.2s\n",
      "[CV 3/5] END C=0.1, max_iter=4000, penalty=l2, solver=sag;, score=0.896 total time=  11.0s\n"
     ]
    },
    {
     "name": "stderr",
     "output_type": "stream",
     "text": [
      "/Users/michaelraines/opt/anaconda3/lib/python3.8/site-packages/sklearn/linear_model/_sag.py:352: ConvergenceWarning: The max_iter was reached which means the coef_ did not converge\n",
      "  warnings.warn(\n"
     ]
    },
    {
     "name": "stdout",
     "output_type": "stream",
     "text": [
      "[CV 4/5] END C=0.1, max_iter=4000, penalty=l2, solver=sag;, score=0.896 total time=  32.1s\n",
      "[CV 5/5] END C=0.1, max_iter=4000, penalty=l2, solver=sag;, score=0.896 total time=  10.0s\n",
      "[CV 1/5] END C=0.1, max_iter=4000, penalty=l2, solver=saga;, score=0.896 total time=  14.7s\n",
      "[CV 2/5] END C=0.1, max_iter=4000, penalty=l2, solver=saga;, score=0.896 total time=  14.9s\n",
      "[CV 3/5] END C=0.1, max_iter=4000, penalty=l2, solver=saga;, score=0.896 total time=  16.5s\n"
     ]
    },
    {
     "name": "stderr",
     "output_type": "stream",
     "text": [
      "/Users/michaelraines/opt/anaconda3/lib/python3.8/site-packages/sklearn/linear_model/_sag.py:352: ConvergenceWarning: The max_iter was reached which means the coef_ did not converge\n",
      "  warnings.warn(\n"
     ]
    },
    {
     "name": "stdout",
     "output_type": "stream",
     "text": [
      "[CV 4/5] END C=0.1, max_iter=4000, penalty=l2, solver=saga;, score=0.896 total time=  31.6s\n",
      "[CV 5/5] END C=0.1, max_iter=4000, penalty=l2, solver=saga;, score=0.896 total time=  14.8s\n",
      "[CV 1/5] END C=0.1, max_iter=4000, penalty=l2, solver=liblinear;, score=0.909 total time=   0.1s\n",
      "[CV 2/5] END C=0.1, max_iter=4000, penalty=l2, solver=liblinear;, score=0.910 total time=   0.1s\n",
      "[CV 3/5] END C=0.1, max_iter=4000, penalty=l2, solver=liblinear;, score=0.917 total time=   0.1s\n",
      "[CV 4/5] END C=0.1, max_iter=4000, penalty=l2, solver=liblinear;, score=0.911 total time=   0.1s\n",
      "[CV 5/5] END C=0.1, max_iter=4000, penalty=l2, solver=liblinear;, score=0.909 total time=   0.1s\n",
      "[CV 1/5] END C=0.1, max_iter=4000, penalty=elasticnet, solver=newton-cg;, score=nan total time=   0.0s\n",
      "[CV 2/5] END C=0.1, max_iter=4000, penalty=elasticnet, solver=newton-cg;, score=nan total time=   0.0s\n",
      "[CV 3/5] END C=0.1, max_iter=4000, penalty=elasticnet, solver=newton-cg;, score=nan total time=   0.0s\n",
      "[CV 4/5] END C=0.1, max_iter=4000, penalty=elasticnet, solver=newton-cg;, score=nan total time=   0.0s\n",
      "[CV 5/5] END C=0.1, max_iter=4000, penalty=elasticnet, solver=newton-cg;, score=nan total time=   0.0s\n",
      "[CV 1/5] END C=0.1, max_iter=4000, penalty=elasticnet, solver=sag;, score=nan total time=   0.0s\n",
      "[CV 2/5] END C=0.1, max_iter=4000, penalty=elasticnet, solver=sag;, score=nan total time=   0.0s\n",
      "[CV 3/5] END C=0.1, max_iter=4000, penalty=elasticnet, solver=sag;, score=nan total time=   0.0s\n",
      "[CV 4/5] END C=0.1, max_iter=4000, penalty=elasticnet, solver=sag;, score=nan total time=   0.0s\n",
      "[CV 5/5] END C=0.1, max_iter=4000, penalty=elasticnet, solver=sag;, score=nan total time=   0.0s\n",
      "[CV 1/5] END C=0.1, max_iter=4000, penalty=elasticnet, solver=saga;, score=nan total time=   0.0s\n",
      "[CV 2/5] END C=0.1, max_iter=4000, penalty=elasticnet, solver=saga;, score=nan total time=   0.0s\n",
      "[CV 3/5] END C=0.1, max_iter=4000, penalty=elasticnet, solver=saga;, score=nan total time=   0.0s\n",
      "[CV 4/5] END C=0.1, max_iter=4000, penalty=elasticnet, solver=saga;, score=nan total time=   0.0s\n",
      "[CV 5/5] END C=0.1, max_iter=4000, penalty=elasticnet, solver=saga;, score=nan total time=   0.0s\n",
      "[CV 1/5] END C=0.1, max_iter=4000, penalty=elasticnet, solver=liblinear;, score=nan total time=   0.0s\n",
      "[CV 2/5] END C=0.1, max_iter=4000, penalty=elasticnet, solver=liblinear;, score=nan total time=   0.0s\n",
      "[CV 3/5] END C=0.1, max_iter=4000, penalty=elasticnet, solver=liblinear;, score=nan total time=   0.0s\n",
      "[CV 4/5] END C=0.1, max_iter=4000, penalty=elasticnet, solver=liblinear;, score=nan total time=   0.0s\n",
      "[CV 5/5] END C=0.1, max_iter=4000, penalty=elasticnet, solver=liblinear;, score=nan total time=   0.0s\n",
      "[CV 1/5] END C=0.01, max_iter=500, penalty=l1, solver=newton-cg;, score=nan total time=   0.0s\n",
      "[CV 2/5] END C=0.01, max_iter=500, penalty=l1, solver=newton-cg;, score=nan total time=   0.0s\n",
      "[CV 3/5] END C=0.01, max_iter=500, penalty=l1, solver=newton-cg;, score=nan total time=   0.0s\n",
      "[CV 4/5] END C=0.01, max_iter=500, penalty=l1, solver=newton-cg;, score=nan total time=   0.0s\n",
      "[CV 5/5] END C=0.01, max_iter=500, penalty=l1, solver=newton-cg;, score=nan total time=   0.0s\n",
      "[CV 1/5] END C=0.01, max_iter=500, penalty=l1, solver=sag;, score=nan total time=   0.0s\n",
      "[CV 2/5] END C=0.01, max_iter=500, penalty=l1, solver=sag;, score=nan total time=   0.0s\n",
      "[CV 3/5] END C=0.01, max_iter=500, penalty=l1, solver=sag;, score=nan total time=   0.0s\n",
      "[CV 4/5] END C=0.01, max_iter=500, penalty=l1, solver=sag;, score=nan total time=   0.0s\n",
      "[CV 5/5] END C=0.01, max_iter=500, penalty=l1, solver=sag;, score=nan total time=   0.0s\n"
     ]
    },
    {
     "name": "stderr",
     "output_type": "stream",
     "text": [
      "/Users/michaelraines/opt/anaconda3/lib/python3.8/site-packages/sklearn/linear_model/_sag.py:352: ConvergenceWarning: The max_iter was reached which means the coef_ did not converge\n",
      "  warnings.warn(\n"
     ]
    },
    {
     "name": "stdout",
     "output_type": "stream",
     "text": [
      "[CV 1/5] END C=0.01, max_iter=500, penalty=l1, solver=saga;, score=0.896 total time=   4.7s\n"
     ]
    },
    {
     "name": "stderr",
     "output_type": "stream",
     "text": [
      "/Users/michaelraines/opt/anaconda3/lib/python3.8/site-packages/sklearn/linear_model/_sag.py:352: ConvergenceWarning: The max_iter was reached which means the coef_ did not converge\n",
      "  warnings.warn(\n"
     ]
    },
    {
     "name": "stdout",
     "output_type": "stream",
     "text": [
      "[CV 2/5] END C=0.01, max_iter=500, penalty=l1, solver=saga;, score=0.896 total time=   5.5s\n"
     ]
    },
    {
     "name": "stderr",
     "output_type": "stream",
     "text": [
      "/Users/michaelraines/opt/anaconda3/lib/python3.8/site-packages/sklearn/linear_model/_sag.py:352: ConvergenceWarning: The max_iter was reached which means the coef_ did not converge\n",
      "  warnings.warn(\n"
     ]
    },
    {
     "name": "stdout",
     "output_type": "stream",
     "text": [
      "[CV 3/5] END C=0.01, max_iter=500, penalty=l1, solver=saga;, score=0.896 total time=   5.0s\n"
     ]
    },
    {
     "name": "stderr",
     "output_type": "stream",
     "text": [
      "/Users/michaelraines/opt/anaconda3/lib/python3.8/site-packages/sklearn/linear_model/_sag.py:352: ConvergenceWarning: The max_iter was reached which means the coef_ did not converge\n",
      "  warnings.warn(\n"
     ]
    },
    {
     "name": "stdout",
     "output_type": "stream",
     "text": [
      "[CV 4/5] END C=0.01, max_iter=500, penalty=l1, solver=saga;, score=0.896 total time=   4.6s\n"
     ]
    },
    {
     "name": "stderr",
     "output_type": "stream",
     "text": [
      "/Users/michaelraines/opt/anaconda3/lib/python3.8/site-packages/sklearn/linear_model/_sag.py:352: ConvergenceWarning: The max_iter was reached which means the coef_ did not converge\n",
      "  warnings.warn(\n"
     ]
    },
    {
     "name": "stdout",
     "output_type": "stream",
     "text": [
      "[CV 5/5] END C=0.01, max_iter=500, penalty=l1, solver=saga;, score=0.896 total time=   4.7s\n",
      "[CV 1/5] END C=0.01, max_iter=500, penalty=l1, solver=liblinear;, score=0.908 total time=   0.1s\n",
      "[CV 2/5] END C=0.01, max_iter=500, penalty=l1, solver=liblinear;, score=0.910 total time=   0.1s\n",
      "[CV 3/5] END C=0.01, max_iter=500, penalty=l1, solver=liblinear;, score=0.917 total time=   0.1s\n",
      "[CV 4/5] END C=0.01, max_iter=500, penalty=l1, solver=liblinear;, score=0.909 total time=   0.1s\n",
      "[CV 5/5] END C=0.01, max_iter=500, penalty=l1, solver=liblinear;, score=0.908 total time=   0.1s\n",
      "[CV 1/5] END C=0.01, max_iter=500, penalty=l2, solver=newton-cg;, score=0.903 total time=   0.8s\n",
      "[CV 2/5] END C=0.01, max_iter=500, penalty=l2, solver=newton-cg;, score=0.907 total time=   0.7s\n",
      "[CV 3/5] END C=0.01, max_iter=500, penalty=l2, solver=newton-cg;, score=0.906 total time=   0.9s\n",
      "[CV 4/5] END C=0.01, max_iter=500, penalty=l2, solver=newton-cg;, score=0.905 total time=   0.9s\n",
      "[CV 5/5] END C=0.01, max_iter=500, penalty=l2, solver=newton-cg;, score=0.904 total time=   1.0s\n"
     ]
    },
    {
     "name": "stderr",
     "output_type": "stream",
     "text": [
      "/Users/michaelraines/opt/anaconda3/lib/python3.8/site-packages/sklearn/linear_model/_sag.py:352: ConvergenceWarning: The max_iter was reached which means the coef_ did not converge\n",
      "  warnings.warn(\n"
     ]
    },
    {
     "name": "stdout",
     "output_type": "stream",
     "text": [
      "[CV 1/5] END C=0.01, max_iter=500, penalty=l2, solver=sag;, score=0.896 total time=   4.0s\n"
     ]
    },
    {
     "name": "stderr",
     "output_type": "stream",
     "text": [
      "/Users/michaelraines/opt/anaconda3/lib/python3.8/site-packages/sklearn/linear_model/_sag.py:352: ConvergenceWarning: The max_iter was reached which means the coef_ did not converge\n",
      "  warnings.warn(\n"
     ]
    },
    {
     "name": "stdout",
     "output_type": "stream",
     "text": [
      "[CV 2/5] END C=0.01, max_iter=500, penalty=l2, solver=sag;, score=0.896 total time=   3.9s\n"
     ]
    },
    {
     "name": "stderr",
     "output_type": "stream",
     "text": [
      "/Users/michaelraines/opt/anaconda3/lib/python3.8/site-packages/sklearn/linear_model/_sag.py:352: ConvergenceWarning: The max_iter was reached which means the coef_ did not converge\n",
      "  warnings.warn(\n"
     ]
    },
    {
     "name": "stdout",
     "output_type": "stream",
     "text": [
      "[CV 3/5] END C=0.01, max_iter=500, penalty=l2, solver=sag;, score=0.896 total time=   3.9s\n"
     ]
    },
    {
     "name": "stderr",
     "output_type": "stream",
     "text": [
      "/Users/michaelraines/opt/anaconda3/lib/python3.8/site-packages/sklearn/linear_model/_sag.py:352: ConvergenceWarning: The max_iter was reached which means the coef_ did not converge\n",
      "  warnings.warn(\n"
     ]
    },
    {
     "name": "stdout",
     "output_type": "stream",
     "text": [
      "[CV 4/5] END C=0.01, max_iter=500, penalty=l2, solver=sag;, score=0.896 total time=   4.0s\n"
     ]
    },
    {
     "name": "stderr",
     "output_type": "stream",
     "text": [
      "/Users/michaelraines/opt/anaconda3/lib/python3.8/site-packages/sklearn/linear_model/_sag.py:352: ConvergenceWarning: The max_iter was reached which means the coef_ did not converge\n",
      "  warnings.warn(\n"
     ]
    },
    {
     "name": "stdout",
     "output_type": "stream",
     "text": [
      "[CV 5/5] END C=0.01, max_iter=500, penalty=l2, solver=sag;, score=0.896 total time=   4.2s\n"
     ]
    },
    {
     "name": "stderr",
     "output_type": "stream",
     "text": [
      "/Users/michaelraines/opt/anaconda3/lib/python3.8/site-packages/sklearn/linear_model/_sag.py:352: ConvergenceWarning: The max_iter was reached which means the coef_ did not converge\n",
      "  warnings.warn(\n"
     ]
    },
    {
     "name": "stdout",
     "output_type": "stream",
     "text": [
      "[CV 1/5] END C=0.01, max_iter=500, penalty=l2, solver=saga;, score=0.896 total time=   4.6s\n"
     ]
    },
    {
     "name": "stderr",
     "output_type": "stream",
     "text": [
      "/Users/michaelraines/opt/anaconda3/lib/python3.8/site-packages/sklearn/linear_model/_sag.py:352: ConvergenceWarning: The max_iter was reached which means the coef_ did not converge\n",
      "  warnings.warn(\n"
     ]
    },
    {
     "name": "stdout",
     "output_type": "stream",
     "text": [
      "[CV 2/5] END C=0.01, max_iter=500, penalty=l2, solver=saga;, score=0.896 total time=   4.1s\n"
     ]
    },
    {
     "name": "stderr",
     "output_type": "stream",
     "text": [
      "/Users/michaelraines/opt/anaconda3/lib/python3.8/site-packages/sklearn/linear_model/_sag.py:352: ConvergenceWarning: The max_iter was reached which means the coef_ did not converge\n",
      "  warnings.warn(\n"
     ]
    },
    {
     "name": "stdout",
     "output_type": "stream",
     "text": [
      "[CV 3/5] END C=0.01, max_iter=500, penalty=l2, solver=saga;, score=0.896 total time=   4.8s\n"
     ]
    },
    {
     "name": "stderr",
     "output_type": "stream",
     "text": [
      "/Users/michaelraines/opt/anaconda3/lib/python3.8/site-packages/sklearn/linear_model/_sag.py:352: ConvergenceWarning: The max_iter was reached which means the coef_ did not converge\n",
      "  warnings.warn(\n"
     ]
    },
    {
     "name": "stdout",
     "output_type": "stream",
     "text": [
      "[CV 4/5] END C=0.01, max_iter=500, penalty=l2, solver=saga;, score=0.896 total time=   4.4s\n"
     ]
    },
    {
     "name": "stderr",
     "output_type": "stream",
     "text": [
      "/Users/michaelraines/opt/anaconda3/lib/python3.8/site-packages/sklearn/linear_model/_sag.py:352: ConvergenceWarning: The max_iter was reached which means the coef_ did not converge\n",
      "  warnings.warn(\n"
     ]
    },
    {
     "name": "stdout",
     "output_type": "stream",
     "text": [
      "[CV 5/5] END C=0.01, max_iter=500, penalty=l2, solver=saga;, score=0.896 total time=   3.9s\n",
      "[CV 1/5] END C=0.01, max_iter=500, penalty=l2, solver=liblinear;, score=0.903 total time=   0.1s\n",
      "[CV 2/5] END C=0.01, max_iter=500, penalty=l2, solver=liblinear;, score=0.906 total time=   0.1s\n",
      "[CV 3/5] END C=0.01, max_iter=500, penalty=l2, solver=liblinear;, score=0.907 total time=   0.1s\n",
      "[CV 4/5] END C=0.01, max_iter=500, penalty=l2, solver=liblinear;, score=0.906 total time=   0.1s\n",
      "[CV 5/5] END C=0.01, max_iter=500, penalty=l2, solver=liblinear;, score=0.904 total time=   0.1s\n",
      "[CV 1/5] END C=0.01, max_iter=500, penalty=elasticnet, solver=newton-cg;, score=nan total time=   0.0s\n",
      "[CV 2/5] END C=0.01, max_iter=500, penalty=elasticnet, solver=newton-cg;, score=nan total time=   0.0s\n",
      "[CV 3/5] END C=0.01, max_iter=500, penalty=elasticnet, solver=newton-cg;, score=nan total time=   0.0s\n",
      "[CV 4/5] END C=0.01, max_iter=500, penalty=elasticnet, solver=newton-cg;, score=nan total time=   0.0s\n",
      "[CV 5/5] END C=0.01, max_iter=500, penalty=elasticnet, solver=newton-cg;, score=nan total time=   0.0s\n",
      "[CV 1/5] END C=0.01, max_iter=500, penalty=elasticnet, solver=sag;, score=nan total time=   0.0s\n",
      "[CV 2/5] END C=0.01, max_iter=500, penalty=elasticnet, solver=sag;, score=nan total time=   0.0s\n",
      "[CV 3/5] END C=0.01, max_iter=500, penalty=elasticnet, solver=sag;, score=nan total time=   0.0s\n",
      "[CV 4/5] END C=0.01, max_iter=500, penalty=elasticnet, solver=sag;, score=nan total time=   0.0s\n",
      "[CV 5/5] END C=0.01, max_iter=500, penalty=elasticnet, solver=sag;, score=nan total time=   0.0s\n",
      "[CV 1/5] END C=0.01, max_iter=500, penalty=elasticnet, solver=saga;, score=nan total time=   0.0s\n",
      "[CV 2/5] END C=0.01, max_iter=500, penalty=elasticnet, solver=saga;, score=nan total time=   0.0s\n",
      "[CV 3/5] END C=0.01, max_iter=500, penalty=elasticnet, solver=saga;, score=nan total time=   0.0s\n",
      "[CV 4/5] END C=0.01, max_iter=500, penalty=elasticnet, solver=saga;, score=nan total time=   0.0s\n",
      "[CV 5/5] END C=0.01, max_iter=500, penalty=elasticnet, solver=saga;, score=nan total time=   0.0s\n",
      "[CV 1/5] END C=0.01, max_iter=500, penalty=elasticnet, solver=liblinear;, score=nan total time=   0.0s\n",
      "[CV 2/5] END C=0.01, max_iter=500, penalty=elasticnet, solver=liblinear;, score=nan total time=   0.0s\n",
      "[CV 3/5] END C=0.01, max_iter=500, penalty=elasticnet, solver=liblinear;, score=nan total time=   0.0s\n",
      "[CV 4/5] END C=0.01, max_iter=500, penalty=elasticnet, solver=liblinear;, score=nan total time=   0.0s\n",
      "[CV 5/5] END C=0.01, max_iter=500, penalty=elasticnet, solver=liblinear;, score=nan total time=   0.0s\n",
      "[CV 1/5] END C=0.01, max_iter=1000, penalty=l1, solver=newton-cg;, score=nan total time=   0.0s\n",
      "[CV 2/5] END C=0.01, max_iter=1000, penalty=l1, solver=newton-cg;, score=nan total time=   0.0s\n",
      "[CV 3/5] END C=0.01, max_iter=1000, penalty=l1, solver=newton-cg;, score=nan total time=   0.0s\n",
      "[CV 4/5] END C=0.01, max_iter=1000, penalty=l1, solver=newton-cg;, score=nan total time=   0.0s\n",
      "[CV 5/5] END C=0.01, max_iter=1000, penalty=l1, solver=newton-cg;, score=nan total time=   0.0s\n",
      "[CV 1/5] END C=0.01, max_iter=1000, penalty=l1, solver=sag;, score=nan total time=   0.0s\n",
      "[CV 2/5] END C=0.01, max_iter=1000, penalty=l1, solver=sag;, score=nan total time=   0.0s\n",
      "[CV 3/5] END C=0.01, max_iter=1000, penalty=l1, solver=sag;, score=nan total time=   0.0s\n",
      "[CV 4/5] END C=0.01, max_iter=1000, penalty=l1, solver=sag;, score=nan total time=   0.0s\n",
      "[CV 5/5] END C=0.01, max_iter=1000, penalty=l1, solver=sag;, score=nan total time=   0.0s\n"
     ]
    },
    {
     "name": "stderr",
     "output_type": "stream",
     "text": [
      "/Users/michaelraines/opt/anaconda3/lib/python3.8/site-packages/sklearn/linear_model/_sag.py:352: ConvergenceWarning: The max_iter was reached which means the coef_ did not converge\n",
      "  warnings.warn(\n"
     ]
    },
    {
     "name": "stdout",
     "output_type": "stream",
     "text": [
      "[CV 1/5] END C=0.01, max_iter=1000, penalty=l1, solver=saga;, score=0.896 total time=   9.1s\n"
     ]
    },
    {
     "name": "stderr",
     "output_type": "stream",
     "text": [
      "/Users/michaelraines/opt/anaconda3/lib/python3.8/site-packages/sklearn/linear_model/_sag.py:352: ConvergenceWarning: The max_iter was reached which means the coef_ did not converge\n",
      "  warnings.warn(\n"
     ]
    },
    {
     "name": "stdout",
     "output_type": "stream",
     "text": [
      "[CV 2/5] END C=0.01, max_iter=1000, penalty=l1, solver=saga;, score=0.896 total time=   9.2s\n"
     ]
    },
    {
     "name": "stderr",
     "output_type": "stream",
     "text": [
      "/Users/michaelraines/opt/anaconda3/lib/python3.8/site-packages/sklearn/linear_model/_sag.py:352: ConvergenceWarning: The max_iter was reached which means the coef_ did not converge\n",
      "  warnings.warn(\n"
     ]
    },
    {
     "name": "stdout",
     "output_type": "stream",
     "text": [
      "[CV 3/5] END C=0.01, max_iter=1000, penalty=l1, solver=saga;, score=0.896 total time=   9.6s\n"
     ]
    },
    {
     "name": "stderr",
     "output_type": "stream",
     "text": [
      "/Users/michaelraines/opt/anaconda3/lib/python3.8/site-packages/sklearn/linear_model/_sag.py:352: ConvergenceWarning: The max_iter was reached which means the coef_ did not converge\n",
      "  warnings.warn(\n"
     ]
    },
    {
     "name": "stdout",
     "output_type": "stream",
     "text": [
      "[CV 4/5] END C=0.01, max_iter=1000, penalty=l1, solver=saga;, score=0.896 total time=  11.2s\n"
     ]
    },
    {
     "name": "stderr",
     "output_type": "stream",
     "text": [
      "/Users/michaelraines/opt/anaconda3/lib/python3.8/site-packages/sklearn/linear_model/_sag.py:352: ConvergenceWarning: The max_iter was reached which means the coef_ did not converge\n",
      "  warnings.warn(\n"
     ]
    },
    {
     "name": "stdout",
     "output_type": "stream",
     "text": [
      "[CV 5/5] END C=0.01, max_iter=1000, penalty=l1, solver=saga;, score=0.896 total time=   9.0s\n",
      "[CV 1/5] END C=0.01, max_iter=1000, penalty=l1, solver=liblinear;, score=0.908 total time=   0.1s\n",
      "[CV 2/5] END C=0.01, max_iter=1000, penalty=l1, solver=liblinear;, score=0.910 total time=   0.1s\n",
      "[CV 3/5] END C=0.01, max_iter=1000, penalty=l1, solver=liblinear;, score=0.917 total time=   0.1s\n",
      "[CV 4/5] END C=0.01, max_iter=1000, penalty=l1, solver=liblinear;, score=0.909 total time=   0.1s\n",
      "[CV 5/5] END C=0.01, max_iter=1000, penalty=l1, solver=liblinear;, score=0.908 total time=   0.1s\n",
      "[CV 1/5] END C=0.01, max_iter=1000, penalty=l2, solver=newton-cg;, score=0.903 total time=   0.5s\n",
      "[CV 2/5] END C=0.01, max_iter=1000, penalty=l2, solver=newton-cg;, score=0.907 total time=   0.5s\n",
      "[CV 3/5] END C=0.01, max_iter=1000, penalty=l2, solver=newton-cg;, score=0.906 total time=   0.5s\n",
      "[CV 4/5] END C=0.01, max_iter=1000, penalty=l2, solver=newton-cg;, score=0.905 total time=   0.5s\n",
      "[CV 5/5] END C=0.01, max_iter=1000, penalty=l2, solver=newton-cg;, score=0.904 total time=   0.6s\n"
     ]
    },
    {
     "name": "stderr",
     "output_type": "stream",
     "text": [
      "/Users/michaelraines/opt/anaconda3/lib/python3.8/site-packages/sklearn/linear_model/_sag.py:352: ConvergenceWarning: The max_iter was reached which means the coef_ did not converge\n",
      "  warnings.warn(\n"
     ]
    },
    {
     "name": "stdout",
     "output_type": "stream",
     "text": [
      "[CV 1/5] END C=0.01, max_iter=1000, penalty=l2, solver=sag;, score=0.896 total time=   7.5s\n"
     ]
    },
    {
     "name": "stderr",
     "output_type": "stream",
     "text": [
      "/Users/michaelraines/opt/anaconda3/lib/python3.8/site-packages/sklearn/linear_model/_sag.py:352: ConvergenceWarning: The max_iter was reached which means the coef_ did not converge\n",
      "  warnings.warn(\n"
     ]
    },
    {
     "name": "stdout",
     "output_type": "stream",
     "text": [
      "[CV 2/5] END C=0.01, max_iter=1000, penalty=l2, solver=sag;, score=0.896 total time=   7.6s\n"
     ]
    },
    {
     "name": "stderr",
     "output_type": "stream",
     "text": [
      "/Users/michaelraines/opt/anaconda3/lib/python3.8/site-packages/sklearn/linear_model/_sag.py:352: ConvergenceWarning: The max_iter was reached which means the coef_ did not converge\n",
      "  warnings.warn(\n"
     ]
    },
    {
     "name": "stdout",
     "output_type": "stream",
     "text": [
      "[CV 3/5] END C=0.01, max_iter=1000, penalty=l2, solver=sag;, score=0.896 total time=   7.6s\n"
     ]
    },
    {
     "name": "stderr",
     "output_type": "stream",
     "text": [
      "/Users/michaelraines/opt/anaconda3/lib/python3.8/site-packages/sklearn/linear_model/_sag.py:352: ConvergenceWarning: The max_iter was reached which means the coef_ did not converge\n",
      "  warnings.warn(\n"
     ]
    },
    {
     "name": "stdout",
     "output_type": "stream",
     "text": [
      "[CV 4/5] END C=0.01, max_iter=1000, penalty=l2, solver=sag;, score=0.896 total time=   7.7s\n"
     ]
    },
    {
     "name": "stderr",
     "output_type": "stream",
     "text": [
      "/Users/michaelraines/opt/anaconda3/lib/python3.8/site-packages/sklearn/linear_model/_sag.py:352: ConvergenceWarning: The max_iter was reached which means the coef_ did not converge\n",
      "  warnings.warn(\n"
     ]
    },
    {
     "name": "stdout",
     "output_type": "stream",
     "text": [
      "[CV 5/5] END C=0.01, max_iter=1000, penalty=l2, solver=sag;, score=0.896 total time=   7.9s\n"
     ]
    },
    {
     "name": "stderr",
     "output_type": "stream",
     "text": [
      "/Users/michaelraines/opt/anaconda3/lib/python3.8/site-packages/sklearn/linear_model/_sag.py:352: ConvergenceWarning: The max_iter was reached which means the coef_ did not converge\n",
      "  warnings.warn(\n"
     ]
    },
    {
     "name": "stdout",
     "output_type": "stream",
     "text": [
      "[CV 1/5] END C=0.01, max_iter=1000, penalty=l2, solver=saga;, score=0.896 total time=   7.5s\n"
     ]
    },
    {
     "name": "stderr",
     "output_type": "stream",
     "text": [
      "/Users/michaelraines/opt/anaconda3/lib/python3.8/site-packages/sklearn/linear_model/_sag.py:352: ConvergenceWarning: The max_iter was reached which means the coef_ did not converge\n",
      "  warnings.warn(\n"
     ]
    },
    {
     "name": "stdout",
     "output_type": "stream",
     "text": [
      "[CV 2/5] END C=0.01, max_iter=1000, penalty=l2, solver=saga;, score=0.896 total time=   7.7s\n"
     ]
    },
    {
     "name": "stderr",
     "output_type": "stream",
     "text": [
      "/Users/michaelraines/opt/anaconda3/lib/python3.8/site-packages/sklearn/linear_model/_sag.py:352: ConvergenceWarning: The max_iter was reached which means the coef_ did not converge\n",
      "  warnings.warn(\n"
     ]
    },
    {
     "name": "stdout",
     "output_type": "stream",
     "text": [
      "[CV 3/5] END C=0.01, max_iter=1000, penalty=l2, solver=saga;, score=0.896 total time=   7.6s\n"
     ]
    },
    {
     "name": "stderr",
     "output_type": "stream",
     "text": [
      "/Users/michaelraines/opt/anaconda3/lib/python3.8/site-packages/sklearn/linear_model/_sag.py:352: ConvergenceWarning: The max_iter was reached which means the coef_ did not converge\n",
      "  warnings.warn(\n"
     ]
    },
    {
     "name": "stdout",
     "output_type": "stream",
     "text": [
      "[CV 4/5] END C=0.01, max_iter=1000, penalty=l2, solver=saga;, score=0.896 total time=   8.2s\n"
     ]
    },
    {
     "name": "stderr",
     "output_type": "stream",
     "text": [
      "/Users/michaelraines/opt/anaconda3/lib/python3.8/site-packages/sklearn/linear_model/_sag.py:352: ConvergenceWarning: The max_iter was reached which means the coef_ did not converge\n",
      "  warnings.warn(\n"
     ]
    },
    {
     "name": "stdout",
     "output_type": "stream",
     "text": [
      "[CV 5/5] END C=0.01, max_iter=1000, penalty=l2, solver=saga;, score=0.896 total time=   8.4s\n",
      "[CV 1/5] END C=0.01, max_iter=1000, penalty=l2, solver=liblinear;, score=0.903 total time=   0.1s\n",
      "[CV 2/5] END C=0.01, max_iter=1000, penalty=l2, solver=liblinear;, score=0.906 total time=   0.1s\n",
      "[CV 3/5] END C=0.01, max_iter=1000, penalty=l2, solver=liblinear;, score=0.907 total time=   0.1s\n",
      "[CV 4/5] END C=0.01, max_iter=1000, penalty=l2, solver=liblinear;, score=0.906 total time=   0.1s\n",
      "[CV 5/5] END C=0.01, max_iter=1000, penalty=l2, solver=liblinear;, score=0.904 total time=   0.1s\n",
      "[CV 1/5] END C=0.01, max_iter=1000, penalty=elasticnet, solver=newton-cg;, score=nan total time=   0.0s\n",
      "[CV 2/5] END C=0.01, max_iter=1000, penalty=elasticnet, solver=newton-cg;, score=nan total time=   0.0s\n",
      "[CV 3/5] END C=0.01, max_iter=1000, penalty=elasticnet, solver=newton-cg;, score=nan total time=   0.0s\n",
      "[CV 4/5] END C=0.01, max_iter=1000, penalty=elasticnet, solver=newton-cg;, score=nan total time=   0.0s\n",
      "[CV 5/5] END C=0.01, max_iter=1000, penalty=elasticnet, solver=newton-cg;, score=nan total time=   0.0s\n",
      "[CV 1/5] END C=0.01, max_iter=1000, penalty=elasticnet, solver=sag;, score=nan total time=   0.0s\n",
      "[CV 2/5] END C=0.01, max_iter=1000, penalty=elasticnet, solver=sag;, score=nan total time=   0.0s\n",
      "[CV 3/5] END C=0.01, max_iter=1000, penalty=elasticnet, solver=sag;, score=nan total time=   0.0s\n",
      "[CV 4/5] END C=0.01, max_iter=1000, penalty=elasticnet, solver=sag;, score=nan total time=   0.0s\n",
      "[CV 5/5] END C=0.01, max_iter=1000, penalty=elasticnet, solver=sag;, score=nan total time=   0.0s\n",
      "[CV 1/5] END C=0.01, max_iter=1000, penalty=elasticnet, solver=saga;, score=nan total time=   0.0s\n",
      "[CV 2/5] END C=0.01, max_iter=1000, penalty=elasticnet, solver=saga;, score=nan total time=   0.0s\n",
      "[CV 3/5] END C=0.01, max_iter=1000, penalty=elasticnet, solver=saga;, score=nan total time=   0.0s\n",
      "[CV 4/5] END C=0.01, max_iter=1000, penalty=elasticnet, solver=saga;, score=nan total time=   0.0s\n",
      "[CV 5/5] END C=0.01, max_iter=1000, penalty=elasticnet, solver=saga;, score=nan total time=   0.0s\n",
      "[CV 1/5] END C=0.01, max_iter=1000, penalty=elasticnet, solver=liblinear;, score=nan total time=   0.0s\n",
      "[CV 2/5] END C=0.01, max_iter=1000, penalty=elasticnet, solver=liblinear;, score=nan total time=   0.0s\n",
      "[CV 3/5] END C=0.01, max_iter=1000, penalty=elasticnet, solver=liblinear;, score=nan total time=   0.0s\n",
      "[CV 4/5] END C=0.01, max_iter=1000, penalty=elasticnet, solver=liblinear;, score=nan total time=   0.0s\n",
      "[CV 5/5] END C=0.01, max_iter=1000, penalty=elasticnet, solver=liblinear;, score=nan total time=   0.0s\n",
      "[CV 1/5] END C=0.01, max_iter=1500, penalty=l1, solver=newton-cg;, score=nan total time=   0.0s\n",
      "[CV 2/5] END C=0.01, max_iter=1500, penalty=l1, solver=newton-cg;, score=nan total time=   0.0s\n",
      "[CV 3/5] END C=0.01, max_iter=1500, penalty=l1, solver=newton-cg;, score=nan total time=   0.0s\n",
      "[CV 4/5] END C=0.01, max_iter=1500, penalty=l1, solver=newton-cg;, score=nan total time=   0.0s\n",
      "[CV 5/5] END C=0.01, max_iter=1500, penalty=l1, solver=newton-cg;, score=nan total time=   0.0s\n",
      "[CV 1/5] END C=0.01, max_iter=1500, penalty=l1, solver=sag;, score=nan total time=   0.0s\n",
      "[CV 2/5] END C=0.01, max_iter=1500, penalty=l1, solver=sag;, score=nan total time=   0.0s\n",
      "[CV 3/5] END C=0.01, max_iter=1500, penalty=l1, solver=sag;, score=nan total time=   0.0s\n",
      "[CV 4/5] END C=0.01, max_iter=1500, penalty=l1, solver=sag;, score=nan total time=   0.0s\n",
      "[CV 5/5] END C=0.01, max_iter=1500, penalty=l1, solver=sag;, score=nan total time=   0.0s\n"
     ]
    },
    {
     "name": "stderr",
     "output_type": "stream",
     "text": [
      "/Users/michaelraines/opt/anaconda3/lib/python3.8/site-packages/sklearn/linear_model/_sag.py:352: ConvergenceWarning: The max_iter was reached which means the coef_ did not converge\n",
      "  warnings.warn(\n"
     ]
    },
    {
     "name": "stdout",
     "output_type": "stream",
     "text": [
      "[CV 1/5] END C=0.01, max_iter=1500, penalty=l1, solver=saga;, score=0.896 total time=  12.7s\n"
     ]
    },
    {
     "name": "stderr",
     "output_type": "stream",
     "text": [
      "/Users/michaelraines/opt/anaconda3/lib/python3.8/site-packages/sklearn/linear_model/_sag.py:352: ConvergenceWarning: The max_iter was reached which means the coef_ did not converge\n",
      "  warnings.warn(\n"
     ]
    },
    {
     "name": "stdout",
     "output_type": "stream",
     "text": [
      "[CV 2/5] END C=0.01, max_iter=1500, penalty=l1, solver=saga;, score=0.896 total time=  12.7s\n"
     ]
    },
    {
     "name": "stderr",
     "output_type": "stream",
     "text": [
      "/Users/michaelraines/opt/anaconda3/lib/python3.8/site-packages/sklearn/linear_model/_sag.py:352: ConvergenceWarning: The max_iter was reached which means the coef_ did not converge\n",
      "  warnings.warn(\n"
     ]
    },
    {
     "name": "stdout",
     "output_type": "stream",
     "text": [
      "[CV 3/5] END C=0.01, max_iter=1500, penalty=l1, solver=saga;, score=0.896 total time=  13.1s\n"
     ]
    },
    {
     "name": "stderr",
     "output_type": "stream",
     "text": [
      "/Users/michaelraines/opt/anaconda3/lib/python3.8/site-packages/sklearn/linear_model/_sag.py:352: ConvergenceWarning: The max_iter was reached which means the coef_ did not converge\n",
      "  warnings.warn(\n"
     ]
    },
    {
     "name": "stdout",
     "output_type": "stream",
     "text": [
      "[CV 4/5] END C=0.01, max_iter=1500, penalty=l1, solver=saga;, score=0.896 total time=  14.2s\n"
     ]
    },
    {
     "name": "stderr",
     "output_type": "stream",
     "text": [
      "/Users/michaelraines/opt/anaconda3/lib/python3.8/site-packages/sklearn/linear_model/_sag.py:352: ConvergenceWarning: The max_iter was reached which means the coef_ did not converge\n",
      "  warnings.warn(\n"
     ]
    },
    {
     "name": "stdout",
     "output_type": "stream",
     "text": [
      "[CV 5/5] END C=0.01, max_iter=1500, penalty=l1, solver=saga;, score=0.896 total time=  13.0s\n",
      "[CV 1/5] END C=0.01, max_iter=1500, penalty=l1, solver=liblinear;, score=0.908 total time=   0.1s\n",
      "[CV 2/5] END C=0.01, max_iter=1500, penalty=l1, solver=liblinear;, score=0.910 total time=   0.1s\n",
      "[CV 3/5] END C=0.01, max_iter=1500, penalty=l1, solver=liblinear;, score=0.917 total time=   0.1s\n",
      "[CV 4/5] END C=0.01, max_iter=1500, penalty=l1, solver=liblinear;, score=0.909 total time=   0.1s\n",
      "[CV 5/5] END C=0.01, max_iter=1500, penalty=l1, solver=liblinear;, score=0.908 total time=   0.1s\n",
      "[CV 1/5] END C=0.01, max_iter=1500, penalty=l2, solver=newton-cg;, score=0.903 total time=   0.4s\n",
      "[CV 2/5] END C=0.01, max_iter=1500, penalty=l2, solver=newton-cg;, score=0.907 total time=   0.4s\n",
      "[CV 3/5] END C=0.01, max_iter=1500, penalty=l2, solver=newton-cg;, score=0.906 total time=   0.4s\n",
      "[CV 4/5] END C=0.01, max_iter=1500, penalty=l2, solver=newton-cg;, score=0.905 total time=   0.4s\n",
      "[CV 5/5] END C=0.01, max_iter=1500, penalty=l2, solver=newton-cg;, score=0.904 total time=   0.4s\n",
      "[CV 1/5] END C=0.01, max_iter=1500, penalty=l2, solver=sag;, score=0.896 total time=   9.6s\n",
      "[CV 2/5] END C=0.01, max_iter=1500, penalty=l2, solver=sag;, score=0.896 total time=   9.9s\n",
      "[CV 3/5] END C=0.01, max_iter=1500, penalty=l2, solver=sag;, score=0.896 total time=  10.7s\n"
     ]
    },
    {
     "name": "stderr",
     "output_type": "stream",
     "text": [
      "/Users/michaelraines/opt/anaconda3/lib/python3.8/site-packages/sklearn/linear_model/_sag.py:352: ConvergenceWarning: The max_iter was reached which means the coef_ did not converge\n",
      "  warnings.warn(\n"
     ]
    },
    {
     "name": "stdout",
     "output_type": "stream",
     "text": [
      "[CV 4/5] END C=0.01, max_iter=1500, penalty=l2, solver=sag;, score=0.896 total time=  11.1s\n",
      "[CV 5/5] END C=0.01, max_iter=1500, penalty=l2, solver=sag;, score=0.896 total time=  10.1s\n"
     ]
    },
    {
     "name": "stderr",
     "output_type": "stream",
     "text": [
      "/Users/michaelraines/opt/anaconda3/lib/python3.8/site-packages/sklearn/linear_model/_sag.py:352: ConvergenceWarning: The max_iter was reached which means the coef_ did not converge\n",
      "  warnings.warn(\n"
     ]
    },
    {
     "name": "stdout",
     "output_type": "stream",
     "text": [
      "[CV 1/5] END C=0.01, max_iter=1500, penalty=l2, solver=saga;, score=0.896 total time=  11.4s\n"
     ]
    },
    {
     "name": "stderr",
     "output_type": "stream",
     "text": [
      "/Users/michaelraines/opt/anaconda3/lib/python3.8/site-packages/sklearn/linear_model/_sag.py:352: ConvergenceWarning: The max_iter was reached which means the coef_ did not converge\n",
      "  warnings.warn(\n"
     ]
    },
    {
     "name": "stdout",
     "output_type": "stream",
     "text": [
      "[CV 2/5] END C=0.01, max_iter=1500, penalty=l2, solver=saga;, score=0.896 total time=  11.3s\n"
     ]
    },
    {
     "name": "stderr",
     "output_type": "stream",
     "text": [
      "/Users/michaelraines/opt/anaconda3/lib/python3.8/site-packages/sklearn/linear_model/_sag.py:352: ConvergenceWarning: The max_iter was reached which means the coef_ did not converge\n",
      "  warnings.warn(\n"
     ]
    },
    {
     "name": "stdout",
     "output_type": "stream",
     "text": [
      "[CV 3/5] END C=0.01, max_iter=1500, penalty=l2, solver=saga;, score=0.896 total time=  11.2s\n"
     ]
    },
    {
     "name": "stderr",
     "output_type": "stream",
     "text": [
      "/Users/michaelraines/opt/anaconda3/lib/python3.8/site-packages/sklearn/linear_model/_sag.py:352: ConvergenceWarning: The max_iter was reached which means the coef_ did not converge\n",
      "  warnings.warn(\n"
     ]
    },
    {
     "name": "stdout",
     "output_type": "stream",
     "text": [
      "[CV 4/5] END C=0.01, max_iter=1500, penalty=l2, solver=saga;, score=0.896 total time=  11.2s\n"
     ]
    },
    {
     "name": "stderr",
     "output_type": "stream",
     "text": [
      "/Users/michaelraines/opt/anaconda3/lib/python3.8/site-packages/sklearn/linear_model/_sag.py:352: ConvergenceWarning: The max_iter was reached which means the coef_ did not converge\n",
      "  warnings.warn(\n"
     ]
    },
    {
     "name": "stdout",
     "output_type": "stream",
     "text": [
      "[CV 5/5] END C=0.01, max_iter=1500, penalty=l2, solver=saga;, score=0.896 total time=  11.2s\n",
      "[CV 1/5] END C=0.01, max_iter=1500, penalty=l2, solver=liblinear;, score=0.903 total time=   0.1s\n",
      "[CV 2/5] END C=0.01, max_iter=1500, penalty=l2, solver=liblinear;, score=0.906 total time=   0.1s\n",
      "[CV 3/5] END C=0.01, max_iter=1500, penalty=l2, solver=liblinear;, score=0.907 total time=   0.1s\n",
      "[CV 4/5] END C=0.01, max_iter=1500, penalty=l2, solver=liblinear;, score=0.906 total time=   0.1s\n",
      "[CV 5/5] END C=0.01, max_iter=1500, penalty=l2, solver=liblinear;, score=0.904 total time=   0.1s\n",
      "[CV 1/5] END C=0.01, max_iter=1500, penalty=elasticnet, solver=newton-cg;, score=nan total time=   0.0s\n",
      "[CV 2/5] END C=0.01, max_iter=1500, penalty=elasticnet, solver=newton-cg;, score=nan total time=   0.0s\n",
      "[CV 3/5] END C=0.01, max_iter=1500, penalty=elasticnet, solver=newton-cg;, score=nan total time=   0.0s\n",
      "[CV 4/5] END C=0.01, max_iter=1500, penalty=elasticnet, solver=newton-cg;, score=nan total time=   0.0s\n",
      "[CV 5/5] END C=0.01, max_iter=1500, penalty=elasticnet, solver=newton-cg;, score=nan total time=   0.0s\n",
      "[CV 1/5] END C=0.01, max_iter=1500, penalty=elasticnet, solver=sag;, score=nan total time=   0.0s\n",
      "[CV 2/5] END C=0.01, max_iter=1500, penalty=elasticnet, solver=sag;, score=nan total time=   0.0s\n",
      "[CV 3/5] END C=0.01, max_iter=1500, penalty=elasticnet, solver=sag;, score=nan total time=   0.0s\n",
      "[CV 4/5] END C=0.01, max_iter=1500, penalty=elasticnet, solver=sag;, score=nan total time=   0.0s\n",
      "[CV 5/5] END C=0.01, max_iter=1500, penalty=elasticnet, solver=sag;, score=nan total time=   0.0s\n",
      "[CV 1/5] END C=0.01, max_iter=1500, penalty=elasticnet, solver=saga;, score=nan total time=   0.0s\n",
      "[CV 2/5] END C=0.01, max_iter=1500, penalty=elasticnet, solver=saga;, score=nan total time=   0.0s\n",
      "[CV 3/5] END C=0.01, max_iter=1500, penalty=elasticnet, solver=saga;, score=nan total time=   0.0s\n",
      "[CV 4/5] END C=0.01, max_iter=1500, penalty=elasticnet, solver=saga;, score=nan total time=   0.0s\n",
      "[CV 5/5] END C=0.01, max_iter=1500, penalty=elasticnet, solver=saga;, score=nan total time=   0.0s\n",
      "[CV 1/5] END C=0.01, max_iter=1500, penalty=elasticnet, solver=liblinear;, score=nan total time=   0.0s\n",
      "[CV 2/5] END C=0.01, max_iter=1500, penalty=elasticnet, solver=liblinear;, score=nan total time=   0.0s\n",
      "[CV 3/5] END C=0.01, max_iter=1500, penalty=elasticnet, solver=liblinear;, score=nan total time=   0.0s\n",
      "[CV 4/5] END C=0.01, max_iter=1500, penalty=elasticnet, solver=liblinear;, score=nan total time=   0.0s\n",
      "[CV 5/5] END C=0.01, max_iter=1500, penalty=elasticnet, solver=liblinear;, score=nan total time=   0.0s\n",
      "[CV 1/5] END C=0.01, max_iter=2000, penalty=l1, solver=newton-cg;, score=nan total time=   0.0s\n",
      "[CV 2/5] END C=0.01, max_iter=2000, penalty=l1, solver=newton-cg;, score=nan total time=   0.0s\n",
      "[CV 3/5] END C=0.01, max_iter=2000, penalty=l1, solver=newton-cg;, score=nan total time=   0.0s\n",
      "[CV 4/5] END C=0.01, max_iter=2000, penalty=l1, solver=newton-cg;, score=nan total time=   0.0s\n",
      "[CV 5/5] END C=0.01, max_iter=2000, penalty=l1, solver=newton-cg;, score=nan total time=   0.0s\n",
      "[CV 1/5] END C=0.01, max_iter=2000, penalty=l1, solver=sag;, score=nan total time=   0.0s\n",
      "[CV 2/5] END C=0.01, max_iter=2000, penalty=l1, solver=sag;, score=nan total time=   0.0s\n",
      "[CV 3/5] END C=0.01, max_iter=2000, penalty=l1, solver=sag;, score=nan total time=   0.0s\n",
      "[CV 4/5] END C=0.01, max_iter=2000, penalty=l1, solver=sag;, score=nan total time=   0.0s\n",
      "[CV 5/5] END C=0.01, max_iter=2000, penalty=l1, solver=sag;, score=nan total time=   0.0s\n",
      "[CV 1/5] END C=0.01, max_iter=2000, penalty=l1, solver=saga;, score=0.896 total time=  15.9s\n",
      "[CV 2/5] END C=0.01, max_iter=2000, penalty=l1, solver=saga;, score=0.896 total time=  16.3s\n"
     ]
    },
    {
     "name": "stderr",
     "output_type": "stream",
     "text": [
      "/Users/michaelraines/opt/anaconda3/lib/python3.8/site-packages/sklearn/linear_model/_sag.py:352: ConvergenceWarning: The max_iter was reached which means the coef_ did not converge\n",
      "  warnings.warn(\n"
     ]
    },
    {
     "name": "stdout",
     "output_type": "stream",
     "text": [
      "[CV 3/5] END C=0.01, max_iter=2000, penalty=l1, solver=saga;, score=0.896 total time=  16.9s\n"
     ]
    },
    {
     "name": "stderr",
     "output_type": "stream",
     "text": [
      "/Users/michaelraines/opt/anaconda3/lib/python3.8/site-packages/sklearn/linear_model/_sag.py:352: ConvergenceWarning: The max_iter was reached which means the coef_ did not converge\n",
      "  warnings.warn(\n"
     ]
    },
    {
     "name": "stdout",
     "output_type": "stream",
     "text": [
      "[CV 4/5] END C=0.01, max_iter=2000, penalty=l1, solver=saga;, score=0.896 total time=  17.5s\n",
      "[CV 5/5] END C=0.01, max_iter=2000, penalty=l1, solver=saga;, score=0.896 total time=  17.4s\n",
      "[CV 1/5] END C=0.01, max_iter=2000, penalty=l1, solver=liblinear;, score=0.908 total time=   0.1s\n",
      "[CV 2/5] END C=0.01, max_iter=2000, penalty=l1, solver=liblinear;, score=0.910 total time=   0.2s\n",
      "[CV 3/5] END C=0.01, max_iter=2000, penalty=l1, solver=liblinear;, score=0.917 total time=   0.1s\n",
      "[CV 4/5] END C=0.01, max_iter=2000, penalty=l1, solver=liblinear;, score=0.909 total time=   0.1s\n",
      "[CV 5/5] END C=0.01, max_iter=2000, penalty=l1, solver=liblinear;, score=0.908 total time=   0.1s\n",
      "[CV 1/5] END C=0.01, max_iter=2000, penalty=l2, solver=newton-cg;, score=0.903 total time=   0.5s\n",
      "[CV 2/5] END C=0.01, max_iter=2000, penalty=l2, solver=newton-cg;, score=0.907 total time=   0.5s\n",
      "[CV 3/5] END C=0.01, max_iter=2000, penalty=l2, solver=newton-cg;, score=0.906 total time=   0.5s\n",
      "[CV 4/5] END C=0.01, max_iter=2000, penalty=l2, solver=newton-cg;, score=0.905 total time=   0.6s\n",
      "[CV 5/5] END C=0.01, max_iter=2000, penalty=l2, solver=newton-cg;, score=0.904 total time=   0.5s\n",
      "[CV 1/5] END C=0.01, max_iter=2000, penalty=l2, solver=sag;, score=0.896 total time=  10.8s\n",
      "[CV 2/5] END C=0.01, max_iter=2000, penalty=l2, solver=sag;, score=0.896 total time=  10.5s\n",
      "[CV 3/5] END C=0.01, max_iter=2000, penalty=l2, solver=sag;, score=0.896 total time=  10.9s\n"
     ]
    },
    {
     "name": "stderr",
     "output_type": "stream",
     "text": [
      "/Users/michaelraines/opt/anaconda3/lib/python3.8/site-packages/sklearn/linear_model/_sag.py:352: ConvergenceWarning: The max_iter was reached which means the coef_ did not converge\n",
      "  warnings.warn(\n"
     ]
    },
    {
     "name": "stdout",
     "output_type": "stream",
     "text": [
      "[CV 4/5] END C=0.01, max_iter=2000, penalty=l2, solver=sag;, score=0.896 total time=  15.1s\n",
      "[CV 5/5] END C=0.01, max_iter=2000, penalty=l2, solver=sag;, score=0.896 total time=  10.3s\n",
      "[CV 1/5] END C=0.01, max_iter=2000, penalty=l2, solver=saga;, score=0.896 total time=  14.2s\n",
      "[CV 2/5] END C=0.01, max_iter=2000, penalty=l2, solver=saga;, score=0.896 total time=  14.8s\n"
     ]
    },
    {
     "name": "stderr",
     "output_type": "stream",
     "text": [
      "/Users/michaelraines/opt/anaconda3/lib/python3.8/site-packages/sklearn/linear_model/_sag.py:352: ConvergenceWarning: The max_iter was reached which means the coef_ did not converge\n",
      "  warnings.warn(\n"
     ]
    },
    {
     "name": "stdout",
     "output_type": "stream",
     "text": [
      "[CV 3/5] END C=0.01, max_iter=2000, penalty=l2, solver=saga;, score=0.896 total time=  15.1s\n"
     ]
    },
    {
     "name": "stderr",
     "output_type": "stream",
     "text": [
      "/Users/michaelraines/opt/anaconda3/lib/python3.8/site-packages/sklearn/linear_model/_sag.py:352: ConvergenceWarning: The max_iter was reached which means the coef_ did not converge\n",
      "  warnings.warn(\n"
     ]
    },
    {
     "name": "stdout",
     "output_type": "stream",
     "text": [
      "[CV 4/5] END C=0.01, max_iter=2000, penalty=l2, solver=saga;, score=0.896 total time=  15.8s\n",
      "[CV 5/5] END C=0.01, max_iter=2000, penalty=l2, solver=saga;, score=0.896 total time=  16.6s\n",
      "[CV 1/5] END C=0.01, max_iter=2000, penalty=l2, solver=liblinear;, score=0.903 total time=   0.1s\n",
      "[CV 2/5] END C=0.01, max_iter=2000, penalty=l2, solver=liblinear;, score=0.906 total time=   0.1s\n",
      "[CV 3/5] END C=0.01, max_iter=2000, penalty=l2, solver=liblinear;, score=0.907 total time=   0.1s\n",
      "[CV 4/5] END C=0.01, max_iter=2000, penalty=l2, solver=liblinear;, score=0.906 total time=   0.1s\n",
      "[CV 5/5] END C=0.01, max_iter=2000, penalty=l2, solver=liblinear;, score=0.904 total time=   0.1s\n",
      "[CV 1/5] END C=0.01, max_iter=2000, penalty=elasticnet, solver=newton-cg;, score=nan total time=   0.0s\n",
      "[CV 2/5] END C=0.01, max_iter=2000, penalty=elasticnet, solver=newton-cg;, score=nan total time=   0.0s\n",
      "[CV 3/5] END C=0.01, max_iter=2000, penalty=elasticnet, solver=newton-cg;, score=nan total time=   0.0s\n",
      "[CV 4/5] END C=0.01, max_iter=2000, penalty=elasticnet, solver=newton-cg;, score=nan total time=   0.0s\n",
      "[CV 5/5] END C=0.01, max_iter=2000, penalty=elasticnet, solver=newton-cg;, score=nan total time=   0.0s\n",
      "[CV 1/5] END C=0.01, max_iter=2000, penalty=elasticnet, solver=sag;, score=nan total time=   0.0s\n",
      "[CV 2/5] END C=0.01, max_iter=2000, penalty=elasticnet, solver=sag;, score=nan total time=   0.0s\n",
      "[CV 3/5] END C=0.01, max_iter=2000, penalty=elasticnet, solver=sag;, score=nan total time=   0.0s\n",
      "[CV 4/5] END C=0.01, max_iter=2000, penalty=elasticnet, solver=sag;, score=nan total time=   0.0s\n",
      "[CV 5/5] END C=0.01, max_iter=2000, penalty=elasticnet, solver=sag;, score=nan total time=   0.0s\n",
      "[CV 1/5] END C=0.01, max_iter=2000, penalty=elasticnet, solver=saga;, score=nan total time=   0.0s\n",
      "[CV 2/5] END C=0.01, max_iter=2000, penalty=elasticnet, solver=saga;, score=nan total time=   0.0s\n",
      "[CV 3/5] END C=0.01, max_iter=2000, penalty=elasticnet, solver=saga;, score=nan total time=   0.0s\n",
      "[CV 4/5] END C=0.01, max_iter=2000, penalty=elasticnet, solver=saga;, score=nan total time=   0.0s\n",
      "[CV 5/5] END C=0.01, max_iter=2000, penalty=elasticnet, solver=saga;, score=nan total time=   0.0s\n",
      "[CV 1/5] END C=0.01, max_iter=2000, penalty=elasticnet, solver=liblinear;, score=nan total time=   0.0s\n",
      "[CV 2/5] END C=0.01, max_iter=2000, penalty=elasticnet, solver=liblinear;, score=nan total time=   0.0s\n",
      "[CV 3/5] END C=0.01, max_iter=2000, penalty=elasticnet, solver=liblinear;, score=nan total time=   0.0s\n",
      "[CV 4/5] END C=0.01, max_iter=2000, penalty=elasticnet, solver=liblinear;, score=nan total time=   0.0s\n",
      "[CV 5/5] END C=0.01, max_iter=2000, penalty=elasticnet, solver=liblinear;, score=nan total time=   0.0s\n",
      "[CV 1/5] END C=0.01, max_iter=4000, penalty=l1, solver=newton-cg;, score=nan total time=   0.0s\n",
      "[CV 2/5] END C=0.01, max_iter=4000, penalty=l1, solver=newton-cg;, score=nan total time=   0.0s\n",
      "[CV 3/5] END C=0.01, max_iter=4000, penalty=l1, solver=newton-cg;, score=nan total time=   0.0s\n",
      "[CV 4/5] END C=0.01, max_iter=4000, penalty=l1, solver=newton-cg;, score=nan total time=   0.0s\n",
      "[CV 5/5] END C=0.01, max_iter=4000, penalty=l1, solver=newton-cg;, score=nan total time=   0.0s\n",
      "[CV 1/5] END C=0.01, max_iter=4000, penalty=l1, solver=sag;, score=nan total time=   0.0s\n",
      "[CV 2/5] END C=0.01, max_iter=4000, penalty=l1, solver=sag;, score=nan total time=   0.0s\n",
      "[CV 3/5] END C=0.01, max_iter=4000, penalty=l1, solver=sag;, score=nan total time=   0.0s\n",
      "[CV 4/5] END C=0.01, max_iter=4000, penalty=l1, solver=sag;, score=nan total time=   0.0s\n",
      "[CV 5/5] END C=0.01, max_iter=4000, penalty=l1, solver=sag;, score=nan total time=   0.0s\n",
      "[CV 1/5] END C=0.01, max_iter=4000, penalty=l1, solver=saga;, score=0.896 total time=  17.1s\n",
      "[CV 2/5] END C=0.01, max_iter=4000, penalty=l1, solver=saga;, score=0.896 total time=  16.3s\n",
      "[CV 3/5] END C=0.01, max_iter=4000, penalty=l1, solver=saga;, score=0.896 total time=  18.5s\n"
     ]
    },
    {
     "name": "stderr",
     "output_type": "stream",
     "text": [
      "/Users/michaelraines/opt/anaconda3/lib/python3.8/site-packages/sklearn/linear_model/_sag.py:352: ConvergenceWarning: The max_iter was reached which means the coef_ did not converge\n",
      "  warnings.warn(\n"
     ]
    },
    {
     "name": "stdout",
     "output_type": "stream",
     "text": [
      "[CV 4/5] END C=0.01, max_iter=4000, penalty=l1, solver=saga;, score=0.896 total time=  34.9s\n",
      "[CV 5/5] END C=0.01, max_iter=4000, penalty=l1, solver=saga;, score=0.896 total time=  17.3s\n",
      "[CV 1/5] END C=0.01, max_iter=4000, penalty=l1, solver=liblinear;, score=0.908 total time=   0.1s\n",
      "[CV 2/5] END C=0.01, max_iter=4000, penalty=l1, solver=liblinear;, score=0.910 total time=   0.1s\n",
      "[CV 3/5] END C=0.01, max_iter=4000, penalty=l1, solver=liblinear;, score=0.917 total time=   0.1s\n",
      "[CV 4/5] END C=0.01, max_iter=4000, penalty=l1, solver=liblinear;, score=0.909 total time=   0.1s\n",
      "[CV 5/5] END C=0.01, max_iter=4000, penalty=l1, solver=liblinear;, score=0.908 total time=   0.1s\n",
      "[CV 1/5] END C=0.01, max_iter=4000, penalty=l2, solver=newton-cg;, score=0.903 total time=   0.4s\n",
      "[CV 2/5] END C=0.01, max_iter=4000, penalty=l2, solver=newton-cg;, score=0.907 total time=   0.4s\n",
      "[CV 3/5] END C=0.01, max_iter=4000, penalty=l2, solver=newton-cg;, score=0.906 total time=   0.4s\n",
      "[CV 4/5] END C=0.01, max_iter=4000, penalty=l2, solver=newton-cg;, score=0.905 total time=   0.4s\n",
      "[CV 5/5] END C=0.01, max_iter=4000, penalty=l2, solver=newton-cg;, score=0.904 total time=   0.4s\n",
      "[CV 1/5] END C=0.01, max_iter=4000, penalty=l2, solver=sag;, score=0.896 total time=   9.7s\n",
      "[CV 2/5] END C=0.01, max_iter=4000, penalty=l2, solver=sag;, score=0.896 total time=   9.8s\n",
      "[CV 3/5] END C=0.01, max_iter=4000, penalty=l2, solver=sag;, score=0.896 total time=  10.7s\n"
     ]
    },
    {
     "name": "stderr",
     "output_type": "stream",
     "text": [
      "/Users/michaelraines/opt/anaconda3/lib/python3.8/site-packages/sklearn/linear_model/_sag.py:352: ConvergenceWarning: The max_iter was reached which means the coef_ did not converge\n",
      "  warnings.warn(\n"
     ]
    },
    {
     "name": "stdout",
     "output_type": "stream",
     "text": [
      "[CV 4/5] END C=0.01, max_iter=4000, penalty=l2, solver=sag;, score=0.896 total time=  31.9s\n",
      "[CV 5/5] END C=0.01, max_iter=4000, penalty=l2, solver=sag;, score=0.896 total time=  10.4s\n",
      "[CV 1/5] END C=0.01, max_iter=4000, penalty=l2, solver=saga;, score=0.896 total time=  14.1s\n",
      "[CV 2/5] END C=0.01, max_iter=4000, penalty=l2, solver=saga;, score=0.896 total time=  15.5s\n",
      "[CV 3/5] END C=0.01, max_iter=4000, penalty=l2, solver=saga;, score=0.896 total time=  16.0s\n"
     ]
    },
    {
     "name": "stderr",
     "output_type": "stream",
     "text": [
      "/Users/michaelraines/opt/anaconda3/lib/python3.8/site-packages/sklearn/linear_model/_sag.py:352: ConvergenceWarning: The max_iter was reached which means the coef_ did not converge\n",
      "  warnings.warn(\n"
     ]
    },
    {
     "name": "stdout",
     "output_type": "stream",
     "text": [
      "[CV 4/5] END C=0.01, max_iter=4000, penalty=l2, solver=saga;, score=0.896 total time=  30.8s\n",
      "[CV 5/5] END C=0.01, max_iter=4000, penalty=l2, solver=saga;, score=0.896 total time=  14.5s\n",
      "[CV 1/5] END C=0.01, max_iter=4000, penalty=l2, solver=liblinear;, score=0.903 total time=   0.1s\n",
      "[CV 2/5] END C=0.01, max_iter=4000, penalty=l2, solver=liblinear;, score=0.906 total time=   0.1s\n",
      "[CV 3/5] END C=0.01, max_iter=4000, penalty=l2, solver=liblinear;, score=0.907 total time=   0.1s\n",
      "[CV 4/5] END C=0.01, max_iter=4000, penalty=l2, solver=liblinear;, score=0.906 total time=   0.1s\n",
      "[CV 5/5] END C=0.01, max_iter=4000, penalty=l2, solver=liblinear;, score=0.904 total time=   0.1s\n",
      "[CV 1/5] END C=0.01, max_iter=4000, penalty=elasticnet, solver=newton-cg;, score=nan total time=   0.0s\n",
      "[CV 2/5] END C=0.01, max_iter=4000, penalty=elasticnet, solver=newton-cg;, score=nan total time=   0.0s\n",
      "[CV 3/5] END C=0.01, max_iter=4000, penalty=elasticnet, solver=newton-cg;, score=nan total time=   0.0s\n",
      "[CV 4/5] END C=0.01, max_iter=4000, penalty=elasticnet, solver=newton-cg;, score=nan total time=   0.0s\n",
      "[CV 5/5] END C=0.01, max_iter=4000, penalty=elasticnet, solver=newton-cg;, score=nan total time=   0.0s\n",
      "[CV 1/5] END C=0.01, max_iter=4000, penalty=elasticnet, solver=sag;, score=nan total time=   0.0s\n",
      "[CV 2/5] END C=0.01, max_iter=4000, penalty=elasticnet, solver=sag;, score=nan total time=   0.0s\n",
      "[CV 3/5] END C=0.01, max_iter=4000, penalty=elasticnet, solver=sag;, score=nan total time=   0.0s\n",
      "[CV 4/5] END C=0.01, max_iter=4000, penalty=elasticnet, solver=sag;, score=nan total time=   0.0s\n",
      "[CV 5/5] END C=0.01, max_iter=4000, penalty=elasticnet, solver=sag;, score=nan total time=   0.0s\n",
      "[CV 1/5] END C=0.01, max_iter=4000, penalty=elasticnet, solver=saga;, score=nan total time=   0.0s\n",
      "[CV 2/5] END C=0.01, max_iter=4000, penalty=elasticnet, solver=saga;, score=nan total time=   0.0s\n",
      "[CV 3/5] END C=0.01, max_iter=4000, penalty=elasticnet, solver=saga;, score=nan total time=   0.0s\n",
      "[CV 4/5] END C=0.01, max_iter=4000, penalty=elasticnet, solver=saga;, score=nan total time=   0.0s\n",
      "[CV 5/5] END C=0.01, max_iter=4000, penalty=elasticnet, solver=saga;, score=nan total time=   0.0s\n",
      "[CV 1/5] END C=0.01, max_iter=4000, penalty=elasticnet, solver=liblinear;, score=nan total time=   0.0s\n",
      "[CV 2/5] END C=0.01, max_iter=4000, penalty=elasticnet, solver=liblinear;, score=nan total time=   0.0s\n",
      "[CV 3/5] END C=0.01, max_iter=4000, penalty=elasticnet, solver=liblinear;, score=nan total time=   0.0s\n",
      "[CV 4/5] END C=0.01, max_iter=4000, penalty=elasticnet, solver=liblinear;, score=nan total time=   0.0s\n",
      "[CV 5/5] END C=0.01, max_iter=4000, penalty=elasticnet, solver=liblinear;, score=nan total time=   0.0s\n",
      "[CV 1/5] END C=0.001, max_iter=500, penalty=l1, solver=newton-cg;, score=nan total time=   0.0s\n",
      "[CV 2/5] END C=0.001, max_iter=500, penalty=l1, solver=newton-cg;, score=nan total time=   0.0s\n",
      "[CV 3/5] END C=0.001, max_iter=500, penalty=l1, solver=newton-cg;, score=nan total time=   0.0s\n",
      "[CV 4/5] END C=0.001, max_iter=500, penalty=l1, solver=newton-cg;, score=nan total time=   0.0s\n",
      "[CV 5/5] END C=0.001, max_iter=500, penalty=l1, solver=newton-cg;, score=nan total time=   0.0s\n",
      "[CV 1/5] END C=0.001, max_iter=500, penalty=l1, solver=sag;, score=nan total time=   0.0s\n",
      "[CV 2/5] END C=0.001, max_iter=500, penalty=l1, solver=sag;, score=nan total time=   0.0s\n",
      "[CV 3/5] END C=0.001, max_iter=500, penalty=l1, solver=sag;, score=nan total time=   0.0s\n",
      "[CV 4/5] END C=0.001, max_iter=500, penalty=l1, solver=sag;, score=nan total time=   0.0s\n",
      "[CV 5/5] END C=0.001, max_iter=500, penalty=l1, solver=sag;, score=nan total time=   0.0s\n"
     ]
    },
    {
     "name": "stderr",
     "output_type": "stream",
     "text": [
      "/Users/michaelraines/opt/anaconda3/lib/python3.8/site-packages/sklearn/linear_model/_sag.py:352: ConvergenceWarning: The max_iter was reached which means the coef_ did not converge\n",
      "  warnings.warn(\n"
     ]
    },
    {
     "name": "stdout",
     "output_type": "stream",
     "text": [
      "[CV 1/5] END C=0.001, max_iter=500, penalty=l1, solver=saga;, score=0.896 total time=   4.2s\n"
     ]
    },
    {
     "name": "stderr",
     "output_type": "stream",
     "text": [
      "/Users/michaelraines/opt/anaconda3/lib/python3.8/site-packages/sklearn/linear_model/_sag.py:352: ConvergenceWarning: The max_iter was reached which means the coef_ did not converge\n",
      "  warnings.warn(\n"
     ]
    },
    {
     "name": "stdout",
     "output_type": "stream",
     "text": [
      "[CV 2/5] END C=0.001, max_iter=500, penalty=l1, solver=saga;, score=0.896 total time=   4.3s\n"
     ]
    },
    {
     "name": "stderr",
     "output_type": "stream",
     "text": [
      "/Users/michaelraines/opt/anaconda3/lib/python3.8/site-packages/sklearn/linear_model/_sag.py:352: ConvergenceWarning: The max_iter was reached which means the coef_ did not converge\n",
      "  warnings.warn(\n"
     ]
    },
    {
     "name": "stdout",
     "output_type": "stream",
     "text": [
      "[CV 3/5] END C=0.001, max_iter=500, penalty=l1, solver=saga;, score=0.896 total time=   4.3s\n"
     ]
    },
    {
     "name": "stderr",
     "output_type": "stream",
     "text": [
      "/Users/michaelraines/opt/anaconda3/lib/python3.8/site-packages/sklearn/linear_model/_sag.py:352: ConvergenceWarning: The max_iter was reached which means the coef_ did not converge\n",
      "  warnings.warn(\n"
     ]
    },
    {
     "name": "stdout",
     "output_type": "stream",
     "text": [
      "[CV 4/5] END C=0.001, max_iter=500, penalty=l1, solver=saga;, score=0.896 total time=   4.4s\n"
     ]
    },
    {
     "name": "stderr",
     "output_type": "stream",
     "text": [
      "/Users/michaelraines/opt/anaconda3/lib/python3.8/site-packages/sklearn/linear_model/_sag.py:352: ConvergenceWarning: The max_iter was reached which means the coef_ did not converge\n",
      "  warnings.warn(\n"
     ]
    },
    {
     "name": "stdout",
     "output_type": "stream",
     "text": [
      "[CV 5/5] END C=0.001, max_iter=500, penalty=l1, solver=saga;, score=0.896 total time=   4.3s\n",
      "[CV 1/5] END C=0.001, max_iter=500, penalty=l1, solver=liblinear;, score=0.896 total time=   0.1s\n",
      "[CV 2/5] END C=0.001, max_iter=500, penalty=l1, solver=liblinear;, score=0.896 total time=   0.1s\n",
      "[CV 3/5] END C=0.001, max_iter=500, penalty=l1, solver=liblinear;, score=0.896 total time=   0.0s\n",
      "[CV 4/5] END C=0.001, max_iter=500, penalty=l1, solver=liblinear;, score=0.896 total time=   0.1s\n",
      "[CV 5/5] END C=0.001, max_iter=500, penalty=l1, solver=liblinear;, score=0.896 total time=   0.1s\n",
      "[CV 1/5] END C=0.001, max_iter=500, penalty=l2, solver=newton-cg;, score=0.896 total time=   0.3s\n",
      "[CV 2/5] END C=0.001, max_iter=500, penalty=l2, solver=newton-cg;, score=0.896 total time=   0.3s\n",
      "[CV 3/5] END C=0.001, max_iter=500, penalty=l2, solver=newton-cg;, score=0.896 total time=   0.3s\n",
      "[CV 4/5] END C=0.001, max_iter=500, penalty=l2, solver=newton-cg;, score=0.896 total time=   0.3s\n",
      "[CV 5/5] END C=0.001, max_iter=500, penalty=l2, solver=newton-cg;, score=0.896 total time=   0.3s\n"
     ]
    },
    {
     "name": "stderr",
     "output_type": "stream",
     "text": [
      "/Users/michaelraines/opt/anaconda3/lib/python3.8/site-packages/sklearn/linear_model/_sag.py:352: ConvergenceWarning: The max_iter was reached which means the coef_ did not converge\n",
      "  warnings.warn(\n"
     ]
    },
    {
     "name": "stdout",
     "output_type": "stream",
     "text": [
      "[CV 1/5] END C=0.001, max_iter=500, penalty=l2, solver=sag;, score=0.896 total time=   3.7s\n"
     ]
    },
    {
     "name": "stderr",
     "output_type": "stream",
     "text": [
      "/Users/michaelraines/opt/anaconda3/lib/python3.8/site-packages/sklearn/linear_model/_sag.py:352: ConvergenceWarning: The max_iter was reached which means the coef_ did not converge\n",
      "  warnings.warn(\n"
     ]
    },
    {
     "name": "stdout",
     "output_type": "stream",
     "text": [
      "[CV 2/5] END C=0.001, max_iter=500, penalty=l2, solver=sag;, score=0.896 total time=   3.8s\n"
     ]
    },
    {
     "name": "stderr",
     "output_type": "stream",
     "text": [
      "/Users/michaelraines/opt/anaconda3/lib/python3.8/site-packages/sklearn/linear_model/_sag.py:352: ConvergenceWarning: The max_iter was reached which means the coef_ did not converge\n",
      "  warnings.warn(\n"
     ]
    },
    {
     "name": "stdout",
     "output_type": "stream",
     "text": [
      "[CV 3/5] END C=0.001, max_iter=500, penalty=l2, solver=sag;, score=0.896 total time=   4.6s\n"
     ]
    },
    {
     "name": "stderr",
     "output_type": "stream",
     "text": [
      "/Users/michaelraines/opt/anaconda3/lib/python3.8/site-packages/sklearn/linear_model/_sag.py:352: ConvergenceWarning: The max_iter was reached which means the coef_ did not converge\n",
      "  warnings.warn(\n"
     ]
    },
    {
     "name": "stdout",
     "output_type": "stream",
     "text": [
      "[CV 4/5] END C=0.001, max_iter=500, penalty=l2, solver=sag;, score=0.896 total time=   3.8s\n"
     ]
    },
    {
     "name": "stderr",
     "output_type": "stream",
     "text": [
      "/Users/michaelraines/opt/anaconda3/lib/python3.8/site-packages/sklearn/linear_model/_sag.py:352: ConvergenceWarning: The max_iter was reached which means the coef_ did not converge\n",
      "  warnings.warn(\n"
     ]
    },
    {
     "name": "stdout",
     "output_type": "stream",
     "text": [
      "[CV 5/5] END C=0.001, max_iter=500, penalty=l2, solver=sag;, score=0.896 total time=   3.9s\n"
     ]
    },
    {
     "name": "stderr",
     "output_type": "stream",
     "text": [
      "/Users/michaelraines/opt/anaconda3/lib/python3.8/site-packages/sklearn/linear_model/_sag.py:352: ConvergenceWarning: The max_iter was reached which means the coef_ did not converge\n",
      "  warnings.warn(\n"
     ]
    },
    {
     "name": "stdout",
     "output_type": "stream",
     "text": [
      "[CV 1/5] END C=0.001, max_iter=500, penalty=l2, solver=saga;, score=0.896 total time=   3.9s\n"
     ]
    },
    {
     "name": "stderr",
     "output_type": "stream",
     "text": [
      "/Users/michaelraines/opt/anaconda3/lib/python3.8/site-packages/sklearn/linear_model/_sag.py:352: ConvergenceWarning: The max_iter was reached which means the coef_ did not converge\n",
      "  warnings.warn(\n"
     ]
    },
    {
     "name": "stdout",
     "output_type": "stream",
     "text": [
      "[CV 2/5] END C=0.001, max_iter=500, penalty=l2, solver=saga;, score=0.896 total time=   3.8s\n"
     ]
    },
    {
     "name": "stderr",
     "output_type": "stream",
     "text": [
      "/Users/michaelraines/opt/anaconda3/lib/python3.8/site-packages/sklearn/linear_model/_sag.py:352: ConvergenceWarning: The max_iter was reached which means the coef_ did not converge\n",
      "  warnings.warn(\n"
     ]
    },
    {
     "name": "stdout",
     "output_type": "stream",
     "text": [
      "[CV 3/5] END C=0.001, max_iter=500, penalty=l2, solver=saga;, score=0.896 total time=   3.8s\n"
     ]
    },
    {
     "name": "stderr",
     "output_type": "stream",
     "text": [
      "/Users/michaelraines/opt/anaconda3/lib/python3.8/site-packages/sklearn/linear_model/_sag.py:352: ConvergenceWarning: The max_iter was reached which means the coef_ did not converge\n",
      "  warnings.warn(\n"
     ]
    },
    {
     "name": "stdout",
     "output_type": "stream",
     "text": [
      "[CV 4/5] END C=0.001, max_iter=500, penalty=l2, solver=saga;, score=0.896 total time=   3.8s\n"
     ]
    },
    {
     "name": "stderr",
     "output_type": "stream",
     "text": [
      "/Users/michaelraines/opt/anaconda3/lib/python3.8/site-packages/sklearn/linear_model/_sag.py:352: ConvergenceWarning: The max_iter was reached which means the coef_ did not converge\n",
      "  warnings.warn(\n"
     ]
    },
    {
     "name": "stdout",
     "output_type": "stream",
     "text": [
      "[CV 5/5] END C=0.001, max_iter=500, penalty=l2, solver=saga;, score=0.896 total time=   3.8s\n",
      "[CV 1/5] END C=0.001, max_iter=500, penalty=l2, solver=liblinear;, score=0.896 total time=   0.1s\n",
      "[CV 2/5] END C=0.001, max_iter=500, penalty=l2, solver=liblinear;, score=0.896 total time=   0.1s\n",
      "[CV 3/5] END C=0.001, max_iter=500, penalty=l2, solver=liblinear;, score=0.896 total time=   0.1s\n",
      "[CV 4/5] END C=0.001, max_iter=500, penalty=l2, solver=liblinear;, score=0.896 total time=   0.1s\n",
      "[CV 5/5] END C=0.001, max_iter=500, penalty=l2, solver=liblinear;, score=0.896 total time=   0.1s\n",
      "[CV 1/5] END C=0.001, max_iter=500, penalty=elasticnet, solver=newton-cg;, score=nan total time=   0.0s\n",
      "[CV 2/5] END C=0.001, max_iter=500, penalty=elasticnet, solver=newton-cg;, score=nan total time=   0.0s\n",
      "[CV 3/5] END C=0.001, max_iter=500, penalty=elasticnet, solver=newton-cg;, score=nan total time=   0.0s\n",
      "[CV 4/5] END C=0.001, max_iter=500, penalty=elasticnet, solver=newton-cg;, score=nan total time=   0.0s\n",
      "[CV 5/5] END C=0.001, max_iter=500, penalty=elasticnet, solver=newton-cg;, score=nan total time=   0.0s\n",
      "[CV 1/5] END C=0.001, max_iter=500, penalty=elasticnet, solver=sag;, score=nan total time=   0.0s\n",
      "[CV 2/5] END C=0.001, max_iter=500, penalty=elasticnet, solver=sag;, score=nan total time=   0.0s\n",
      "[CV 3/5] END C=0.001, max_iter=500, penalty=elasticnet, solver=sag;, score=nan total time=   0.0s\n",
      "[CV 4/5] END C=0.001, max_iter=500, penalty=elasticnet, solver=sag;, score=nan total time=   0.0s\n",
      "[CV 5/5] END C=0.001, max_iter=500, penalty=elasticnet, solver=sag;, score=nan total time=   0.0s\n",
      "[CV 1/5] END C=0.001, max_iter=500, penalty=elasticnet, solver=saga;, score=nan total time=   0.0s\n",
      "[CV 2/5] END C=0.001, max_iter=500, penalty=elasticnet, solver=saga;, score=nan total time=   0.0s\n",
      "[CV 3/5] END C=0.001, max_iter=500, penalty=elasticnet, solver=saga;, score=nan total time=   0.0s\n",
      "[CV 4/5] END C=0.001, max_iter=500, penalty=elasticnet, solver=saga;, score=nan total time=   0.0s\n",
      "[CV 5/5] END C=0.001, max_iter=500, penalty=elasticnet, solver=saga;, score=nan total time=   0.0s\n",
      "[CV 1/5] END C=0.001, max_iter=500, penalty=elasticnet, solver=liblinear;, score=nan total time=   0.0s\n",
      "[CV 2/5] END C=0.001, max_iter=500, penalty=elasticnet, solver=liblinear;, score=nan total time=   0.0s\n",
      "[CV 3/5] END C=0.001, max_iter=500, penalty=elasticnet, solver=liblinear;, score=nan total time=   0.0s\n",
      "[CV 4/5] END C=0.001, max_iter=500, penalty=elasticnet, solver=liblinear;, score=nan total time=   0.0s\n",
      "[CV 5/5] END C=0.001, max_iter=500, penalty=elasticnet, solver=liblinear;, score=nan total time=   0.0s\n",
      "[CV 1/5] END C=0.001, max_iter=1000, penalty=l1, solver=newton-cg;, score=nan total time=   0.0s\n",
      "[CV 2/5] END C=0.001, max_iter=1000, penalty=l1, solver=newton-cg;, score=nan total time=   0.0s\n",
      "[CV 3/5] END C=0.001, max_iter=1000, penalty=l1, solver=newton-cg;, score=nan total time=   0.0s\n",
      "[CV 4/5] END C=0.001, max_iter=1000, penalty=l1, solver=newton-cg;, score=nan total time=   0.0s\n",
      "[CV 5/5] END C=0.001, max_iter=1000, penalty=l1, solver=newton-cg;, score=nan total time=   0.0s\n",
      "[CV 1/5] END C=0.001, max_iter=1000, penalty=l1, solver=sag;, score=nan total time=   0.0s\n",
      "[CV 2/5] END C=0.001, max_iter=1000, penalty=l1, solver=sag;, score=nan total time=   0.0s\n",
      "[CV 3/5] END C=0.001, max_iter=1000, penalty=l1, solver=sag;, score=nan total time=   0.0s\n",
      "[CV 4/5] END C=0.001, max_iter=1000, penalty=l1, solver=sag;, score=nan total time=   0.0s\n",
      "[CV 5/5] END C=0.001, max_iter=1000, penalty=l1, solver=sag;, score=nan total time=   0.0s\n"
     ]
    },
    {
     "name": "stderr",
     "output_type": "stream",
     "text": [
      "/Users/michaelraines/opt/anaconda3/lib/python3.8/site-packages/sklearn/linear_model/_sag.py:352: ConvergenceWarning: The max_iter was reached which means the coef_ did not converge\n",
      "  warnings.warn(\n"
     ]
    },
    {
     "name": "stdout",
     "output_type": "stream",
     "text": [
      "[CV 1/5] END C=0.001, max_iter=1000, penalty=l1, solver=saga;, score=0.896 total time=   8.2s\n"
     ]
    },
    {
     "name": "stderr",
     "output_type": "stream",
     "text": [
      "/Users/michaelraines/opt/anaconda3/lib/python3.8/site-packages/sklearn/linear_model/_sag.py:352: ConvergenceWarning: The max_iter was reached which means the coef_ did not converge\n",
      "  warnings.warn(\n"
     ]
    },
    {
     "name": "stdout",
     "output_type": "stream",
     "text": [
      "[CV 2/5] END C=0.001, max_iter=1000, penalty=l1, solver=saga;, score=0.896 total time=   8.2s\n"
     ]
    },
    {
     "name": "stderr",
     "output_type": "stream",
     "text": [
      "/Users/michaelraines/opt/anaconda3/lib/python3.8/site-packages/sklearn/linear_model/_sag.py:352: ConvergenceWarning: The max_iter was reached which means the coef_ did not converge\n",
      "  warnings.warn(\n"
     ]
    },
    {
     "name": "stdout",
     "output_type": "stream",
     "text": [
      "[CV 3/5] END C=0.001, max_iter=1000, penalty=l1, solver=saga;, score=0.896 total time=   8.1s\n"
     ]
    },
    {
     "name": "stderr",
     "output_type": "stream",
     "text": [
      "/Users/michaelraines/opt/anaconda3/lib/python3.8/site-packages/sklearn/linear_model/_sag.py:352: ConvergenceWarning: The max_iter was reached which means the coef_ did not converge\n",
      "  warnings.warn(\n"
     ]
    },
    {
     "name": "stdout",
     "output_type": "stream",
     "text": [
      "[CV 4/5] END C=0.001, max_iter=1000, penalty=l1, solver=saga;, score=0.896 total time=   8.1s\n"
     ]
    },
    {
     "name": "stderr",
     "output_type": "stream",
     "text": [
      "/Users/michaelraines/opt/anaconda3/lib/python3.8/site-packages/sklearn/linear_model/_sag.py:352: ConvergenceWarning: The max_iter was reached which means the coef_ did not converge\n",
      "  warnings.warn(\n"
     ]
    },
    {
     "name": "stdout",
     "output_type": "stream",
     "text": [
      "[CV 5/5] END C=0.001, max_iter=1000, penalty=l1, solver=saga;, score=0.896 total time=   8.5s\n",
      "[CV 1/5] END C=0.001, max_iter=1000, penalty=l1, solver=liblinear;, score=0.896 total time=   0.1s\n",
      "[CV 2/5] END C=0.001, max_iter=1000, penalty=l1, solver=liblinear;, score=0.896 total time=   0.1s\n",
      "[CV 3/5] END C=0.001, max_iter=1000, penalty=l1, solver=liblinear;, score=0.896 total time=   0.1s\n",
      "[CV 4/5] END C=0.001, max_iter=1000, penalty=l1, solver=liblinear;, score=0.896 total time=   0.1s\n",
      "[CV 5/5] END C=0.001, max_iter=1000, penalty=l1, solver=liblinear;, score=0.896 total time=   0.1s\n",
      "[CV 1/5] END C=0.001, max_iter=1000, penalty=l2, solver=newton-cg;, score=0.896 total time=   0.3s\n",
      "[CV 2/5] END C=0.001, max_iter=1000, penalty=l2, solver=newton-cg;, score=0.896 total time=   0.4s\n",
      "[CV 3/5] END C=0.001, max_iter=1000, penalty=l2, solver=newton-cg;, score=0.896 total time=   0.3s\n",
      "[CV 4/5] END C=0.001, max_iter=1000, penalty=l2, solver=newton-cg;, score=0.896 total time=   0.3s\n",
      "[CV 5/5] END C=0.001, max_iter=1000, penalty=l2, solver=newton-cg;, score=0.896 total time=   0.3s\n"
     ]
    },
    {
     "name": "stderr",
     "output_type": "stream",
     "text": [
      "/Users/michaelraines/opt/anaconda3/lib/python3.8/site-packages/sklearn/linear_model/_sag.py:352: ConvergenceWarning: The max_iter was reached which means the coef_ did not converge\n",
      "  warnings.warn(\n"
     ]
    },
    {
     "name": "stdout",
     "output_type": "stream",
     "text": [
      "[CV 1/5] END C=0.001, max_iter=1000, penalty=l2, solver=sag;, score=0.896 total time=   7.5s\n"
     ]
    },
    {
     "name": "stderr",
     "output_type": "stream",
     "text": [
      "/Users/michaelraines/opt/anaconda3/lib/python3.8/site-packages/sklearn/linear_model/_sag.py:352: ConvergenceWarning: The max_iter was reached which means the coef_ did not converge\n",
      "  warnings.warn(\n"
     ]
    },
    {
     "name": "stdout",
     "output_type": "stream",
     "text": [
      "[CV 2/5] END C=0.001, max_iter=1000, penalty=l2, solver=sag;, score=0.896 total time=   7.5s\n"
     ]
    },
    {
     "name": "stderr",
     "output_type": "stream",
     "text": [
      "/Users/michaelraines/opt/anaconda3/lib/python3.8/site-packages/sklearn/linear_model/_sag.py:352: ConvergenceWarning: The max_iter was reached which means the coef_ did not converge\n",
      "  warnings.warn(\n"
     ]
    },
    {
     "name": "stdout",
     "output_type": "stream",
     "text": [
      "[CV 3/5] END C=0.001, max_iter=1000, penalty=l2, solver=sag;, score=0.896 total time=   7.5s\n"
     ]
    },
    {
     "name": "stderr",
     "output_type": "stream",
     "text": [
      "/Users/michaelraines/opt/anaconda3/lib/python3.8/site-packages/sklearn/linear_model/_sag.py:352: ConvergenceWarning: The max_iter was reached which means the coef_ did not converge\n",
      "  warnings.warn(\n"
     ]
    },
    {
     "name": "stdout",
     "output_type": "stream",
     "text": [
      "[CV 4/5] END C=0.001, max_iter=1000, penalty=l2, solver=sag;, score=0.896 total time=   7.5s\n"
     ]
    },
    {
     "name": "stderr",
     "output_type": "stream",
     "text": [
      "/Users/michaelraines/opt/anaconda3/lib/python3.8/site-packages/sklearn/linear_model/_sag.py:352: ConvergenceWarning: The max_iter was reached which means the coef_ did not converge\n",
      "  warnings.warn(\n"
     ]
    },
    {
     "name": "stdout",
     "output_type": "stream",
     "text": [
      "[CV 5/5] END C=0.001, max_iter=1000, penalty=l2, solver=sag;, score=0.896 total time=   7.5s\n"
     ]
    },
    {
     "name": "stderr",
     "output_type": "stream",
     "text": [
      "/Users/michaelraines/opt/anaconda3/lib/python3.8/site-packages/sklearn/linear_model/_sag.py:352: ConvergenceWarning: The max_iter was reached which means the coef_ did not converge\n",
      "  warnings.warn(\n"
     ]
    },
    {
     "name": "stdout",
     "output_type": "stream",
     "text": [
      "[CV 1/5] END C=0.001, max_iter=1000, penalty=l2, solver=saga;, score=0.896 total time=   7.4s\n"
     ]
    },
    {
     "name": "stderr",
     "output_type": "stream",
     "text": [
      "/Users/michaelraines/opt/anaconda3/lib/python3.8/site-packages/sklearn/linear_model/_sag.py:352: ConvergenceWarning: The max_iter was reached which means the coef_ did not converge\n",
      "  warnings.warn(\n"
     ]
    },
    {
     "name": "stdout",
     "output_type": "stream",
     "text": [
      "[CV 2/5] END C=0.001, max_iter=1000, penalty=l2, solver=saga;, score=0.896 total time=   7.4s\n"
     ]
    },
    {
     "name": "stderr",
     "output_type": "stream",
     "text": [
      "/Users/michaelraines/opt/anaconda3/lib/python3.8/site-packages/sklearn/linear_model/_sag.py:352: ConvergenceWarning: The max_iter was reached which means the coef_ did not converge\n",
      "  warnings.warn(\n"
     ]
    },
    {
     "name": "stdout",
     "output_type": "stream",
     "text": [
      "[CV 3/5] END C=0.001, max_iter=1000, penalty=l2, solver=saga;, score=0.896 total time=   7.5s\n"
     ]
    },
    {
     "name": "stderr",
     "output_type": "stream",
     "text": [
      "/Users/michaelraines/opt/anaconda3/lib/python3.8/site-packages/sklearn/linear_model/_sag.py:352: ConvergenceWarning: The max_iter was reached which means the coef_ did not converge\n",
      "  warnings.warn(\n"
     ]
    },
    {
     "name": "stdout",
     "output_type": "stream",
     "text": [
      "[CV 4/5] END C=0.001, max_iter=1000, penalty=l2, solver=saga;, score=0.896 total time=   7.5s\n"
     ]
    },
    {
     "name": "stderr",
     "output_type": "stream",
     "text": [
      "/Users/michaelraines/opt/anaconda3/lib/python3.8/site-packages/sklearn/linear_model/_sag.py:352: ConvergenceWarning: The max_iter was reached which means the coef_ did not converge\n",
      "  warnings.warn(\n"
     ]
    },
    {
     "name": "stdout",
     "output_type": "stream",
     "text": [
      "[CV 5/5] END C=0.001, max_iter=1000, penalty=l2, solver=saga;, score=0.896 total time=   7.6s\n",
      "[CV 1/5] END C=0.001, max_iter=1000, penalty=l2, solver=liblinear;, score=0.896 total time=   0.1s\n",
      "[CV 2/5] END C=0.001, max_iter=1000, penalty=l2, solver=liblinear;, score=0.896 total time=   0.1s\n",
      "[CV 3/5] END C=0.001, max_iter=1000, penalty=l2, solver=liblinear;, score=0.896 total time=   0.1s\n",
      "[CV 4/5] END C=0.001, max_iter=1000, penalty=l2, solver=liblinear;, score=0.896 total time=   0.1s\n",
      "[CV 5/5] END C=0.001, max_iter=1000, penalty=l2, solver=liblinear;, score=0.896 total time=   0.1s\n",
      "[CV 1/5] END C=0.001, max_iter=1000, penalty=elasticnet, solver=newton-cg;, score=nan total time=   0.0s\n",
      "[CV 2/5] END C=0.001, max_iter=1000, penalty=elasticnet, solver=newton-cg;, score=nan total time=   0.0s\n",
      "[CV 3/5] END C=0.001, max_iter=1000, penalty=elasticnet, solver=newton-cg;, score=nan total time=   0.0s\n",
      "[CV 4/5] END C=0.001, max_iter=1000, penalty=elasticnet, solver=newton-cg;, score=nan total time=   0.0s\n",
      "[CV 5/5] END C=0.001, max_iter=1000, penalty=elasticnet, solver=newton-cg;, score=nan total time=   0.0s\n",
      "[CV 1/5] END C=0.001, max_iter=1000, penalty=elasticnet, solver=sag;, score=nan total time=   0.0s\n",
      "[CV 2/5] END C=0.001, max_iter=1000, penalty=elasticnet, solver=sag;, score=nan total time=   0.0s\n",
      "[CV 3/5] END C=0.001, max_iter=1000, penalty=elasticnet, solver=sag;, score=nan total time=   0.0s\n",
      "[CV 4/5] END C=0.001, max_iter=1000, penalty=elasticnet, solver=sag;, score=nan total time=   0.0s\n",
      "[CV 5/5] END C=0.001, max_iter=1000, penalty=elasticnet, solver=sag;, score=nan total time=   0.0s\n",
      "[CV 1/5] END C=0.001, max_iter=1000, penalty=elasticnet, solver=saga;, score=nan total time=   0.0s\n",
      "[CV 2/5] END C=0.001, max_iter=1000, penalty=elasticnet, solver=saga;, score=nan total time=   0.0s\n",
      "[CV 3/5] END C=0.001, max_iter=1000, penalty=elasticnet, solver=saga;, score=nan total time=   0.0s\n",
      "[CV 4/5] END C=0.001, max_iter=1000, penalty=elasticnet, solver=saga;, score=nan total time=   0.0s\n",
      "[CV 5/5] END C=0.001, max_iter=1000, penalty=elasticnet, solver=saga;, score=nan total time=   0.0s\n",
      "[CV 1/5] END C=0.001, max_iter=1000, penalty=elasticnet, solver=liblinear;, score=nan total time=   0.0s\n",
      "[CV 2/5] END C=0.001, max_iter=1000, penalty=elasticnet, solver=liblinear;, score=nan total time=   0.0s\n",
      "[CV 3/5] END C=0.001, max_iter=1000, penalty=elasticnet, solver=liblinear;, score=nan total time=   0.0s\n",
      "[CV 4/5] END C=0.001, max_iter=1000, penalty=elasticnet, solver=liblinear;, score=nan total time=   0.0s\n",
      "[CV 5/5] END C=0.001, max_iter=1000, penalty=elasticnet, solver=liblinear;, score=nan total time=   0.0s\n",
      "[CV 1/5] END C=0.001, max_iter=1500, penalty=l1, solver=newton-cg;, score=nan total time=   0.0s\n",
      "[CV 2/5] END C=0.001, max_iter=1500, penalty=l1, solver=newton-cg;, score=nan total time=   0.0s\n",
      "[CV 3/5] END C=0.001, max_iter=1500, penalty=l1, solver=newton-cg;, score=nan total time=   0.0s\n",
      "[CV 4/5] END C=0.001, max_iter=1500, penalty=l1, solver=newton-cg;, score=nan total time=   0.0s\n",
      "[CV 5/5] END C=0.001, max_iter=1500, penalty=l1, solver=newton-cg;, score=nan total time=   0.0s\n",
      "[CV 1/5] END C=0.001, max_iter=1500, penalty=l1, solver=sag;, score=nan total time=   0.0s\n",
      "[CV 2/5] END C=0.001, max_iter=1500, penalty=l1, solver=sag;, score=nan total time=   0.0s\n",
      "[CV 3/5] END C=0.001, max_iter=1500, penalty=l1, solver=sag;, score=nan total time=   0.0s\n",
      "[CV 4/5] END C=0.001, max_iter=1500, penalty=l1, solver=sag;, score=nan total time=   0.0s\n",
      "[CV 5/5] END C=0.001, max_iter=1500, penalty=l1, solver=sag;, score=nan total time=   0.0s\n"
     ]
    },
    {
     "name": "stderr",
     "output_type": "stream",
     "text": [
      "/Users/michaelraines/opt/anaconda3/lib/python3.8/site-packages/sklearn/linear_model/_sag.py:352: ConvergenceWarning: The max_iter was reached which means the coef_ did not converge\n",
      "  warnings.warn(\n"
     ]
    },
    {
     "name": "stdout",
     "output_type": "stream",
     "text": [
      "[CV 1/5] END C=0.001, max_iter=1500, penalty=l1, solver=saga;, score=0.896 total time=  12.3s\n"
     ]
    },
    {
     "name": "stderr",
     "output_type": "stream",
     "text": [
      "/Users/michaelraines/opt/anaconda3/lib/python3.8/site-packages/sklearn/linear_model/_sag.py:352: ConvergenceWarning: The max_iter was reached which means the coef_ did not converge\n",
      "  warnings.warn(\n"
     ]
    },
    {
     "name": "stdout",
     "output_type": "stream",
     "text": [
      "[CV 2/5] END C=0.001, max_iter=1500, penalty=l1, solver=saga;, score=0.896 total time=  12.5s\n"
     ]
    },
    {
     "name": "stderr",
     "output_type": "stream",
     "text": [
      "/Users/michaelraines/opt/anaconda3/lib/python3.8/site-packages/sklearn/linear_model/_sag.py:352: ConvergenceWarning: The max_iter was reached which means the coef_ did not converge\n",
      "  warnings.warn(\n"
     ]
    },
    {
     "name": "stdout",
     "output_type": "stream",
     "text": [
      "[CV 3/5] END C=0.001, max_iter=1500, penalty=l1, solver=saga;, score=0.896 total time=  12.6s\n"
     ]
    },
    {
     "name": "stderr",
     "output_type": "stream",
     "text": [
      "/Users/michaelraines/opt/anaconda3/lib/python3.8/site-packages/sklearn/linear_model/_sag.py:352: ConvergenceWarning: The max_iter was reached which means the coef_ did not converge\n",
      "  warnings.warn(\n"
     ]
    },
    {
     "name": "stdout",
     "output_type": "stream",
     "text": [
      "[CV 4/5] END C=0.001, max_iter=1500, penalty=l1, solver=saga;, score=0.896 total time=  12.7s\n"
     ]
    },
    {
     "name": "stderr",
     "output_type": "stream",
     "text": [
      "/Users/michaelraines/opt/anaconda3/lib/python3.8/site-packages/sklearn/linear_model/_sag.py:352: ConvergenceWarning: The max_iter was reached which means the coef_ did not converge\n",
      "  warnings.warn(\n"
     ]
    },
    {
     "name": "stdout",
     "output_type": "stream",
     "text": [
      "[CV 5/5] END C=0.001, max_iter=1500, penalty=l1, solver=saga;, score=0.896 total time=  12.3s\n",
      "[CV 1/5] END C=0.001, max_iter=1500, penalty=l1, solver=liblinear;, score=0.896 total time=   0.1s\n",
      "[CV 2/5] END C=0.001, max_iter=1500, penalty=l1, solver=liblinear;, score=0.896 total time=   0.1s\n",
      "[CV 3/5] END C=0.001, max_iter=1500, penalty=l1, solver=liblinear;, score=0.896 total time=   0.0s\n",
      "[CV 4/5] END C=0.001, max_iter=1500, penalty=l1, solver=liblinear;, score=0.896 total time=   0.1s\n",
      "[CV 5/5] END C=0.001, max_iter=1500, penalty=l1, solver=liblinear;, score=0.896 total time=   0.1s\n",
      "[CV 1/5] END C=0.001, max_iter=1500, penalty=l2, solver=newton-cg;, score=0.896 total time=   0.5s\n",
      "[CV 2/5] END C=0.001, max_iter=1500, penalty=l2, solver=newton-cg;, score=0.896 total time=   0.5s\n",
      "[CV 3/5] END C=0.001, max_iter=1500, penalty=l2, solver=newton-cg;, score=0.896 total time=   0.4s\n",
      "[CV 4/5] END C=0.001, max_iter=1500, penalty=l2, solver=newton-cg;, score=0.896 total time=   0.5s\n",
      "[CV 5/5] END C=0.001, max_iter=1500, penalty=l2, solver=newton-cg;, score=0.896 total time=   0.5s\n",
      "[CV 1/5] END C=0.001, max_iter=1500, penalty=l2, solver=sag;, score=0.896 total time=   9.5s\n",
      "[CV 2/5] END C=0.001, max_iter=1500, penalty=l2, solver=sag;, score=0.896 total time=   9.7s\n",
      "[CV 3/5] END C=0.001, max_iter=1500, penalty=l2, solver=sag;, score=0.896 total time=  10.6s\n"
     ]
    },
    {
     "name": "stderr",
     "output_type": "stream",
     "text": [
      "/Users/michaelraines/opt/anaconda3/lib/python3.8/site-packages/sklearn/linear_model/_sag.py:352: ConvergenceWarning: The max_iter was reached which means the coef_ did not converge\n",
      "  warnings.warn(\n"
     ]
    },
    {
     "name": "stdout",
     "output_type": "stream",
     "text": [
      "[CV 4/5] END C=0.001, max_iter=1500, penalty=l2, solver=sag;, score=0.896 total time=  11.4s\n",
      "[CV 5/5] END C=0.001, max_iter=1500, penalty=l2, solver=sag;, score=0.896 total time=   9.6s\n"
     ]
    },
    {
     "name": "stderr",
     "output_type": "stream",
     "text": [
      "/Users/michaelraines/opt/anaconda3/lib/python3.8/site-packages/sklearn/linear_model/_sag.py:352: ConvergenceWarning: The max_iter was reached which means the coef_ did not converge\n",
      "  warnings.warn(\n"
     ]
    },
    {
     "name": "stdout",
     "output_type": "stream",
     "text": [
      "[CV 1/5] END C=0.001, max_iter=1500, penalty=l2, solver=saga;, score=0.896 total time=  11.2s\n"
     ]
    },
    {
     "name": "stderr",
     "output_type": "stream",
     "text": [
      "/Users/michaelraines/opt/anaconda3/lib/python3.8/site-packages/sklearn/linear_model/_sag.py:352: ConvergenceWarning: The max_iter was reached which means the coef_ did not converge\n",
      "  warnings.warn(\n"
     ]
    },
    {
     "name": "stdout",
     "output_type": "stream",
     "text": [
      "[CV 2/5] END C=0.001, max_iter=1500, penalty=l2, solver=saga;, score=0.896 total time=  11.4s\n"
     ]
    },
    {
     "name": "stderr",
     "output_type": "stream",
     "text": [
      "/Users/michaelraines/opt/anaconda3/lib/python3.8/site-packages/sklearn/linear_model/_sag.py:352: ConvergenceWarning: The max_iter was reached which means the coef_ did not converge\n",
      "  warnings.warn(\n"
     ]
    },
    {
     "name": "stdout",
     "output_type": "stream",
     "text": [
      "[CV 3/5] END C=0.001, max_iter=1500, penalty=l2, solver=saga;, score=0.896 total time=  11.2s\n"
     ]
    },
    {
     "name": "stderr",
     "output_type": "stream",
     "text": [
      "/Users/michaelraines/opt/anaconda3/lib/python3.8/site-packages/sklearn/linear_model/_sag.py:352: ConvergenceWarning: The max_iter was reached which means the coef_ did not converge\n",
      "  warnings.warn(\n"
     ]
    },
    {
     "name": "stdout",
     "output_type": "stream",
     "text": [
      "[CV 4/5] END C=0.001, max_iter=1500, penalty=l2, solver=saga;, score=0.896 total time=  11.2s\n"
     ]
    },
    {
     "name": "stderr",
     "output_type": "stream",
     "text": [
      "/Users/michaelraines/opt/anaconda3/lib/python3.8/site-packages/sklearn/linear_model/_sag.py:352: ConvergenceWarning: The max_iter was reached which means the coef_ did not converge\n",
      "  warnings.warn(\n"
     ]
    },
    {
     "name": "stdout",
     "output_type": "stream",
     "text": [
      "[CV 5/5] END C=0.001, max_iter=1500, penalty=l2, solver=saga;, score=0.896 total time=  11.2s\n",
      "[CV 1/5] END C=0.001, max_iter=1500, penalty=l2, solver=liblinear;, score=0.896 total time=   0.1s\n",
      "[CV 2/5] END C=0.001, max_iter=1500, penalty=l2, solver=liblinear;, score=0.896 total time=   0.1s\n",
      "[CV 3/5] END C=0.001, max_iter=1500, penalty=l2, solver=liblinear;, score=0.896 total time=   0.1s\n",
      "[CV 4/5] END C=0.001, max_iter=1500, penalty=l2, solver=liblinear;, score=0.896 total time=   0.1s\n",
      "[CV 5/5] END C=0.001, max_iter=1500, penalty=l2, solver=liblinear;, score=0.896 total time=   0.1s\n",
      "[CV 1/5] END C=0.001, max_iter=1500, penalty=elasticnet, solver=newton-cg;, score=nan total time=   0.0s\n",
      "[CV 2/5] END C=0.001, max_iter=1500, penalty=elasticnet, solver=newton-cg;, score=nan total time=   0.0s\n",
      "[CV 3/5] END C=0.001, max_iter=1500, penalty=elasticnet, solver=newton-cg;, score=nan total time=   0.0s\n",
      "[CV 4/5] END C=0.001, max_iter=1500, penalty=elasticnet, solver=newton-cg;, score=nan total time=   0.0s\n",
      "[CV 5/5] END C=0.001, max_iter=1500, penalty=elasticnet, solver=newton-cg;, score=nan total time=   0.0s\n",
      "[CV 1/5] END C=0.001, max_iter=1500, penalty=elasticnet, solver=sag;, score=nan total time=   0.0s\n",
      "[CV 2/5] END C=0.001, max_iter=1500, penalty=elasticnet, solver=sag;, score=nan total time=   0.0s\n",
      "[CV 3/5] END C=0.001, max_iter=1500, penalty=elasticnet, solver=sag;, score=nan total time=   0.0s\n",
      "[CV 4/5] END C=0.001, max_iter=1500, penalty=elasticnet, solver=sag;, score=nan total time=   0.0s\n",
      "[CV 5/5] END C=0.001, max_iter=1500, penalty=elasticnet, solver=sag;, score=nan total time=   0.0s\n",
      "[CV 1/5] END C=0.001, max_iter=1500, penalty=elasticnet, solver=saga;, score=nan total time=   0.0s\n",
      "[CV 2/5] END C=0.001, max_iter=1500, penalty=elasticnet, solver=saga;, score=nan total time=   0.0s\n",
      "[CV 3/5] END C=0.001, max_iter=1500, penalty=elasticnet, solver=saga;, score=nan total time=   0.0s\n",
      "[CV 4/5] END C=0.001, max_iter=1500, penalty=elasticnet, solver=saga;, score=nan total time=   0.0s\n",
      "[CV 5/5] END C=0.001, max_iter=1500, penalty=elasticnet, solver=saga;, score=nan total time=   0.0s\n",
      "[CV 1/5] END C=0.001, max_iter=1500, penalty=elasticnet, solver=liblinear;, score=nan total time=   0.0s\n",
      "[CV 2/5] END C=0.001, max_iter=1500, penalty=elasticnet, solver=liblinear;, score=nan total time=   0.0s\n",
      "[CV 3/5] END C=0.001, max_iter=1500, penalty=elasticnet, solver=liblinear;, score=nan total time=   0.0s\n",
      "[CV 4/5] END C=0.001, max_iter=1500, penalty=elasticnet, solver=liblinear;, score=nan total time=   0.0s\n",
      "[CV 5/5] END C=0.001, max_iter=1500, penalty=elasticnet, solver=liblinear;, score=nan total time=   0.0s\n",
      "[CV 1/5] END C=0.001, max_iter=2000, penalty=l1, solver=newton-cg;, score=nan total time=   0.0s\n",
      "[CV 2/5] END C=0.001, max_iter=2000, penalty=l1, solver=newton-cg;, score=nan total time=   0.0s\n",
      "[CV 3/5] END C=0.001, max_iter=2000, penalty=l1, solver=newton-cg;, score=nan total time=   0.0s\n",
      "[CV 4/5] END C=0.001, max_iter=2000, penalty=l1, solver=newton-cg;, score=nan total time=   0.0s\n",
      "[CV 5/5] END C=0.001, max_iter=2000, penalty=l1, solver=newton-cg;, score=nan total time=   0.0s\n",
      "[CV 1/5] END C=0.001, max_iter=2000, penalty=l1, solver=sag;, score=nan total time=   0.0s\n",
      "[CV 2/5] END C=0.001, max_iter=2000, penalty=l1, solver=sag;, score=nan total time=   0.0s\n",
      "[CV 3/5] END C=0.001, max_iter=2000, penalty=l1, solver=sag;, score=nan total time=   0.0s\n",
      "[CV 4/5] END C=0.001, max_iter=2000, penalty=l1, solver=sag;, score=nan total time=   0.0s\n",
      "[CV 5/5] END C=0.001, max_iter=2000, penalty=l1, solver=sag;, score=nan total time=   0.0s\n",
      "[CV 1/5] END C=0.001, max_iter=2000, penalty=l1, solver=saga;, score=0.896 total time=  15.1s\n",
      "[CV 2/5] END C=0.001, max_iter=2000, penalty=l1, solver=saga;, score=0.896 total time=  15.4s\n"
     ]
    },
    {
     "name": "stderr",
     "output_type": "stream",
     "text": [
      "/Users/michaelraines/opt/anaconda3/lib/python3.8/site-packages/sklearn/linear_model/_sag.py:352: ConvergenceWarning: The max_iter was reached which means the coef_ did not converge\n",
      "  warnings.warn(\n"
     ]
    },
    {
     "name": "stdout",
     "output_type": "stream",
     "text": [
      "[CV 3/5] END C=0.001, max_iter=2000, penalty=l1, solver=saga;, score=0.896 total time=  16.1s\n"
     ]
    },
    {
     "name": "stderr",
     "output_type": "stream",
     "text": [
      "/Users/michaelraines/opt/anaconda3/lib/python3.8/site-packages/sklearn/linear_model/_sag.py:352: ConvergenceWarning: The max_iter was reached which means the coef_ did not converge\n",
      "  warnings.warn(\n"
     ]
    },
    {
     "name": "stdout",
     "output_type": "stream",
     "text": [
      "[CV 4/5] END C=0.001, max_iter=2000, penalty=l1, solver=saga;, score=0.896 total time=  16.3s\n",
      "[CV 5/5] END C=0.001, max_iter=2000, penalty=l1, solver=saga;, score=0.896 total time=  15.5s\n",
      "[CV 1/5] END C=0.001, max_iter=2000, penalty=l1, solver=liblinear;, score=0.896 total time=   0.0s\n",
      "[CV 2/5] END C=0.001, max_iter=2000, penalty=l1, solver=liblinear;, score=0.896 total time=   0.0s\n",
      "[CV 3/5] END C=0.001, max_iter=2000, penalty=l1, solver=liblinear;, score=0.896 total time=   0.0s\n",
      "[CV 4/5] END C=0.001, max_iter=2000, penalty=l1, solver=liblinear;, score=0.896 total time=   0.1s\n",
      "[CV 5/5] END C=0.001, max_iter=2000, penalty=l1, solver=liblinear;, score=0.896 total time=   0.1s\n",
      "[CV 1/5] END C=0.001, max_iter=2000, penalty=l2, solver=newton-cg;, score=0.896 total time=   0.4s\n",
      "[CV 2/5] END C=0.001, max_iter=2000, penalty=l2, solver=newton-cg;, score=0.896 total time=   0.5s\n",
      "[CV 3/5] END C=0.001, max_iter=2000, penalty=l2, solver=newton-cg;, score=0.896 total time=   0.4s\n",
      "[CV 4/5] END C=0.001, max_iter=2000, penalty=l2, solver=newton-cg;, score=0.896 total time=   0.4s\n",
      "[CV 5/5] END C=0.001, max_iter=2000, penalty=l2, solver=newton-cg;, score=0.896 total time=   0.4s\n",
      "[CV 1/5] END C=0.001, max_iter=2000, penalty=l2, solver=sag;, score=0.896 total time=   9.6s\n",
      "[CV 2/5] END C=0.001, max_iter=2000, penalty=l2, solver=sag;, score=0.896 total time=   9.7s\n",
      "[CV 3/5] END C=0.001, max_iter=2000, penalty=l2, solver=sag;, score=0.896 total time=  10.5s\n"
     ]
    },
    {
     "name": "stderr",
     "output_type": "stream",
     "text": [
      "/Users/michaelraines/opt/anaconda3/lib/python3.8/site-packages/sklearn/linear_model/_sag.py:352: ConvergenceWarning: The max_iter was reached which means the coef_ did not converge\n",
      "  warnings.warn(\n"
     ]
    },
    {
     "name": "stdout",
     "output_type": "stream",
     "text": [
      "[CV 4/5] END C=0.001, max_iter=2000, penalty=l2, solver=sag;, score=0.896 total time=  15.0s\n",
      "[CV 5/5] END C=0.001, max_iter=2000, penalty=l2, solver=sag;, score=0.896 total time=   9.9s\n",
      "[CV 1/5] END C=0.001, max_iter=2000, penalty=l2, solver=saga;, score=0.896 total time=  15.6s\n",
      "[CV 2/5] END C=0.001, max_iter=2000, penalty=l2, solver=saga;, score=0.896 total time=  14.9s\n"
     ]
    },
    {
     "name": "stderr",
     "output_type": "stream",
     "text": [
      "/Users/michaelraines/opt/anaconda3/lib/python3.8/site-packages/sklearn/linear_model/_sag.py:352: ConvergenceWarning: The max_iter was reached which means the coef_ did not converge\n",
      "  warnings.warn(\n"
     ]
    },
    {
     "name": "stdout",
     "output_type": "stream",
     "text": [
      "[CV 3/5] END C=0.001, max_iter=2000, penalty=l2, solver=saga;, score=0.896 total time=  16.6s\n"
     ]
    },
    {
     "name": "stderr",
     "output_type": "stream",
     "text": [
      "/Users/michaelraines/opt/anaconda3/lib/python3.8/site-packages/sklearn/linear_model/_sag.py:352: ConvergenceWarning: The max_iter was reached which means the coef_ did not converge\n",
      "  warnings.warn(\n"
     ]
    },
    {
     "name": "stdout",
     "output_type": "stream",
     "text": [
      "[CV 4/5] END C=0.001, max_iter=2000, penalty=l2, solver=saga;, score=0.896 total time=  18.3s\n",
      "[CV 5/5] END C=0.001, max_iter=2000, penalty=l2, solver=saga;, score=0.896 total time=  16.2s\n",
      "[CV 1/5] END C=0.001, max_iter=2000, penalty=l2, solver=liblinear;, score=0.896 total time=   0.1s\n",
      "[CV 2/5] END C=0.001, max_iter=2000, penalty=l2, solver=liblinear;, score=0.896 total time=   0.1s\n",
      "[CV 3/5] END C=0.001, max_iter=2000, penalty=l2, solver=liblinear;, score=0.896 total time=   0.1s\n",
      "[CV 4/5] END C=0.001, max_iter=2000, penalty=l2, solver=liblinear;, score=0.896 total time=   0.1s\n",
      "[CV 5/5] END C=0.001, max_iter=2000, penalty=l2, solver=liblinear;, score=0.896 total time=   0.1s\n",
      "[CV 1/5] END C=0.001, max_iter=2000, penalty=elasticnet, solver=newton-cg;, score=nan total time=   0.0s\n",
      "[CV 2/5] END C=0.001, max_iter=2000, penalty=elasticnet, solver=newton-cg;, score=nan total time=   0.0s\n",
      "[CV 3/5] END C=0.001, max_iter=2000, penalty=elasticnet, solver=newton-cg;, score=nan total time=   0.0s\n",
      "[CV 4/5] END C=0.001, max_iter=2000, penalty=elasticnet, solver=newton-cg;, score=nan total time=   0.0s\n",
      "[CV 5/5] END C=0.001, max_iter=2000, penalty=elasticnet, solver=newton-cg;, score=nan total time=   0.0s\n",
      "[CV 1/5] END C=0.001, max_iter=2000, penalty=elasticnet, solver=sag;, score=nan total time=   0.0s\n",
      "[CV 2/5] END C=0.001, max_iter=2000, penalty=elasticnet, solver=sag;, score=nan total time=   0.0s\n",
      "[CV 3/5] END C=0.001, max_iter=2000, penalty=elasticnet, solver=sag;, score=nan total time=   0.0s\n",
      "[CV 4/5] END C=0.001, max_iter=2000, penalty=elasticnet, solver=sag;, score=nan total time=   0.0s\n",
      "[CV 5/5] END C=0.001, max_iter=2000, penalty=elasticnet, solver=sag;, score=nan total time=   0.0s\n",
      "[CV 1/5] END C=0.001, max_iter=2000, penalty=elasticnet, solver=saga;, score=nan total time=   0.0s\n",
      "[CV 2/5] END C=0.001, max_iter=2000, penalty=elasticnet, solver=saga;, score=nan total time=   0.0s\n",
      "[CV 3/5] END C=0.001, max_iter=2000, penalty=elasticnet, solver=saga;, score=nan total time=   0.0s\n",
      "[CV 4/5] END C=0.001, max_iter=2000, penalty=elasticnet, solver=saga;, score=nan total time=   0.0s\n",
      "[CV 5/5] END C=0.001, max_iter=2000, penalty=elasticnet, solver=saga;, score=nan total time=   0.0s\n",
      "[CV 1/5] END C=0.001, max_iter=2000, penalty=elasticnet, solver=liblinear;, score=nan total time=   0.0s\n",
      "[CV 2/5] END C=0.001, max_iter=2000, penalty=elasticnet, solver=liblinear;, score=nan total time=   0.0s\n",
      "[CV 3/5] END C=0.001, max_iter=2000, penalty=elasticnet, solver=liblinear;, score=nan total time=   0.0s\n",
      "[CV 4/5] END C=0.001, max_iter=2000, penalty=elasticnet, solver=liblinear;, score=nan total time=   0.0s\n",
      "[CV 5/5] END C=0.001, max_iter=2000, penalty=elasticnet, solver=liblinear;, score=nan total time=   0.0s\n",
      "[CV 1/5] END C=0.001, max_iter=4000, penalty=l1, solver=newton-cg;, score=nan total time=   0.0s\n",
      "[CV 2/5] END C=0.001, max_iter=4000, penalty=l1, solver=newton-cg;, score=nan total time=   0.0s\n",
      "[CV 3/5] END C=0.001, max_iter=4000, penalty=l1, solver=newton-cg;, score=nan total time=   0.0s\n",
      "[CV 4/5] END C=0.001, max_iter=4000, penalty=l1, solver=newton-cg;, score=nan total time=   0.0s\n",
      "[CV 5/5] END C=0.001, max_iter=4000, penalty=l1, solver=newton-cg;, score=nan total time=   0.0s\n",
      "[CV 1/5] END C=0.001, max_iter=4000, penalty=l1, solver=sag;, score=nan total time=   0.0s\n",
      "[CV 2/5] END C=0.001, max_iter=4000, penalty=l1, solver=sag;, score=nan total time=   0.0s\n",
      "[CV 3/5] END C=0.001, max_iter=4000, penalty=l1, solver=sag;, score=nan total time=   0.0s\n",
      "[CV 4/5] END C=0.001, max_iter=4000, penalty=l1, solver=sag;, score=nan total time=   0.0s\n",
      "[CV 5/5] END C=0.001, max_iter=4000, penalty=l1, solver=sag;, score=nan total time=   0.0s\n",
      "[CV 1/5] END C=0.001, max_iter=4000, penalty=l1, solver=saga;, score=0.896 total time=  17.0s\n",
      "[CV 2/5] END C=0.001, max_iter=4000, penalty=l1, solver=saga;, score=0.896 total time=  16.9s\n",
      "[CV 3/5] END C=0.001, max_iter=4000, penalty=l1, solver=saga;, score=0.896 total time=  17.2s\n"
     ]
    },
    {
     "name": "stderr",
     "output_type": "stream",
     "text": [
      "/Users/michaelraines/opt/anaconda3/lib/python3.8/site-packages/sklearn/linear_model/_sag.py:352: ConvergenceWarning: The max_iter was reached which means the coef_ did not converge\n",
      "  warnings.warn(\n"
     ]
    },
    {
     "name": "stdout",
     "output_type": "stream",
     "text": [
      "[CV 4/5] END C=0.001, max_iter=4000, penalty=l1, solver=saga;, score=0.896 total time=  32.4s\n",
      "[CV 5/5] END C=0.001, max_iter=4000, penalty=l1, solver=saga;, score=0.896 total time=  15.5s\n",
      "[CV 1/5] END C=0.001, max_iter=4000, penalty=l1, solver=liblinear;, score=0.896 total time=   0.1s\n",
      "[CV 2/5] END C=0.001, max_iter=4000, penalty=l1, solver=liblinear;, score=0.896 total time=   0.0s\n",
      "[CV 3/5] END C=0.001, max_iter=4000, penalty=l1, solver=liblinear;, score=0.896 total time=   0.1s\n",
      "[CV 4/5] END C=0.001, max_iter=4000, penalty=l1, solver=liblinear;, score=0.896 total time=   0.1s\n",
      "[CV 5/5] END C=0.001, max_iter=4000, penalty=l1, solver=liblinear;, score=0.896 total time=   0.1s\n",
      "[CV 1/5] END C=0.001, max_iter=4000, penalty=l2, solver=newton-cg;, score=0.896 total time=   0.5s\n",
      "[CV 2/5] END C=0.001, max_iter=4000, penalty=l2, solver=newton-cg;, score=0.896 total time=   0.4s\n",
      "[CV 3/5] END C=0.001, max_iter=4000, penalty=l2, solver=newton-cg;, score=0.896 total time=   0.4s\n",
      "[CV 4/5] END C=0.001, max_iter=4000, penalty=l2, solver=newton-cg;, score=0.896 total time=   0.5s\n",
      "[CV 5/5] END C=0.001, max_iter=4000, penalty=l2, solver=newton-cg;, score=0.896 total time=   0.5s\n",
      "[CV 1/5] END C=0.001, max_iter=4000, penalty=l2, solver=sag;, score=0.896 total time=  10.3s\n",
      "[CV 2/5] END C=0.001, max_iter=4000, penalty=l2, solver=sag;, score=0.896 total time=   9.8s\n",
      "[CV 3/5] END C=0.001, max_iter=4000, penalty=l2, solver=sag;, score=0.896 total time=  11.6s\n"
     ]
    },
    {
     "name": "stderr",
     "output_type": "stream",
     "text": [
      "/Users/michaelraines/opt/anaconda3/lib/python3.8/site-packages/sklearn/linear_model/_sag.py:352: ConvergenceWarning: The max_iter was reached which means the coef_ did not converge\n",
      "  warnings.warn(\n"
     ]
    },
    {
     "name": "stdout",
     "output_type": "stream",
     "text": [
      "[CV 4/5] END C=0.001, max_iter=4000, penalty=l2, solver=sag;, score=0.896 total time=  32.2s\n",
      "[CV 5/5] END C=0.001, max_iter=4000, penalty=l2, solver=sag;, score=0.896 total time=   9.9s\n",
      "[CV 1/5] END C=0.001, max_iter=4000, penalty=l2, solver=saga;, score=0.896 total time=  14.1s\n",
      "[CV 2/5] END C=0.001, max_iter=4000, penalty=l2, solver=saga;, score=0.896 total time=  14.3s\n",
      "[CV 3/5] END C=0.001, max_iter=4000, penalty=l2, solver=saga;, score=0.896 total time=  15.6s\n"
     ]
    },
    {
     "name": "stderr",
     "output_type": "stream",
     "text": [
      "/Users/michaelraines/opt/anaconda3/lib/python3.8/site-packages/sklearn/linear_model/_sag.py:352: ConvergenceWarning: The max_iter was reached which means the coef_ did not converge\n",
      "  warnings.warn(\n"
     ]
    },
    {
     "name": "stdout",
     "output_type": "stream",
     "text": [
      "[CV 4/5] END C=0.001, max_iter=4000, penalty=l2, solver=saga;, score=0.896 total time=  32.2s\n",
      "[CV 5/5] END C=0.001, max_iter=4000, penalty=l2, solver=saga;, score=0.896 total time=  14.7s\n",
      "[CV 1/5] END C=0.001, max_iter=4000, penalty=l2, solver=liblinear;, score=0.896 total time=   0.1s\n",
      "[CV 2/5] END C=0.001, max_iter=4000, penalty=l2, solver=liblinear;, score=0.896 total time=   0.1s\n",
      "[CV 3/5] END C=0.001, max_iter=4000, penalty=l2, solver=liblinear;, score=0.896 total time=   0.1s\n",
      "[CV 4/5] END C=0.001, max_iter=4000, penalty=l2, solver=liblinear;, score=0.896 total time=   0.1s\n",
      "[CV 5/5] END C=0.001, max_iter=4000, penalty=l2, solver=liblinear;, score=0.896 total time=   0.1s\n",
      "[CV 1/5] END C=0.001, max_iter=4000, penalty=elasticnet, solver=newton-cg;, score=nan total time=   0.0s\n",
      "[CV 2/5] END C=0.001, max_iter=4000, penalty=elasticnet, solver=newton-cg;, score=nan total time=   0.0s\n",
      "[CV 3/5] END C=0.001, max_iter=4000, penalty=elasticnet, solver=newton-cg;, score=nan total time=   0.0s\n",
      "[CV 4/5] END C=0.001, max_iter=4000, penalty=elasticnet, solver=newton-cg;, score=nan total time=   0.0s\n",
      "[CV 5/5] END C=0.001, max_iter=4000, penalty=elasticnet, solver=newton-cg;, score=nan total time=   0.0s\n",
      "[CV 1/5] END C=0.001, max_iter=4000, penalty=elasticnet, solver=sag;, score=nan total time=   0.0s\n",
      "[CV 2/5] END C=0.001, max_iter=4000, penalty=elasticnet, solver=sag;, score=nan total time=   0.0s\n",
      "[CV 3/5] END C=0.001, max_iter=4000, penalty=elasticnet, solver=sag;, score=nan total time=   0.0s\n",
      "[CV 4/5] END C=0.001, max_iter=4000, penalty=elasticnet, solver=sag;, score=nan total time=   0.0s\n",
      "[CV 5/5] END C=0.001, max_iter=4000, penalty=elasticnet, solver=sag;, score=nan total time=   0.0s\n",
      "[CV 1/5] END C=0.001, max_iter=4000, penalty=elasticnet, solver=saga;, score=nan total time=   0.0s\n",
      "[CV 2/5] END C=0.001, max_iter=4000, penalty=elasticnet, solver=saga;, score=nan total time=   0.0s\n",
      "[CV 3/5] END C=0.001, max_iter=4000, penalty=elasticnet, solver=saga;, score=nan total time=   0.0s\n",
      "[CV 4/5] END C=0.001, max_iter=4000, penalty=elasticnet, solver=saga;, score=nan total time=   0.0s\n",
      "[CV 5/5] END C=0.001, max_iter=4000, penalty=elasticnet, solver=saga;, score=nan total time=   0.0s\n",
      "[CV 1/5] END C=0.001, max_iter=4000, penalty=elasticnet, solver=liblinear;, score=nan total time=   0.0s\n",
      "[CV 2/5] END C=0.001, max_iter=4000, penalty=elasticnet, solver=liblinear;, score=nan total time=   0.0s\n",
      "[CV 3/5] END C=0.001, max_iter=4000, penalty=elasticnet, solver=liblinear;, score=nan total time=   0.0s\n",
      "[CV 4/5] END C=0.001, max_iter=4000, penalty=elasticnet, solver=liblinear;, score=nan total time=   0.0s\n",
      "[CV 5/5] END C=0.001, max_iter=4000, penalty=elasticnet, solver=liblinear;, score=nan total time=   0.0s\n"
     ]
    },
    {
     "name": "stderr",
     "output_type": "stream",
     "text": [
      "/Users/michaelraines/opt/anaconda3/lib/python3.8/site-packages/sklearn/model_selection/_validation.py:372: FitFailedWarning: \n",
      "600 fits failed out of a total of 1200.\n",
      "The score on these train-test partitions for these parameters will be set to nan.\n",
      "If these failures are not expected, you can try to debug them by setting error_score='raise'.\n",
      "\n",
      "Below are more details about the failures:\n",
      "--------------------------------------------------------------------------------\n",
      "100 fits failed with the following error:\n",
      "Traceback (most recent call last):\n",
      "  File \"/Users/michaelraines/opt/anaconda3/lib/python3.8/site-packages/sklearn/model_selection/_validation.py\", line 680, in _fit_and_score\n",
      "    estimator.fit(X_train, y_train, **fit_params)\n",
      "  File \"/Users/michaelraines/opt/anaconda3/lib/python3.8/site-packages/sklearn/linear_model/_logistic.py\", line 1461, in fit\n",
      "    solver = _check_solver(self.solver, self.penalty, self.dual)\n",
      "  File \"/Users/michaelraines/opt/anaconda3/lib/python3.8/site-packages/sklearn/linear_model/_logistic.py\", line 447, in _check_solver\n",
      "    raise ValueError(\n",
      "ValueError: Solver newton-cg supports only 'l2' or 'none' penalties, got l1 penalty.\n",
      "\n",
      "--------------------------------------------------------------------------------\n",
      "100 fits failed with the following error:\n",
      "Traceback (most recent call last):\n",
      "  File \"/Users/michaelraines/opt/anaconda3/lib/python3.8/site-packages/sklearn/model_selection/_validation.py\", line 680, in _fit_and_score\n",
      "    estimator.fit(X_train, y_train, **fit_params)\n",
      "  File \"/Users/michaelraines/opt/anaconda3/lib/python3.8/site-packages/sklearn/linear_model/_logistic.py\", line 1461, in fit\n",
      "    solver = _check_solver(self.solver, self.penalty, self.dual)\n",
      "  File \"/Users/michaelraines/opt/anaconda3/lib/python3.8/site-packages/sklearn/linear_model/_logistic.py\", line 447, in _check_solver\n",
      "    raise ValueError(\n",
      "ValueError: Solver sag supports only 'l2' or 'none' penalties, got l1 penalty.\n",
      "\n",
      "--------------------------------------------------------------------------------\n",
      "100 fits failed with the following error:\n",
      "Traceback (most recent call last):\n",
      "  File \"/Users/michaelraines/opt/anaconda3/lib/python3.8/site-packages/sklearn/model_selection/_validation.py\", line 680, in _fit_and_score\n",
      "    estimator.fit(X_train, y_train, **fit_params)\n",
      "  File \"/Users/michaelraines/opt/anaconda3/lib/python3.8/site-packages/sklearn/linear_model/_logistic.py\", line 1461, in fit\n",
      "    solver = _check_solver(self.solver, self.penalty, self.dual)\n",
      "  File \"/Users/michaelraines/opt/anaconda3/lib/python3.8/site-packages/sklearn/linear_model/_logistic.py\", line 447, in _check_solver\n",
      "    raise ValueError(\n",
      "ValueError: Solver newton-cg supports only 'l2' or 'none' penalties, got elasticnet penalty.\n",
      "\n",
      "--------------------------------------------------------------------------------\n",
      "100 fits failed with the following error:\n",
      "Traceback (most recent call last):\n",
      "  File \"/Users/michaelraines/opt/anaconda3/lib/python3.8/site-packages/sklearn/model_selection/_validation.py\", line 680, in _fit_and_score\n",
      "    estimator.fit(X_train, y_train, **fit_params)\n",
      "  File \"/Users/michaelraines/opt/anaconda3/lib/python3.8/site-packages/sklearn/linear_model/_logistic.py\", line 1461, in fit\n",
      "    solver = _check_solver(self.solver, self.penalty, self.dual)\n",
      "  File \"/Users/michaelraines/opt/anaconda3/lib/python3.8/site-packages/sklearn/linear_model/_logistic.py\", line 447, in _check_solver\n",
      "    raise ValueError(\n",
      "ValueError: Solver sag supports only 'l2' or 'none' penalties, got elasticnet penalty.\n",
      "\n",
      "--------------------------------------------------------------------------------\n",
      "100 fits failed with the following error:\n",
      "Traceback (most recent call last):\n",
      "  File \"/Users/michaelraines/opt/anaconda3/lib/python3.8/site-packages/sklearn/model_selection/_validation.py\", line 680, in _fit_and_score\n",
      "    estimator.fit(X_train, y_train, **fit_params)\n",
      "  File \"/Users/michaelraines/opt/anaconda3/lib/python3.8/site-packages/sklearn/linear_model/_logistic.py\", line 1471, in fit\n",
      "    raise ValueError(\n",
      "ValueError: l1_ratio must be between 0 and 1; got (l1_ratio=None)\n",
      "\n",
      "--------------------------------------------------------------------------------\n",
      "100 fits failed with the following error:\n",
      "Traceback (most recent call last):\n",
      "  File \"/Users/michaelraines/opt/anaconda3/lib/python3.8/site-packages/sklearn/model_selection/_validation.py\", line 680, in _fit_and_score\n",
      "    estimator.fit(X_train, y_train, **fit_params)\n",
      "  File \"/Users/michaelraines/opt/anaconda3/lib/python3.8/site-packages/sklearn/linear_model/_logistic.py\", line 1461, in fit\n",
      "    solver = _check_solver(self.solver, self.penalty, self.dual)\n",
      "  File \"/Users/michaelraines/opt/anaconda3/lib/python3.8/site-packages/sklearn/linear_model/_logistic.py\", line 457, in _check_solver\n",
      "    raise ValueError(\n",
      "ValueError: Only 'saga' solver supports elasticnet penalty, got solver=liblinear.\n",
      "\n",
      "  warnings.warn(some_fits_failed_message, FitFailedWarning)\n",
      "/Users/michaelraines/opt/anaconda3/lib/python3.8/site-packages/sklearn/model_selection/_search.py:969: UserWarning: One or more of the test scores are non-finite: [       nan        nan 0.89562667 0.91098667 0.91085333 0.89562667\n",
      " 0.89562667 0.91093333        nan        nan        nan        nan\n",
      "        nan        nan 0.89562667 0.91098667 0.91085333 0.89562667\n",
      " 0.89562667 0.91093333        nan        nan        nan        nan\n",
      "        nan        nan 0.89562667 0.91098667 0.91085333 0.89562667\n",
      " 0.89562667 0.91093333        nan        nan        nan        nan\n",
      "        nan        nan 0.89562667 0.91098667 0.91085333 0.89562667\n",
      " 0.89562667 0.91093333        nan        nan        nan        nan\n",
      "        nan        nan 0.89562667 0.91098667 0.91085333 0.89562667\n",
      " 0.89562667 0.91093333        nan        nan        nan        nan\n",
      "        nan        nan 0.89562667 0.91104    0.91114667 0.89562667\n",
      " 0.89562667 0.91109333        nan        nan        nan        nan\n",
      "        nan        nan 0.89562667 0.91104    0.91114667 0.89562667\n",
      " 0.89562667 0.91109333        nan        nan        nan        nan\n",
      "        nan        nan 0.89562667 0.91104    0.91114667 0.89562667\n",
      " 0.89562667 0.91109333        nan        nan        nan        nan\n",
      "        nan        nan 0.89562667 0.91104    0.91114667 0.89562667\n",
      " 0.89562667 0.91109333        nan        nan        nan        nan\n",
      "        nan        nan 0.89562667 0.91104    0.91114667 0.89562667\n",
      " 0.89562667 0.91109333        nan        nan        nan        nan\n",
      "        nan        nan 0.89562667 0.91042667 0.90509333 0.89562667\n",
      " 0.89562667 0.90533333        nan        nan        nan        nan\n",
      "        nan        nan 0.89562667 0.91042667 0.90509333 0.89562667\n",
      " 0.89562667 0.90533333        nan        nan        nan        nan\n",
      "        nan        nan 0.89562667 0.91042667 0.90509333 0.89562667\n",
      " 0.89562667 0.90533333        nan        nan        nan        nan\n",
      "        nan        nan 0.89562667 0.91042667 0.90509333 0.89562667\n",
      " 0.89562667 0.90533333        nan        nan        nan        nan\n",
      "        nan        nan 0.89562667 0.91042667 0.90509333 0.89562667\n",
      " 0.89562667 0.90533333        nan        nan        nan        nan\n",
      "        nan        nan 0.89562667 0.89562667 0.89562667 0.89562667\n",
      " 0.89562667 0.89565333        nan        nan        nan        nan\n",
      "        nan        nan 0.89562667 0.89562667 0.89562667 0.89562667\n",
      " 0.89562667 0.89565333        nan        nan        nan        nan\n",
      "        nan        nan 0.89562667 0.89562667 0.89562667 0.89562667\n",
      " 0.89562667 0.89565333        nan        nan        nan        nan\n",
      "        nan        nan 0.89562667 0.89562667 0.89562667 0.89562667\n",
      " 0.89562667 0.89565333        nan        nan        nan        nan\n",
      "        nan        nan 0.89562667 0.89562667 0.89562667 0.89562667\n",
      " 0.89562667 0.89565333        nan        nan        nan        nan]\n",
      "  warnings.warn(\n"
     ]
    },
    {
     "data": {
      "text/plain": [
       "GridSearchCV(estimator=LogisticRegression(random_state=1),\n",
       "             param_grid={'C': [1.0, 0.1, 0.01, 0.001],\n",
       "                         'max_iter': [500, 1000, 1500, 2000, 4000],\n",
       "                         'penalty': ['l1', 'l2', 'elasticnet'],\n",
       "                         'solver': ['newton-cg', 'sag', 'saga', 'liblinear']},\n",
       "             verbose=3)"
      ]
     },
     "execution_count": 31,
     "metadata": {},
     "output_type": "execute_result"
    }
   ],
   "source": [
    "model= LogisticRegression(random_state=1)\n",
    "param_grid = {\n",
    "   'penalty':['l1', 'l2', 'elasticnet'],\n",
    "    'C': [1.0, 0.1, 0.01, 0.001],\n",
    "    'solver': ['newton-cg', 'sag', 'saga', 'liblinear'],\n",
    "              'max_iter': [500, 1000, 1500, 2000, 4000]}\n",
    "lr_grid_clf = GridSearchCV(model, param_grid, verbose=3)\n",
    "lr_grid_clf.fit(X_train, y_train)"
   ]
  },
  {
   "cell_type": "code",
   "execution_count": 33,
   "id": "231496cd",
   "metadata": {},
   "outputs": [
    {
     "name": "stdout",
     "output_type": "stream",
     "text": [
      "{'C': 0.1, 'max_iter': 500, 'penalty': 'l2', 'solver': 'newton-cg'}\n",
      "0.9111466666666667\n"
     ]
    }
   ],
   "source": [
    "print(lr_grid_clf.best_params_)\n",
    "print(lr_grid_clf.best_score_)"
   ]
  },
  {
   "cell_type": "code",
   "execution_count": 67,
   "id": "37164245",
   "metadata": {},
   "outputs": [
    {
     "name": "stdout",
     "output_type": "stream",
     "text": [
      "Training Data Score: 0.9110666666666667\n",
      "Testing Data Score: 0.9108\n"
     ]
    }
   ],
   "source": [
    "lr_best_params=lr_grid_clf.best_params_\n",
    "lr_classifier= LogisticRegression(**lr_best_params, random_state=1).fit(X_train, y_train)\n",
    "print(f\"Training Data Score: {lr_classifier.score(X_train, y_train)}\")\n",
    "print(f\"Testing Data Score: {lr_classifier.score(X_test, y_test)}\")\n"
   ]
  },
  {
   "cell_type": "markdown",
   "id": "86b69f6f",
   "metadata": {},
   "source": [
    "#### Ada Boost "
   ]
  },
  {
   "cell_type": "code",
   "execution_count": 37,
   "id": "bb3fff62",
   "metadata": {},
   "outputs": [
    {
     "name": "stdout",
     "output_type": "stream",
     "text": [
      "Fitting 5 folds for each of 30 candidates, totalling 150 fits\n",
      "[CV 1/5] END algorithm=SAMME, learning_rate=0.001, n_estimators=500;, score=0.896 total time=   5.8s\n",
      "[CV 2/5] END algorithm=SAMME, learning_rate=0.001, n_estimators=500;, score=0.896 total time=   5.7s\n",
      "[CV 3/5] END algorithm=SAMME, learning_rate=0.001, n_estimators=500;, score=0.896 total time=   5.6s\n",
      "[CV 4/5] END algorithm=SAMME, learning_rate=0.001, n_estimators=500;, score=0.896 total time=   5.6s\n",
      "[CV 5/5] END algorithm=SAMME, learning_rate=0.001, n_estimators=500;, score=0.896 total time=   5.5s\n",
      "[CV 1/5] END algorithm=SAMME, learning_rate=0.001, n_estimators=1000;, score=0.896 total time=  11.2s\n",
      "[CV 2/5] END algorithm=SAMME, learning_rate=0.001, n_estimators=1000;, score=0.896 total time=  11.1s\n",
      "[CV 3/5] END algorithm=SAMME, learning_rate=0.001, n_estimators=1000;, score=0.896 total time=  11.1s\n",
      "[CV 4/5] END algorithm=SAMME, learning_rate=0.001, n_estimators=1000;, score=0.896 total time=  11.2s\n",
      "[CV 5/5] END algorithm=SAMME, learning_rate=0.001, n_estimators=1000;, score=0.896 total time=  11.1s\n",
      "[CV 1/5] END algorithm=SAMME, learning_rate=0.001, n_estimators=1500;, score=0.896 total time=  17.1s\n",
      "[CV 2/5] END algorithm=SAMME, learning_rate=0.001, n_estimators=1500;, score=0.896 total time=  17.2s\n",
      "[CV 3/5] END algorithm=SAMME, learning_rate=0.001, n_estimators=1500;, score=0.896 total time=  17.2s\n",
      "[CV 4/5] END algorithm=SAMME, learning_rate=0.001, n_estimators=1500;, score=0.896 total time=  17.0s\n",
      "[CV 5/5] END algorithm=SAMME, learning_rate=0.001, n_estimators=1500;, score=0.896 total time=  17.2s\n",
      "[CV 1/5] END algorithm=SAMME, learning_rate=0.01, n_estimators=500;, score=0.896 total time=   5.7s\n",
      "[CV 2/5] END algorithm=SAMME, learning_rate=0.01, n_estimators=500;, score=0.896 total time=   5.7s\n",
      "[CV 3/5] END algorithm=SAMME, learning_rate=0.01, n_estimators=500;, score=0.896 total time=   6.0s\n",
      "[CV 4/5] END algorithm=SAMME, learning_rate=0.01, n_estimators=500;, score=0.896 total time=   5.8s\n",
      "[CV 5/5] END algorithm=SAMME, learning_rate=0.01, n_estimators=500;, score=0.896 total time=   5.8s\n",
      "[CV 1/5] END algorithm=SAMME, learning_rate=0.01, n_estimators=1000;, score=0.896 total time=  11.6s\n",
      "[CV 2/5] END algorithm=SAMME, learning_rate=0.01, n_estimators=1000;, score=0.896 total time=  11.3s\n",
      "[CV 3/5] END algorithm=SAMME, learning_rate=0.01, n_estimators=1000;, score=0.896 total time=  11.4s\n",
      "[CV 4/5] END algorithm=SAMME, learning_rate=0.01, n_estimators=1000;, score=0.896 total time=  11.3s\n",
      "[CV 5/5] END algorithm=SAMME, learning_rate=0.01, n_estimators=1000;, score=0.896 total time=  11.3s\n",
      "[CV 1/5] END algorithm=SAMME, learning_rate=0.01, n_estimators=1500;, score=0.896 total time=  16.9s\n",
      "[CV 2/5] END algorithm=SAMME, learning_rate=0.01, n_estimators=1500;, score=0.896 total time=  16.9s\n",
      "[CV 3/5] END algorithm=SAMME, learning_rate=0.01, n_estimators=1500;, score=0.896 total time=  16.8s\n",
      "[CV 4/5] END algorithm=SAMME, learning_rate=0.01, n_estimators=1500;, score=0.896 total time=  16.9s\n",
      "[CV 5/5] END algorithm=SAMME, learning_rate=0.01, n_estimators=1500;, score=0.896 total time=  16.8s\n",
      "[CV 1/5] END algorithm=SAMME, learning_rate=0.1, n_estimators=500;, score=0.910 total time=   5.6s\n",
      "[CV 2/5] END algorithm=SAMME, learning_rate=0.1, n_estimators=500;, score=0.896 total time=   5.6s\n",
      "[CV 3/5] END algorithm=SAMME, learning_rate=0.1, n_estimators=500;, score=0.896 total time=   5.6s\n",
      "[CV 4/5] END algorithm=SAMME, learning_rate=0.1, n_estimators=500;, score=0.896 total time=   5.6s\n",
      "[CV 5/5] END algorithm=SAMME, learning_rate=0.1, n_estimators=500;, score=0.908 total time=   5.7s\n",
      "[CV 1/5] END algorithm=SAMME, learning_rate=0.1, n_estimators=1000;, score=0.910 total time=  11.3s\n",
      "[CV 2/5] END algorithm=SAMME, learning_rate=0.1, n_estimators=1000;, score=0.909 total time=  11.6s\n",
      "[CV 3/5] END algorithm=SAMME, learning_rate=0.1, n_estimators=1000;, score=0.916 total time=  11.4s\n",
      "[CV 4/5] END algorithm=SAMME, learning_rate=0.1, n_estimators=1000;, score=0.910 total time=  11.3s\n",
      "[CV 5/5] END algorithm=SAMME, learning_rate=0.1, n_estimators=1000;, score=0.908 total time=  11.2s\n",
      "[CV 1/5] END algorithm=SAMME, learning_rate=0.1, n_estimators=1500;, score=0.909 total time=  17.0s\n",
      "[CV 2/5] END algorithm=SAMME, learning_rate=0.1, n_estimators=1500;, score=0.910 total time=  16.9s\n",
      "[CV 3/5] END algorithm=SAMME, learning_rate=0.1, n_estimators=1500;, score=0.916 total time=  17.3s\n",
      "[CV 4/5] END algorithm=SAMME, learning_rate=0.1, n_estimators=1500;, score=0.911 total time=  17.3s\n",
      "[CV 5/5] END algorithm=SAMME, learning_rate=0.1, n_estimators=1500;, score=0.908 total time=  17.2s\n",
      "[CV 1/5] END algorithm=SAMME, learning_rate=0.5, n_estimators=500;, score=0.909 total time=   5.7s\n",
      "[CV 2/5] END algorithm=SAMME, learning_rate=0.5, n_estimators=500;, score=0.913 total time=   5.6s\n",
      "[CV 3/5] END algorithm=SAMME, learning_rate=0.5, n_estimators=500;, score=0.916 total time=   5.7s\n",
      "[CV 4/5] END algorithm=SAMME, learning_rate=0.5, n_estimators=500;, score=0.912 total time=   5.8s\n",
      "[CV 5/5] END algorithm=SAMME, learning_rate=0.5, n_estimators=500;, score=0.910 total time=   5.6s\n",
      "[CV 1/5] END algorithm=SAMME, learning_rate=0.5, n_estimators=1000;, score=0.909 total time=  11.5s\n",
      "[CV 2/5] END algorithm=SAMME, learning_rate=0.5, n_estimators=1000;, score=0.912 total time=  11.5s\n",
      "[CV 3/5] END algorithm=SAMME, learning_rate=0.5, n_estimators=1000;, score=0.917 total time=  11.4s\n",
      "[CV 4/5] END algorithm=SAMME, learning_rate=0.5, n_estimators=1000;, score=0.911 total time=  11.3s\n",
      "[CV 5/5] END algorithm=SAMME, learning_rate=0.5, n_estimators=1000;, score=0.911 total time=  11.2s\n",
      "[CV 1/5] END algorithm=SAMME, learning_rate=0.5, n_estimators=1500;, score=0.909 total time=  17.0s\n",
      "[CV 2/5] END algorithm=SAMME, learning_rate=0.5, n_estimators=1500;, score=0.913 total time=  17.5s\n",
      "[CV 3/5] END algorithm=SAMME, learning_rate=0.5, n_estimators=1500;, score=0.917 total time=  17.1s\n",
      "[CV 4/5] END algorithm=SAMME, learning_rate=0.5, n_estimators=1500;, score=0.911 total time=  16.8s\n",
      "[CV 5/5] END algorithm=SAMME, learning_rate=0.5, n_estimators=1500;, score=0.911 total time=  16.7s\n",
      "[CV 1/5] END algorithm=SAMME, learning_rate=0.7, n_estimators=500;, score=0.909 total time=   5.6s\n",
      "[CV 2/5] END algorithm=SAMME, learning_rate=0.7, n_estimators=500;, score=0.913 total time=   5.6s\n",
      "[CV 3/5] END algorithm=SAMME, learning_rate=0.7, n_estimators=500;, score=0.916 total time=   5.6s\n",
      "[CV 4/5] END algorithm=SAMME, learning_rate=0.7, n_estimators=500;, score=0.912 total time=   5.6s\n",
      "[CV 5/5] END algorithm=SAMME, learning_rate=0.7, n_estimators=500;, score=0.911 total time=   5.6s\n",
      "[CV 1/5] END algorithm=SAMME, learning_rate=0.7, n_estimators=1000;, score=0.909 total time=  11.2s\n",
      "[CV 2/5] END algorithm=SAMME, learning_rate=0.7, n_estimators=1000;, score=0.913 total time=  11.2s\n",
      "[CV 3/5] END algorithm=SAMME, learning_rate=0.7, n_estimators=1000;, score=0.916 total time=  11.5s\n",
      "[CV 4/5] END algorithm=SAMME, learning_rate=0.7, n_estimators=1000;, score=0.911 total time=  11.6s\n",
      "[CV 5/5] END algorithm=SAMME, learning_rate=0.7, n_estimators=1000;, score=0.911 total time=  11.2s\n",
      "[CV 1/5] END algorithm=SAMME, learning_rate=0.7, n_estimators=1500;, score=0.909 total time=  17.1s\n",
      "[CV 2/5] END algorithm=SAMME, learning_rate=0.7, n_estimators=1500;, score=0.914 total time=  17.2s\n",
      "[CV 3/5] END algorithm=SAMME, learning_rate=0.7, n_estimators=1500;, score=0.917 total time=  16.9s\n",
      "[CV 4/5] END algorithm=SAMME, learning_rate=0.7, n_estimators=1500;, score=0.911 total time=  17.0s\n",
      "[CV 5/5] END algorithm=SAMME, learning_rate=0.7, n_estimators=1500;, score=0.911 total time=  16.8s\n",
      "[CV 1/5] END algorithm=SAMME.R, learning_rate=0.001, n_estimators=500;, score=0.896 total time=   6.7s\n",
      "[CV 2/5] END algorithm=SAMME.R, learning_rate=0.001, n_estimators=500;, score=0.896 total time=   6.6s\n",
      "[CV 3/5] END algorithm=SAMME.R, learning_rate=0.001, n_estimators=500;, score=0.896 total time=   6.6s\n",
      "[CV 4/5] END algorithm=SAMME.R, learning_rate=0.001, n_estimators=500;, score=0.896 total time=   6.6s\n",
      "[CV 5/5] END algorithm=SAMME.R, learning_rate=0.001, n_estimators=500;, score=0.896 total time=   6.6s\n",
      "[CV 1/5] END algorithm=SAMME.R, learning_rate=0.001, n_estimators=1000;, score=0.910 total time=  13.3s\n"
     ]
    },
    {
     "name": "stdout",
     "output_type": "stream",
     "text": [
      "[CV 2/5] END algorithm=SAMME.R, learning_rate=0.001, n_estimators=1000;, score=0.909 total time=  13.2s\n",
      "[CV 3/5] END algorithm=SAMME.R, learning_rate=0.001, n_estimators=1000;, score=0.913 total time=  13.6s\n",
      "[CV 4/5] END algorithm=SAMME.R, learning_rate=0.001, n_estimators=1000;, score=0.910 total time=  13.8s\n",
      "[CV 5/5] END algorithm=SAMME.R, learning_rate=0.001, n_estimators=1000;, score=0.908 total time=  13.3s\n",
      "[CV 1/5] END algorithm=SAMME.R, learning_rate=0.001, n_estimators=1500;, score=0.910 total time=  20.3s\n",
      "[CV 2/5] END algorithm=SAMME.R, learning_rate=0.001, n_estimators=1500;, score=0.909 total time=  20.0s\n",
      "[CV 3/5] END algorithm=SAMME.R, learning_rate=0.001, n_estimators=1500;, score=0.916 total time=  20.0s\n",
      "[CV 4/5] END algorithm=SAMME.R, learning_rate=0.001, n_estimators=1500;, score=0.910 total time=  20.7s\n",
      "[CV 5/5] END algorithm=SAMME.R, learning_rate=0.001, n_estimators=1500;, score=0.908 total time=  20.3s\n",
      "[CV 1/5] END algorithm=SAMME.R, learning_rate=0.01, n_estimators=500;, score=0.909 total time=   6.7s\n",
      "[CV 2/5] END algorithm=SAMME.R, learning_rate=0.01, n_estimators=500;, score=0.911 total time=   6.7s\n",
      "[CV 3/5] END algorithm=SAMME.R, learning_rate=0.01, n_estimators=500;, score=0.917 total time=   6.6s\n",
      "[CV 4/5] END algorithm=SAMME.R, learning_rate=0.01, n_estimators=500;, score=0.912 total time=   6.7s\n",
      "[CV 5/5] END algorithm=SAMME.R, learning_rate=0.01, n_estimators=500;, score=0.909 total time=   6.6s\n",
      "[CV 1/5] END algorithm=SAMME.R, learning_rate=0.01, n_estimators=1000;, score=0.909 total time=  13.1s\n",
      "[CV 2/5] END algorithm=SAMME.R, learning_rate=0.01, n_estimators=1000;, score=0.912 total time=  13.1s\n",
      "[CV 3/5] END algorithm=SAMME.R, learning_rate=0.01, n_estimators=1000;, score=0.917 total time=  13.0s\n",
      "[CV 4/5] END algorithm=SAMME.R, learning_rate=0.01, n_estimators=1000;, score=0.912 total time=  13.0s\n",
      "[CV 5/5] END algorithm=SAMME.R, learning_rate=0.01, n_estimators=1000;, score=0.911 total time=  13.0s\n",
      "[CV 1/5] END algorithm=SAMME.R, learning_rate=0.01, n_estimators=1500;, score=0.909 total time=  19.6s\n",
      "[CV 2/5] END algorithm=SAMME.R, learning_rate=0.01, n_estimators=1500;, score=0.912 total time=  19.6s\n",
      "[CV 3/5] END algorithm=SAMME.R, learning_rate=0.01, n_estimators=1500;, score=0.917 total time=  19.6s\n",
      "[CV 4/5] END algorithm=SAMME.R, learning_rate=0.01, n_estimators=1500;, score=0.912 total time=  19.8s\n",
      "[CV 5/5] END algorithm=SAMME.R, learning_rate=0.01, n_estimators=1500;, score=0.912 total time=  19.4s\n",
      "[CV 1/5] END algorithm=SAMME.R, learning_rate=0.1, n_estimators=500;, score=0.910 total time=   6.5s\n",
      "[CV 2/5] END algorithm=SAMME.R, learning_rate=0.1, n_estimators=500;, score=0.914 total time=   6.5s\n",
      "[CV 3/5] END algorithm=SAMME.R, learning_rate=0.1, n_estimators=500;, score=0.917 total time=   6.5s\n",
      "[CV 4/5] END algorithm=SAMME.R, learning_rate=0.1, n_estimators=500;, score=0.911 total time=   6.7s\n",
      "[CV 5/5] END algorithm=SAMME.R, learning_rate=0.1, n_estimators=500;, score=0.912 total time=   6.9s\n",
      "[CV 1/5] END algorithm=SAMME.R, learning_rate=0.1, n_estimators=1000;, score=0.910 total time=  13.4s\n",
      "[CV 2/5] END algorithm=SAMME.R, learning_rate=0.1, n_estimators=1000;, score=0.914 total time=  13.1s\n",
      "[CV 3/5] END algorithm=SAMME.R, learning_rate=0.1, n_estimators=1000;, score=0.916 total time=  13.7s\n",
      "[CV 4/5] END algorithm=SAMME.R, learning_rate=0.1, n_estimators=1000;, score=0.911 total time=  12.9s\n",
      "[CV 5/5] END algorithm=SAMME.R, learning_rate=0.1, n_estimators=1000;, score=0.912 total time=  13.1s\n",
      "[CV 1/5] END algorithm=SAMME.R, learning_rate=0.1, n_estimators=1500;, score=0.910 total time=  19.5s\n",
      "[CV 2/5] END algorithm=SAMME.R, learning_rate=0.1, n_estimators=1500;, score=0.914 total time=  19.8s\n",
      "[CV 3/5] END algorithm=SAMME.R, learning_rate=0.1, n_estimators=1500;, score=0.916 total time=  19.3s\n",
      "[CV 4/5] END algorithm=SAMME.R, learning_rate=0.1, n_estimators=1500;, score=0.911 total time=  19.4s\n",
      "[CV 5/5] END algorithm=SAMME.R, learning_rate=0.1, n_estimators=1500;, score=0.912 total time=  19.4s\n",
      "[CV 1/5] END algorithm=SAMME.R, learning_rate=0.5, n_estimators=500;, score=0.910 total time=   6.5s\n",
      "[CV 2/5] END algorithm=SAMME.R, learning_rate=0.5, n_estimators=500;, score=0.915 total time=   6.5s\n",
      "[CV 3/5] END algorithm=SAMME.R, learning_rate=0.5, n_estimators=500;, score=0.917 total time=   6.4s\n",
      "[CV 4/5] END algorithm=SAMME.R, learning_rate=0.5, n_estimators=500;, score=0.910 total time=   6.4s\n",
      "[CV 5/5] END algorithm=SAMME.R, learning_rate=0.5, n_estimators=500;, score=0.912 total time=   6.5s\n",
      "[CV 1/5] END algorithm=SAMME.R, learning_rate=0.5, n_estimators=1000;, score=0.910 total time=  13.0s\n",
      "[CV 2/5] END algorithm=SAMME.R, learning_rate=0.5, n_estimators=1000;, score=0.915 total time=  13.1s\n",
      "[CV 3/5] END algorithm=SAMME.R, learning_rate=0.5, n_estimators=1000;, score=0.917 total time=  13.0s\n",
      "[CV 4/5] END algorithm=SAMME.R, learning_rate=0.5, n_estimators=1000;, score=0.910 total time=  13.1s\n",
      "[CV 5/5] END algorithm=SAMME.R, learning_rate=0.5, n_estimators=1000;, score=0.912 total time=  13.0s\n",
      "[CV 1/5] END algorithm=SAMME.R, learning_rate=0.5, n_estimators=1500;, score=0.911 total time=  19.4s\n",
      "[CV 2/5] END algorithm=SAMME.R, learning_rate=0.5, n_estimators=1500;, score=0.915 total time=  19.9s\n",
      "[CV 3/5] END algorithm=SAMME.R, learning_rate=0.5, n_estimators=1500;, score=0.917 total time=  19.5s\n",
      "[CV 4/5] END algorithm=SAMME.R, learning_rate=0.5, n_estimators=1500;, score=0.910 total time=  19.4s\n",
      "[CV 5/5] END algorithm=SAMME.R, learning_rate=0.5, n_estimators=1500;, score=0.912 total time=  19.5s\n",
      "[CV 1/5] END algorithm=SAMME.R, learning_rate=0.7, n_estimators=500;, score=0.910 total time=  10.3s\n",
      "[CV 2/5] END algorithm=SAMME.R, learning_rate=0.7, n_estimators=500;, score=0.915 total time=   9.5s\n",
      "[CV 3/5] END algorithm=SAMME.R, learning_rate=0.7, n_estimators=500;, score=0.917 total time=   7.3s\n",
      "[CV 4/5] END algorithm=SAMME.R, learning_rate=0.7, n_estimators=500;, score=0.910 total time=   6.5s\n",
      "[CV 5/5] END algorithm=SAMME.R, learning_rate=0.7, n_estimators=500;, score=0.911 total time=   6.4s\n",
      "[CV 1/5] END algorithm=SAMME.R, learning_rate=0.7, n_estimators=1000;, score=0.911 total time=  13.0s\n",
      "[CV 2/5] END algorithm=SAMME.R, learning_rate=0.7, n_estimators=1000;, score=0.914 total time=  13.0s\n",
      "[CV 3/5] END algorithm=SAMME.R, learning_rate=0.7, n_estimators=1000;, score=0.917 total time=  12.9s\n",
      "[CV 4/5] END algorithm=SAMME.R, learning_rate=0.7, n_estimators=1000;, score=0.910 total time=  13.2s\n",
      "[CV 5/5] END algorithm=SAMME.R, learning_rate=0.7, n_estimators=1000;, score=0.912 total time=  13.0s\n",
      "[CV 1/5] END algorithm=SAMME.R, learning_rate=0.7, n_estimators=1500;, score=0.911 total time=  19.5s\n",
      "[CV 2/5] END algorithm=SAMME.R, learning_rate=0.7, n_estimators=1500;, score=0.914 total time=  19.5s\n",
      "[CV 3/5] END algorithm=SAMME.R, learning_rate=0.7, n_estimators=1500;, score=0.917 total time=  19.6s\n",
      "[CV 4/5] END algorithm=SAMME.R, learning_rate=0.7, n_estimators=1500;, score=0.909 total time=  19.6s\n",
      "[CV 5/5] END algorithm=SAMME.R, learning_rate=0.7, n_estimators=1500;, score=0.911 total time=  19.4s\n"
     ]
    },
    {
     "data": {
      "text/plain": [
       "GridSearchCV(estimator=AdaBoostClassifier(random_state=1),\n",
       "             param_grid={'algorithm': ['SAMME', 'SAMME.R'],\n",
       "                         'learning_rate': [0.001, 0.01, 0.1, 0.5, 0.7],\n",
       "                         'n_estimators': [500, 1000, 1500]},\n",
       "             verbose=3)"
      ]
     },
     "execution_count": 37,
     "metadata": {},
     "output_type": "execute_result"
    }
   ],
   "source": [
    "model= AdaBoostClassifier(random_state=1)\n",
    "\n",
    "param_grid = {\n",
    "    'learning_rate': [0.001, 0.01, 0.1, 0.5, 0.7],\n",
    "    'algorithm':['SAMME', 'SAMME.R'],\n",
    "    'n_estimators': [500, 1000, 1500]\n",
    "}\n",
    "ab_grid_clf = GridSearchCV(model, param_grid, verbose=3)\n",
    "ab_grid_clf.fit(X_train, y_train)"
   ]
  },
  {
   "cell_type": "code",
   "execution_count": 38,
   "id": "e74473f0",
   "metadata": {},
   "outputs": [
    {
     "name": "stdout",
     "output_type": "stream",
     "text": [
      "{'algorithm': 'SAMME.R', 'learning_rate': 0.5, 'n_estimators': 1000}\n",
      "0.9130666666666667\n"
     ]
    }
   ],
   "source": [
    "print(ab_grid_clf.best_params_)\n",
    "print(ab_grid_clf.best_score_)"
   ]
  },
  {
   "cell_type": "code",
   "execution_count": 39,
   "id": "b24ce990",
   "metadata": {},
   "outputs": [
    {
     "name": "stdout",
     "output_type": "stream",
     "text": [
      "Training Data Score: 0.9138933333333333\n",
      "Testing Data Score: 0.9096\n"
     ]
    }
   ],
   "source": [
    "ab_best_params=ab_grid_clf.best_params_\n",
    "ab_classifier= AdaBoostClassifier(**ab_best_params, random_state=1).fit(X_train, y_train)\n",
    "print(f\"Training Data Score: {ab_classifier.score(X_train, y_train)}\")\n",
    "print(f\"Testing Data Score: {ab_classifier.score(X_test, y_test)}\")"
   ]
  },
  {
   "cell_type": "markdown",
   "id": "38667bab",
   "metadata": {},
   "source": [
    "#### Random Forest Classifier"
   ]
  },
  {
   "cell_type": "code",
   "execution_count": 40,
   "id": "90fd5a97",
   "metadata": {},
   "outputs": [
    {
     "name": "stdout",
     "output_type": "stream",
     "text": [
      "Fitting 5 folds for each of 72 candidates, totalling 360 fits\n",
      "[CV 1/5] END bootstrap=True, class_weight=balanced, criterion=gini, n_estimators=200;, score=0.897 total time=   2.5s\n",
      "[CV 2/5] END bootstrap=True, class_weight=balanced, criterion=gini, n_estimators=200;, score=0.894 total time=   2.3s\n",
      "[CV 3/5] END bootstrap=True, class_weight=balanced, criterion=gini, n_estimators=200;, score=0.903 total time=   2.3s\n",
      "[CV 4/5] END bootstrap=True, class_weight=balanced, criterion=gini, n_estimators=200;, score=0.895 total time=   2.3s\n",
      "[CV 5/5] END bootstrap=True, class_weight=balanced, criterion=gini, n_estimators=200;, score=0.896 total time=   2.3s\n",
      "[CV 1/5] END bootstrap=True, class_weight=balanced, criterion=gini, n_estimators=400;, score=0.897 total time=   4.8s\n",
      "[CV 2/5] END bootstrap=True, class_weight=balanced, criterion=gini, n_estimators=400;, score=0.894 total time=   4.7s\n",
      "[CV 3/5] END bootstrap=True, class_weight=balanced, criterion=gini, n_estimators=400;, score=0.903 total time=   4.7s\n",
      "[CV 4/5] END bootstrap=True, class_weight=balanced, criterion=gini, n_estimators=400;, score=0.895 total time=   4.7s\n",
      "[CV 5/5] END bootstrap=True, class_weight=balanced, criterion=gini, n_estimators=400;, score=0.896 total time=   4.7s\n",
      "[CV 1/5] END bootstrap=True, class_weight=balanced, criterion=gini, n_estimators=600;, score=0.896 total time=   7.4s\n",
      "[CV 2/5] END bootstrap=True, class_weight=balanced, criterion=gini, n_estimators=600;, score=0.894 total time=   7.1s\n",
      "[CV 3/5] END bootstrap=True, class_weight=balanced, criterion=gini, n_estimators=600;, score=0.903 total time=   7.0s\n",
      "[CV 4/5] END bootstrap=True, class_weight=balanced, criterion=gini, n_estimators=600;, score=0.896 total time=   7.0s\n",
      "[CV 5/5] END bootstrap=True, class_weight=balanced, criterion=gini, n_estimators=600;, score=0.896 total time=   7.0s\n",
      "[CV 1/5] END bootstrap=True, class_weight=balanced, criterion=gini, n_estimators=800;, score=0.897 total time=  10.0s\n",
      "[CV 2/5] END bootstrap=True, class_weight=balanced, criterion=gini, n_estimators=800;, score=0.893 total time=   9.5s\n",
      "[CV 3/5] END bootstrap=True, class_weight=balanced, criterion=gini, n_estimators=800;, score=0.902 total time=   9.4s\n",
      "[CV 4/5] END bootstrap=True, class_weight=balanced, criterion=gini, n_estimators=800;, score=0.895 total time=   9.6s\n",
      "[CV 5/5] END bootstrap=True, class_weight=balanced, criterion=gini, n_estimators=800;, score=0.895 total time=   9.4s\n",
      "[CV 1/5] END bootstrap=True, class_weight=balanced, criterion=entropy, n_estimators=200;, score=0.896 total time=   2.8s\n",
      "[CV 2/5] END bootstrap=True, class_weight=balanced, criterion=entropy, n_estimators=200;, score=0.895 total time=   2.7s\n",
      "[CV 3/5] END bootstrap=True, class_weight=balanced, criterion=entropy, n_estimators=200;, score=0.903 total time=   2.7s\n",
      "[CV 4/5] END bootstrap=True, class_weight=balanced, criterion=entropy, n_estimators=200;, score=0.893 total time=   2.7s\n",
      "[CV 5/5] END bootstrap=True, class_weight=balanced, criterion=entropy, n_estimators=200;, score=0.894 total time=   2.7s\n",
      "[CV 1/5] END bootstrap=True, class_weight=balanced, criterion=entropy, n_estimators=400;, score=0.897 total time=   5.6s\n",
      "[CV 2/5] END bootstrap=True, class_weight=balanced, criterion=entropy, n_estimators=400;, score=0.894 total time=   5.4s\n",
      "[CV 3/5] END bootstrap=True, class_weight=balanced, criterion=entropy, n_estimators=400;, score=0.903 total time=   5.5s\n",
      "[CV 4/5] END bootstrap=True, class_weight=balanced, criterion=entropy, n_estimators=400;, score=0.894 total time=   5.5s\n",
      "[CV 5/5] END bootstrap=True, class_weight=balanced, criterion=entropy, n_estimators=400;, score=0.895 total time=   5.3s\n",
      "[CV 1/5] END bootstrap=True, class_weight=balanced, criterion=entropy, n_estimators=600;, score=0.897 total time=   8.1s\n",
      "[CV 2/5] END bootstrap=True, class_weight=balanced, criterion=entropy, n_estimators=600;, score=0.895 total time=   8.4s\n",
      "[CV 3/5] END bootstrap=True, class_weight=balanced, criterion=entropy, n_estimators=600;, score=0.903 total time=   8.3s\n",
      "[CV 4/5] END bootstrap=True, class_weight=balanced, criterion=entropy, n_estimators=600;, score=0.894 total time=   8.2s\n",
      "[CV 5/5] END bootstrap=True, class_weight=balanced, criterion=entropy, n_estimators=600;, score=0.896 total time=   8.7s\n",
      "[CV 1/5] END bootstrap=True, class_weight=balanced, criterion=entropy, n_estimators=800;, score=0.897 total time=  11.0s\n",
      "[CV 2/5] END bootstrap=True, class_weight=balanced, criterion=entropy, n_estimators=800;, score=0.894 total time=  10.8s\n",
      "[CV 3/5] END bootstrap=True, class_weight=balanced, criterion=entropy, n_estimators=800;, score=0.902 total time=  10.7s\n",
      "[CV 4/5] END bootstrap=True, class_weight=balanced, criterion=entropy, n_estimators=800;, score=0.895 total time=  10.7s\n",
      "[CV 5/5] END bootstrap=True, class_weight=balanced, criterion=entropy, n_estimators=800;, score=0.896 total time=  10.9s\n",
      "[CV 1/5] END bootstrap=True, class_weight=balanced, criterion=log_loss, n_estimators=200;, score=nan total time=   0.1s\n",
      "[CV 2/5] END bootstrap=True, class_weight=balanced, criterion=log_loss, n_estimators=200;, score=nan total time=   0.0s\n",
      "[CV 3/5] END bootstrap=True, class_weight=balanced, criterion=log_loss, n_estimators=200;, score=nan total time=   0.0s\n",
      "[CV 4/5] END bootstrap=True, class_weight=balanced, criterion=log_loss, n_estimators=200;, score=nan total time=   0.0s\n",
      "[CV 5/5] END bootstrap=True, class_weight=balanced, criterion=log_loss, n_estimators=200;, score=nan total time=   0.1s\n",
      "[CV 1/5] END bootstrap=True, class_weight=balanced, criterion=log_loss, n_estimators=400;, score=nan total time=   0.1s\n",
      "[CV 2/5] END bootstrap=True, class_weight=balanced, criterion=log_loss, n_estimators=400;, score=nan total time=   0.1s\n",
      "[CV 3/5] END bootstrap=True, class_weight=balanced, criterion=log_loss, n_estimators=400;, score=nan total time=   0.1s\n",
      "[CV 4/5] END bootstrap=True, class_weight=balanced, criterion=log_loss, n_estimators=400;, score=nan total time=   0.1s\n",
      "[CV 5/5] END bootstrap=True, class_weight=balanced, criterion=log_loss, n_estimators=400;, score=nan total time=   0.1s\n",
      "[CV 1/5] END bootstrap=True, class_weight=balanced, criterion=log_loss, n_estimators=600;, score=nan total time=   0.1s\n",
      "[CV 2/5] END bootstrap=True, class_weight=balanced, criterion=log_loss, n_estimators=600;, score=nan total time=   0.1s\n",
      "[CV 3/5] END bootstrap=True, class_weight=balanced, criterion=log_loss, n_estimators=600;, score=nan total time=   0.1s\n",
      "[CV 4/5] END bootstrap=True, class_weight=balanced, criterion=log_loss, n_estimators=600;, score=nan total time=   0.1s\n",
      "[CV 5/5] END bootstrap=True, class_weight=balanced, criterion=log_loss, n_estimators=600;, score=nan total time=   0.1s\n",
      "[CV 1/5] END bootstrap=True, class_weight=balanced, criterion=log_loss, n_estimators=800;, score=nan total time=   0.1s\n",
      "[CV 2/5] END bootstrap=True, class_weight=balanced, criterion=log_loss, n_estimators=800;, score=nan total time=   0.2s\n",
      "[CV 3/5] END bootstrap=True, class_weight=balanced, criterion=log_loss, n_estimators=800;, score=nan total time=   0.2s\n",
      "[CV 4/5] END bootstrap=True, class_weight=balanced, criterion=log_loss, n_estimators=800;, score=nan total time=   0.1s\n",
      "[CV 5/5] END bootstrap=True, class_weight=balanced, criterion=log_loss, n_estimators=800;, score=nan total time=   0.1s\n",
      "[CV 1/5] END bootstrap=True, class_weight=balanced_subsample, criterion=gini, n_estimators=200;, score=0.895 total time=   3.2s\n",
      "[CV 2/5] END bootstrap=True, class_weight=balanced_subsample, criterion=gini, n_estimators=200;, score=0.892 total time=   3.2s\n",
      "[CV 3/5] END bootstrap=True, class_weight=balanced_subsample, criterion=gini, n_estimators=200;, score=0.902 total time=   3.2s\n",
      "[CV 4/5] END bootstrap=True, class_weight=balanced_subsample, criterion=gini, n_estimators=200;, score=0.893 total time=   3.1s\n",
      "[CV 5/5] END bootstrap=True, class_weight=balanced_subsample, criterion=gini, n_estimators=200;, score=0.896 total time=   3.2s\n",
      "[CV 1/5] END bootstrap=True, class_weight=balanced_subsample, criterion=gini, n_estimators=400;, score=0.897 total time=   6.3s\n",
      "[CV 2/5] END bootstrap=True, class_weight=balanced_subsample, criterion=gini, n_estimators=400;, score=0.892 total time=   6.4s\n",
      "[CV 3/5] END bootstrap=True, class_weight=balanced_subsample, criterion=gini, n_estimators=400;, score=0.903 total time=   7.1s\n"
     ]
    },
    {
     "name": "stdout",
     "output_type": "stream",
     "text": [
      "[CV 4/5] END bootstrap=True, class_weight=balanced_subsample, criterion=gini, n_estimators=400;, score=0.894 total time=   6.5s\n",
      "[CV 5/5] END bootstrap=True, class_weight=balanced_subsample, criterion=gini, n_estimators=400;, score=0.895 total time=   6.4s\n",
      "[CV 1/5] END bootstrap=True, class_weight=balanced_subsample, criterion=gini, n_estimators=600;, score=0.898 total time=   9.6s\n",
      "[CV 2/5] END bootstrap=True, class_weight=balanced_subsample, criterion=gini, n_estimators=600;, score=0.894 total time=   9.4s\n",
      "[CV 3/5] END bootstrap=True, class_weight=balanced_subsample, criterion=gini, n_estimators=600;, score=0.902 total time=   9.4s\n",
      "[CV 4/5] END bootstrap=True, class_weight=balanced_subsample, criterion=gini, n_estimators=600;, score=0.894 total time=   9.4s\n",
      "[CV 5/5] END bootstrap=True, class_weight=balanced_subsample, criterion=gini, n_estimators=600;, score=0.895 total time=   9.5s\n",
      "[CV 1/5] END bootstrap=True, class_weight=balanced_subsample, criterion=gini, n_estimators=800;, score=0.898 total time=  12.7s\n",
      "[CV 2/5] END bootstrap=True, class_weight=balanced_subsample, criterion=gini, n_estimators=800;, score=0.893 total time=  12.5s\n",
      "[CV 3/5] END bootstrap=True, class_weight=balanced_subsample, criterion=gini, n_estimators=800;, score=0.902 total time=  12.6s\n",
      "[CV 4/5] END bootstrap=True, class_weight=balanced_subsample, criterion=gini, n_estimators=800;, score=0.894 total time=  12.6s\n",
      "[CV 5/5] END bootstrap=True, class_weight=balanced_subsample, criterion=gini, n_estimators=800;, score=0.896 total time=  12.7s\n",
      "[CV 1/5] END bootstrap=True, class_weight=balanced_subsample, criterion=entropy, n_estimators=200;, score=0.896 total time=   3.5s\n",
      "[CV 2/5] END bootstrap=True, class_weight=balanced_subsample, criterion=entropy, n_estimators=200;, score=0.894 total time=   3.5s\n",
      "[CV 3/5] END bootstrap=True, class_weight=balanced_subsample, criterion=entropy, n_estimators=200;, score=0.901 total time=   3.5s\n",
      "[CV 4/5] END bootstrap=True, class_weight=balanced_subsample, criterion=entropy, n_estimators=200;, score=0.895 total time=   3.5s\n",
      "[CV 5/5] END bootstrap=True, class_weight=balanced_subsample, criterion=entropy, n_estimators=200;, score=0.896 total time=   3.5s\n",
      "[CV 1/5] END bootstrap=True, class_weight=balanced_subsample, criterion=entropy, n_estimators=400;, score=0.898 total time=   7.0s\n",
      "[CV 2/5] END bootstrap=True, class_weight=balanced_subsample, criterion=entropy, n_estimators=400;, score=0.894 total time=   6.9s\n",
      "[CV 3/5] END bootstrap=True, class_weight=balanced_subsample, criterion=entropy, n_estimators=400;, score=0.902 total time=   6.9s\n",
      "[CV 4/5] END bootstrap=True, class_weight=balanced_subsample, criterion=entropy, n_estimators=400;, score=0.894 total time=   6.9s\n",
      "[CV 5/5] END bootstrap=True, class_weight=balanced_subsample, criterion=entropy, n_estimators=400;, score=0.896 total time=   7.0s\n",
      "[CV 1/5] END bootstrap=True, class_weight=balanced_subsample, criterion=entropy, n_estimators=600;, score=0.897 total time=  10.5s\n",
      "[CV 2/5] END bootstrap=True, class_weight=balanced_subsample, criterion=entropy, n_estimators=600;, score=0.893 total time=  10.4s\n",
      "[CV 3/5] END bootstrap=True, class_weight=balanced_subsample, criterion=entropy, n_estimators=600;, score=0.902 total time=  10.5s\n",
      "[CV 4/5] END bootstrap=True, class_weight=balanced_subsample, criterion=entropy, n_estimators=600;, score=0.894 total time=  10.4s\n",
      "[CV 5/5] END bootstrap=True, class_weight=balanced_subsample, criterion=entropy, n_estimators=600;, score=0.896 total time=  10.5s\n",
      "[CV 1/5] END bootstrap=True, class_weight=balanced_subsample, criterion=entropy, n_estimators=800;, score=0.897 total time=  14.1s\n",
      "[CV 2/5] END bootstrap=True, class_weight=balanced_subsample, criterion=entropy, n_estimators=800;, score=0.893 total time=  13.9s\n",
      "[CV 3/5] END bootstrap=True, class_weight=balanced_subsample, criterion=entropy, n_estimators=800;, score=0.903 total time=  14.0s\n",
      "[CV 4/5] END bootstrap=True, class_weight=balanced_subsample, criterion=entropy, n_estimators=800;, score=0.894 total time=  13.9s\n",
      "[CV 5/5] END bootstrap=True, class_weight=balanced_subsample, criterion=entropy, n_estimators=800;, score=0.895 total time=  14.0s\n",
      "[CV 1/5] END bootstrap=True, class_weight=balanced_subsample, criterion=log_loss, n_estimators=200;, score=nan total time=   0.0s\n",
      "[CV 2/5] END bootstrap=True, class_weight=balanced_subsample, criterion=log_loss, n_estimators=200;, score=nan total time=   0.0s\n",
      "[CV 3/5] END bootstrap=True, class_weight=balanced_subsample, criterion=log_loss, n_estimators=200;, score=nan total time=   0.0s\n",
      "[CV 4/5] END bootstrap=True, class_weight=balanced_subsample, criterion=log_loss, n_estimators=200;, score=nan total time=   0.0s\n",
      "[CV 5/5] END bootstrap=True, class_weight=balanced_subsample, criterion=log_loss, n_estimators=200;, score=nan total time=   0.0s\n",
      "[CV 1/5] END bootstrap=True, class_weight=balanced_subsample, criterion=log_loss, n_estimators=400;, score=nan total time=   0.1s\n",
      "[CV 2/5] END bootstrap=True, class_weight=balanced_subsample, criterion=log_loss, n_estimators=400;, score=nan total time=   0.1s\n",
      "[CV 3/5] END bootstrap=True, class_weight=balanced_subsample, criterion=log_loss, n_estimators=400;, score=nan total time=   0.1s\n",
      "[CV 4/5] END bootstrap=True, class_weight=balanced_subsample, criterion=log_loss, n_estimators=400;, score=nan total time=   0.1s\n",
      "[CV 5/5] END bootstrap=True, class_weight=balanced_subsample, criterion=log_loss, n_estimators=400;, score=nan total time=   0.1s\n",
      "[CV 1/5] END bootstrap=True, class_weight=balanced_subsample, criterion=log_loss, n_estimators=600;, score=nan total time=   0.1s\n",
      "[CV 2/5] END bootstrap=True, class_weight=balanced_subsample, criterion=log_loss, n_estimators=600;, score=nan total time=   0.1s\n",
      "[CV 3/5] END bootstrap=True, class_weight=balanced_subsample, criterion=log_loss, n_estimators=600;, score=nan total time=   0.1s\n",
      "[CV 4/5] END bootstrap=True, class_weight=balanced_subsample, criterion=log_loss, n_estimators=600;, score=nan total time=   0.1s\n",
      "[CV 5/5] END bootstrap=True, class_weight=balanced_subsample, criterion=log_loss, n_estimators=600;, score=nan total time=   0.1s\n",
      "[CV 1/5] END bootstrap=True, class_weight=balanced_subsample, criterion=log_loss, n_estimators=800;, score=nan total time=   0.1s\n",
      "[CV 2/5] END bootstrap=True, class_weight=balanced_subsample, criterion=log_loss, n_estimators=800;, score=nan total time=   0.2s\n",
      "[CV 3/5] END bootstrap=True, class_weight=balanced_subsample, criterion=log_loss, n_estimators=800;, score=nan total time=   0.2s\n",
      "[CV 4/5] END bootstrap=True, class_weight=balanced_subsample, criterion=log_loss, n_estimators=800;, score=nan total time=   0.1s\n",
      "[CV 5/5] END bootstrap=True, class_weight=balanced_subsample, criterion=log_loss, n_estimators=800;, score=nan total time=   0.2s\n",
      "[CV 1/5] END bootstrap=True, class_weight=none, criterion=gini, n_estimators=200;, score=nan total time=   0.0s\n",
      "[CV 2/5] END bootstrap=True, class_weight=none, criterion=gini, n_estimators=200;, score=nan total time=   0.0s\n",
      "[CV 3/5] END bootstrap=True, class_weight=none, criterion=gini, n_estimators=200;, score=nan total time=   0.0s\n",
      "[CV 4/5] END bootstrap=True, class_weight=none, criterion=gini, n_estimators=200;, score=nan total time=   0.0s\n",
      "[CV 5/5] END bootstrap=True, class_weight=none, criterion=gini, n_estimators=200;, score=nan total time=   0.0s\n",
      "[CV 1/5] END bootstrap=True, class_weight=none, criterion=gini, n_estimators=400;, score=nan total time=   0.0s\n",
      "[CV 2/5] END bootstrap=True, class_weight=none, criterion=gini, n_estimators=400;, score=nan total time=   0.0s\n",
      "[CV 3/5] END bootstrap=True, class_weight=none, criterion=gini, n_estimators=400;, score=nan total time=   0.0s\n",
      "[CV 4/5] END bootstrap=True, class_weight=none, criterion=gini, n_estimators=400;, score=nan total time=   0.0s\n",
      "[CV 5/5] END bootstrap=True, class_weight=none, criterion=gini, n_estimators=400;, score=nan total time=   0.0s\n",
      "[CV 1/5] END bootstrap=True, class_weight=none, criterion=gini, n_estimators=600;, score=nan total time=   0.0s\n",
      "[CV 2/5] END bootstrap=True, class_weight=none, criterion=gini, n_estimators=600;, score=nan total time=   0.0s\n",
      "[CV 3/5] END bootstrap=True, class_weight=none, criterion=gini, n_estimators=600;, score=nan total time=   0.0s\n",
      "[CV 4/5] END bootstrap=True, class_weight=none, criterion=gini, n_estimators=600;, score=nan total time=   0.0s\n",
      "[CV 5/5] END bootstrap=True, class_weight=none, criterion=gini, n_estimators=600;, score=nan total time=   0.0s\n",
      "[CV 1/5] END bootstrap=True, class_weight=none, criterion=gini, n_estimators=800;, score=nan total time=   0.0s\n",
      "[CV 2/5] END bootstrap=True, class_weight=none, criterion=gini, n_estimators=800;, score=nan total time=   0.0s\n",
      "[CV 3/5] END bootstrap=True, class_weight=none, criterion=gini, n_estimators=800;, score=nan total time=   0.0s\n",
      "[CV 4/5] END bootstrap=True, class_weight=none, criterion=gini, n_estimators=800;, score=nan total time=   0.0s\n",
      "[CV 5/5] END bootstrap=True, class_weight=none, criterion=gini, n_estimators=800;, score=nan total time=   0.0s\n",
      "[CV 1/5] END bootstrap=True, class_weight=none, criterion=entropy, n_estimators=200;, score=nan total time=   0.0s\n",
      "[CV 2/5] END bootstrap=True, class_weight=none, criterion=entropy, n_estimators=200;, score=nan total time=   0.0s\n",
      "[CV 3/5] END bootstrap=True, class_weight=none, criterion=entropy, n_estimators=200;, score=nan total time=   0.0s\n"
     ]
    },
    {
     "name": "stdout",
     "output_type": "stream",
     "text": [
      "[CV 4/5] END bootstrap=True, class_weight=none, criterion=entropy, n_estimators=200;, score=nan total time=   0.0s\n",
      "[CV 5/5] END bootstrap=True, class_weight=none, criterion=entropy, n_estimators=200;, score=nan total time=   0.0s\n",
      "[CV 1/5] END bootstrap=True, class_weight=none, criterion=entropy, n_estimators=400;, score=nan total time=   0.0s\n",
      "[CV 2/5] END bootstrap=True, class_weight=none, criterion=entropy, n_estimators=400;, score=nan total time=   0.0s\n",
      "[CV 3/5] END bootstrap=True, class_weight=none, criterion=entropy, n_estimators=400;, score=nan total time=   0.0s\n",
      "[CV 4/5] END bootstrap=True, class_weight=none, criterion=entropy, n_estimators=400;, score=nan total time=   0.0s\n",
      "[CV 5/5] END bootstrap=True, class_weight=none, criterion=entropy, n_estimators=400;, score=nan total time=   0.0s\n",
      "[CV 1/5] END bootstrap=True, class_weight=none, criterion=entropy, n_estimators=600;, score=nan total time=   0.0s\n",
      "[CV 2/5] END bootstrap=True, class_weight=none, criterion=entropy, n_estimators=600;, score=nan total time=   0.0s\n",
      "[CV 3/5] END bootstrap=True, class_weight=none, criterion=entropy, n_estimators=600;, score=nan total time=   0.0s\n",
      "[CV 4/5] END bootstrap=True, class_weight=none, criterion=entropy, n_estimators=600;, score=nan total time=   0.0s\n",
      "[CV 5/5] END bootstrap=True, class_weight=none, criterion=entropy, n_estimators=600;, score=nan total time=   0.0s\n",
      "[CV 1/5] END bootstrap=True, class_weight=none, criterion=entropy, n_estimators=800;, score=nan total time=   0.0s\n",
      "[CV 2/5] END bootstrap=True, class_weight=none, criterion=entropy, n_estimators=800;, score=nan total time=   0.0s\n",
      "[CV 3/5] END bootstrap=True, class_weight=none, criterion=entropy, n_estimators=800;, score=nan total time=   0.0s\n",
      "[CV 4/5] END bootstrap=True, class_weight=none, criterion=entropy, n_estimators=800;, score=nan total time=   0.0s\n",
      "[CV 5/5] END bootstrap=True, class_weight=none, criterion=entropy, n_estimators=800;, score=nan total time=   0.0s\n",
      "[CV 1/5] END bootstrap=True, class_weight=none, criterion=log_loss, n_estimators=200;, score=nan total time=   0.0s\n",
      "[CV 2/5] END bootstrap=True, class_weight=none, criterion=log_loss, n_estimators=200;, score=nan total time=   0.0s\n",
      "[CV 3/5] END bootstrap=True, class_weight=none, criterion=log_loss, n_estimators=200;, score=nan total time=   0.0s\n",
      "[CV 4/5] END bootstrap=True, class_weight=none, criterion=log_loss, n_estimators=200;, score=nan total time=   0.0s\n",
      "[CV 5/5] END bootstrap=True, class_weight=none, criterion=log_loss, n_estimators=200;, score=nan total time=   0.0s\n",
      "[CV 1/5] END bootstrap=True, class_weight=none, criterion=log_loss, n_estimators=400;, score=nan total time=   0.0s\n",
      "[CV 2/5] END bootstrap=True, class_weight=none, criterion=log_loss, n_estimators=400;, score=nan total time=   0.0s\n",
      "[CV 3/5] END bootstrap=True, class_weight=none, criterion=log_loss, n_estimators=400;, score=nan total time=   0.0s\n",
      "[CV 4/5] END bootstrap=True, class_weight=none, criterion=log_loss, n_estimators=400;, score=nan total time=   0.0s\n",
      "[CV 5/5] END bootstrap=True, class_weight=none, criterion=log_loss, n_estimators=400;, score=nan total time=   0.0s\n",
      "[CV 1/5] END bootstrap=True, class_weight=none, criterion=log_loss, n_estimators=600;, score=nan total time=   0.0s\n",
      "[CV 2/5] END bootstrap=True, class_weight=none, criterion=log_loss, n_estimators=600;, score=nan total time=   0.0s\n",
      "[CV 3/5] END bootstrap=True, class_weight=none, criterion=log_loss, n_estimators=600;, score=nan total time=   0.0s\n",
      "[CV 4/5] END bootstrap=True, class_weight=none, criterion=log_loss, n_estimators=600;, score=nan total time=   0.0s\n",
      "[CV 5/5] END bootstrap=True, class_weight=none, criterion=log_loss, n_estimators=600;, score=nan total time=   0.0s\n",
      "[CV 1/5] END bootstrap=True, class_weight=none, criterion=log_loss, n_estimators=800;, score=nan total time=   0.0s\n",
      "[CV 2/5] END bootstrap=True, class_weight=none, criterion=log_loss, n_estimators=800;, score=nan total time=   0.0s\n",
      "[CV 3/5] END bootstrap=True, class_weight=none, criterion=log_loss, n_estimators=800;, score=nan total time=   0.0s\n",
      "[CV 4/5] END bootstrap=True, class_weight=none, criterion=log_loss, n_estimators=800;, score=nan total time=   0.0s\n",
      "[CV 5/5] END bootstrap=True, class_weight=none, criterion=log_loss, n_estimators=800;, score=nan total time=   0.0s\n",
      "[CV 1/5] END bootstrap=False, class_weight=balanced, criterion=gini, n_estimators=200;, score=0.888 total time=   3.3s\n",
      "[CV 2/5] END bootstrap=False, class_weight=balanced, criterion=gini, n_estimators=200;, score=0.885 total time=   3.3s\n",
      "[CV 3/5] END bootstrap=False, class_weight=balanced, criterion=gini, n_estimators=200;, score=0.894 total time=   3.3s\n",
      "[CV 4/5] END bootstrap=False, class_weight=balanced, criterion=gini, n_estimators=200;, score=0.887 total time=   3.3s\n",
      "[CV 5/5] END bootstrap=False, class_weight=balanced, criterion=gini, n_estimators=200;, score=0.886 total time=   3.2s\n",
      "[CV 1/5] END bootstrap=False, class_weight=balanced, criterion=gini, n_estimators=400;, score=0.888 total time=   6.6s\n",
      "[CV 2/5] END bootstrap=False, class_weight=balanced, criterion=gini, n_estimators=400;, score=0.885 total time=   6.5s\n",
      "[CV 3/5] END bootstrap=False, class_weight=balanced, criterion=gini, n_estimators=400;, score=0.894 total time=   6.6s\n",
      "[CV 4/5] END bootstrap=False, class_weight=balanced, criterion=gini, n_estimators=400;, score=0.887 total time=   6.6s\n",
      "[CV 5/5] END bootstrap=False, class_weight=balanced, criterion=gini, n_estimators=400;, score=0.886 total time=   6.6s\n",
      "[CV 1/5] END bootstrap=False, class_weight=balanced, criterion=gini, n_estimators=600;, score=0.888 total time=  10.5s\n",
      "[CV 2/5] END bootstrap=False, class_weight=balanced, criterion=gini, n_estimators=600;, score=0.884 total time=  10.5s\n",
      "[CV 3/5] END bootstrap=False, class_weight=balanced, criterion=gini, n_estimators=600;, score=0.894 total time=  10.3s\n",
      "[CV 4/5] END bootstrap=False, class_weight=balanced, criterion=gini, n_estimators=600;, score=0.887 total time=  10.7s\n",
      "[CV 5/5] END bootstrap=False, class_weight=balanced, criterion=gini, n_estimators=600;, score=0.886 total time=  10.2s\n",
      "[CV 1/5] END bootstrap=False, class_weight=balanced, criterion=gini, n_estimators=800;, score=0.888 total time=  13.6s\n",
      "[CV 2/5] END bootstrap=False, class_weight=balanced, criterion=gini, n_estimators=800;, score=0.884 total time=  13.4s\n",
      "[CV 3/5] END bootstrap=False, class_weight=balanced, criterion=gini, n_estimators=800;, score=0.894 total time=  13.6s\n",
      "[CV 4/5] END bootstrap=False, class_weight=balanced, criterion=gini, n_estimators=800;, score=0.887 total time=  14.5s\n",
      "[CV 5/5] END bootstrap=False, class_weight=balanced, criterion=gini, n_estimators=800;, score=0.886 total time=  13.9s\n",
      "[CV 1/5] END bootstrap=False, class_weight=balanced, criterion=entropy, n_estimators=200;, score=0.886 total time=   4.2s\n",
      "[CV 2/5] END bootstrap=False, class_weight=balanced, criterion=entropy, n_estimators=200;, score=0.884 total time=   3.8s\n",
      "[CV 3/5] END bootstrap=False, class_weight=balanced, criterion=entropy, n_estimators=200;, score=0.894 total time=   3.9s\n",
      "[CV 4/5] END bootstrap=False, class_weight=balanced, criterion=entropy, n_estimators=200;, score=0.889 total time=   3.8s\n",
      "[CV 5/5] END bootstrap=False, class_weight=balanced, criterion=entropy, n_estimators=200;, score=0.888 total time=   3.8s\n",
      "[CV 1/5] END bootstrap=False, class_weight=balanced, criterion=entropy, n_estimators=400;, score=0.886 total time=   8.0s\n",
      "[CV 2/5] END bootstrap=False, class_weight=balanced, criterion=entropy, n_estimators=400;, score=0.883 total time=   7.9s\n",
      "[CV 3/5] END bootstrap=False, class_weight=balanced, criterion=entropy, n_estimators=400;, score=0.894 total time=   8.1s\n",
      "[CV 4/5] END bootstrap=False, class_weight=balanced, criterion=entropy, n_estimators=400;, score=0.888 total time=   7.7s\n",
      "[CV 5/5] END bootstrap=False, class_weight=balanced, criterion=entropy, n_estimators=400;, score=0.888 total time=   7.8s\n",
      "[CV 1/5] END bootstrap=False, class_weight=balanced, criterion=entropy, n_estimators=600;, score=0.887 total time=  11.9s\n",
      "[CV 2/5] END bootstrap=False, class_weight=balanced, criterion=entropy, n_estimators=600;, score=0.882 total time=  11.7s\n",
      "[CV 3/5] END bootstrap=False, class_weight=balanced, criterion=entropy, n_estimators=600;, score=0.895 total time=  11.7s\n"
     ]
    },
    {
     "name": "stdout",
     "output_type": "stream",
     "text": [
      "[CV 4/5] END bootstrap=False, class_weight=balanced, criterion=entropy, n_estimators=600;, score=0.889 total time=  11.6s\n",
      "[CV 5/5] END bootstrap=False, class_weight=balanced, criterion=entropy, n_estimators=600;, score=0.889 total time=  11.5s\n",
      "[CV 1/5] END bootstrap=False, class_weight=balanced, criterion=entropy, n_estimators=800;, score=0.887 total time=  15.9s\n",
      "[CV 2/5] END bootstrap=False, class_weight=balanced, criterion=entropy, n_estimators=800;, score=0.882 total time=  15.7s\n",
      "[CV 3/5] END bootstrap=False, class_weight=balanced, criterion=entropy, n_estimators=800;, score=0.895 total time=  15.9s\n",
      "[CV 4/5] END bootstrap=False, class_weight=balanced, criterion=entropy, n_estimators=800;, score=0.889 total time=  15.6s\n",
      "[CV 5/5] END bootstrap=False, class_weight=balanced, criterion=entropy, n_estimators=800;, score=0.889 total time=  15.5s\n",
      "[CV 1/5] END bootstrap=False, class_weight=balanced, criterion=log_loss, n_estimators=200;, score=nan total time=   0.0s\n",
      "[CV 2/5] END bootstrap=False, class_weight=balanced, criterion=log_loss, n_estimators=200;, score=nan total time=   0.0s\n",
      "[CV 3/5] END bootstrap=False, class_weight=balanced, criterion=log_loss, n_estimators=200;, score=nan total time=   0.0s\n",
      "[CV 4/5] END bootstrap=False, class_weight=balanced, criterion=log_loss, n_estimators=200;, score=nan total time=   0.0s\n",
      "[CV 5/5] END bootstrap=False, class_weight=balanced, criterion=log_loss, n_estimators=200;, score=nan total time=   0.0s\n",
      "[CV 1/5] END bootstrap=False, class_weight=balanced, criterion=log_loss, n_estimators=400;, score=nan total time=   0.1s\n",
      "[CV 2/5] END bootstrap=False, class_weight=balanced, criterion=log_loss, n_estimators=400;, score=nan total time=   0.1s\n",
      "[CV 3/5] END bootstrap=False, class_weight=balanced, criterion=log_loss, n_estimators=400;, score=nan total time=   0.1s\n",
      "[CV 4/5] END bootstrap=False, class_weight=balanced, criterion=log_loss, n_estimators=400;, score=nan total time=   0.1s\n",
      "[CV 5/5] END bootstrap=False, class_weight=balanced, criterion=log_loss, n_estimators=400;, score=nan total time=   0.1s\n",
      "[CV 1/5] END bootstrap=False, class_weight=balanced, criterion=log_loss, n_estimators=600;, score=nan total time=   0.1s\n",
      "[CV 2/5] END bootstrap=False, class_weight=balanced, criterion=log_loss, n_estimators=600;, score=nan total time=   0.1s\n",
      "[CV 3/5] END bootstrap=False, class_weight=balanced, criterion=log_loss, n_estimators=600;, score=nan total time=   0.1s\n",
      "[CV 4/5] END bootstrap=False, class_weight=balanced, criterion=log_loss, n_estimators=600;, score=nan total time=   0.1s\n",
      "[CV 5/5] END bootstrap=False, class_weight=balanced, criterion=log_loss, n_estimators=600;, score=nan total time=   0.1s\n",
      "[CV 1/5] END bootstrap=False, class_weight=balanced, criterion=log_loss, n_estimators=800;, score=nan total time=   0.1s\n",
      "[CV 2/5] END bootstrap=False, class_weight=balanced, criterion=log_loss, n_estimators=800;, score=nan total time=   0.1s\n",
      "[CV 3/5] END bootstrap=False, class_weight=balanced, criterion=log_loss, n_estimators=800;, score=nan total time=   0.1s\n",
      "[CV 4/5] END bootstrap=False, class_weight=balanced, criterion=log_loss, n_estimators=800;, score=nan total time=   0.1s\n",
      "[CV 5/5] END bootstrap=False, class_weight=balanced, criterion=log_loss, n_estimators=800;, score=nan total time=   0.1s\n",
      "[CV 1/5] END bootstrap=False, class_weight=balanced_subsample, criterion=gini, n_estimators=200;, score=0.888 total time=   3.3s\n",
      "[CV 2/5] END bootstrap=False, class_weight=balanced_subsample, criterion=gini, n_estimators=200;, score=0.885 total time=   3.3s\n",
      "[CV 3/5] END bootstrap=False, class_weight=balanced_subsample, criterion=gini, n_estimators=200;, score=0.894 total time=   3.3s\n",
      "[CV 4/5] END bootstrap=False, class_weight=balanced_subsample, criterion=gini, n_estimators=200;, score=0.887 total time=   3.3s\n",
      "[CV 5/5] END bootstrap=False, class_weight=balanced_subsample, criterion=gini, n_estimators=200;, score=0.886 total time=   3.3s\n",
      "[CV 1/5] END bootstrap=False, class_weight=balanced_subsample, criterion=gini, n_estimators=400;, score=0.888 total time=   6.7s\n",
      "[CV 2/5] END bootstrap=False, class_weight=balanced_subsample, criterion=gini, n_estimators=400;, score=0.885 total time=   6.5s\n",
      "[CV 3/5] END bootstrap=False, class_weight=balanced_subsample, criterion=gini, n_estimators=400;, score=0.894 total time=   6.6s\n",
      "[CV 4/5] END bootstrap=False, class_weight=balanced_subsample, criterion=gini, n_estimators=400;, score=0.887 total time=   6.5s\n",
      "[CV 5/5] END bootstrap=False, class_weight=balanced_subsample, criterion=gini, n_estimators=400;, score=0.886 total time=   6.5s\n",
      "[CV 1/5] END bootstrap=False, class_weight=balanced_subsample, criterion=gini, n_estimators=600;, score=0.888 total time=  10.0s\n",
      "[CV 2/5] END bootstrap=False, class_weight=balanced_subsample, criterion=gini, n_estimators=600;, score=0.884 total time=   9.8s\n",
      "[CV 3/5] END bootstrap=False, class_weight=balanced_subsample, criterion=gini, n_estimators=600;, score=0.894 total time=  10.0s\n",
      "[CV 4/5] END bootstrap=False, class_weight=balanced_subsample, criterion=gini, n_estimators=600;, score=0.887 total time=  10.1s\n",
      "[CV 5/5] END bootstrap=False, class_weight=balanced_subsample, criterion=gini, n_estimators=600;, score=0.886 total time=   9.8s\n",
      "[CV 1/5] END bootstrap=False, class_weight=balanced_subsample, criterion=gini, n_estimators=800;, score=0.888 total time=  13.8s\n",
      "[CV 2/5] END bootstrap=False, class_weight=balanced_subsample, criterion=gini, n_estimators=800;, score=0.884 total time=  13.8s\n",
      "[CV 3/5] END bootstrap=False, class_weight=balanced_subsample, criterion=gini, n_estimators=800;, score=0.894 total time=  13.9s\n",
      "[CV 4/5] END bootstrap=False, class_weight=balanced_subsample, criterion=gini, n_estimators=800;, score=0.887 total time=  15.2s\n",
      "[CV 5/5] END bootstrap=False, class_weight=balanced_subsample, criterion=gini, n_estimators=800;, score=0.886 total time=  13.6s\n",
      "[CV 1/5] END bootstrap=False, class_weight=balanced_subsample, criterion=entropy, n_estimators=200;, score=0.886 total time=   3.9s\n",
      "[CV 2/5] END bootstrap=False, class_weight=balanced_subsample, criterion=entropy, n_estimators=200;, score=0.884 total time=   3.8s\n",
      "[CV 3/5] END bootstrap=False, class_weight=balanced_subsample, criterion=entropy, n_estimators=200;, score=0.894 total time=   3.9s\n",
      "[CV 4/5] END bootstrap=False, class_weight=balanced_subsample, criterion=entropy, n_estimators=200;, score=0.889 total time=   3.8s\n",
      "[CV 5/5] END bootstrap=False, class_weight=balanced_subsample, criterion=entropy, n_estimators=200;, score=0.888 total time=   3.8s\n",
      "[CV 1/5] END bootstrap=False, class_weight=balanced_subsample, criterion=entropy, n_estimators=400;, score=0.886 total time=   7.8s\n",
      "[CV 2/5] END bootstrap=False, class_weight=balanced_subsample, criterion=entropy, n_estimators=400;, score=0.883 total time=   7.7s\n",
      "[CV 3/5] END bootstrap=False, class_weight=balanced_subsample, criterion=entropy, n_estimators=400;, score=0.894 total time=   7.8s\n",
      "[CV 4/5] END bootstrap=False, class_weight=balanced_subsample, criterion=entropy, n_estimators=400;, score=0.888 total time=   7.7s\n",
      "[CV 5/5] END bootstrap=False, class_weight=balanced_subsample, criterion=entropy, n_estimators=400;, score=0.888 total time=   7.7s\n",
      "[CV 1/5] END bootstrap=False, class_weight=balanced_subsample, criterion=entropy, n_estimators=600;, score=0.887 total time=  11.8s\n",
      "[CV 2/5] END bootstrap=False, class_weight=balanced_subsample, criterion=entropy, n_estimators=600;, score=0.882 total time=  11.5s\n",
      "[CV 3/5] END bootstrap=False, class_weight=balanced_subsample, criterion=entropy, n_estimators=600;, score=0.895 total time=  11.7s\n",
      "[CV 4/5] END bootstrap=False, class_weight=balanced_subsample, criterion=entropy, n_estimators=600;, score=0.889 total time=  11.7s\n",
      "[CV 5/5] END bootstrap=False, class_weight=balanced_subsample, criterion=entropy, n_estimators=600;, score=0.889 total time=  11.6s\n",
      "[CV 1/5] END bootstrap=False, class_weight=balanced_subsample, criterion=entropy, n_estimators=800;, score=0.887 total time=  16.2s\n",
      "[CV 2/5] END bootstrap=False, class_weight=balanced_subsample, criterion=entropy, n_estimators=800;, score=0.882 total time=  16.5s\n",
      "[CV 3/5] END bootstrap=False, class_weight=balanced_subsample, criterion=entropy, n_estimators=800;, score=0.895 total time=  16.6s\n"
     ]
    },
    {
     "name": "stdout",
     "output_type": "stream",
     "text": [
      "[CV 4/5] END bootstrap=False, class_weight=balanced_subsample, criterion=entropy, n_estimators=800;, score=0.889 total time=  17.5s\n",
      "[CV 5/5] END bootstrap=False, class_weight=balanced_subsample, criterion=entropy, n_estimators=800;, score=0.889 total time=  16.1s\n",
      "[CV 1/5] END bootstrap=False, class_weight=balanced_subsample, criterion=log_loss, n_estimators=200;, score=nan total time=   0.0s\n",
      "[CV 2/5] END bootstrap=False, class_weight=balanced_subsample, criterion=log_loss, n_estimators=200;, score=nan total time=   0.0s\n",
      "[CV 3/5] END bootstrap=False, class_weight=balanced_subsample, criterion=log_loss, n_estimators=200;, score=nan total time=   0.0s\n",
      "[CV 4/5] END bootstrap=False, class_weight=balanced_subsample, criterion=log_loss, n_estimators=200;, score=nan total time=   0.0s\n",
      "[CV 5/5] END bootstrap=False, class_weight=balanced_subsample, criterion=log_loss, n_estimators=200;, score=nan total time=   0.0s\n",
      "[CV 1/5] END bootstrap=False, class_weight=balanced_subsample, criterion=log_loss, n_estimators=400;, score=nan total time=   0.1s\n",
      "[CV 2/5] END bootstrap=False, class_weight=balanced_subsample, criterion=log_loss, n_estimators=400;, score=nan total time=   0.1s\n",
      "[CV 3/5] END bootstrap=False, class_weight=balanced_subsample, criterion=log_loss, n_estimators=400;, score=nan total time=   0.1s\n",
      "[CV 4/5] END bootstrap=False, class_weight=balanced_subsample, criterion=log_loss, n_estimators=400;, score=nan total time=   0.1s\n",
      "[CV 5/5] END bootstrap=False, class_weight=balanced_subsample, criterion=log_loss, n_estimators=400;, score=nan total time=   0.1s\n",
      "[CV 1/5] END bootstrap=False, class_weight=balanced_subsample, criterion=log_loss, n_estimators=600;, score=nan total time=   0.1s\n",
      "[CV 2/5] END bootstrap=False, class_weight=balanced_subsample, criterion=log_loss, n_estimators=600;, score=nan total time=   0.1s\n",
      "[CV 3/5] END bootstrap=False, class_weight=balanced_subsample, criterion=log_loss, n_estimators=600;, score=nan total time=   0.1s\n",
      "[CV 4/5] END bootstrap=False, class_weight=balanced_subsample, criterion=log_loss, n_estimators=600;, score=nan total time=   0.1s\n",
      "[CV 5/5] END bootstrap=False, class_weight=balanced_subsample, criterion=log_loss, n_estimators=600;, score=nan total time=   0.1s\n",
      "[CV 1/5] END bootstrap=False, class_weight=balanced_subsample, criterion=log_loss, n_estimators=800;, score=nan total time=   0.1s\n",
      "[CV 2/5] END bootstrap=False, class_weight=balanced_subsample, criterion=log_loss, n_estimators=800;, score=nan total time=   0.1s\n",
      "[CV 3/5] END bootstrap=False, class_weight=balanced_subsample, criterion=log_loss, n_estimators=800;, score=nan total time=   0.1s\n",
      "[CV 4/5] END bootstrap=False, class_weight=balanced_subsample, criterion=log_loss, n_estimators=800;, score=nan total time=   0.1s\n",
      "[CV 5/5] END bootstrap=False, class_weight=balanced_subsample, criterion=log_loss, n_estimators=800;, score=nan total time=   0.1s\n",
      "[CV 1/5] END bootstrap=False, class_weight=none, criterion=gini, n_estimators=200;, score=nan total time=   0.0s\n",
      "[CV 2/5] END bootstrap=False, class_weight=none, criterion=gini, n_estimators=200;, score=nan total time=   0.0s\n",
      "[CV 3/5] END bootstrap=False, class_weight=none, criterion=gini, n_estimators=200;, score=nan total time=   0.0s\n",
      "[CV 4/5] END bootstrap=False, class_weight=none, criterion=gini, n_estimators=200;, score=nan total time=   0.0s\n",
      "[CV 5/5] END bootstrap=False, class_weight=none, criterion=gini, n_estimators=200;, score=nan total time=   0.0s\n",
      "[CV 1/5] END bootstrap=False, class_weight=none, criterion=gini, n_estimators=400;, score=nan total time=   0.0s\n",
      "[CV 2/5] END bootstrap=False, class_weight=none, criterion=gini, n_estimators=400;, score=nan total time=   0.0s\n",
      "[CV 3/5] END bootstrap=False, class_weight=none, criterion=gini, n_estimators=400;, score=nan total time=   0.0s\n",
      "[CV 4/5] END bootstrap=False, class_weight=none, criterion=gini, n_estimators=400;, score=nan total time=   0.0s\n",
      "[CV 5/5] END bootstrap=False, class_weight=none, criterion=gini, n_estimators=400;, score=nan total time=   0.0s\n",
      "[CV 1/5] END bootstrap=False, class_weight=none, criterion=gini, n_estimators=600;, score=nan total time=   0.0s\n",
      "[CV 2/5] END bootstrap=False, class_weight=none, criterion=gini, n_estimators=600;, score=nan total time=   0.0s\n",
      "[CV 3/5] END bootstrap=False, class_weight=none, criterion=gini, n_estimators=600;, score=nan total time=   0.0s\n",
      "[CV 4/5] END bootstrap=False, class_weight=none, criterion=gini, n_estimators=600;, score=nan total time=   0.0s\n",
      "[CV 5/5] END bootstrap=False, class_weight=none, criterion=gini, n_estimators=600;, score=nan total time=   0.0s\n",
      "[CV 1/5] END bootstrap=False, class_weight=none, criterion=gini, n_estimators=800;, score=nan total time=   0.0s\n",
      "[CV 2/5] END bootstrap=False, class_weight=none, criterion=gini, n_estimators=800;, score=nan total time=   0.0s\n",
      "[CV 3/5] END bootstrap=False, class_weight=none, criterion=gini, n_estimators=800;, score=nan total time=   0.0s\n",
      "[CV 4/5] END bootstrap=False, class_weight=none, criterion=gini, n_estimators=800;, score=nan total time=   0.0s\n",
      "[CV 5/5] END bootstrap=False, class_weight=none, criterion=gini, n_estimators=800;, score=nan total time=   0.0s\n",
      "[CV 1/5] END bootstrap=False, class_weight=none, criterion=entropy, n_estimators=200;, score=nan total time=   0.0s\n",
      "[CV 2/5] END bootstrap=False, class_weight=none, criterion=entropy, n_estimators=200;, score=nan total time=   0.0s\n",
      "[CV 3/5] END bootstrap=False, class_weight=none, criterion=entropy, n_estimators=200;, score=nan total time=   0.0s\n",
      "[CV 4/5] END bootstrap=False, class_weight=none, criterion=entropy, n_estimators=200;, score=nan total time=   0.0s\n",
      "[CV 5/5] END bootstrap=False, class_weight=none, criterion=entropy, n_estimators=200;, score=nan total time=   0.0s\n",
      "[CV 1/5] END bootstrap=False, class_weight=none, criterion=entropy, n_estimators=400;, score=nan total time=   0.0s\n",
      "[CV 2/5] END bootstrap=False, class_weight=none, criterion=entropy, n_estimators=400;, score=nan total time=   0.0s\n",
      "[CV 3/5] END bootstrap=False, class_weight=none, criterion=entropy, n_estimators=400;, score=nan total time=   0.0s\n",
      "[CV 4/5] END bootstrap=False, class_weight=none, criterion=entropy, n_estimators=400;, score=nan total time=   0.0s\n",
      "[CV 5/5] END bootstrap=False, class_weight=none, criterion=entropy, n_estimators=400;, score=nan total time=   0.0s\n",
      "[CV 1/5] END bootstrap=False, class_weight=none, criterion=entropy, n_estimators=600;, score=nan total time=   0.0s\n",
      "[CV 2/5] END bootstrap=False, class_weight=none, criterion=entropy, n_estimators=600;, score=nan total time=   0.0s\n",
      "[CV 3/5] END bootstrap=False, class_weight=none, criterion=entropy, n_estimators=600;, score=nan total time=   0.0s\n",
      "[CV 4/5] END bootstrap=False, class_weight=none, criterion=entropy, n_estimators=600;, score=nan total time=   0.0s\n",
      "[CV 5/5] END bootstrap=False, class_weight=none, criterion=entropy, n_estimators=600;, score=nan total time=   0.0s\n",
      "[CV 1/5] END bootstrap=False, class_weight=none, criterion=entropy, n_estimators=800;, score=nan total time=   0.0s\n",
      "[CV 2/5] END bootstrap=False, class_weight=none, criterion=entropy, n_estimators=800;, score=nan total time=   0.0s\n",
      "[CV 3/5] END bootstrap=False, class_weight=none, criterion=entropy, n_estimators=800;, score=nan total time=   0.0s\n",
      "[CV 4/5] END bootstrap=False, class_weight=none, criterion=entropy, n_estimators=800;, score=nan total time=   0.0s\n",
      "[CV 5/5] END bootstrap=False, class_weight=none, criterion=entropy, n_estimators=800;, score=nan total time=   0.0s\n",
      "[CV 1/5] END bootstrap=False, class_weight=none, criterion=log_loss, n_estimators=200;, score=nan total time=   0.0s\n",
      "[CV 2/5] END bootstrap=False, class_weight=none, criterion=log_loss, n_estimators=200;, score=nan total time=   0.0s\n",
      "[CV 3/5] END bootstrap=False, class_weight=none, criterion=log_loss, n_estimators=200;, score=nan total time=   0.0s\n",
      "[CV 4/5] END bootstrap=False, class_weight=none, criterion=log_loss, n_estimators=200;, score=nan total time=   0.0s\n",
      "[CV 5/5] END bootstrap=False, class_weight=none, criterion=log_loss, n_estimators=200;, score=nan total time=   0.0s\n",
      "[CV 1/5] END bootstrap=False, class_weight=none, criterion=log_loss, n_estimators=400;, score=nan total time=   0.0s\n",
      "[CV 2/5] END bootstrap=False, class_weight=none, criterion=log_loss, n_estimators=400;, score=nan total time=   0.0s\n",
      "[CV 3/5] END bootstrap=False, class_weight=none, criterion=log_loss, n_estimators=400;, score=nan total time=   0.0s\n",
      "[CV 4/5] END bootstrap=False, class_weight=none, criterion=log_loss, n_estimators=400;, score=nan total time=   0.0s\n",
      "[CV 5/5] END bootstrap=False, class_weight=none, criterion=log_loss, n_estimators=400;, score=nan total time=   0.0s\n",
      "[CV 1/5] END bootstrap=False, class_weight=none, criterion=log_loss, n_estimators=600;, score=nan total time=   0.0s\n",
      "[CV 2/5] END bootstrap=False, class_weight=none, criterion=log_loss, n_estimators=600;, score=nan total time=   0.0s\n",
      "[CV 3/5] END bootstrap=False, class_weight=none, criterion=log_loss, n_estimators=600;, score=nan total time=   0.0s\n",
      "[CV 4/5] END bootstrap=False, class_weight=none, criterion=log_loss, n_estimators=600;, score=nan total time=   0.0s\n"
     ]
    },
    {
     "name": "stdout",
     "output_type": "stream",
     "text": [
      "[CV 5/5] END bootstrap=False, class_weight=none, criterion=log_loss, n_estimators=600;, score=nan total time=   0.0s\n",
      "[CV 1/5] END bootstrap=False, class_weight=none, criterion=log_loss, n_estimators=800;, score=nan total time=   0.0s\n",
      "[CV 2/5] END bootstrap=False, class_weight=none, criterion=log_loss, n_estimators=800;, score=nan total time=   0.0s\n",
      "[CV 3/5] END bootstrap=False, class_weight=none, criterion=log_loss, n_estimators=800;, score=nan total time=   0.0s\n",
      "[CV 4/5] END bootstrap=False, class_weight=none, criterion=log_loss, n_estimators=800;, score=nan total time=   0.0s\n",
      "[CV 5/5] END bootstrap=False, class_weight=none, criterion=log_loss, n_estimators=800;, score=nan total time=   0.0s\n"
     ]
    },
    {
     "name": "stderr",
     "output_type": "stream",
     "text": [
      "/Users/michaelraines/opt/anaconda3/lib/python3.8/site-packages/sklearn/model_selection/_validation.py:372: FitFailedWarning: \n",
      "200 fits failed out of a total of 360.\n",
      "The score on these train-test partitions for these parameters will be set to nan.\n",
      "If these failures are not expected, you can try to debug them by setting error_score='raise'.\n",
      "\n",
      "Below are more details about the failures:\n",
      "--------------------------------------------------------------------------------\n",
      "40 fits failed with the following error:\n",
      "Traceback (most recent call last):\n",
      "  File \"/Users/michaelraines/opt/anaconda3/lib/python3.8/site-packages/sklearn/model_selection/_validation.py\", line 680, in _fit_and_score\n",
      "    estimator.fit(X_train, y_train, **fit_params)\n",
      "  File \"/Users/michaelraines/opt/anaconda3/lib/python3.8/site-packages/sklearn/ensemble/_forest.py\", line 450, in fit\n",
      "    trees = Parallel(\n",
      "  File \"/Users/michaelraines/opt/anaconda3/lib/python3.8/site-packages/joblib/parallel.py\", line 1043, in __call__\n",
      "    if self.dispatch_one_batch(iterator):\n",
      "  File \"/Users/michaelraines/opt/anaconda3/lib/python3.8/site-packages/joblib/parallel.py\", line 861, in dispatch_one_batch\n",
      "    self._dispatch(tasks)\n",
      "  File \"/Users/michaelraines/opt/anaconda3/lib/python3.8/site-packages/joblib/parallel.py\", line 779, in _dispatch\n",
      "    job = self._backend.apply_async(batch, callback=cb)\n",
      "  File \"/Users/michaelraines/opt/anaconda3/lib/python3.8/site-packages/joblib/_parallel_backends.py\", line 208, in apply_async\n",
      "    result = ImmediateResult(func)\n",
      "  File \"/Users/michaelraines/opt/anaconda3/lib/python3.8/site-packages/joblib/_parallel_backends.py\", line 572, in __init__\n",
      "    self.results = batch()\n",
      "  File \"/Users/michaelraines/opt/anaconda3/lib/python3.8/site-packages/joblib/parallel.py\", line 262, in __call__\n",
      "    return [func(*args, **kwargs)\n",
      "  File \"/Users/michaelraines/opt/anaconda3/lib/python3.8/site-packages/joblib/parallel.py\", line 262, in <listcomp>\n",
      "    return [func(*args, **kwargs)\n",
      "  File \"/Users/michaelraines/opt/anaconda3/lib/python3.8/site-packages/sklearn/utils/fixes.py\", line 216, in __call__\n",
      "    return self.function(*args, **kwargs)\n",
      "  File \"/Users/michaelraines/opt/anaconda3/lib/python3.8/site-packages/sklearn/ensemble/_forest.py\", line 185, in _parallel_build_trees\n",
      "    tree.fit(X, y, sample_weight=curr_sample_weight, check_input=False)\n",
      "  File \"/Users/michaelraines/opt/anaconda3/lib/python3.8/site-packages/sklearn/tree/_classes.py\", line 937, in fit\n",
      "    super().fit(\n",
      "  File \"/Users/michaelraines/opt/anaconda3/lib/python3.8/site-packages/sklearn/tree/_classes.py\", line 352, in fit\n",
      "    criterion = CRITERIA_CLF[self.criterion](\n",
      "KeyError: 'log_loss'\n",
      "\n",
      "--------------------------------------------------------------------------------\n",
      "120 fits failed with the following error:\n",
      "Traceback (most recent call last):\n",
      "  File \"/Users/michaelraines/opt/anaconda3/lib/python3.8/site-packages/sklearn/model_selection/_validation.py\", line 680, in _fit_and_score\n",
      "    estimator.fit(X_train, y_train, **fit_params)\n",
      "  File \"/Users/michaelraines/opt/anaconda3/lib/python3.8/site-packages/sklearn/ensemble/_forest.py\", line 367, in fit\n",
      "    y, expanded_class_weight = self._validate_y_class_weight(y)\n",
      "  File \"/Users/michaelraines/opt/anaconda3/lib/python3.8/site-packages/sklearn/ensemble/_forest.py\", line 758, in _validate_y_class_weight\n",
      "    raise ValueError(\n",
      "ValueError: Valid presets for class_weight include \"balanced\" and \"balanced_subsample\".Given \"none\".\n",
      "\n",
      "--------------------------------------------------------------------------------\n",
      "40 fits failed with the following error:\n",
      "Traceback (most recent call last):\n",
      "  File \"/Users/michaelraines/opt/anaconda3/lib/python3.8/site-packages/sklearn/model_selection/_validation.py\", line 680, in _fit_and_score\n",
      "    estimator.fit(X_train, y_train, **fit_params)\n",
      "  File \"/Users/michaelraines/opt/anaconda3/lib/python3.8/site-packages/sklearn/ensemble/_forest.py\", line 450, in fit\n",
      "    trees = Parallel(\n",
      "  File \"/Users/michaelraines/opt/anaconda3/lib/python3.8/site-packages/joblib/parallel.py\", line 1043, in __call__\n",
      "    if self.dispatch_one_batch(iterator):\n",
      "  File \"/Users/michaelraines/opt/anaconda3/lib/python3.8/site-packages/joblib/parallel.py\", line 861, in dispatch_one_batch\n",
      "    self._dispatch(tasks)\n",
      "  File \"/Users/michaelraines/opt/anaconda3/lib/python3.8/site-packages/joblib/parallel.py\", line 779, in _dispatch\n",
      "    job = self._backend.apply_async(batch, callback=cb)\n",
      "  File \"/Users/michaelraines/opt/anaconda3/lib/python3.8/site-packages/joblib/_parallel_backends.py\", line 208, in apply_async\n",
      "    result = ImmediateResult(func)\n",
      "  File \"/Users/michaelraines/opt/anaconda3/lib/python3.8/site-packages/joblib/_parallel_backends.py\", line 572, in __init__\n",
      "    self.results = batch()\n",
      "  File \"/Users/michaelraines/opt/anaconda3/lib/python3.8/site-packages/joblib/parallel.py\", line 262, in __call__\n",
      "    return [func(*args, **kwargs)\n",
      "  File \"/Users/michaelraines/opt/anaconda3/lib/python3.8/site-packages/joblib/parallel.py\", line 262, in <listcomp>\n",
      "    return [func(*args, **kwargs)\n",
      "  File \"/Users/michaelraines/opt/anaconda3/lib/python3.8/site-packages/sklearn/utils/fixes.py\", line 216, in __call__\n",
      "    return self.function(*args, **kwargs)\n",
      "  File \"/Users/michaelraines/opt/anaconda3/lib/python3.8/site-packages/sklearn/ensemble/_forest.py\", line 187, in _parallel_build_trees\n",
      "    tree.fit(X, y, sample_weight=sample_weight, check_input=False)\n",
      "  File \"/Users/michaelraines/opt/anaconda3/lib/python3.8/site-packages/sklearn/tree/_classes.py\", line 937, in fit\n",
      "    super().fit(\n",
      "  File \"/Users/michaelraines/opt/anaconda3/lib/python3.8/site-packages/sklearn/tree/_classes.py\", line 352, in fit\n",
      "    criterion = CRITERIA_CLF[self.criterion](\n",
      "KeyError: 'log_loss'\n",
      "\n",
      "  warnings.warn(some_fits_failed_message, FitFailedWarning)\n",
      "/Users/michaelraines/opt/anaconda3/lib/python3.8/site-packages/sklearn/model_selection/_search.py:969: UserWarning: One or more of the test scores are non-finite: [0.89677333 0.89682667 0.89688    0.89656    0.89616    0.89661333\n",
      " 0.89661333 0.89674667        nan        nan        nan        nan\n",
      " 0.89562667 0.89629333 0.89666667 0.89658667 0.89618667 0.89661333\n",
      " 0.89642667 0.8964            nan        nan        nan        nan\n",
      "        nan        nan        nan        nan        nan        nan\n",
      "        nan        nan        nan        nan        nan        nan\n",
      " 0.88794667 0.888      0.88778667 0.88781333 0.88792    0.88781333\n",
      " 0.88832    0.88829333        nan        nan        nan        nan\n",
      " 0.88794667 0.888      0.88778667 0.88781333 0.88792    0.88781333\n",
      " 0.88832    0.88829333        nan        nan        nan        nan\n",
      "        nan        nan        nan        nan        nan        nan\n",
      "        nan        nan        nan        nan        nan        nan]\n",
      "  warnings.warn(\n"
     ]
    },
    {
     "data": {
      "text/plain": [
       "GridSearchCV(estimator=RandomForestClassifier(random_state=1),\n",
       "             param_grid={'bootstrap': [True, False],\n",
       "                         'class_weight': ['balanced', 'balanced_subsample',\n",
       "                                          'none'],\n",
       "                         'criterion': ['gini', 'entropy', 'log_loss'],\n",
       "                         'n_estimators': [200, 400, 600, 800]},\n",
       "             verbose=3)"
      ]
     },
     "execution_count": 40,
     "metadata": {},
     "output_type": "execute_result"
    }
   ],
   "source": [
    "model= RandomForestClassifier(random_state=1)\n",
    "\n",
    "param_grid = {\n",
    "    'criterion': ['gini','entropy', 'log_loss'],\n",
    "    'class_weight': ['balanced', 'balanced_subsample', 'none'],\n",
    "    'n_estimators': [200, 400, 600, 800], \n",
    "    'bootstrap':[True, False]\n",
    "}\n",
    "rf_grid_clf = GridSearchCV(model, param_grid, verbose=3)\n",
    "rf_grid_clf.fit(X_train, y_train)"
   ]
  },
  {
   "cell_type": "code",
   "execution_count": 41,
   "id": "41611a42",
   "metadata": {},
   "outputs": [
    {
     "name": "stdout",
     "output_type": "stream",
     "text": [
      "{'bootstrap': True, 'class_weight': 'balanced', 'criterion': 'gini', 'n_estimators': 600}\n",
      "0.89688\n"
     ]
    }
   ],
   "source": [
    "print(rf_grid_clf.best_params_)\n",
    "print(rf_grid_clf.best_score_)"
   ]
  },
  {
   "cell_type": "code",
   "execution_count": 43,
   "id": "30635e87",
   "metadata": {},
   "outputs": [
    {
     "name": "stdout",
     "output_type": "stream",
     "text": [
      "Training Data Score: 0.9984533333333333\n",
      "Testing Data Score: 0.896\n"
     ]
    }
   ],
   "source": [
    "rf_best_params=rf_grid_clf.best_params_\n",
    "rf_classifier= RandomForestClassifier(**rf_best_params, random_state=1).fit(X_train, y_train)\n",
    "print(f\"Training Data Score: {rf_classifier.score(X_train, y_train)}\")\n",
    "print(f\"Testing Data Score: {rf_classifier.score(X_test, y_test)}\")"
   ]
  },
  {
   "cell_type": "markdown",
   "id": "bc5a9470",
   "metadata": {},
   "source": [
    "#### SVC"
   ]
  },
  {
   "cell_type": "code",
   "execution_count": 46,
   "id": "1e7b9ac7",
   "metadata": {},
   "outputs": [
    {
     "name": "stdout",
     "output_type": "stream",
     "text": [
      "Fitting 5 folds for each of 24 candidates, totalling 120 fits\n",
      "[CV 1/5] END ....C=1.0, max_iter=1000, penalty=l1;, score=nan total time=   0.1s\n",
      "[CV 2/5] END ....C=1.0, max_iter=1000, penalty=l1;, score=nan total time=   0.0s\n",
      "[CV 3/5] END ....C=1.0, max_iter=1000, penalty=l1;, score=nan total time=   0.0s\n",
      "[CV 4/5] END ....C=1.0, max_iter=1000, penalty=l1;, score=nan total time=   0.0s\n",
      "[CV 5/5] END ....C=1.0, max_iter=1000, penalty=l1;, score=nan total time=   0.0s\n"
     ]
    },
    {
     "name": "stderr",
     "output_type": "stream",
     "text": [
      "/Users/michaelraines/opt/anaconda3/lib/python3.8/site-packages/sklearn/svm/_base.py:1206: ConvergenceWarning: Liblinear failed to converge, increase the number of iterations.\n",
      "  warnings.warn(\n"
     ]
    },
    {
     "name": "stdout",
     "output_type": "stream",
     "text": [
      "[CV 1/5] END ..C=1.0, max_iter=1000, penalty=l2;, score=0.900 total time=   1.2s\n"
     ]
    },
    {
     "name": "stderr",
     "output_type": "stream",
     "text": [
      "/Users/michaelraines/opt/anaconda3/lib/python3.8/site-packages/sklearn/svm/_base.py:1206: ConvergenceWarning: Liblinear failed to converge, increase the number of iterations.\n",
      "  warnings.warn(\n"
     ]
    },
    {
     "name": "stdout",
     "output_type": "stream",
     "text": [
      "[CV 2/5] END ..C=1.0, max_iter=1000, penalty=l2;, score=0.878 total time=   1.2s\n"
     ]
    },
    {
     "name": "stderr",
     "output_type": "stream",
     "text": [
      "/Users/michaelraines/opt/anaconda3/lib/python3.8/site-packages/sklearn/svm/_base.py:1206: ConvergenceWarning: Liblinear failed to converge, increase the number of iterations.\n",
      "  warnings.warn(\n"
     ]
    },
    {
     "name": "stdout",
     "output_type": "stream",
     "text": [
      "[CV 3/5] END ..C=1.0, max_iter=1000, penalty=l2;, score=0.813 total time=   1.1s\n"
     ]
    },
    {
     "name": "stderr",
     "output_type": "stream",
     "text": [
      "/Users/michaelraines/opt/anaconda3/lib/python3.8/site-packages/sklearn/svm/_base.py:1206: ConvergenceWarning: Liblinear failed to converge, increase the number of iterations.\n",
      "  warnings.warn(\n"
     ]
    },
    {
     "name": "stdout",
     "output_type": "stream",
     "text": [
      "[CV 4/5] END ..C=1.0, max_iter=1000, penalty=l2;, score=0.860 total time=   1.2s\n"
     ]
    },
    {
     "name": "stderr",
     "output_type": "stream",
     "text": [
      "/Users/michaelraines/opt/anaconda3/lib/python3.8/site-packages/sklearn/svm/_base.py:1206: ConvergenceWarning: Liblinear failed to converge, increase the number of iterations.\n",
      "  warnings.warn(\n"
     ]
    },
    {
     "name": "stdout",
     "output_type": "stream",
     "text": [
      "[CV 5/5] END ..C=1.0, max_iter=1000, penalty=l2;, score=0.860 total time=   1.1s\n",
      "[CV 1/5] END ....C=1.0, max_iter=1500, penalty=l1;, score=nan total time=   0.0s\n",
      "[CV 2/5] END ....C=1.0, max_iter=1500, penalty=l1;, score=nan total time=   0.0s\n",
      "[CV 3/5] END ....C=1.0, max_iter=1500, penalty=l1;, score=nan total time=   0.0s\n",
      "[CV 4/5] END ....C=1.0, max_iter=1500, penalty=l1;, score=nan total time=   0.0s\n",
      "[CV 5/5] END ....C=1.0, max_iter=1500, penalty=l1;, score=nan total time=   0.0s\n"
     ]
    },
    {
     "name": "stderr",
     "output_type": "stream",
     "text": [
      "/Users/michaelraines/opt/anaconda3/lib/python3.8/site-packages/sklearn/svm/_base.py:1206: ConvergenceWarning: Liblinear failed to converge, increase the number of iterations.\n",
      "  warnings.warn(\n"
     ]
    },
    {
     "name": "stdout",
     "output_type": "stream",
     "text": [
      "[CV 1/5] END ..C=1.0, max_iter=1500, penalty=l2;, score=0.778 total time=   1.9s\n"
     ]
    },
    {
     "name": "stderr",
     "output_type": "stream",
     "text": [
      "/Users/michaelraines/opt/anaconda3/lib/python3.8/site-packages/sklearn/svm/_base.py:1206: ConvergenceWarning: Liblinear failed to converge, increase the number of iterations.\n",
      "  warnings.warn(\n"
     ]
    },
    {
     "name": "stdout",
     "output_type": "stream",
     "text": [
      "[CV 2/5] END ..C=1.0, max_iter=1500, penalty=l2;, score=0.814 total time=   2.0s\n"
     ]
    },
    {
     "name": "stderr",
     "output_type": "stream",
     "text": [
      "/Users/michaelraines/opt/anaconda3/lib/python3.8/site-packages/sklearn/svm/_base.py:1206: ConvergenceWarning: Liblinear failed to converge, increase the number of iterations.\n",
      "  warnings.warn(\n"
     ]
    },
    {
     "name": "stdout",
     "output_type": "stream",
     "text": [
      "[CV 3/5] END ..C=1.0, max_iter=1500, penalty=l2;, score=0.767 total time=   1.8s\n"
     ]
    },
    {
     "name": "stderr",
     "output_type": "stream",
     "text": [
      "/Users/michaelraines/opt/anaconda3/lib/python3.8/site-packages/sklearn/svm/_base.py:1206: ConvergenceWarning: Liblinear failed to converge, increase the number of iterations.\n",
      "  warnings.warn(\n"
     ]
    },
    {
     "name": "stdout",
     "output_type": "stream",
     "text": [
      "[CV 4/5] END ..C=1.0, max_iter=1500, penalty=l2;, score=0.832 total time=   1.9s\n"
     ]
    },
    {
     "name": "stderr",
     "output_type": "stream",
     "text": [
      "/Users/michaelraines/opt/anaconda3/lib/python3.8/site-packages/sklearn/svm/_base.py:1206: ConvergenceWarning: Liblinear failed to converge, increase the number of iterations.\n",
      "  warnings.warn(\n"
     ]
    },
    {
     "name": "stdout",
     "output_type": "stream",
     "text": [
      "[CV 5/5] END ..C=1.0, max_iter=1500, penalty=l2;, score=0.876 total time=   1.7s\n",
      "[CV 1/5] END ....C=1.0, max_iter=2000, penalty=l1;, score=nan total time=   0.0s\n",
      "[CV 2/5] END ....C=1.0, max_iter=2000, penalty=l1;, score=nan total time=   0.0s\n",
      "[CV 3/5] END ....C=1.0, max_iter=2000, penalty=l1;, score=nan total time=   0.0s\n",
      "[CV 4/5] END ....C=1.0, max_iter=2000, penalty=l1;, score=nan total time=   0.0s\n",
      "[CV 5/5] END ....C=1.0, max_iter=2000, penalty=l1;, score=nan total time=   0.0s\n"
     ]
    },
    {
     "name": "stderr",
     "output_type": "stream",
     "text": [
      "/Users/michaelraines/opt/anaconda3/lib/python3.8/site-packages/sklearn/svm/_base.py:1206: ConvergenceWarning: Liblinear failed to converge, increase the number of iterations.\n",
      "  warnings.warn(\n"
     ]
    },
    {
     "name": "stdout",
     "output_type": "stream",
     "text": [
      "[CV 1/5] END ..C=1.0, max_iter=2000, penalty=l2;, score=0.886 total time=   2.6s\n"
     ]
    },
    {
     "name": "stderr",
     "output_type": "stream",
     "text": [
      "/Users/michaelraines/opt/anaconda3/lib/python3.8/site-packages/sklearn/svm/_base.py:1206: ConvergenceWarning: Liblinear failed to converge, increase the number of iterations.\n",
      "  warnings.warn(\n"
     ]
    },
    {
     "name": "stdout",
     "output_type": "stream",
     "text": [
      "[CV 2/5] END ..C=1.0, max_iter=2000, penalty=l2;, score=0.841 total time=   2.3s\n"
     ]
    },
    {
     "name": "stderr",
     "output_type": "stream",
     "text": [
      "/Users/michaelraines/opt/anaconda3/lib/python3.8/site-packages/sklearn/svm/_base.py:1206: ConvergenceWarning: Liblinear failed to converge, increase the number of iterations.\n",
      "  warnings.warn(\n"
     ]
    },
    {
     "name": "stdout",
     "output_type": "stream",
     "text": [
      "[CV 3/5] END ..C=1.0, max_iter=2000, penalty=l2;, score=0.878 total time=   2.2s\n"
     ]
    },
    {
     "name": "stderr",
     "output_type": "stream",
     "text": [
      "/Users/michaelraines/opt/anaconda3/lib/python3.8/site-packages/sklearn/svm/_base.py:1206: ConvergenceWarning: Liblinear failed to converge, increase the number of iterations.\n",
      "  warnings.warn(\n"
     ]
    },
    {
     "name": "stdout",
     "output_type": "stream",
     "text": [
      "[CV 4/5] END ..C=1.0, max_iter=2000, penalty=l2;, score=0.910 total time=   2.3s\n"
     ]
    },
    {
     "name": "stderr",
     "output_type": "stream",
     "text": [
      "/Users/michaelraines/opt/anaconda3/lib/python3.8/site-packages/sklearn/svm/_base.py:1206: ConvergenceWarning: Liblinear failed to converge, increase the number of iterations.\n",
      "  warnings.warn(\n"
     ]
    },
    {
     "name": "stdout",
     "output_type": "stream",
     "text": [
      "[CV 5/5] END ..C=1.0, max_iter=2000, penalty=l2;, score=0.179 total time=   3.0s\n",
      "[CV 1/5] END ....C=0.1, max_iter=1000, penalty=l1;, score=nan total time=   0.0s\n",
      "[CV 2/5] END ....C=0.1, max_iter=1000, penalty=l1;, score=nan total time=   0.0s\n",
      "[CV 3/5] END ....C=0.1, max_iter=1000, penalty=l1;, score=nan total time=   0.0s\n",
      "[CV 4/5] END ....C=0.1, max_iter=1000, penalty=l1;, score=nan total time=   0.0s\n",
      "[CV 5/5] END ....C=0.1, max_iter=1000, penalty=l1;, score=nan total time=   0.0s\n"
     ]
    },
    {
     "name": "stderr",
     "output_type": "stream",
     "text": [
      "/Users/michaelraines/opt/anaconda3/lib/python3.8/site-packages/sklearn/svm/_base.py:1206: ConvergenceWarning: Liblinear failed to converge, increase the number of iterations.\n",
      "  warnings.warn(\n"
     ]
    },
    {
     "name": "stdout",
     "output_type": "stream",
     "text": [
      "[CV 1/5] END ..C=0.1, max_iter=1000, penalty=l2;, score=0.893 total time=   1.4s\n"
     ]
    },
    {
     "name": "stderr",
     "output_type": "stream",
     "text": [
      "/Users/michaelraines/opt/anaconda3/lib/python3.8/site-packages/sklearn/svm/_base.py:1206: ConvergenceWarning: Liblinear failed to converge, increase the number of iterations.\n",
      "  warnings.warn(\n"
     ]
    },
    {
     "name": "stdout",
     "output_type": "stream",
     "text": [
      "[CV 2/5] END ..C=0.1, max_iter=1000, penalty=l2;, score=0.754 total time=   1.1s\n"
     ]
    },
    {
     "name": "stderr",
     "output_type": "stream",
     "text": [
      "/Users/michaelraines/opt/anaconda3/lib/python3.8/site-packages/sklearn/svm/_base.py:1206: ConvergenceWarning: Liblinear failed to converge, increase the number of iterations.\n",
      "  warnings.warn(\n"
     ]
    },
    {
     "name": "stdout",
     "output_type": "stream",
     "text": [
      "[CV 3/5] END ..C=0.1, max_iter=1000, penalty=l2;, score=0.910 total time=   1.1s\n"
     ]
    },
    {
     "name": "stderr",
     "output_type": "stream",
     "text": [
      "/Users/michaelraines/opt/anaconda3/lib/python3.8/site-packages/sklearn/svm/_base.py:1206: ConvergenceWarning: Liblinear failed to converge, increase the number of iterations.\n",
      "  warnings.warn(\n"
     ]
    },
    {
     "name": "stdout",
     "output_type": "stream",
     "text": [
      "[CV 4/5] END ..C=0.1, max_iter=1000, penalty=l2;, score=0.907 total time=   1.1s\n"
     ]
    },
    {
     "name": "stderr",
     "output_type": "stream",
     "text": [
      "/Users/michaelraines/opt/anaconda3/lib/python3.8/site-packages/sklearn/svm/_base.py:1206: ConvergenceWarning: Liblinear failed to converge, increase the number of iterations.\n",
      "  warnings.warn(\n"
     ]
    },
    {
     "name": "stdout",
     "output_type": "stream",
     "text": [
      "[CV 5/5] END ..C=0.1, max_iter=1000, penalty=l2;, score=0.900 total time=   1.1s\n",
      "[CV 1/5] END ....C=0.1, max_iter=1500, penalty=l1;, score=nan total time=   0.0s\n",
      "[CV 2/5] END ....C=0.1, max_iter=1500, penalty=l1;, score=nan total time=   0.0s\n",
      "[CV 3/5] END ....C=0.1, max_iter=1500, penalty=l1;, score=nan total time=   0.0s\n",
      "[CV 4/5] END ....C=0.1, max_iter=1500, penalty=l1;, score=nan total time=   0.0s\n",
      "[CV 5/5] END ....C=0.1, max_iter=1500, penalty=l1;, score=nan total time=   0.0s\n"
     ]
    },
    {
     "name": "stderr",
     "output_type": "stream",
     "text": [
      "/Users/michaelraines/opt/anaconda3/lib/python3.8/site-packages/sklearn/svm/_base.py:1206: ConvergenceWarning: Liblinear failed to converge, increase the number of iterations.\n",
      "  warnings.warn(\n"
     ]
    },
    {
     "name": "stdout",
     "output_type": "stream",
     "text": [
      "[CV 1/5] END ..C=0.1, max_iter=1500, penalty=l2;, score=0.841 total time=   1.7s\n"
     ]
    },
    {
     "name": "stderr",
     "output_type": "stream",
     "text": [
      "/Users/michaelraines/opt/anaconda3/lib/python3.8/site-packages/sklearn/svm/_base.py:1206: ConvergenceWarning: Liblinear failed to converge, increase the number of iterations.\n",
      "  warnings.warn(\n"
     ]
    },
    {
     "name": "stdout",
     "output_type": "stream",
     "text": [
      "[CV 2/5] END ..C=0.1, max_iter=1500, penalty=l2;, score=0.597 total time=   1.7s\n"
     ]
    },
    {
     "name": "stderr",
     "output_type": "stream",
     "text": [
      "/Users/michaelraines/opt/anaconda3/lib/python3.8/site-packages/sklearn/svm/_base.py:1206: ConvergenceWarning: Liblinear failed to converge, increase the number of iterations.\n",
      "  warnings.warn(\n"
     ]
    },
    {
     "name": "stdout",
     "output_type": "stream",
     "text": [
      "[CV 3/5] END ..C=0.1, max_iter=1500, penalty=l2;, score=0.904 total time=   1.7s\n"
     ]
    },
    {
     "name": "stderr",
     "output_type": "stream",
     "text": [
      "/Users/michaelraines/opt/anaconda3/lib/python3.8/site-packages/sklearn/svm/_base.py:1206: ConvergenceWarning: Liblinear failed to converge, increase the number of iterations.\n",
      "  warnings.warn(\n"
     ]
    },
    {
     "name": "stdout",
     "output_type": "stream",
     "text": [
      "[CV 4/5] END ..C=0.1, max_iter=1500, penalty=l2;, score=0.873 total time=   1.9s\n"
     ]
    },
    {
     "name": "stderr",
     "output_type": "stream",
     "text": [
      "/Users/michaelraines/opt/anaconda3/lib/python3.8/site-packages/sklearn/svm/_base.py:1206: ConvergenceWarning: Liblinear failed to converge, increase the number of iterations.\n",
      "  warnings.warn(\n"
     ]
    },
    {
     "name": "stdout",
     "output_type": "stream",
     "text": [
      "[CV 5/5] END ..C=0.1, max_iter=1500, penalty=l2;, score=0.855 total time=   1.8s\n",
      "[CV 1/5] END ....C=0.1, max_iter=2000, penalty=l1;, score=nan total time=   0.0s\n",
      "[CV 2/5] END ....C=0.1, max_iter=2000, penalty=l1;, score=nan total time=   0.0s\n",
      "[CV 3/5] END ....C=0.1, max_iter=2000, penalty=l1;, score=nan total time=   0.0s\n",
      "[CV 4/5] END ....C=0.1, max_iter=2000, penalty=l1;, score=nan total time=   0.0s\n",
      "[CV 5/5] END ....C=0.1, max_iter=2000, penalty=l1;, score=nan total time=   0.0s\n"
     ]
    },
    {
     "name": "stderr",
     "output_type": "stream",
     "text": [
      "/Users/michaelraines/opt/anaconda3/lib/python3.8/site-packages/sklearn/svm/_base.py:1206: ConvergenceWarning: Liblinear failed to converge, increase the number of iterations.\n",
      "  warnings.warn(\n"
     ]
    },
    {
     "name": "stdout",
     "output_type": "stream",
     "text": [
      "[CV 1/5] END ..C=0.1, max_iter=2000, penalty=l2;, score=0.671 total time=   2.2s\n"
     ]
    },
    {
     "name": "stderr",
     "output_type": "stream",
     "text": [
      "/Users/michaelraines/opt/anaconda3/lib/python3.8/site-packages/sklearn/svm/_base.py:1206: ConvergenceWarning: Liblinear failed to converge, increase the number of iterations.\n",
      "  warnings.warn(\n"
     ]
    },
    {
     "name": "stdout",
     "output_type": "stream",
     "text": [
      "[CV 2/5] END ..C=0.1, max_iter=2000, penalty=l2;, score=0.902 total time=   2.3s\n"
     ]
    },
    {
     "name": "stderr",
     "output_type": "stream",
     "text": [
      "/Users/michaelraines/opt/anaconda3/lib/python3.8/site-packages/sklearn/svm/_base.py:1206: ConvergenceWarning: Liblinear failed to converge, increase the number of iterations.\n",
      "  warnings.warn(\n"
     ]
    },
    {
     "name": "stdout",
     "output_type": "stream",
     "text": [
      "[CV 3/5] END ..C=0.1, max_iter=2000, penalty=l2;, score=0.910 total time=   2.2s\n"
     ]
    },
    {
     "name": "stderr",
     "output_type": "stream",
     "text": [
      "/Users/michaelraines/opt/anaconda3/lib/python3.8/site-packages/sklearn/svm/_base.py:1206: ConvergenceWarning: Liblinear failed to converge, increase the number of iterations.\n",
      "  warnings.warn(\n"
     ]
    },
    {
     "name": "stdout",
     "output_type": "stream",
     "text": [
      "[CV 4/5] END ..C=0.1, max_iter=2000, penalty=l2;, score=0.911 total time=   2.8s\n"
     ]
    },
    {
     "name": "stderr",
     "output_type": "stream",
     "text": [
      "/Users/michaelraines/opt/anaconda3/lib/python3.8/site-packages/sklearn/svm/_base.py:1206: ConvergenceWarning: Liblinear failed to converge, increase the number of iterations.\n",
      "  warnings.warn(\n"
     ]
    },
    {
     "name": "stdout",
     "output_type": "stream",
     "text": [
      "[CV 5/5] END ..C=0.1, max_iter=2000, penalty=l2;, score=0.805 total time=   2.7s\n",
      "[CV 1/5] END ...C=0.01, max_iter=1000, penalty=l1;, score=nan total time=   0.0s\n",
      "[CV 2/5] END ...C=0.01, max_iter=1000, penalty=l1;, score=nan total time=   0.0s\n",
      "[CV 3/5] END ...C=0.01, max_iter=1000, penalty=l1;, score=nan total time=   0.0s\n",
      "[CV 4/5] END ...C=0.01, max_iter=1000, penalty=l1;, score=nan total time=   0.0s\n",
      "[CV 5/5] END ...C=0.01, max_iter=1000, penalty=l1;, score=nan total time=   0.0s\n"
     ]
    },
    {
     "name": "stderr",
     "output_type": "stream",
     "text": [
      "/Users/michaelraines/opt/anaconda3/lib/python3.8/site-packages/sklearn/svm/_base.py:1206: ConvergenceWarning: Liblinear failed to converge, increase the number of iterations.\n",
      "  warnings.warn(\n"
     ]
    },
    {
     "name": "stdout",
     "output_type": "stream",
     "text": [
      "[CV 1/5] END .C=0.01, max_iter=1000, penalty=l2;, score=0.842 total time=   1.1s\n"
     ]
    },
    {
     "name": "stderr",
     "output_type": "stream",
     "text": [
      "/Users/michaelraines/opt/anaconda3/lib/python3.8/site-packages/sklearn/svm/_base.py:1206: ConvergenceWarning: Liblinear failed to converge, increase the number of iterations.\n",
      "  warnings.warn(\n"
     ]
    },
    {
     "name": "stdout",
     "output_type": "stream",
     "text": [
      "[CV 2/5] END .C=0.01, max_iter=1000, penalty=l2;, score=0.874 total time=   1.1s\n"
     ]
    },
    {
     "name": "stderr",
     "output_type": "stream",
     "text": [
      "/Users/michaelraines/opt/anaconda3/lib/python3.8/site-packages/sklearn/svm/_base.py:1206: ConvergenceWarning: Liblinear failed to converge, increase the number of iterations.\n",
      "  warnings.warn(\n"
     ]
    },
    {
     "name": "stdout",
     "output_type": "stream",
     "text": [
      "[CV 3/5] END .C=0.01, max_iter=1000, penalty=l2;, score=0.912 total time=   1.1s\n"
     ]
    },
    {
     "name": "stderr",
     "output_type": "stream",
     "text": [
      "/Users/michaelraines/opt/anaconda3/lib/python3.8/site-packages/sklearn/svm/_base.py:1206: ConvergenceWarning: Liblinear failed to converge, increase the number of iterations.\n",
      "  warnings.warn(\n"
     ]
    },
    {
     "name": "stdout",
     "output_type": "stream",
     "text": [
      "[CV 4/5] END .C=0.01, max_iter=1000, penalty=l2;, score=0.911 total time=   1.3s\n"
     ]
    },
    {
     "name": "stderr",
     "output_type": "stream",
     "text": [
      "/Users/michaelraines/opt/anaconda3/lib/python3.8/site-packages/sklearn/svm/_base.py:1206: ConvergenceWarning: Liblinear failed to converge, increase the number of iterations.\n",
      "  warnings.warn(\n"
     ]
    },
    {
     "name": "stdout",
     "output_type": "stream",
     "text": [
      "[CV 5/5] END .C=0.01, max_iter=1000, penalty=l2;, score=0.905 total time=   1.2s\n",
      "[CV 1/5] END ...C=0.01, max_iter=1500, penalty=l1;, score=nan total time=   0.0s\n",
      "[CV 2/5] END ...C=0.01, max_iter=1500, penalty=l1;, score=nan total time=   0.0s\n",
      "[CV 3/5] END ...C=0.01, max_iter=1500, penalty=l1;, score=nan total time=   0.0s\n",
      "[CV 4/5] END ...C=0.01, max_iter=1500, penalty=l1;, score=nan total time=   0.0s\n",
      "[CV 5/5] END ...C=0.01, max_iter=1500, penalty=l1;, score=nan total time=   0.0s\n"
     ]
    },
    {
     "name": "stderr",
     "output_type": "stream",
     "text": [
      "/Users/michaelraines/opt/anaconda3/lib/python3.8/site-packages/sklearn/svm/_base.py:1206: ConvergenceWarning: Liblinear failed to converge, increase the number of iterations.\n",
      "  warnings.warn(\n"
     ]
    },
    {
     "name": "stdout",
     "output_type": "stream",
     "text": [
      "[CV 1/5] END .C=0.01, max_iter=1500, penalty=l2;, score=0.909 total time=   1.8s\n"
     ]
    },
    {
     "name": "stderr",
     "output_type": "stream",
     "text": [
      "/Users/michaelraines/opt/anaconda3/lib/python3.8/site-packages/sklearn/svm/_base.py:1206: ConvergenceWarning: Liblinear failed to converge, increase the number of iterations.\n",
      "  warnings.warn(\n"
     ]
    },
    {
     "name": "stdout",
     "output_type": "stream",
     "text": [
      "[CV 2/5] END .C=0.01, max_iter=1500, penalty=l2;, score=0.910 total time=   1.5s\n"
     ]
    },
    {
     "name": "stderr",
     "output_type": "stream",
     "text": [
      "/Users/michaelraines/opt/anaconda3/lib/python3.8/site-packages/sklearn/svm/_base.py:1206: ConvergenceWarning: Liblinear failed to converge, increase the number of iterations.\n",
      "  warnings.warn(\n"
     ]
    },
    {
     "name": "stdout",
     "output_type": "stream",
     "text": [
      "[CV 3/5] END .C=0.01, max_iter=1500, penalty=l2;, score=0.876 total time=   1.8s\n"
     ]
    },
    {
     "name": "stderr",
     "output_type": "stream",
     "text": [
      "/Users/michaelraines/opt/anaconda3/lib/python3.8/site-packages/sklearn/svm/_base.py:1206: ConvergenceWarning: Liblinear failed to converge, increase the number of iterations.\n",
      "  warnings.warn(\n"
     ]
    },
    {
     "name": "stdout",
     "output_type": "stream",
     "text": [
      "[CV 4/5] END .C=0.01, max_iter=1500, penalty=l2;, score=0.910 total time=   1.5s\n"
     ]
    },
    {
     "name": "stderr",
     "output_type": "stream",
     "text": [
      "/Users/michaelraines/opt/anaconda3/lib/python3.8/site-packages/sklearn/svm/_base.py:1206: ConvergenceWarning: Liblinear failed to converge, increase the number of iterations.\n",
      "  warnings.warn(\n"
     ]
    },
    {
     "name": "stdout",
     "output_type": "stream",
     "text": [
      "[CV 5/5] END .C=0.01, max_iter=1500, penalty=l2;, score=0.908 total time=   1.6s\n",
      "[CV 1/5] END ...C=0.01, max_iter=2000, penalty=l1;, score=nan total time=   0.0s\n",
      "[CV 2/5] END ...C=0.01, max_iter=2000, penalty=l1;, score=nan total time=   0.0s\n",
      "[CV 3/5] END ...C=0.01, max_iter=2000, penalty=l1;, score=nan total time=   0.0s\n",
      "[CV 4/5] END ...C=0.01, max_iter=2000, penalty=l1;, score=nan total time=   0.0s\n",
      "[CV 5/5] END ...C=0.01, max_iter=2000, penalty=l1;, score=nan total time=   0.0s\n"
     ]
    },
    {
     "name": "stderr",
     "output_type": "stream",
     "text": [
      "/Users/michaelraines/opt/anaconda3/lib/python3.8/site-packages/sklearn/svm/_base.py:1206: ConvergenceWarning: Liblinear failed to converge, increase the number of iterations.\n",
      "  warnings.warn(\n"
     ]
    },
    {
     "name": "stdout",
     "output_type": "stream",
     "text": [
      "[CV 1/5] END .C=0.01, max_iter=2000, penalty=l2;, score=0.909 total time=   2.2s\n"
     ]
    },
    {
     "name": "stderr",
     "output_type": "stream",
     "text": [
      "/Users/michaelraines/opt/anaconda3/lib/python3.8/site-packages/sklearn/svm/_base.py:1206: ConvergenceWarning: Liblinear failed to converge, increase the number of iterations.\n",
      "  warnings.warn(\n"
     ]
    },
    {
     "name": "stdout",
     "output_type": "stream",
     "text": [
      "[CV 2/5] END .C=0.01, max_iter=2000, penalty=l2;, score=0.910 total time=   2.5s\n"
     ]
    },
    {
     "name": "stderr",
     "output_type": "stream",
     "text": [
      "/Users/michaelraines/opt/anaconda3/lib/python3.8/site-packages/sklearn/svm/_base.py:1206: ConvergenceWarning: Liblinear failed to converge, increase the number of iterations.\n",
      "  warnings.warn(\n"
     ]
    },
    {
     "name": "stdout",
     "output_type": "stream",
     "text": [
      "[CV 3/5] END .C=0.01, max_iter=2000, penalty=l2;, score=0.917 total time=   2.3s\n"
     ]
    },
    {
     "name": "stderr",
     "output_type": "stream",
     "text": [
      "/Users/michaelraines/opt/anaconda3/lib/python3.8/site-packages/sklearn/svm/_base.py:1206: ConvergenceWarning: Liblinear failed to converge, increase the number of iterations.\n",
      "  warnings.warn(\n"
     ]
    },
    {
     "name": "stdout",
     "output_type": "stream",
     "text": [
      "[CV 4/5] END .C=0.01, max_iter=2000, penalty=l2;, score=0.910 total time=   2.6s\n"
     ]
    },
    {
     "name": "stderr",
     "output_type": "stream",
     "text": [
      "/Users/michaelraines/opt/anaconda3/lib/python3.8/site-packages/sklearn/svm/_base.py:1206: ConvergenceWarning: Liblinear failed to converge, increase the number of iterations.\n",
      "  warnings.warn(\n"
     ]
    },
    {
     "name": "stdout",
     "output_type": "stream",
     "text": [
      "[CV 5/5] END .C=0.01, max_iter=2000, penalty=l2;, score=0.837 total time=   2.2s\n",
      "[CV 1/5] END ..C=0.001, max_iter=1000, penalty=l1;, score=nan total time=   0.0s\n",
      "[CV 2/5] END ..C=0.001, max_iter=1000, penalty=l1;, score=nan total time=   0.0s\n",
      "[CV 3/5] END ..C=0.001, max_iter=1000, penalty=l1;, score=nan total time=   0.0s\n",
      "[CV 4/5] END ..C=0.001, max_iter=1000, penalty=l1;, score=nan total time=   0.0s\n",
      "[CV 5/5] END ..C=0.001, max_iter=1000, penalty=l1;, score=nan total time=   0.0s\n"
     ]
    },
    {
     "name": "stderr",
     "output_type": "stream",
     "text": [
      "/Users/michaelraines/opt/anaconda3/lib/python3.8/site-packages/sklearn/svm/_base.py:1206: ConvergenceWarning: Liblinear failed to converge, increase the number of iterations.\n",
      "  warnings.warn(\n"
     ]
    },
    {
     "name": "stdout",
     "output_type": "stream",
     "text": [
      "[CV 1/5] END C=0.001, max_iter=1000, penalty=l2;, score=0.906 total time=   1.1s\n"
     ]
    },
    {
     "name": "stderr",
     "output_type": "stream",
     "text": [
      "/Users/michaelraines/opt/anaconda3/lib/python3.8/site-packages/sklearn/svm/_base.py:1206: ConvergenceWarning: Liblinear failed to converge, increase the number of iterations.\n",
      "  warnings.warn(\n"
     ]
    },
    {
     "name": "stdout",
     "output_type": "stream",
     "text": [
      "[CV 2/5] END C=0.001, max_iter=1000, penalty=l2;, score=0.908 total time=   1.2s\n"
     ]
    },
    {
     "name": "stderr",
     "output_type": "stream",
     "text": [
      "/Users/michaelraines/opt/anaconda3/lib/python3.8/site-packages/sklearn/svm/_base.py:1206: ConvergenceWarning: Liblinear failed to converge, increase the number of iterations.\n",
      "  warnings.warn(\n"
     ]
    },
    {
     "name": "stdout",
     "output_type": "stream",
     "text": [
      "[CV 3/5] END C=0.001, max_iter=1000, penalty=l2;, score=0.909 total time=   1.1s\n"
     ]
    },
    {
     "name": "stderr",
     "output_type": "stream",
     "text": [
      "/Users/michaelraines/opt/anaconda3/lib/python3.8/site-packages/sklearn/svm/_base.py:1206: ConvergenceWarning: Liblinear failed to converge, increase the number of iterations.\n",
      "  warnings.warn(\n"
     ]
    },
    {
     "name": "stdout",
     "output_type": "stream",
     "text": [
      "[CV 4/5] END C=0.001, max_iter=1000, penalty=l2;, score=0.908 total time=   1.6s\n"
     ]
    },
    {
     "name": "stderr",
     "output_type": "stream",
     "text": [
      "/Users/michaelraines/opt/anaconda3/lib/python3.8/site-packages/sklearn/svm/_base.py:1206: ConvergenceWarning: Liblinear failed to converge, increase the number of iterations.\n",
      "  warnings.warn(\n"
     ]
    },
    {
     "name": "stdout",
     "output_type": "stream",
     "text": [
      "[CV 5/5] END C=0.001, max_iter=1000, penalty=l2;, score=0.904 total time=   1.5s\n",
      "[CV 1/5] END ..C=0.001, max_iter=1500, penalty=l1;, score=nan total time=   0.0s\n",
      "[CV 2/5] END ..C=0.001, max_iter=1500, penalty=l1;, score=nan total time=   0.0s\n",
      "[CV 3/5] END ..C=0.001, max_iter=1500, penalty=l1;, score=nan total time=   0.0s\n",
      "[CV 4/5] END ..C=0.001, max_iter=1500, penalty=l1;, score=nan total time=   0.0s\n",
      "[CV 5/5] END ..C=0.001, max_iter=1500, penalty=l1;, score=nan total time=   0.0s\n"
     ]
    },
    {
     "name": "stderr",
     "output_type": "stream",
     "text": [
      "/Users/michaelraines/opt/anaconda3/lib/python3.8/site-packages/sklearn/svm/_base.py:1206: ConvergenceWarning: Liblinear failed to converge, increase the number of iterations.\n",
      "  warnings.warn(\n"
     ]
    },
    {
     "name": "stdout",
     "output_type": "stream",
     "text": [
      "[CV 1/5] END C=0.001, max_iter=1500, penalty=l2;, score=0.908 total time=   1.6s\n"
     ]
    },
    {
     "name": "stderr",
     "output_type": "stream",
     "text": [
      "/Users/michaelraines/opt/anaconda3/lib/python3.8/site-packages/sklearn/svm/_base.py:1206: ConvergenceWarning: Liblinear failed to converge, increase the number of iterations.\n",
      "  warnings.warn(\n"
     ]
    },
    {
     "name": "stdout",
     "output_type": "stream",
     "text": [
      "[CV 2/5] END C=0.001, max_iter=1500, penalty=l2;, score=0.907 total time=   1.8s\n"
     ]
    },
    {
     "name": "stderr",
     "output_type": "stream",
     "text": [
      "/Users/michaelraines/opt/anaconda3/lib/python3.8/site-packages/sklearn/svm/_base.py:1206: ConvergenceWarning: Liblinear failed to converge, increase the number of iterations.\n",
      "  warnings.warn(\n"
     ]
    },
    {
     "name": "stdout",
     "output_type": "stream",
     "text": [
      "[CV 3/5] END C=0.001, max_iter=1500, penalty=l2;, score=0.908 total time=   1.7s\n"
     ]
    },
    {
     "name": "stderr",
     "output_type": "stream",
     "text": [
      "/Users/michaelraines/opt/anaconda3/lib/python3.8/site-packages/sklearn/svm/_base.py:1206: ConvergenceWarning: Liblinear failed to converge, increase the number of iterations.\n",
      "  warnings.warn(\n"
     ]
    },
    {
     "name": "stdout",
     "output_type": "stream",
     "text": [
      "[CV 4/5] END C=0.001, max_iter=1500, penalty=l2;, score=0.908 total time=   1.5s\n"
     ]
    },
    {
     "name": "stderr",
     "output_type": "stream",
     "text": [
      "/Users/michaelraines/opt/anaconda3/lib/python3.8/site-packages/sklearn/svm/_base.py:1206: ConvergenceWarning: Liblinear failed to converge, increase the number of iterations.\n",
      "  warnings.warn(\n"
     ]
    },
    {
     "name": "stdout",
     "output_type": "stream",
     "text": [
      "[CV 5/5] END C=0.001, max_iter=1500, penalty=l2;, score=0.904 total time=   1.9s\n",
      "[CV 1/5] END ..C=0.001, max_iter=2000, penalty=l1;, score=nan total time=   0.0s\n",
      "[CV 2/5] END ..C=0.001, max_iter=2000, penalty=l1;, score=nan total time=   0.0s\n",
      "[CV 3/5] END ..C=0.001, max_iter=2000, penalty=l1;, score=nan total time=   0.0s\n",
      "[CV 4/5] END ..C=0.001, max_iter=2000, penalty=l1;, score=nan total time=   0.0s\n",
      "[CV 5/5] END ..C=0.001, max_iter=2000, penalty=l1;, score=nan total time=   0.0s\n"
     ]
    },
    {
     "name": "stderr",
     "output_type": "stream",
     "text": [
      "/Users/michaelraines/opt/anaconda3/lib/python3.8/site-packages/sklearn/svm/_base.py:1206: ConvergenceWarning: Liblinear failed to converge, increase the number of iterations.\n",
      "  warnings.warn(\n"
     ]
    },
    {
     "name": "stdout",
     "output_type": "stream",
     "text": [
      "[CV 1/5] END C=0.001, max_iter=2000, penalty=l2;, score=0.905 total time=   2.2s\n"
     ]
    },
    {
     "name": "stderr",
     "output_type": "stream",
     "text": [
      "/Users/michaelraines/opt/anaconda3/lib/python3.8/site-packages/sklearn/svm/_base.py:1206: ConvergenceWarning: Liblinear failed to converge, increase the number of iterations.\n",
      "  warnings.warn(\n"
     ]
    },
    {
     "name": "stdout",
     "output_type": "stream",
     "text": [
      "[CV 2/5] END C=0.001, max_iter=2000, penalty=l2;, score=0.907 total time=   2.2s\n"
     ]
    },
    {
     "name": "stderr",
     "output_type": "stream",
     "text": [
      "/Users/michaelraines/opt/anaconda3/lib/python3.8/site-packages/sklearn/svm/_base.py:1206: ConvergenceWarning: Liblinear failed to converge, increase the number of iterations.\n",
      "  warnings.warn(\n"
     ]
    },
    {
     "name": "stdout",
     "output_type": "stream",
     "text": [
      "[CV 3/5] END C=0.001, max_iter=2000, penalty=l2;, score=0.908 total time=   1.9s\n"
     ]
    },
    {
     "name": "stderr",
     "output_type": "stream",
     "text": [
      "/Users/michaelraines/opt/anaconda3/lib/python3.8/site-packages/sklearn/svm/_base.py:1206: ConvergenceWarning: Liblinear failed to converge, increase the number of iterations.\n",
      "  warnings.warn(\n"
     ]
    },
    {
     "name": "stdout",
     "output_type": "stream",
     "text": [
      "[CV 4/5] END C=0.001, max_iter=2000, penalty=l2;, score=0.908 total time=   2.0s\n"
     ]
    },
    {
     "name": "stderr",
     "output_type": "stream",
     "text": [
      "/Users/michaelraines/opt/anaconda3/lib/python3.8/site-packages/sklearn/svm/_base.py:1206: ConvergenceWarning: Liblinear failed to converge, increase the number of iterations.\n",
      "  warnings.warn(\n",
      "/Users/michaelraines/opt/anaconda3/lib/python3.8/site-packages/sklearn/model_selection/_validation.py:372: FitFailedWarning: \n",
      "60 fits failed out of a total of 120.\n",
      "The score on these train-test partitions for these parameters will be set to nan.\n",
      "If these failures are not expected, you can try to debug them by setting error_score='raise'.\n",
      "\n",
      "Below are more details about the failures:\n",
      "--------------------------------------------------------------------------------\n",
      "60 fits failed with the following error:\n",
      "Traceback (most recent call last):\n",
      "  File \"/Users/michaelraines/opt/anaconda3/lib/python3.8/site-packages/sklearn/model_selection/_validation.py\", line 680, in _fit_and_score\n",
      "    estimator.fit(X_train, y_train, **fit_params)\n",
      "  File \"/Users/michaelraines/opt/anaconda3/lib/python3.8/site-packages/sklearn/svm/_classes.py\", line 257, in fit\n",
      "    self.coef_, self.intercept_, self.n_iter_ = _fit_liblinear(\n",
      "  File \"/Users/michaelraines/opt/anaconda3/lib/python3.8/site-packages/sklearn/svm/_base.py\", line 1185, in _fit_liblinear\n",
      "    solver_type = _get_liblinear_solver_type(multi_class, penalty, loss, dual)\n",
      "  File \"/Users/michaelraines/opt/anaconda3/lib/python3.8/site-packages/sklearn/svm/_base.py\", line 1024, in _get_liblinear_solver_type\n",
      "    raise ValueError(\n",
      "ValueError: Unsupported set of arguments: The combination of penalty='l1' and loss='squared_hinge' are not supported when dual=True, Parameters: penalty='l1', loss='squared_hinge', dual=True\n",
      "\n",
      "  warnings.warn(some_fits_failed_message, FitFailedWarning)\n",
      "/Users/michaelraines/opt/anaconda3/lib/python3.8/site-packages/sklearn/model_selection/_search.py:969: UserWarning: One or more of the test scores are non-finite: [       nan 0.86205333        nan 0.81336           nan 0.73858667\n",
      "        nan 0.87277333        nan 0.81381333        nan 0.83984\n",
      "        nan 0.88872           nan 0.90272           nan 0.89669333\n",
      "        nan 0.90690667        nan 0.90685333        nan 0.90634667]\n",
      "  warnings.warn(\n"
     ]
    },
    {
     "name": "stdout",
     "output_type": "stream",
     "text": [
      "[CV 5/5] END C=0.001, max_iter=2000, penalty=l2;, score=0.904 total time=   1.9s\n"
     ]
    },
    {
     "name": "stderr",
     "output_type": "stream",
     "text": [
      "/Users/michaelraines/opt/anaconda3/lib/python3.8/site-packages/sklearn/svm/_base.py:1206: ConvergenceWarning: Liblinear failed to converge, increase the number of iterations.\n",
      "  warnings.warn(\n"
     ]
    },
    {
     "data": {
      "text/plain": [
       "GridSearchCV(estimator=LinearSVC(),\n",
       "             param_grid={'C': [1.0, 0.1, 0.01, 0.001],\n",
       "                         'max_iter': [1000, 1500, 2000],\n",
       "                         'penalty': ['l1', 'l2']},\n",
       "             verbose=3)"
      ]
     },
     "execution_count": 46,
     "metadata": {},
     "output_type": "execute_result"
    }
   ],
   "source": [
    "model= LinearSVC()\n",
    "param_grid = {'C': [1.0, 0.1, 0.01, 0.001],\n",
    "              'penalty': ['l1', 'l2'], \n",
    "            'max_iter':[1000, 1500, 2000]}\n",
    "svc_grid_clf = GridSearchCV(model, param_grid, verbose=3)\n",
    "svc_grid_clf.fit(X_train, y_train)"
   ]
  },
  {
   "cell_type": "code",
   "execution_count": 47,
   "id": "402967a6",
   "metadata": {},
   "outputs": [
    {
     "name": "stdout",
     "output_type": "stream",
     "text": [
      "{'C': 0.001, 'max_iter': 1000, 'penalty': 'l2'}\n",
      "0.9069066666666666\n"
     ]
    }
   ],
   "source": [
    "print(svc_grid_clf.best_params_)\n",
    "print(svc_grid_clf.best_score_)"
   ]
  },
  {
   "cell_type": "code",
   "execution_count": 50,
   "id": "44929ac4",
   "metadata": {},
   "outputs": [
    {
     "name": "stdout",
     "output_type": "stream",
     "text": [
      "Training Data Score: 0.91008\n",
      "Testing Data Score: 0.90976\n"
     ]
    },
    {
     "name": "stderr",
     "output_type": "stream",
     "text": [
      "/Users/michaelraines/opt/anaconda3/lib/python3.8/site-packages/sklearn/svm/_base.py:1206: ConvergenceWarning: Liblinear failed to converge, increase the number of iterations.\n",
      "  warnings.warn(\n"
     ]
    }
   ],
   "source": [
    "svc_best_params=svc_grid_clf.best_params_\n",
    "svc_classifier= LinearSVC(**svc_best_params).fit(X_train, y_train)\n",
    "print(f\"Training Data Score: {svc_classifier.score(X_train, y_train)}\")\n",
    "print(f\"Testing Data Score: {svc_classifier.score(X_test, y_test)}\")"
   ]
  },
  {
   "cell_type": "markdown",
   "id": "fef8e606",
   "metadata": {},
   "source": [
    "#### Decision Tree Classifier"
   ]
  },
  {
   "cell_type": "code",
   "execution_count": 55,
   "id": "3d5b47b5",
   "metadata": {},
   "outputs": [
    {
     "name": "stdout",
     "output_type": "stream",
     "text": [
      "Fitting 5 folds for each of 18 candidates, totalling 90 fits\n",
      "[CV 1/5] END criterion=gini, max_features=auto, splitter=best;, score=0.876 total time=   0.1s\n",
      "[CV 2/5] END criterion=gini, max_features=auto, splitter=best;, score=0.879 total time=   0.0s\n",
      "[CV 3/5] END criterion=gini, max_features=auto, splitter=best;, score=0.891 total time=   0.0s\n",
      "[CV 4/5] END criterion=gini, max_features=auto, splitter=best;, score=0.881 total time=   0.0s\n",
      "[CV 5/5] END criterion=gini, max_features=auto, splitter=best;, score=0.878 total time=   0.0s\n",
      "[CV 1/5] END criterion=gini, max_features=auto, splitter=random;, score=0.879 total time=   0.0s\n",
      "[CV 2/5] END criterion=gini, max_features=auto, splitter=random;, score=0.881 total time=   0.0s\n",
      "[CV 3/5] END criterion=gini, max_features=auto, splitter=random;, score=0.891 total time=   0.0s\n",
      "[CV 4/5] END criterion=gini, max_features=auto, splitter=random;, score=0.878 total time=   0.0s\n",
      "[CV 5/5] END criterion=gini, max_features=auto, splitter=random;, score=0.879 total time=   0.0s\n",
      "[CV 1/5] END criterion=gini, max_features=sqrt, splitter=best;, score=0.876 total time=   0.0s\n",
      "[CV 2/5] END criterion=gini, max_features=sqrt, splitter=best;, score=0.879 total time=   0.0s\n",
      "[CV 3/5] END criterion=gini, max_features=sqrt, splitter=best;, score=0.891 total time=   0.0s\n",
      "[CV 4/5] END criterion=gini, max_features=sqrt, splitter=best;, score=0.881 total time=   0.0s\n",
      "[CV 5/5] END criterion=gini, max_features=sqrt, splitter=best;, score=0.878 total time=   0.0s\n",
      "[CV 1/5] END criterion=gini, max_features=sqrt, splitter=random;, score=0.879 total time=   0.0s\n",
      "[CV 2/5] END criterion=gini, max_features=sqrt, splitter=random;, score=0.881 total time=   0.0s\n",
      "[CV 3/5] END criterion=gini, max_features=sqrt, splitter=random;, score=0.891 total time=   0.0s\n",
      "[CV 4/5] END criterion=gini, max_features=sqrt, splitter=random;, score=0.878 total time=   0.0s\n",
      "[CV 5/5] END criterion=gini, max_features=sqrt, splitter=random;, score=0.879 total time=   0.0s\n",
      "[CV 1/5] END criterion=gini, max_features=log2, splitter=best;, score=0.875 total time=   0.0s\n",
      "[CV 2/5] END criterion=gini, max_features=log2, splitter=best;, score=0.875 total time=   0.0s\n",
      "[CV 3/5] END criterion=gini, max_features=log2, splitter=best;, score=0.886 total time=   0.0s\n",
      "[CV 4/5] END criterion=gini, max_features=log2, splitter=best;, score=0.880 total time=   0.0s\n",
      "[CV 5/5] END criterion=gini, max_features=log2, splitter=best;, score=0.885 total time=   0.0s\n",
      "[CV 1/5] END criterion=gini, max_features=log2, splitter=random;, score=0.883 total time=   0.0s\n",
      "[CV 2/5] END criterion=gini, max_features=log2, splitter=random;, score=0.881 total time=   0.0s\n",
      "[CV 3/5] END criterion=gini, max_features=log2, splitter=random;, score=0.886 total time=   0.0s\n",
      "[CV 4/5] END criterion=gini, max_features=log2, splitter=random;, score=0.881 total time=   0.0s\n",
      "[CV 5/5] END criterion=gini, max_features=log2, splitter=random;, score=0.881 total time=   0.0s\n",
      "[CV 1/5] END criterion=entropy, max_features=auto, splitter=best;, score=0.876 total time=   0.0s\n",
      "[CV 2/5] END criterion=entropy, max_features=auto, splitter=best;, score=0.879 total time=   0.0s\n",
      "[CV 3/5] END criterion=entropy, max_features=auto, splitter=best;, score=0.884 total time=   0.0s\n",
      "[CV 4/5] END criterion=entropy, max_features=auto, splitter=best;, score=0.879 total time=   0.0s\n",
      "[CV 5/5] END criterion=entropy, max_features=auto, splitter=best;, score=0.882 total time=   0.0s\n",
      "[CV 1/5] END criterion=entropy, max_features=auto, splitter=random;, score=0.880 total time=   0.0s\n",
      "[CV 2/5] END criterion=entropy, max_features=auto, splitter=random;, score=0.881 total time=   0.0s\n",
      "[CV 3/5] END criterion=entropy, max_features=auto, splitter=random;, score=0.892 total time=   0.0s\n",
      "[CV 4/5] END criterion=entropy, max_features=auto, splitter=random;, score=0.879 total time=   0.0s\n",
      "[CV 5/5] END criterion=entropy, max_features=auto, splitter=random;, score=0.877 total time=   0.0s\n",
      "[CV 1/5] END criterion=entropy, max_features=sqrt, splitter=best;, score=0.876 total time=   0.0s\n",
      "[CV 2/5] END criterion=entropy, max_features=sqrt, splitter=best;, score=0.879 total time=   0.0s\n",
      "[CV 3/5] END criterion=entropy, max_features=sqrt, splitter=best;, score=0.884 total time=   0.0s\n",
      "[CV 4/5] END criterion=entropy, max_features=sqrt, splitter=best;, score=0.879 total time=   0.0s\n",
      "[CV 5/5] END criterion=entropy, max_features=sqrt, splitter=best;, score=0.882 total time=   0.0s\n",
      "[CV 1/5] END criterion=entropy, max_features=sqrt, splitter=random;, score=0.880 total time=   0.0s\n",
      "[CV 2/5] END criterion=entropy, max_features=sqrt, splitter=random;, score=0.881 total time=   0.0s\n",
      "[CV 3/5] END criterion=entropy, max_features=sqrt, splitter=random;, score=0.892 total time=   0.0s\n",
      "[CV 4/5] END criterion=entropy, max_features=sqrt, splitter=random;, score=0.879 total time=   0.0s\n",
      "[CV 5/5] END criterion=entropy, max_features=sqrt, splitter=random;, score=0.877 total time=   0.0s\n",
      "[CV 1/5] END criterion=entropy, max_features=log2, splitter=best;, score=0.878 total time=   0.0s\n",
      "[CV 2/5] END criterion=entropy, max_features=log2, splitter=best;, score=0.876 total time=   0.0s\n",
      "[CV 3/5] END criterion=entropy, max_features=log2, splitter=best;, score=0.889 total time=   0.0s\n",
      "[CV 4/5] END criterion=entropy, max_features=log2, splitter=best;, score=0.883 total time=   0.0s\n",
      "[CV 5/5] END criterion=entropy, max_features=log2, splitter=best;, score=0.879 total time=   0.0s\n",
      "[CV 1/5] END criterion=entropy, max_features=log2, splitter=random;, score=0.883 total time=   0.0s\n",
      "[CV 2/5] END criterion=entropy, max_features=log2, splitter=random;, score=0.879 total time=   0.0s\n",
      "[CV 3/5] END criterion=entropy, max_features=log2, splitter=random;, score=0.886 total time=   0.0s\n",
      "[CV 4/5] END criterion=entropy, max_features=log2, splitter=random;, score=0.886 total time=   0.0s\n",
      "[CV 5/5] END criterion=entropy, max_features=log2, splitter=random;, score=0.881 total time=   0.0s\n",
      "[CV 1/5] END criterion=log_loss, max_features=auto, splitter=best;, score=nan total time=   0.0s\n",
      "[CV 2/5] END criterion=log_loss, max_features=auto, splitter=best;, score=nan total time=   0.0s\n",
      "[CV 3/5] END criterion=log_loss, max_features=auto, splitter=best;, score=nan total time=   0.0s\n",
      "[CV 4/5] END criterion=log_loss, max_features=auto, splitter=best;, score=nan total time=   0.0s\n",
      "[CV 5/5] END criterion=log_loss, max_features=auto, splitter=best;, score=nan total time=   0.0s\n",
      "[CV 1/5] END criterion=log_loss, max_features=auto, splitter=random;, score=nan total time=   0.0s\n",
      "[CV 2/5] END criterion=log_loss, max_features=auto, splitter=random;, score=nan total time=   0.0s\n",
      "[CV 3/5] END criterion=log_loss, max_features=auto, splitter=random;, score=nan total time=   0.0s\n",
      "[CV 4/5] END criterion=log_loss, max_features=auto, splitter=random;, score=nan total time=   0.0s\n",
      "[CV 5/5] END criterion=log_loss, max_features=auto, splitter=random;, score=nan total time=   0.1s\n",
      "[CV 1/5] END criterion=log_loss, max_features=sqrt, splitter=best;, score=nan total time=   0.0s\n",
      "[CV 2/5] END criterion=log_loss, max_features=sqrt, splitter=best;, score=nan total time=   0.0s\n",
      "[CV 3/5] END criterion=log_loss, max_features=sqrt, splitter=best;, score=nan total time=   0.0s\n",
      "[CV 4/5] END criterion=log_loss, max_features=sqrt, splitter=best;, score=nan total time=   0.0s\n",
      "[CV 5/5] END criterion=log_loss, max_features=sqrt, splitter=best;, score=nan total time=   0.0s\n",
      "[CV 1/5] END criterion=log_loss, max_features=sqrt, splitter=random;, score=nan total time=   0.0s\n",
      "[CV 2/5] END criterion=log_loss, max_features=sqrt, splitter=random;, score=nan total time=   0.0s\n",
      "[CV 3/5] END criterion=log_loss, max_features=sqrt, splitter=random;, score=nan total time=   0.0s\n",
      "[CV 4/5] END criterion=log_loss, max_features=sqrt, splitter=random;, score=nan total time=   0.0s\n",
      "[CV 5/5] END criterion=log_loss, max_features=sqrt, splitter=random;, score=nan total time=   0.0s\n",
      "[CV 1/5] END criterion=log_loss, max_features=log2, splitter=best;, score=nan total time=   0.0s\n",
      "[CV 2/5] END criterion=log_loss, max_features=log2, splitter=best;, score=nan total time=   0.0s\n",
      "[CV 3/5] END criterion=log_loss, max_features=log2, splitter=best;, score=nan total time=   0.0s\n",
      "[CV 4/5] END criterion=log_loss, max_features=log2, splitter=best;, score=nan total time=   0.0s\n",
      "[CV 5/5] END criterion=log_loss, max_features=log2, splitter=best;, score=nan total time=   0.0s\n",
      "[CV 1/5] END criterion=log_loss, max_features=log2, splitter=random;, score=nan total time=   0.0s\n",
      "[CV 2/5] END criterion=log_loss, max_features=log2, splitter=random;, score=nan total time=   0.0s\n",
      "[CV 3/5] END criterion=log_loss, max_features=log2, splitter=random;, score=nan total time=   0.0s\n",
      "[CV 4/5] END criterion=log_loss, max_features=log2, splitter=random;, score=nan total time=   0.0s\n",
      "[CV 5/5] END criterion=log_loss, max_features=log2, splitter=random;, score=nan total time=   0.0s\n"
     ]
    },
    {
     "name": "stderr",
     "output_type": "stream",
     "text": [
      "/Users/michaelraines/opt/anaconda3/lib/python3.8/site-packages/sklearn/model_selection/_validation.py:372: FitFailedWarning: \n",
      "30 fits failed out of a total of 90.\n",
      "The score on these train-test partitions for these parameters will be set to nan.\n",
      "If these failures are not expected, you can try to debug them by setting error_score='raise'.\n",
      "\n",
      "Below are more details about the failures:\n",
      "--------------------------------------------------------------------------------\n",
      "30 fits failed with the following error:\n",
      "Traceback (most recent call last):\n",
      "  File \"/Users/michaelraines/opt/anaconda3/lib/python3.8/site-packages/sklearn/model_selection/_validation.py\", line 680, in _fit_and_score\n",
      "    estimator.fit(X_train, y_train, **fit_params)\n",
      "  File \"/Users/michaelraines/opt/anaconda3/lib/python3.8/site-packages/sklearn/tree/_classes.py\", line 937, in fit\n",
      "    super().fit(\n",
      "  File \"/Users/michaelraines/opt/anaconda3/lib/python3.8/site-packages/sklearn/tree/_classes.py\", line 352, in fit\n",
      "    criterion = CRITERIA_CLF[self.criterion](\n",
      "KeyError: 'log_loss'\n",
      "\n",
      "  warnings.warn(some_fits_failed_message, FitFailedWarning)\n",
      "/Users/michaelraines/opt/anaconda3/lib/python3.8/site-packages/sklearn/model_selection/_search.py:969: UserWarning: One or more of the test scores are non-finite: [0.88077333 0.88146667 0.88077333 0.88146667 0.88021333 0.88242667\n",
      " 0.88029333 0.88197333 0.88029333 0.88197333 0.88093333 0.88304\n",
      "        nan        nan        nan        nan        nan        nan]\n",
      "  warnings.warn(\n"
     ]
    },
    {
     "data": {
      "text/plain": [
       "GridSearchCV(estimator=DecisionTreeClassifier(random_state=1),\n",
       "             param_grid={'criterion': ['gini', 'entropy', 'log_loss'],\n",
       "                         'max_features': ['auto', 'sqrt', 'log2'],\n",
       "                         'splitter': ['best', 'random']},\n",
       "             verbose=3)"
      ]
     },
     "execution_count": 55,
     "metadata": {},
     "output_type": "execute_result"
    }
   ],
   "source": [
    "model= DecisionTreeClassifier(random_state=1)\n",
    "\n",
    "param_grid = {\n",
    "    'criterion':['gini', 'entropy', 'log_loss'],\n",
    "    'splitter': ['best', 'random'], \n",
    "    'max_features': ['auto', 'sqrt', 'log2']\n",
    "}\n",
    "dt_grid_clf = GridSearchCV(model, param_grid, verbose=3)\n",
    "dt_grid_clf.fit(X_train, y_train)"
   ]
  },
  {
   "cell_type": "code",
   "execution_count": 56,
   "id": "759f3924",
   "metadata": {},
   "outputs": [
    {
     "name": "stdout",
     "output_type": "stream",
     "text": [
      "{'criterion': 'entropy', 'max_features': 'log2', 'splitter': 'random'}\n",
      "0.88304\n"
     ]
    }
   ],
   "source": [
    "print(dt_grid_clf.best_params_)\n",
    "print(dt_grid_clf.best_score_)"
   ]
  },
  {
   "cell_type": "code",
   "execution_count": 57,
   "id": "ba9333f3",
   "metadata": {},
   "outputs": [
    {
     "name": "stdout",
     "output_type": "stream",
     "text": [
      "Training Data Score: 0.99856\n",
      "Testing Data Score: 0.87968\n"
     ]
    }
   ],
   "source": [
    "dt_best_params=dt_grid_clf.best_params_\n",
    "dt_classifier= DecisionTreeClassifier(**dt_best_params, random_state=1).fit(X_train, y_train)\n",
    "print(f\"Training Data Score: {dt_classifier.score(X_train, y_train)}\")\n",
    "print(f\"Testing Data Score: {dt_classifier.score(X_test, y_test)}\")"
   ]
  },
  {
   "cell_type": "markdown",
   "id": "9bab7f98",
   "metadata": {},
   "source": [
    "#### Extra Trees Classifier"
   ]
  },
  {
   "cell_type": "code",
   "execution_count": 18,
   "id": "97402538",
   "metadata": {},
   "outputs": [
    {
     "name": "stdout",
     "output_type": "stream",
     "text": [
      "Fitting 5 folds for each of 36 candidates, totalling 180 fits\n",
      "[CV 1/5] END bootstrap=True, criterion=gini, max_features=sqrt, n_estimators=100;, score=0.898 total time=   0.9s\n",
      "[CV 2/5] END bootstrap=True, criterion=gini, max_features=sqrt, n_estimators=100;, score=0.898 total time=   0.8s\n",
      "[CV 3/5] END bootstrap=True, criterion=gini, max_features=sqrt, n_estimators=100;, score=0.902 total time=   0.8s\n",
      "[CV 4/5] END bootstrap=True, criterion=gini, max_features=sqrt, n_estimators=100;, score=0.893 total time=   0.8s\n",
      "[CV 5/5] END bootstrap=True, criterion=gini, max_features=sqrt, n_estimators=100;, score=0.896 total time=   0.8s\n",
      "[CV 1/5] END bootstrap=True, criterion=gini, max_features=sqrt, n_estimators=500;, score=0.900 total time=   4.1s\n",
      "[CV 2/5] END bootstrap=True, criterion=gini, max_features=sqrt, n_estimators=500;, score=0.898 total time=   3.9s\n",
      "[CV 3/5] END bootstrap=True, criterion=gini, max_features=sqrt, n_estimators=500;, score=0.904 total time=   4.3s\n",
      "[CV 4/5] END bootstrap=True, criterion=gini, max_features=sqrt, n_estimators=500;, score=0.895 total time=   4.1s\n",
      "[CV 5/5] END bootstrap=True, criterion=gini, max_features=sqrt, n_estimators=500;, score=0.896 total time=   3.9s\n",
      "[CV 1/5] END bootstrap=True, criterion=gini, max_features=sqrt, n_estimators=1000;, score=0.899 total time=   8.3s\n",
      "[CV 2/5] END bootstrap=True, criterion=gini, max_features=sqrt, n_estimators=1000;, score=0.898 total time=   8.2s\n",
      "[CV 3/5] END bootstrap=True, criterion=gini, max_features=sqrt, n_estimators=1000;, score=0.905 total time=   8.0s\n",
      "[CV 4/5] END bootstrap=True, criterion=gini, max_features=sqrt, n_estimators=1000;, score=0.896 total time=   8.6s\n",
      "[CV 5/5] END bootstrap=True, criterion=gini, max_features=sqrt, n_estimators=1000;, score=0.896 total time=   7.8s\n",
      "[CV 1/5] END bootstrap=True, criterion=gini, max_features=log2, n_estimators=100;, score=0.899 total time=   0.8s\n",
      "[CV 2/5] END bootstrap=True, criterion=gini, max_features=log2, n_estimators=100;, score=0.899 total time=   0.8s\n",
      "[CV 3/5] END bootstrap=True, criterion=gini, max_features=log2, n_estimators=100;, score=0.903 total time=   0.8s\n",
      "[CV 4/5] END bootstrap=True, criterion=gini, max_features=log2, n_estimators=100;, score=0.897 total time=   0.8s\n",
      "[CV 5/5] END bootstrap=True, criterion=gini, max_features=log2, n_estimators=100;, score=0.895 total time=   0.8s\n",
      "[CV 1/5] END bootstrap=True, criterion=gini, max_features=log2, n_estimators=500;, score=0.900 total time=   3.9s\n",
      "[CV 2/5] END bootstrap=True, criterion=gini, max_features=log2, n_estimators=500;, score=0.899 total time=   4.0s\n",
      "[CV 3/5] END bootstrap=True, criterion=gini, max_features=log2, n_estimators=500;, score=0.905 total time=   4.4s\n",
      "[CV 4/5] END bootstrap=True, criterion=gini, max_features=log2, n_estimators=500;, score=0.896 total time=   3.9s\n",
      "[CV 5/5] END bootstrap=True, criterion=gini, max_features=log2, n_estimators=500;, score=0.896 total time=   4.0s\n",
      "[CV 1/5] END bootstrap=True, criterion=gini, max_features=log2, n_estimators=1000;, score=0.899 total time=   8.2s\n",
      "[CV 2/5] END bootstrap=True, criterion=gini, max_features=log2, n_estimators=1000;, score=0.899 total time=   7.8s\n",
      "[CV 3/5] END bootstrap=True, criterion=gini, max_features=log2, n_estimators=1000;, score=0.904 total time=   7.7s\n",
      "[CV 4/5] END bootstrap=True, criterion=gini, max_features=log2, n_estimators=1000;, score=0.897 total time=   7.7s\n",
      "[CV 5/5] END bootstrap=True, criterion=gini, max_features=log2, n_estimators=1000;, score=0.896 total time=   8.1s\n",
      "[CV 1/5] END bootstrap=True, criterion=entropy, max_features=sqrt, n_estimators=100;, score=0.899 total time=   0.8s\n",
      "[CV 2/5] END bootstrap=True, criterion=entropy, max_features=sqrt, n_estimators=100;, score=0.897 total time=   0.8s\n",
      "[CV 3/5] END bootstrap=True, criterion=entropy, max_features=sqrt, n_estimators=100;, score=0.901 total time=   0.8s\n",
      "[CV 4/5] END bootstrap=True, criterion=entropy, max_features=sqrt, n_estimators=100;, score=0.895 total time=   0.8s\n",
      "[CV 5/5] END bootstrap=True, criterion=entropy, max_features=sqrt, n_estimators=100;, score=0.897 total time=   0.8s\n",
      "[CV 1/5] END bootstrap=True, criterion=entropy, max_features=sqrt, n_estimators=500;, score=0.899 total time=   6.3s\n",
      "[CV 2/5] END bootstrap=True, criterion=entropy, max_features=sqrt, n_estimators=500;, score=0.898 total time=   5.9s\n",
      "[CV 3/5] END bootstrap=True, criterion=entropy, max_features=sqrt, n_estimators=500;, score=0.903 total time=   4.8s\n",
      "[CV 4/5] END bootstrap=True, criterion=entropy, max_features=sqrt, n_estimators=500;, score=0.896 total time=   4.6s\n",
      "[CV 5/5] END bootstrap=True, criterion=entropy, max_features=sqrt, n_estimators=500;, score=0.896 total time=   4.6s\n",
      "[CV 1/5] END bootstrap=True, criterion=entropy, max_features=sqrt, n_estimators=1000;, score=0.899 total time=   8.7s\n",
      "[CV 2/5] END bootstrap=True, criterion=entropy, max_features=sqrt, n_estimators=1000;, score=0.898 total time=   9.8s\n",
      "[CV 3/5] END bootstrap=True, criterion=entropy, max_features=sqrt, n_estimators=1000;, score=0.904 total time=   8.8s\n",
      "[CV 4/5] END bootstrap=True, criterion=entropy, max_features=sqrt, n_estimators=1000;, score=0.896 total time=   8.4s\n",
      "[CV 5/5] END bootstrap=True, criterion=entropy, max_features=sqrt, n_estimators=1000;, score=0.897 total time=   8.4s\n",
      "[CV 1/5] END bootstrap=True, criterion=entropy, max_features=log2, n_estimators=100;, score=0.899 total time=   0.8s\n",
      "[CV 2/5] END bootstrap=True, criterion=entropy, max_features=log2, n_estimators=100;, score=0.897 total time=   0.8s\n",
      "[CV 3/5] END bootstrap=True, criterion=entropy, max_features=log2, n_estimators=100;, score=0.901 total time=   0.8s\n",
      "[CV 4/5] END bootstrap=True, criterion=entropy, max_features=log2, n_estimators=100;, score=0.894 total time=   0.9s\n",
      "[CV 5/5] END bootstrap=True, criterion=entropy, max_features=log2, n_estimators=100;, score=0.894 total time=   0.8s\n",
      "[CV 1/5] END bootstrap=True, criterion=entropy, max_features=log2, n_estimators=500;, score=0.900 total time=   4.1s\n",
      "[CV 2/5] END bootstrap=True, criterion=entropy, max_features=log2, n_estimators=500;, score=0.898 total time=   4.1s\n",
      "[CV 3/5] END bootstrap=True, criterion=entropy, max_features=log2, n_estimators=500;, score=0.904 total time=   4.1s\n",
      "[CV 4/5] END bootstrap=True, criterion=entropy, max_features=log2, n_estimators=500;, score=0.896 total time=   4.4s\n",
      "[CV 5/5] END bootstrap=True, criterion=entropy, max_features=log2, n_estimators=500;, score=0.896 total time=   4.1s\n",
      "[CV 1/5] END bootstrap=True, criterion=entropy, max_features=log2, n_estimators=1000;, score=0.900 total time=   8.3s\n",
      "[CV 2/5] END bootstrap=True, criterion=entropy, max_features=log2, n_estimators=1000;, score=0.898 total time=   8.6s\n",
      "[CV 3/5] END bootstrap=True, criterion=entropy, max_features=log2, n_estimators=1000;, score=0.904 total time=   8.5s\n",
      "[CV 4/5] END bootstrap=True, criterion=entropy, max_features=log2, n_estimators=1000;, score=0.896 total time=   8.2s\n",
      "[CV 5/5] END bootstrap=True, criterion=entropy, max_features=log2, n_estimators=1000;, score=0.896 total time=   8.2s\n",
      "[CV 1/5] END bootstrap=True, criterion=log_loss, max_features=sqrt, n_estimators=100;, score=nan total time=   0.0s\n",
      "[CV 2/5] END bootstrap=True, criterion=log_loss, max_features=sqrt, n_estimators=100;, score=nan total time=   0.0s\n",
      "[CV 3/5] END bootstrap=True, criterion=log_loss, max_features=sqrt, n_estimators=100;, score=nan total time=   0.0s\n",
      "[CV 4/5] END bootstrap=True, criterion=log_loss, max_features=sqrt, n_estimators=100;, score=nan total time=   0.0s\n",
      "[CV 5/5] END bootstrap=True, criterion=log_loss, max_features=sqrt, n_estimators=100;, score=nan total time=   0.0s\n",
      "[CV 1/5] END bootstrap=True, criterion=log_loss, max_features=sqrt, n_estimators=500;, score=nan total time=   0.1s\n",
      "[CV 2/5] END bootstrap=True, criterion=log_loss, max_features=sqrt, n_estimators=500;, score=nan total time=   0.1s\n",
      "[CV 3/5] END bootstrap=True, criterion=log_loss, max_features=sqrt, n_estimators=500;, score=nan total time=   0.1s\n",
      "[CV 4/5] END bootstrap=True, criterion=log_loss, max_features=sqrt, n_estimators=500;, score=nan total time=   0.1s\n",
      "[CV 5/5] END bootstrap=True, criterion=log_loss, max_features=sqrt, n_estimators=500;, score=nan total time=   0.1s\n",
      "[CV 1/5] END bootstrap=True, criterion=log_loss, max_features=sqrt, n_estimators=1000;, score=nan total time=   0.2s\n",
      "[CV 2/5] END bootstrap=True, criterion=log_loss, max_features=sqrt, n_estimators=1000;, score=nan total time=   0.2s\n"
     ]
    },
    {
     "name": "stdout",
     "output_type": "stream",
     "text": [
      "[CV 3/5] END bootstrap=True, criterion=log_loss, max_features=sqrt, n_estimators=1000;, score=nan total time=   0.2s\n",
      "[CV 4/5] END bootstrap=True, criterion=log_loss, max_features=sqrt, n_estimators=1000;, score=nan total time=   0.2s\n",
      "[CV 5/5] END bootstrap=True, criterion=log_loss, max_features=sqrt, n_estimators=1000;, score=nan total time=   0.2s\n",
      "[CV 1/5] END bootstrap=True, criterion=log_loss, max_features=log2, n_estimators=100;, score=nan total time=   0.0s\n",
      "[CV 2/5] END bootstrap=True, criterion=log_loss, max_features=log2, n_estimators=100;, score=nan total time=   0.0s\n",
      "[CV 3/5] END bootstrap=True, criterion=log_loss, max_features=log2, n_estimators=100;, score=nan total time=   0.0s\n",
      "[CV 4/5] END bootstrap=True, criterion=log_loss, max_features=log2, n_estimators=100;, score=nan total time=   0.0s\n",
      "[CV 5/5] END bootstrap=True, criterion=log_loss, max_features=log2, n_estimators=100;, score=nan total time=   0.0s\n",
      "[CV 1/5] END bootstrap=True, criterion=log_loss, max_features=log2, n_estimators=500;, score=nan total time=   0.1s\n",
      "[CV 2/5] END bootstrap=True, criterion=log_loss, max_features=log2, n_estimators=500;, score=nan total time=   0.1s\n",
      "[CV 3/5] END bootstrap=True, criterion=log_loss, max_features=log2, n_estimators=500;, score=nan total time=   0.1s\n",
      "[CV 4/5] END bootstrap=True, criterion=log_loss, max_features=log2, n_estimators=500;, score=nan total time=   0.1s\n",
      "[CV 5/5] END bootstrap=True, criterion=log_loss, max_features=log2, n_estimators=500;, score=nan total time=   0.1s\n",
      "[CV 1/5] END bootstrap=True, criterion=log_loss, max_features=log2, n_estimators=1000;, score=nan total time=   0.2s\n",
      "[CV 2/5] END bootstrap=True, criterion=log_loss, max_features=log2, n_estimators=1000;, score=nan total time=   0.2s\n",
      "[CV 3/5] END bootstrap=True, criterion=log_loss, max_features=log2, n_estimators=1000;, score=nan total time=   0.2s\n",
      "[CV 4/5] END bootstrap=True, criterion=log_loss, max_features=log2, n_estimators=1000;, score=nan total time=   0.2s\n",
      "[CV 5/5] END bootstrap=True, criterion=log_loss, max_features=log2, n_estimators=1000;, score=nan total time=   0.2s\n",
      "[CV 1/5] END bootstrap=False, criterion=gini, max_features=sqrt, n_estimators=100;, score=0.893 total time=   1.1s\n",
      "[CV 2/5] END bootstrap=False, criterion=gini, max_features=sqrt, n_estimators=100;, score=0.890 total time=   1.0s\n",
      "[CV 3/5] END bootstrap=False, criterion=gini, max_features=sqrt, n_estimators=100;, score=0.899 total time=   1.0s\n",
      "[CV 4/5] END bootstrap=False, criterion=gini, max_features=sqrt, n_estimators=100;, score=0.889 total time=   1.0s\n",
      "[CV 5/5] END bootstrap=False, criterion=gini, max_features=sqrt, n_estimators=100;, score=0.891 total time=   1.0s\n",
      "[CV 1/5] END bootstrap=False, criterion=gini, max_features=sqrt, n_estimators=500;, score=0.894 total time=   5.1s\n",
      "[CV 2/5] END bootstrap=False, criterion=gini, max_features=sqrt, n_estimators=500;, score=0.892 total time=   5.1s\n",
      "[CV 3/5] END bootstrap=False, criterion=gini, max_features=sqrt, n_estimators=500;, score=0.899 total time=   5.0s\n",
      "[CV 4/5] END bootstrap=False, criterion=gini, max_features=sqrt, n_estimators=500;, score=0.890 total time=   5.8s\n",
      "[CV 5/5] END bootstrap=False, criterion=gini, max_features=sqrt, n_estimators=500;, score=0.893 total time=   5.5s\n",
      "[CV 1/5] END bootstrap=False, criterion=gini, max_features=sqrt, n_estimators=1000;, score=0.894 total time=  11.8s\n",
      "[CV 2/5] END bootstrap=False, criterion=gini, max_features=sqrt, n_estimators=1000;, score=0.892 total time=  11.0s\n",
      "[CV 3/5] END bootstrap=False, criterion=gini, max_features=sqrt, n_estimators=1000;, score=0.899 total time=  11.8s\n",
      "[CV 4/5] END bootstrap=False, criterion=gini, max_features=sqrt, n_estimators=1000;, score=0.890 total time=  11.9s\n",
      "[CV 5/5] END bootstrap=False, criterion=gini, max_features=sqrt, n_estimators=1000;, score=0.893 total time=  11.2s\n",
      "[CV 1/5] END bootstrap=False, criterion=gini, max_features=log2, n_estimators=100;, score=0.892 total time=   1.1s\n",
      "[CV 2/5] END bootstrap=False, criterion=gini, max_features=log2, n_estimators=100;, score=0.891 total time=   1.0s\n",
      "[CV 3/5] END bootstrap=False, criterion=gini, max_features=log2, n_estimators=100;, score=0.898 total time=   1.0s\n",
      "[CV 4/5] END bootstrap=False, criterion=gini, max_features=log2, n_estimators=100;, score=0.891 total time=   1.0s\n",
      "[CV 5/5] END bootstrap=False, criterion=gini, max_features=log2, n_estimators=100;, score=0.892 total time=   1.0s\n",
      "[CV 1/5] END bootstrap=False, criterion=gini, max_features=log2, n_estimators=500;, score=0.894 total time=   5.3s\n",
      "[CV 2/5] END bootstrap=False, criterion=gini, max_features=log2, n_estimators=500;, score=0.891 total time=   5.3s\n",
      "[CV 3/5] END bootstrap=False, criterion=gini, max_features=log2, n_estimators=500;, score=0.897 total time=   5.2s\n",
      "[CV 4/5] END bootstrap=False, criterion=gini, max_features=log2, n_estimators=500;, score=0.891 total time=   5.0s\n",
      "[CV 5/5] END bootstrap=False, criterion=gini, max_features=log2, n_estimators=500;, score=0.892 total time=   5.0s\n",
      "[CV 1/5] END bootstrap=False, criterion=gini, max_features=log2, n_estimators=1000;, score=0.894 total time=  11.0s\n",
      "[CV 2/5] END bootstrap=False, criterion=gini, max_features=log2, n_estimators=1000;, score=0.892 total time=  10.9s\n",
      "[CV 3/5] END bootstrap=False, criterion=gini, max_features=log2, n_estimators=1000;, score=0.898 total time=  11.6s\n",
      "[CV 4/5] END bootstrap=False, criterion=gini, max_features=log2, n_estimators=1000;, score=0.891 total time=  10.9s\n",
      "[CV 5/5] END bootstrap=False, criterion=gini, max_features=log2, n_estimators=1000;, score=0.892 total time=  11.3s\n",
      "[CV 1/5] END bootstrap=False, criterion=entropy, max_features=sqrt, n_estimators=100;, score=0.893 total time=   1.2s\n",
      "[CV 2/5] END bootstrap=False, criterion=entropy, max_features=sqrt, n_estimators=100;, score=0.890 total time=   1.1s\n",
      "[CV 3/5] END bootstrap=False, criterion=entropy, max_features=sqrt, n_estimators=100;, score=0.897 total time=   1.1s\n",
      "[CV 4/5] END bootstrap=False, criterion=entropy, max_features=sqrt, n_estimators=100;, score=0.888 total time=   1.1s\n",
      "[CV 5/5] END bootstrap=False, criterion=entropy, max_features=sqrt, n_estimators=100;, score=0.893 total time=   1.1s\n",
      "[CV 1/5] END bootstrap=False, criterion=entropy, max_features=sqrt, n_estimators=500;, score=0.894 total time=   5.7s\n",
      "[CV 2/5] END bootstrap=False, criterion=entropy, max_features=sqrt, n_estimators=500;, score=0.890 total time=   5.4s\n",
      "[CV 3/5] END bootstrap=False, criterion=entropy, max_features=sqrt, n_estimators=500;, score=0.898 total time=   5.4s\n",
      "[CV 4/5] END bootstrap=False, criterion=entropy, max_features=sqrt, n_estimators=500;, score=0.891 total time=   5.7s\n",
      "[CV 5/5] END bootstrap=False, criterion=entropy, max_features=sqrt, n_estimators=500;, score=0.893 total time=   5.4s\n",
      "[CV 1/5] END bootstrap=False, criterion=entropy, max_features=sqrt, n_estimators=1000;, score=0.894 total time=  12.1s\n",
      "[CV 2/5] END bootstrap=False, criterion=entropy, max_features=sqrt, n_estimators=1000;, score=0.891 total time=  12.3s\n",
      "[CV 3/5] END bootstrap=False, criterion=entropy, max_features=sqrt, n_estimators=1000;, score=0.898 total time=  12.2s\n",
      "[CV 4/5] END bootstrap=False, criterion=entropy, max_features=sqrt, n_estimators=1000;, score=0.891 total time=  12.4s\n",
      "[CV 5/5] END bootstrap=False, criterion=entropy, max_features=sqrt, n_estimators=1000;, score=0.893 total time=  11.9s\n",
      "[CV 1/5] END bootstrap=False, criterion=entropy, max_features=log2, n_estimators=100;, score=0.893 total time=   1.3s\n",
      "[CV 2/5] END bootstrap=False, criterion=entropy, max_features=log2, n_estimators=100;, score=0.890 total time=   1.1s\n",
      "[CV 3/5] END bootstrap=False, criterion=entropy, max_features=log2, n_estimators=100;, score=0.897 total time=   1.1s\n",
      "[CV 4/5] END bootstrap=False, criterion=entropy, max_features=log2, n_estimators=100;, score=0.890 total time=   1.1s\n",
      "[CV 5/5] END bootstrap=False, criterion=entropy, max_features=log2, n_estimators=100;, score=0.893 total time=   1.1s\n",
      "[CV 1/5] END bootstrap=False, criterion=entropy, max_features=log2, n_estimators=500;, score=0.893 total time=   5.5s\n",
      "[CV 2/5] END bootstrap=False, criterion=entropy, max_features=log2, n_estimators=500;, score=0.892 total time=   5.4s\n",
      "[CV 3/5] END bootstrap=False, criterion=entropy, max_features=log2, n_estimators=500;, score=0.899 total time=   5.7s\n"
     ]
    },
    {
     "name": "stdout",
     "output_type": "stream",
     "text": [
      "[CV 4/5] END bootstrap=False, criterion=entropy, max_features=log2, n_estimators=500;, score=0.890 total time=   5.5s\n",
      "[CV 5/5] END bootstrap=False, criterion=entropy, max_features=log2, n_estimators=500;, score=0.893 total time=   5.4s\n",
      "[CV 1/5] END bootstrap=False, criterion=entropy, max_features=log2, n_estimators=1000;, score=0.893 total time=  12.0s\n",
      "[CV 2/5] END bootstrap=False, criterion=entropy, max_features=log2, n_estimators=1000;, score=0.892 total time=  12.9s\n",
      "[CV 3/5] END bootstrap=False, criterion=entropy, max_features=log2, n_estimators=1000;, score=0.898 total time=  12.4s\n",
      "[CV 4/5] END bootstrap=False, criterion=entropy, max_features=log2, n_estimators=1000;, score=0.890 total time=  12.6s\n",
      "[CV 5/5] END bootstrap=False, criterion=entropy, max_features=log2, n_estimators=1000;, score=0.893 total time=  12.7s\n",
      "[CV 1/5] END bootstrap=False, criterion=log_loss, max_features=sqrt, n_estimators=100;, score=nan total time=   0.0s\n",
      "[CV 2/5] END bootstrap=False, criterion=log_loss, max_features=sqrt, n_estimators=100;, score=nan total time=   0.0s\n",
      "[CV 3/5] END bootstrap=False, criterion=log_loss, max_features=sqrt, n_estimators=100;, score=nan total time=   0.0s\n",
      "[CV 4/5] END bootstrap=False, criterion=log_loss, max_features=sqrt, n_estimators=100;, score=nan total time=   0.0s\n",
      "[CV 5/5] END bootstrap=False, criterion=log_loss, max_features=sqrt, n_estimators=100;, score=nan total time=   0.0s\n",
      "[CV 1/5] END bootstrap=False, criterion=log_loss, max_features=sqrt, n_estimators=500;, score=nan total time=   0.1s\n",
      "[CV 2/5] END bootstrap=False, criterion=log_loss, max_features=sqrt, n_estimators=500;, score=nan total time=   0.1s\n",
      "[CV 3/5] END bootstrap=False, criterion=log_loss, max_features=sqrt, n_estimators=500;, score=nan total time=   0.1s\n",
      "[CV 4/5] END bootstrap=False, criterion=log_loss, max_features=sqrt, n_estimators=500;, score=nan total time=   0.1s\n",
      "[CV 5/5] END bootstrap=False, criterion=log_loss, max_features=sqrt, n_estimators=500;, score=nan total time=   0.1s\n",
      "[CV 1/5] END bootstrap=False, criterion=log_loss, max_features=sqrt, n_estimators=1000;, score=nan total time=   0.2s\n",
      "[CV 2/5] END bootstrap=False, criterion=log_loss, max_features=sqrt, n_estimators=1000;, score=nan total time=   0.2s\n",
      "[CV 3/5] END bootstrap=False, criterion=log_loss, max_features=sqrt, n_estimators=1000;, score=nan total time=   0.2s\n",
      "[CV 4/5] END bootstrap=False, criterion=log_loss, max_features=sqrt, n_estimators=1000;, score=nan total time=   0.2s\n",
      "[CV 5/5] END bootstrap=False, criterion=log_loss, max_features=sqrt, n_estimators=1000;, score=nan total time=   0.2s\n",
      "[CV 1/5] END bootstrap=False, criterion=log_loss, max_features=log2, n_estimators=100;, score=nan total time=   0.0s\n",
      "[CV 2/5] END bootstrap=False, criterion=log_loss, max_features=log2, n_estimators=100;, score=nan total time=   0.0s\n",
      "[CV 3/5] END bootstrap=False, criterion=log_loss, max_features=log2, n_estimators=100;, score=nan total time=   0.0s\n",
      "[CV 4/5] END bootstrap=False, criterion=log_loss, max_features=log2, n_estimators=100;, score=nan total time=   0.0s\n",
      "[CV 5/5] END bootstrap=False, criterion=log_loss, max_features=log2, n_estimators=100;, score=nan total time=   0.0s\n",
      "[CV 1/5] END bootstrap=False, criterion=log_loss, max_features=log2, n_estimators=500;, score=nan total time=   0.1s\n",
      "[CV 2/5] END bootstrap=False, criterion=log_loss, max_features=log2, n_estimators=500;, score=nan total time=   0.1s\n",
      "[CV 3/5] END bootstrap=False, criterion=log_loss, max_features=log2, n_estimators=500;, score=nan total time=   0.1s\n",
      "[CV 4/5] END bootstrap=False, criterion=log_loss, max_features=log2, n_estimators=500;, score=nan total time=   0.1s\n",
      "[CV 5/5] END bootstrap=False, criterion=log_loss, max_features=log2, n_estimators=500;, score=nan total time=   0.1s\n",
      "[CV 1/5] END bootstrap=False, criterion=log_loss, max_features=log2, n_estimators=1000;, score=nan total time=   0.2s\n",
      "[CV 2/5] END bootstrap=False, criterion=log_loss, max_features=log2, n_estimators=1000;, score=nan total time=   0.2s\n",
      "[CV 3/5] END bootstrap=False, criterion=log_loss, max_features=log2, n_estimators=1000;, score=nan total time=   0.2s\n",
      "[CV 4/5] END bootstrap=False, criterion=log_loss, max_features=log2, n_estimators=1000;, score=nan total time=   0.2s\n",
      "[CV 5/5] END bootstrap=False, criterion=log_loss, max_features=log2, n_estimators=1000;, score=nan total time=   0.2s\n"
     ]
    },
    {
     "name": "stderr",
     "output_type": "stream",
     "text": [
      "/Users/michaelraines/opt/anaconda3/lib/python3.8/site-packages/sklearn/model_selection/_validation.py:372: FitFailedWarning: \n",
      "60 fits failed out of a total of 180.\n",
      "The score on these train-test partitions for these parameters will be set to nan.\n",
      "If these failures are not expected, you can try to debug them by setting error_score='raise'.\n",
      "\n",
      "Below are more details about the failures:\n",
      "--------------------------------------------------------------------------------\n",
      "30 fits failed with the following error:\n",
      "Traceback (most recent call last):\n",
      "  File \"/Users/michaelraines/opt/anaconda3/lib/python3.8/site-packages/sklearn/model_selection/_validation.py\", line 680, in _fit_and_score\n",
      "    estimator.fit(X_train, y_train, **fit_params)\n",
      "  File \"/Users/michaelraines/opt/anaconda3/lib/python3.8/site-packages/sklearn/ensemble/_forest.py\", line 450, in fit\n",
      "    trees = Parallel(\n",
      "  File \"/Users/michaelraines/opt/anaconda3/lib/python3.8/site-packages/joblib/parallel.py\", line 1043, in __call__\n",
      "    if self.dispatch_one_batch(iterator):\n",
      "  File \"/Users/michaelraines/opt/anaconda3/lib/python3.8/site-packages/joblib/parallel.py\", line 861, in dispatch_one_batch\n",
      "    self._dispatch(tasks)\n",
      "  File \"/Users/michaelraines/opt/anaconda3/lib/python3.8/site-packages/joblib/parallel.py\", line 779, in _dispatch\n",
      "    job = self._backend.apply_async(batch, callback=cb)\n",
      "  File \"/Users/michaelraines/opt/anaconda3/lib/python3.8/site-packages/joblib/_parallel_backends.py\", line 208, in apply_async\n",
      "    result = ImmediateResult(func)\n",
      "  File \"/Users/michaelraines/opt/anaconda3/lib/python3.8/site-packages/joblib/_parallel_backends.py\", line 572, in __init__\n",
      "    self.results = batch()\n",
      "  File \"/Users/michaelraines/opt/anaconda3/lib/python3.8/site-packages/joblib/parallel.py\", line 262, in __call__\n",
      "    return [func(*args, **kwargs)\n",
      "  File \"/Users/michaelraines/opt/anaconda3/lib/python3.8/site-packages/joblib/parallel.py\", line 262, in <listcomp>\n",
      "    return [func(*args, **kwargs)\n",
      "  File \"/Users/michaelraines/opt/anaconda3/lib/python3.8/site-packages/sklearn/utils/fixes.py\", line 216, in __call__\n",
      "    return self.function(*args, **kwargs)\n",
      "  File \"/Users/michaelraines/opt/anaconda3/lib/python3.8/site-packages/sklearn/ensemble/_forest.py\", line 185, in _parallel_build_trees\n",
      "    tree.fit(X, y, sample_weight=curr_sample_weight, check_input=False)\n",
      "  File \"/Users/michaelraines/opt/anaconda3/lib/python3.8/site-packages/sklearn/tree/_classes.py\", line 937, in fit\n",
      "    super().fit(\n",
      "  File \"/Users/michaelraines/opt/anaconda3/lib/python3.8/site-packages/sklearn/tree/_classes.py\", line 352, in fit\n",
      "    criterion = CRITERIA_CLF[self.criterion](\n",
      "KeyError: 'log_loss'\n",
      "\n",
      "--------------------------------------------------------------------------------\n",
      "30 fits failed with the following error:\n",
      "Traceback (most recent call last):\n",
      "  File \"/Users/michaelraines/opt/anaconda3/lib/python3.8/site-packages/sklearn/model_selection/_validation.py\", line 680, in _fit_and_score\n",
      "    estimator.fit(X_train, y_train, **fit_params)\n",
      "  File \"/Users/michaelraines/opt/anaconda3/lib/python3.8/site-packages/sklearn/ensemble/_forest.py\", line 450, in fit\n",
      "    trees = Parallel(\n",
      "  File \"/Users/michaelraines/opt/anaconda3/lib/python3.8/site-packages/joblib/parallel.py\", line 1043, in __call__\n",
      "    if self.dispatch_one_batch(iterator):\n",
      "  File \"/Users/michaelraines/opt/anaconda3/lib/python3.8/site-packages/joblib/parallel.py\", line 861, in dispatch_one_batch\n",
      "    self._dispatch(tasks)\n",
      "  File \"/Users/michaelraines/opt/anaconda3/lib/python3.8/site-packages/joblib/parallel.py\", line 779, in _dispatch\n",
      "    job = self._backend.apply_async(batch, callback=cb)\n",
      "  File \"/Users/michaelraines/opt/anaconda3/lib/python3.8/site-packages/joblib/_parallel_backends.py\", line 208, in apply_async\n",
      "    result = ImmediateResult(func)\n",
      "  File \"/Users/michaelraines/opt/anaconda3/lib/python3.8/site-packages/joblib/_parallel_backends.py\", line 572, in __init__\n",
      "    self.results = batch()\n",
      "  File \"/Users/michaelraines/opt/anaconda3/lib/python3.8/site-packages/joblib/parallel.py\", line 262, in __call__\n",
      "    return [func(*args, **kwargs)\n",
      "  File \"/Users/michaelraines/opt/anaconda3/lib/python3.8/site-packages/joblib/parallel.py\", line 262, in <listcomp>\n",
      "    return [func(*args, **kwargs)\n",
      "  File \"/Users/michaelraines/opt/anaconda3/lib/python3.8/site-packages/sklearn/utils/fixes.py\", line 216, in __call__\n",
      "    return self.function(*args, **kwargs)\n",
      "  File \"/Users/michaelraines/opt/anaconda3/lib/python3.8/site-packages/sklearn/ensemble/_forest.py\", line 187, in _parallel_build_trees\n",
      "    tree.fit(X, y, sample_weight=sample_weight, check_input=False)\n",
      "  File \"/Users/michaelraines/opt/anaconda3/lib/python3.8/site-packages/sklearn/tree/_classes.py\", line 937, in fit\n",
      "    super().fit(\n",
      "  File \"/Users/michaelraines/opt/anaconda3/lib/python3.8/site-packages/sklearn/tree/_classes.py\", line 352, in fit\n",
      "    criterion = CRITERIA_CLF[self.criterion](\n",
      "KeyError: 'log_loss'\n",
      "\n",
      "  warnings.warn(some_fits_failed_message, FitFailedWarning)\n",
      "/Users/michaelraines/opt/anaconda3/lib/python3.8/site-packages/sklearn/model_selection/_search.py:969: UserWarning: One or more of the test scores are non-finite: [0.89744    0.89856    0.89888    0.89864    0.89901333 0.89901333\n",
      " 0.89794667 0.89850667 0.89893333 0.89728    0.8988     0.89888\n",
      "        nan        nan        nan        nan        nan        nan\n",
      " 0.89256    0.89336    0.89357333 0.89288    0.89322667 0.89328\n",
      " 0.89224    0.89317333 0.89352    0.89274667 0.89322667 0.89317333\n",
      "        nan        nan        nan        nan        nan        nan]\n",
      "  warnings.warn(\n"
     ]
    },
    {
     "data": {
      "text/plain": [
       "GridSearchCV(estimator=ExtraTreesClassifier(random_state=1),\n",
       "             param_grid={'bootstrap': [True, False],\n",
       "                         'criterion': ['gini', 'entropy', 'log_loss'],\n",
       "                         'max_features': ['sqrt', 'log2'],\n",
       "                         'n_estimators': [100, 500, 1000]},\n",
       "             verbose=3)"
      ]
     },
     "execution_count": 18,
     "metadata": {},
     "output_type": "execute_result"
    }
   ],
   "source": [
    "model= ExtraTreesClassifier(random_state=1)\n",
    "\n",
    "param_grid = {'n_estimators':[100,500, 1000],\n",
    "              'criterion':['gini', 'entropy', 'log_loss'],\n",
    "    'bootstrap': [True, False],\n",
    "    'max_features': ['sqrt', 'log2']    \n",
    "}\n",
    "et_grid_clf = GridSearchCV(model, param_grid, verbose=3)\n",
    "et_grid_clf.fit(X_train, y_train)"
   ]
  },
  {
   "cell_type": "code",
   "execution_count": 19,
   "id": "225fcc2d",
   "metadata": {},
   "outputs": [
    {
     "name": "stdout",
     "output_type": "stream",
     "text": [
      "{'bootstrap': True, 'criterion': 'gini', 'max_features': 'log2', 'n_estimators': 500}\n",
      "0.8990133333333332\n"
     ]
    }
   ],
   "source": [
    "print(et_grid_clf.best_params_)\n",
    "print(et_grid_clf.best_score_)"
   ]
  },
  {
   "cell_type": "code",
   "execution_count": 59,
   "id": "868646b2",
   "metadata": {},
   "outputs": [
    {
     "name": "stdout",
     "output_type": "stream",
     "text": [
      "Training Data Score: 0.99856\n",
      "Testing Data Score: 0.89664\n"
     ]
    }
   ],
   "source": [
    "et_best_params=et_grid_clf.best_params_\n",
    "et_classifier= ExtraTreesClassifier(**et_best_params, random_state=1).fit(X_train, y_train)\n",
    "print(f\"Training Data Score: {et_classifier.score(X_train, y_train)}\")\n",
    "print(f\"Testing Data Score: {et_classifier.score(X_test, y_test)}\")"
   ]
  },
  {
   "cell_type": "markdown",
   "id": "1698049b",
   "metadata": {},
   "source": [
    "#### KNN Classifier"
   ]
  },
  {
   "cell_type": "code",
   "execution_count": 60,
   "id": "239ef245",
   "metadata": {},
   "outputs": [
    {
     "name": "stdout",
     "output_type": "stream",
     "text": [
      "Fitting 5 folds for each of 24 candidates, totalling 120 fits\n",
      "[CV 1/5] END leaf_size=50, n_neighbors=19, weights=uniform;, score=0.897 total time=   4.7s\n",
      "[CV 2/5] END leaf_size=50, n_neighbors=19, weights=uniform;, score=0.895 total time=   4.3s\n",
      "[CV 3/5] END leaf_size=50, n_neighbors=19, weights=uniform;, score=0.897 total time=   3.8s\n",
      "[CV 4/5] END leaf_size=50, n_neighbors=19, weights=uniform;, score=0.896 total time=   4.1s\n",
      "[CV 5/5] END leaf_size=50, n_neighbors=19, weights=uniform;, score=0.897 total time=   4.2s\n",
      "[CV 1/5] END leaf_size=50, n_neighbors=19, weights=distance;, score=0.895 total time=   3.7s\n",
      "[CV 2/5] END leaf_size=50, n_neighbors=19, weights=distance;, score=0.893 total time=   3.7s\n",
      "[CV 3/5] END leaf_size=50, n_neighbors=19, weights=distance;, score=0.897 total time=   3.6s\n",
      "[CV 4/5] END leaf_size=50, n_neighbors=19, weights=distance;, score=0.895 total time=   3.6s\n",
      "[CV 5/5] END leaf_size=50, n_neighbors=19, weights=distance;, score=0.896 total time=   3.7s\n",
      "[CV 1/5] END leaf_size=50, n_neighbors=21, weights=uniform;, score=0.896 total time=   3.7s\n",
      "[CV 2/5] END leaf_size=50, n_neighbors=21, weights=uniform;, score=0.895 total time=   3.8s\n",
      "[CV 3/5] END leaf_size=50, n_neighbors=21, weights=uniform;, score=0.897 total time=   3.6s\n",
      "[CV 4/5] END leaf_size=50, n_neighbors=21, weights=uniform;, score=0.895 total time=   3.8s\n",
      "[CV 5/5] END leaf_size=50, n_neighbors=21, weights=uniform;, score=0.897 total time=   3.9s\n",
      "[CV 1/5] END leaf_size=50, n_neighbors=21, weights=distance;, score=0.895 total time=   3.6s\n",
      "[CV 2/5] END leaf_size=50, n_neighbors=21, weights=distance;, score=0.894 total time=   3.7s\n",
      "[CV 3/5] END leaf_size=50, n_neighbors=21, weights=distance;, score=0.897 total time=   3.4s\n",
      "[CV 4/5] END leaf_size=50, n_neighbors=21, weights=distance;, score=0.896 total time=   3.7s\n",
      "[CV 5/5] END leaf_size=50, n_neighbors=21, weights=distance;, score=0.896 total time=   3.8s\n",
      "[CV 1/5] END leaf_size=50, n_neighbors=23, weights=uniform;, score=0.896 total time=   3.6s\n",
      "[CV 2/5] END leaf_size=50, n_neighbors=23, weights=uniform;, score=0.895 total time=   3.7s\n",
      "[CV 3/5] END leaf_size=50, n_neighbors=23, weights=uniform;, score=0.897 total time=   3.6s\n",
      "[CV 4/5] END leaf_size=50, n_neighbors=23, weights=uniform;, score=0.896 total time=   3.7s\n",
      "[CV 5/5] END leaf_size=50, n_neighbors=23, weights=uniform;, score=0.897 total time=   3.8s\n",
      "[CV 1/5] END leaf_size=50, n_neighbors=23, weights=distance;, score=0.895 total time=   3.5s\n",
      "[CV 2/5] END leaf_size=50, n_neighbors=23, weights=distance;, score=0.894 total time=   3.6s\n",
      "[CV 3/5] END leaf_size=50, n_neighbors=23, weights=distance;, score=0.897 total time=   3.6s\n",
      "[CV 4/5] END leaf_size=50, n_neighbors=23, weights=distance;, score=0.895 total time=   3.6s\n",
      "[CV 5/5] END leaf_size=50, n_neighbors=23, weights=distance;, score=0.896 total time=   3.7s\n",
      "[CV 1/5] END leaf_size=50, n_neighbors=25, weights=uniform;, score=0.896 total time=   3.7s\n",
      "[CV 2/5] END leaf_size=50, n_neighbors=25, weights=uniform;, score=0.896 total time=   3.7s\n",
      "[CV 3/5] END leaf_size=50, n_neighbors=25, weights=uniform;, score=0.896 total time=   3.6s\n",
      "[CV 4/5] END leaf_size=50, n_neighbors=25, weights=uniform;, score=0.896 total time=   3.7s\n",
      "[CV 5/5] END leaf_size=50, n_neighbors=25, weights=uniform;, score=0.897 total time=   3.8s\n",
      "[CV 1/5] END leaf_size=50, n_neighbors=25, weights=distance;, score=0.896 total time=   3.5s\n",
      "[CV 2/5] END leaf_size=50, n_neighbors=25, weights=distance;, score=0.894 total time=   3.8s\n",
      "[CV 3/5] END leaf_size=50, n_neighbors=25, weights=distance;, score=0.897 total time=   3.6s\n",
      "[CV 4/5] END leaf_size=50, n_neighbors=25, weights=distance;, score=0.896 total time=   3.7s\n",
      "[CV 5/5] END leaf_size=50, n_neighbors=25, weights=distance;, score=0.896 total time=   3.9s\n",
      "[CV 1/5] END leaf_size=100, n_neighbors=19, weights=uniform;, score=0.897 total time=   3.9s\n",
      "[CV 2/5] END leaf_size=100, n_neighbors=19, weights=uniform;, score=0.895 total time=   3.8s\n",
      "[CV 3/5] END leaf_size=100, n_neighbors=19, weights=uniform;, score=0.897 total time=   3.7s\n",
      "[CV 4/5] END leaf_size=100, n_neighbors=19, weights=uniform;, score=0.896 total time=   3.8s\n",
      "[CV 5/5] END leaf_size=100, n_neighbors=19, weights=uniform;, score=0.897 total time=   4.3s\n",
      "[CV 1/5] END leaf_size=100, n_neighbors=19, weights=distance;, score=0.895 total time=   4.0s\n",
      "[CV 2/5] END leaf_size=100, n_neighbors=19, weights=distance;, score=0.893 total time=   3.6s\n",
      "[CV 3/5] END leaf_size=100, n_neighbors=19, weights=distance;, score=0.897 total time=   3.8s\n",
      "[CV 4/5] END leaf_size=100, n_neighbors=19, weights=distance;, score=0.895 total time=   4.2s\n",
      "[CV 5/5] END leaf_size=100, n_neighbors=19, weights=distance;, score=0.896 total time=   3.8s\n",
      "[CV 1/5] END leaf_size=100, n_neighbors=21, weights=uniform;, score=0.896 total time=   3.7s\n",
      "[CV 2/5] END leaf_size=100, n_neighbors=21, weights=uniform;, score=0.895 total time=   4.0s\n",
      "[CV 3/5] END leaf_size=100, n_neighbors=21, weights=uniform;, score=0.897 total time=   3.7s\n",
      "[CV 4/5] END leaf_size=100, n_neighbors=21, weights=uniform;, score=0.895 total time=   5.0s\n",
      "[CV 5/5] END leaf_size=100, n_neighbors=21, weights=uniform;, score=0.897 total time=   4.0s\n",
      "[CV 1/5] END leaf_size=100, n_neighbors=21, weights=distance;, score=0.895 total time=   5.0s\n",
      "[CV 2/5] END leaf_size=100, n_neighbors=21, weights=distance;, score=0.894 total time=   3.9s\n",
      "[CV 3/5] END leaf_size=100, n_neighbors=21, weights=distance;, score=0.897 total time=   4.0s\n",
      "[CV 4/5] END leaf_size=100, n_neighbors=21, weights=distance;, score=0.896 total time=   3.9s\n",
      "[CV 5/5] END leaf_size=100, n_neighbors=21, weights=distance;, score=0.896 total time=   3.9s\n",
      "[CV 1/5] END leaf_size=100, n_neighbors=23, weights=uniform;, score=0.896 total time=   4.0s\n",
      "[CV 2/5] END leaf_size=100, n_neighbors=23, weights=uniform;, score=0.895 total time=   3.9s\n",
      "[CV 3/5] END leaf_size=100, n_neighbors=23, weights=uniform;, score=0.897 total time=   4.0s\n",
      "[CV 4/5] END leaf_size=100, n_neighbors=23, weights=uniform;, score=0.896 total time=   3.9s\n",
      "[CV 5/5] END leaf_size=100, n_neighbors=23, weights=uniform;, score=0.897 total time=   4.3s\n",
      "[CV 1/5] END leaf_size=100, n_neighbors=23, weights=distance;, score=0.895 total time=   3.8s\n",
      "[CV 2/5] END leaf_size=100, n_neighbors=23, weights=distance;, score=0.894 total time=   4.0s\n",
      "[CV 3/5] END leaf_size=100, n_neighbors=23, weights=distance;, score=0.897 total time=   3.6s\n",
      "[CV 4/5] END leaf_size=100, n_neighbors=23, weights=distance;, score=0.895 total time=   4.1s\n",
      "[CV 5/5] END leaf_size=100, n_neighbors=23, weights=distance;, score=0.896 total time=   3.9s\n",
      "[CV 1/5] END leaf_size=100, n_neighbors=25, weights=uniform;, score=0.896 total time=   3.8s\n",
      "[CV 2/5] END leaf_size=100, n_neighbors=25, weights=uniform;, score=0.896 total time=   4.3s\n",
      "[CV 3/5] END leaf_size=100, n_neighbors=25, weights=uniform;, score=0.896 total time=   3.9s\n",
      "[CV 4/5] END leaf_size=100, n_neighbors=25, weights=uniform;, score=0.896 total time=   3.9s\n",
      "[CV 5/5] END leaf_size=100, n_neighbors=25, weights=uniform;, score=0.897 total time=   4.2s\n",
      "[CV 1/5] END leaf_size=100, n_neighbors=25, weights=distance;, score=0.896 total time=   4.1s\n",
      "[CV 2/5] END leaf_size=100, n_neighbors=25, weights=distance;, score=0.894 total time=   4.0s\n",
      "[CV 3/5] END leaf_size=100, n_neighbors=25, weights=distance;, score=0.897 total time=   3.9s\n",
      "[CV 4/5] END leaf_size=100, n_neighbors=25, weights=distance;, score=0.896 total time=   3.6s\n",
      "[CV 5/5] END leaf_size=100, n_neighbors=25, weights=distance;, score=0.896 total time=   3.9s\n",
      "[CV 1/5] END leaf_size=500, n_neighbors=19, weights=uniform;, score=0.897 total time=   4.0s\n",
      "[CV 2/5] END leaf_size=500, n_neighbors=19, weights=uniform;, score=0.895 total time=   3.8s\n",
      "[CV 3/5] END leaf_size=500, n_neighbors=19, weights=uniform;, score=0.897 total time=   3.6s\n",
      "[CV 4/5] END leaf_size=500, n_neighbors=19, weights=uniform;, score=0.896 total time=   3.8s\n",
      "[CV 5/5] END leaf_size=500, n_neighbors=19, weights=uniform;, score=0.897 total time=   3.8s\n",
      "[CV 1/5] END leaf_size=500, n_neighbors=19, weights=distance;, score=0.895 total time=   3.8s\n",
      "[CV 2/5] END leaf_size=500, n_neighbors=19, weights=distance;, score=0.893 total time=   3.6s\n",
      "[CV 3/5] END leaf_size=500, n_neighbors=19, weights=distance;, score=0.897 total time=   3.6s\n"
     ]
    },
    {
     "name": "stdout",
     "output_type": "stream",
     "text": [
      "[CV 4/5] END leaf_size=500, n_neighbors=19, weights=distance;, score=0.895 total time=   4.0s\n",
      "[CV 5/5] END leaf_size=500, n_neighbors=19, weights=distance;, score=0.896 total time=   4.0s\n",
      "[CV 1/5] END leaf_size=500, n_neighbors=21, weights=uniform;, score=0.896 total time=   4.2s\n",
      "[CV 2/5] END leaf_size=500, n_neighbors=21, weights=uniform;, score=0.895 total time=   4.3s\n",
      "[CV 3/5] END leaf_size=500, n_neighbors=21, weights=uniform;, score=0.897 total time=   4.4s\n",
      "[CV 4/5] END leaf_size=500, n_neighbors=21, weights=uniform;, score=0.895 total time=   4.3s\n",
      "[CV 5/5] END leaf_size=500, n_neighbors=21, weights=uniform;, score=0.897 total time=   4.4s\n",
      "[CV 1/5] END leaf_size=500, n_neighbors=21, weights=distance;, score=0.895 total time=   3.9s\n",
      "[CV 2/5] END leaf_size=500, n_neighbors=21, weights=distance;, score=0.894 total time=   4.0s\n",
      "[CV 3/5] END leaf_size=500, n_neighbors=21, weights=distance;, score=0.897 total time=   3.7s\n",
      "[CV 4/5] END leaf_size=500, n_neighbors=21, weights=distance;, score=0.896 total time=   3.9s\n",
      "[CV 5/5] END leaf_size=500, n_neighbors=21, weights=distance;, score=0.896 total time=   4.0s\n",
      "[CV 1/5] END leaf_size=500, n_neighbors=23, weights=uniform;, score=0.896 total time=   3.8s\n",
      "[CV 2/5] END leaf_size=500, n_neighbors=23, weights=uniform;, score=0.895 total time=   4.1s\n",
      "[CV 3/5] END leaf_size=500, n_neighbors=23, weights=uniform;, score=0.897 total time=   4.5s\n",
      "[CV 4/5] END leaf_size=500, n_neighbors=23, weights=uniform;, score=0.896 total time=   5.0s\n",
      "[CV 5/5] END leaf_size=500, n_neighbors=23, weights=uniform;, score=0.897 total time=   4.2s\n",
      "[CV 1/5] END leaf_size=500, n_neighbors=23, weights=distance;, score=0.895 total time=   3.7s\n",
      "[CV 2/5] END leaf_size=500, n_neighbors=23, weights=distance;, score=0.894 total time=   3.8s\n",
      "[CV 3/5] END leaf_size=500, n_neighbors=23, weights=distance;, score=0.897 total time=   4.0s\n",
      "[CV 4/5] END leaf_size=500, n_neighbors=23, weights=distance;, score=0.895 total time=   4.3s\n",
      "[CV 5/5] END leaf_size=500, n_neighbors=23, weights=distance;, score=0.896 total time=   3.7s\n",
      "[CV 1/5] END leaf_size=500, n_neighbors=25, weights=uniform;, score=0.896 total time=   3.9s\n",
      "[CV 2/5] END leaf_size=500, n_neighbors=25, weights=uniform;, score=0.896 total time=   3.9s\n",
      "[CV 3/5] END leaf_size=500, n_neighbors=25, weights=uniform;, score=0.896 total time=   3.8s\n",
      "[CV 4/5] END leaf_size=500, n_neighbors=25, weights=uniform;, score=0.896 total time=   4.1s\n",
      "[CV 5/5] END leaf_size=500, n_neighbors=25, weights=uniform;, score=0.897 total time=   4.4s\n",
      "[CV 1/5] END leaf_size=500, n_neighbors=25, weights=distance;, score=0.896 total time=   3.6s\n",
      "[CV 2/5] END leaf_size=500, n_neighbors=25, weights=distance;, score=0.894 total time=   3.7s\n",
      "[CV 3/5] END leaf_size=500, n_neighbors=25, weights=distance;, score=0.897 total time=   3.9s\n",
      "[CV 4/5] END leaf_size=500, n_neighbors=25, weights=distance;, score=0.896 total time=   3.9s\n",
      "[CV 5/5] END leaf_size=500, n_neighbors=25, weights=distance;, score=0.896 total time=   4.2s\n"
     ]
    },
    {
     "data": {
      "text/plain": [
       "GridSearchCV(estimator=KNeighborsClassifier(),\n",
       "             param_grid={'leaf_size': [50, 100, 500],\n",
       "                         'n_neighbors': [19, 21, 23, 25],\n",
       "                         'weights': ['uniform', 'distance']},\n",
       "             verbose=3)"
      ]
     },
     "execution_count": 60,
     "metadata": {},
     "output_type": "execute_result"
    }
   ],
   "source": [
    "model= KNeighborsClassifier()\n",
    "\n",
    "param_grid = {\n",
    "    'n_neighbors': [19, 21, 23, 25],\n",
    "    'weights': ['uniform', 'distance'],\n",
    "    'leaf_size': [50, 100, 500]\n",
    "}\n",
    "knn_grid_clf = GridSearchCV(model, param_grid, verbose=3)\n",
    "knn_grid_clf.fit(X_train, y_train)"
   ]
  },
  {
   "cell_type": "code",
   "execution_count": 61,
   "id": "84c5e42c",
   "metadata": {},
   "outputs": [
    {
     "name": "stdout",
     "output_type": "stream",
     "text": [
      "{'leaf_size': 50, 'n_neighbors': 19, 'weights': 'uniform'}\n",
      "0.8963199999999999\n"
     ]
    }
   ],
   "source": [
    "print(knn_grid_clf.best_params_)\n",
    "print(knn_grid_clf.best_score_)"
   ]
  },
  {
   "cell_type": "code",
   "execution_count": 63,
   "id": "a131f2d2",
   "metadata": {},
   "outputs": [
    {
     "name": "stdout",
     "output_type": "stream",
     "text": [
      "Training Data Score: 0.89696\n",
      "Testing Data Score: 0.89304\n"
     ]
    }
   ],
   "source": [
    "knn_best_params=knn_grid_clf.best_params_\n",
    "knn_classifier= KNeighborsClassifier(**knn_best_params).fit(X_train, y_train)\n",
    "print(f\"Training Data Score: {knn_classifier.score(X_train, y_train)}\")\n",
    "print(f\"Testing Data Score: {knn_classifier.score(X_test, y_test)}\")"
   ]
  },
  {
   "cell_type": "code",
   "execution_count": null,
   "id": "c1de667b",
   "metadata": {},
   "outputs": [],
   "source": [
    "# Find N value for KNN\n",
    "\n",
    "train_scores = []\n",
    "test_scores = []\n",
    "for k in range(1, 30, 2):\n",
    "    knn = KNeighborsClassifier(n_neighbors=k)\n",
    "    knn.fit(X_train_scaled, y_train)\n",
    "    train_score = knn.score(X_train_scaled, y_train)\n",
    "    test_score = knn.score(X_test_scaled, y_test)\n",
    "    train_scores.append(train_score)\n",
    "    test_scores.append(test_score)\n",
    "    print(f\"k: {k}, Train/Test Score: {train_score:.3f}/{test_score:.3f}\")\n",
    "    \n",
    "    \n",
    "plt.plot(range(1, 20, 2), train_scores, marker='o')\n",
    "plt.plot(range(1, 20, 2), test_scores, marker=\"x\")\n",
    "plt.xlabel(\"k neighbors\")\n",
    "plt.ylabel(\"Testing accuracy Score\")\n",
    "plt.show()"
   ]
  },
  {
   "cell_type": "code",
   "execution_count": 64,
   "id": "67e9d835",
   "metadata": {},
   "outputs": [],
   "source": [
    "import pickle"
   ]
  },
  {
   "cell_type": "code",
   "execution_count": 68,
   "id": "6db04ce9",
   "metadata": {},
   "outputs": [],
   "source": [
    "pickle.dump(lr_classifier, open('lr_classifier.pkl','wb'))"
   ]
  },
  {
   "cell_type": "code",
   "execution_count": null,
   "id": "f8667e61",
   "metadata": {},
   "outputs": [],
   "source": []
  }
 ],
 "metadata": {
  "kernelspec": {
   "display_name": "Python 3 (ipykernel)",
   "language": "python",
   "name": "python3"
  },
  "language_info": {
   "codemirror_mode": {
    "name": "ipython",
    "version": 3
   },
   "file_extension": ".py",
   "mimetype": "text/x-python",
   "name": "python",
   "nbconvert_exporter": "python",
   "pygments_lexer": "ipython3",
   "version": "3.8.12"
  }
 },
 "nbformat": 4,
 "nbformat_minor": 5
}
