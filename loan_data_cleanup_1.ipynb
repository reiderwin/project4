{
 "cells": [
  {
   "cell_type": "code",
   "execution_count": 1,
   "id": "b1b806cd",
   "metadata": {},
   "outputs": [],
   "source": [
    "import pandas as pd\n",
    "import numpy as np"
   ]
  },
  {
   "cell_type": "code",
   "execution_count": 2,
   "id": "f84f71f7",
   "metadata": {},
   "outputs": [],
   "source": [
    "pd.set_option(\"display.max_columns\", None)"
   ]
  },
  {
   "cell_type": "code",
   "execution_count": 3,
   "id": "f673eed4",
   "metadata": {},
   "outputs": [],
   "source": [
    "req_col=['agency_code'\n",
    ",'loan_type'\n",
    ",'property_type'\n",
    ",'loan_purpose'\n",
    ",'loan_amount_000s'\n",
    ",'preapproval'\n",
    ",'action_taken'\n",
    ",'state_code'\n",
    ",'county_code'\n",
    ",'census_tract_number'\n",
    ",'applicant_ethnicity'\n",
    ",'co_applicant_ethnicity'\n",
    ",'applicant_race_1'\n",
    ",'co_applicant_race_1'\n",
    ", 'applicant_sex'\n",
    ", 'co_applicant_sex'\n",
    ",'applicant_income_000s'\n",
    ",'purchaser_type']"
   ]
  },
  {
   "cell_type": "code",
   "execution_count": 4,
   "id": "b5fa52b2",
   "metadata": {},
   "outputs": [],
   "source": [
    "set_dtypes={'agency_code':'int8'\n",
    ",'loan_type':'int8'\n",
    ",'property_type':'int8'\n",
    ",'loan_purpose':'int8'\n",
    ",'loan_amount_000s':'int64'\n",
    ",'preapproval':'int8'\n",
    ",'action_taken':'int8'\n",
    ",'state_code':'int8'\n",
    ",'county_code':'int16'\n",
    ",'census_tract_number':'float64'\n",
    ",'applicant_ethnicity':'int8'\n",
    ",'co_applicant_ethnicity':'int8'\n",
    ",'applicant_race_1':'int8'\n",
    ",'co_applicant_race_1':'int8'\n",
    ",'applicant_sex':'int8'\n",
    ",'co_applicant_sex':'int8'\n",
    ",'applicant_income_000s':'int64'\n",
    ",'purchaser_type':'int8'}"
   ]
  },
  {
   "cell_type": "code",
   "execution_count": 66,
   "id": "dbcd20f8",
   "metadata": {},
   "outputs": [],
   "source": [
    "df17=pd.read_csv('Resources/hmda_2017_nationwide_all-records_codes.csv', usecols=req_co)"
   ]
  },
  {
   "cell_type": "code",
   "execution_count": 67,
   "id": "b9c7e4e8",
   "metadata": {
    "scrolled": true
   },
   "outputs": [
    {
     "name": "stdout",
     "output_type": "stream",
     "text": [
      "<class 'pandas.core.frame.DataFrame'>\n",
      "RangeIndex: 14285496 entries, 0 to 14285495\n",
      "Data columns (total 18 columns):\n",
      " #   Column                  Dtype  \n",
      "---  ------                  -----  \n",
      " 0   agency_code             int64  \n",
      " 1   loan_type               int64  \n",
      " 2   property_type           int64  \n",
      " 3   loan_purpose            int64  \n",
      " 4   loan_amount_000s        float64\n",
      " 5   preapproval             int64  \n",
      " 6   action_taken            int64  \n",
      " 7   state_code              float64\n",
      " 8   county_code             float64\n",
      " 9   census_tract_number     float64\n",
      " 10  applicant_ethnicity     int64  \n",
      " 11  co_applicant_ethnicity  int64  \n",
      " 12  applicant_race_1        int64  \n",
      " 13  co_applicant_race_1     int64  \n",
      " 14  applicant_sex           int64  \n",
      " 15  co_applicant_sex        int64  \n",
      " 16  applicant_income_000s   float64\n",
      " 17  purchaser_type          int64  \n",
      "dtypes: float64(5), int64(13)\n",
      "memory usage: 1.9 GB\n"
     ]
    }
   ],
   "source": [
    "df17.info()"
   ]
  },
  {
   "cell_type": "code",
   "execution_count": 7,
   "id": "8a4d7671",
   "metadata": {},
   "outputs": [],
   "source": [
    "start17= len(df17.index)"
   ]
  },
  {
   "cell_type": "code",
   "execution_count": 8,
   "id": "d383e3ce",
   "metadata": {},
   "outputs": [
    {
     "data": {
      "text/plain": [
       "2627957"
      ]
     },
     "execution_count": 8,
     "metadata": {},
     "output_type": "execute_result"
    }
   ],
   "source": [
    "df17.isnull().sum().sum()"
   ]
  },
  {
   "cell_type": "code",
   "execution_count": 9,
   "id": "9ce2f4c3",
   "metadata": {},
   "outputs": [],
   "source": [
    "df17=df17.dropna()"
   ]
  },
  {
   "cell_type": "code",
   "execution_count": 10,
   "id": "faf5813e",
   "metadata": {},
   "outputs": [
    {
     "data": {
      "text/plain": [
       "26075"
      ]
     },
     "execution_count": 10,
     "metadata": {},
     "output_type": "execute_result"
    }
   ],
   "source": [
    "df17.duplicated().sum()"
   ]
  },
  {
   "cell_type": "code",
   "execution_count": 11,
   "id": "8d3bcba0",
   "metadata": {},
   "outputs": [],
   "source": [
    "df17=df17.drop_duplicates()"
   ]
  },
  {
   "cell_type": "code",
   "execution_count": 12,
   "id": "62019e96",
   "metadata": {},
   "outputs": [],
   "source": [
    "df17 = df17.astype(set_dtypes)"
   ]
  },
  {
   "cell_type": "code",
   "execution_count": 13,
   "id": "9196631f",
   "metadata": {},
   "outputs": [
    {
     "name": "stdout",
     "output_type": "stream",
     "text": [
      "<class 'pandas.core.frame.DataFrame'>\n",
      "Int64Index: 12095740 entries, 0 to 14088332\n",
      "Data columns (total 18 columns):\n",
      " #   Column                  Dtype  \n",
      "---  ------                  -----  \n",
      " 0   agency_code             int8   \n",
      " 1   loan_type               int8   \n",
      " 2   property_type           int8   \n",
      " 3   loan_purpose            int8   \n",
      " 4   loan_amount_000s        int64  \n",
      " 5   preapproval             int8   \n",
      " 6   action_taken            int8   \n",
      " 7   state_code              int8   \n",
      " 8   county_code             int16  \n",
      " 9   census_tract_number     float64\n",
      " 10  applicant_ethnicity     int8   \n",
      " 11  co_applicant_ethnicity  int8   \n",
      " 12  applicant_race_1        int8   \n",
      " 13  co_applicant_race_1     int8   \n",
      " 14  applicant_sex           int8   \n",
      " 15  co_applicant_sex        int8   \n",
      " 16  applicant_income_000s   int64  \n",
      " 17  purchaser_type          int8   \n",
      "dtypes: float64(1), int16(1), int64(2), int8(14)\n",
      "memory usage: 553.7 MB\n"
     ]
    }
   ],
   "source": [
    "df17.info()"
   ]
  },
  {
   "cell_type": "code",
   "execution_count": 14,
   "id": "1b7af054",
   "metadata": {},
   "outputs": [
    {
     "name": "stdout",
     "output_type": "stream",
     "text": [
      "Imported records: 14285496 Final records: 12095740 Dropped records: 2189756\n"
     ]
    }
   ],
   "source": [
    "fin17= len(df17.index)\n",
    "dropped17= (start17-fin17)\n",
    "print(f\"Imported records: {start17} Final records: {fin17} Dropped records: {dropped17}\")"
   ]
  },
  {
   "cell_type": "code",
   "execution_count": 15,
   "id": "07ce77e1",
   "metadata": {},
   "outputs": [
    {
     "name": "stderr",
     "output_type": "stream",
     "text": [
      "/Users/michaelraines/opt/anaconda3/envs/PythonData/lib/python3.7/site-packages/IPython/core/interactiveshell.py:3457: DtypeWarning: Columns (12,13) have mixed types.Specify dtype option on import or set low_memory=False.\n",
      "  exec(code_obj, self.user_global_ns, self.user_ns)\n"
     ]
    }
   ],
   "source": [
    "df16=pd.read_csv('Resources/hmda_2016_nationwide_all-records_codes.csv', usecols=req_col)"
   ]
  },
  {
   "cell_type": "code",
   "execution_count": 16,
   "id": "25f11853",
   "metadata": {
    "scrolled": true
   },
   "outputs": [],
   "source": [
    "# df16.info()"
   ]
  },
  {
   "cell_type": "code",
   "execution_count": 17,
   "id": "c5412c20",
   "metadata": {},
   "outputs": [],
   "source": [
    "start16= len(df16.index)"
   ]
  },
  {
   "cell_type": "code",
   "execution_count": 18,
   "id": "7239e0b2",
   "metadata": {},
   "outputs": [],
   "source": [
    "df16= df16.apply(pd.to_numeric, errors=\"coerce\")"
   ]
  },
  {
   "cell_type": "code",
   "execution_count": 19,
   "id": "76caf231",
   "metadata": {},
   "outputs": [
    {
     "data": {
      "text/plain": [
       "3341250"
      ]
     },
     "execution_count": 19,
     "metadata": {},
     "output_type": "execute_result"
    }
   ],
   "source": [
    "df16.isnull().sum().sum()"
   ]
  },
  {
   "cell_type": "code",
   "execution_count": 20,
   "id": "21f0c274",
   "metadata": {},
   "outputs": [],
   "source": [
    "df16=df16.dropna()"
   ]
  },
  {
   "cell_type": "code",
   "execution_count": 21,
   "id": "fce31981",
   "metadata": {},
   "outputs": [
    {
     "data": {
      "text/plain": [
       "29380"
      ]
     },
     "execution_count": 21,
     "metadata": {},
     "output_type": "execute_result"
    }
   ],
   "source": [
    "df16.duplicated().sum()"
   ]
  },
  {
   "cell_type": "code",
   "execution_count": 22,
   "id": "413283ca",
   "metadata": {},
   "outputs": [],
   "source": [
    "df16=df16.drop_duplicates()"
   ]
  },
  {
   "cell_type": "code",
   "execution_count": 23,
   "id": "a0b160fa",
   "metadata": {},
   "outputs": [],
   "source": [
    "df16 = df16.astype(set_dtypes)"
   ]
  },
  {
   "cell_type": "code",
   "execution_count": 24,
   "id": "6bdc867b",
   "metadata": {},
   "outputs": [],
   "source": [
    "# df16.info()"
   ]
  },
  {
   "cell_type": "code",
   "execution_count": 25,
   "id": "fb8cdc80",
   "metadata": {},
   "outputs": [
    {
     "name": "stdout",
     "output_type": "stream",
     "text": [
      "Imported records: 16332987 Final records: 13516069 Dropped records: 2816918\n"
     ]
    }
   ],
   "source": [
    "fin16= len(df16.index)\n",
    "dropped16= (start16-fin16)\n",
    "print(f\"Imported records: {start16} Final records: {fin16} Dropped records: {dropped16}\")"
   ]
  },
  {
   "cell_type": "code",
   "execution_count": 26,
   "id": "0a807c9b",
   "metadata": {},
   "outputs": [],
   "source": [
    "df15=pd.read_csv('Resources/hmda_2015_nationwide_all-records_codes.csv', usecols=req_col)"
   ]
  },
  {
   "cell_type": "code",
   "execution_count": 27,
   "id": "365f3cf0",
   "metadata": {},
   "outputs": [],
   "source": [
    "start15= len(df15.index)"
   ]
  },
  {
   "cell_type": "code",
   "execution_count": 28,
   "id": "13dabc79",
   "metadata": {},
   "outputs": [],
   "source": [
    "df15= df15.apply(pd.to_numeric, errors=\"coerce\")"
   ]
  },
  {
   "cell_type": "code",
   "execution_count": 29,
   "id": "699dd907",
   "metadata": {},
   "outputs": [],
   "source": [
    "# df15.info()"
   ]
  },
  {
   "cell_type": "code",
   "execution_count": 30,
   "id": "67644866",
   "metadata": {},
   "outputs": [
    {
     "data": {
      "text/plain": [
       "3321948"
      ]
     },
     "execution_count": 30,
     "metadata": {},
     "output_type": "execute_result"
    }
   ],
   "source": [
    "df15.isna().sum().sum()"
   ]
  },
  {
   "cell_type": "code",
   "execution_count": 31,
   "id": "659b6402",
   "metadata": {},
   "outputs": [],
   "source": [
    "df15=df15.dropna()"
   ]
  },
  {
   "cell_type": "code",
   "execution_count": 32,
   "id": "fcc24837",
   "metadata": {},
   "outputs": [
    {
     "data": {
      "text/plain": [
       "26207"
      ]
     },
     "execution_count": 32,
     "metadata": {},
     "output_type": "execute_result"
    }
   ],
   "source": [
    "df15.duplicated().sum()"
   ]
  },
  {
   "cell_type": "code",
   "execution_count": 33,
   "id": "fcc368d1",
   "metadata": {},
   "outputs": [],
   "source": [
    "df15=df15.drop_duplicates()"
   ]
  },
  {
   "cell_type": "code",
   "execution_count": 34,
   "id": "73d649d0",
   "metadata": {},
   "outputs": [],
   "source": [
    "df15 = df15.astype(set_dtypes)"
   ]
  },
  {
   "cell_type": "code",
   "execution_count": 35,
   "id": "dc41930f",
   "metadata": {},
   "outputs": [],
   "source": [
    "# df15.info()"
   ]
  },
  {
   "cell_type": "code",
   "execution_count": 36,
   "id": "6a7800d6",
   "metadata": {},
   "outputs": [
    {
     "name": "stdout",
     "output_type": "stream",
     "text": [
      "Imported records: 14374184 Final records: 11609765 Dropped records: 2764419\n"
     ]
    }
   ],
   "source": [
    "fin15= len(df15.index)\n",
    "dropped15= (start15-fin15)\n",
    "print(f\"Imported records: {start15} Final records: {fin15} Dropped records: {dropped15}\")"
   ]
  },
  {
   "cell_type": "code",
   "execution_count": 37,
   "id": "af7219bd",
   "metadata": {},
   "outputs": [],
   "source": [
    "df14=pd.read_csv('Resources/hmda_2014_nationwide_all-records_codes.csv', usecols=req_col)"
   ]
  },
  {
   "cell_type": "code",
   "execution_count": 38,
   "id": "521a7878",
   "metadata": {},
   "outputs": [],
   "source": [
    "start14= len(df14.index)"
   ]
  },
  {
   "cell_type": "code",
   "execution_count": 39,
   "id": "0e2f56a8",
   "metadata": {},
   "outputs": [],
   "source": [
    "# df14.info()"
   ]
  },
  {
   "cell_type": "code",
   "execution_count": 40,
   "id": "0b4767c7",
   "metadata": {},
   "outputs": [
    {
     "data": {
      "text/plain": [
       "2623214"
      ]
     },
     "execution_count": 40,
     "metadata": {},
     "output_type": "execute_result"
    }
   ],
   "source": [
    "df14.isna().sum().sum()"
   ]
  },
  {
   "cell_type": "code",
   "execution_count": 41,
   "id": "1b5cd394",
   "metadata": {},
   "outputs": [],
   "source": [
    "df14=df14.dropna()"
   ]
  },
  {
   "cell_type": "code",
   "execution_count": 42,
   "id": "30de9478",
   "metadata": {},
   "outputs": [
    {
     "data": {
      "text/plain": [
       "40240"
      ]
     },
     "execution_count": 42,
     "metadata": {},
     "output_type": "execute_result"
    }
   ],
   "source": [
    "df14.duplicated().sum()"
   ]
  },
  {
   "cell_type": "code",
   "execution_count": 43,
   "id": "07d5aaf7",
   "metadata": {},
   "outputs": [],
   "source": [
    "df14=df14.drop_duplicates()"
   ]
  },
  {
   "cell_type": "code",
   "execution_count": 44,
   "id": "59f56dba",
   "metadata": {},
   "outputs": [],
   "source": [
    "df14 = df14.astype(set_dtypes)"
   ]
  },
  {
   "cell_type": "code",
   "execution_count": 45,
   "id": "2967e82d",
   "metadata": {},
   "outputs": [],
   "source": [
    "# df14.info()"
   ]
  },
  {
   "cell_type": "code",
   "execution_count": 46,
   "id": "3ec99761",
   "metadata": {},
   "outputs": [
    {
     "name": "stdout",
     "output_type": "stream",
     "text": [
      "Imported records: 12049341 Final records: 9988844 Dropped records: 2060497\n"
     ]
    }
   ],
   "source": [
    "fin14= len(df14.index)\n",
    "dropped14= (start14-fin14)\n",
    "print(f\"Imported records: {start14} Final records: {fin14} Dropped records: {dropped14}\")"
   ]
  },
  {
   "cell_type": "code",
   "execution_count": 47,
   "id": "e64199a8",
   "metadata": {},
   "outputs": [
    {
     "name": "stdout",
     "output_type": "stream",
     "text": [
      "FINAL TALLIES:     Imported records: 57,042,008     Dropped records: 9,831,590    Final records: 47,210,418\n"
     ]
    }
   ],
   "source": [
    "print(f\"FINAL TALLIES: \\\n",
    "    Imported records: {start14 + start15 + start16 +start17:,d} \\\n",
    "    Dropped records: {dropped14 + dropped15 + dropped16 + dropped17:,d}\\\n",
    "    Final records: {fin14 + fin15 + fin16 + fin17:,d}\")"
   ]
  },
  {
   "cell_type": "markdown",
   "id": "f2a52b43",
   "metadata": {},
   "source": [
    "### Create new DF "
   ]
  },
  {
   "cell_type": "code",
   "execution_count": 48,
   "id": "63e4c09d",
   "metadata": {},
   "outputs": [],
   "source": [
    "df1=pd.concat([df16, df17], ignore_index=True)"
   ]
  },
  {
   "cell_type": "code",
   "execution_count": 49,
   "id": "4756706f",
   "metadata": {},
   "outputs": [],
   "source": [
    "df2=pd.concat([df15, df14], ignore_index=True)"
   ]
  },
  {
   "cell_type": "code",
   "execution_count": 50,
   "id": "c27d2d92",
   "metadata": {},
   "outputs": [],
   "source": [
    "dataset=pd.concat([df1, df2], ignore_index=True)"
   ]
  },
  {
   "cell_type": "code",
   "execution_count": 51,
   "id": "f3d95816",
   "metadata": {},
   "outputs": [],
   "source": [
    "# dataset.to_csv(\"2014_17_loan_clean.csv\")"
   ]
  },
  {
   "cell_type": "markdown",
   "id": "dcac2d26",
   "metadata": {},
   "source": [
    "### Correctly classify target data"
   ]
  },
  {
   "cell_type": "code",
   "execution_count": 52,
   "id": "735f1417",
   "metadata": {},
   "outputs": [],
   "source": [
    "# Remove 4 -- Application withdrawn by applicant & 5 -- File closed for incompleteness\t& 6 -- Loan purchased by the institution\n",
    "dataset=dataset[(dataset.action_taken !=4) & (dataset.action_taken !=5) &(dataset.action_taken !=6)]"
   ]
  },
  {
   "cell_type": "code",
   "execution_count": 53,
   "id": "106bc2da",
   "metadata": {},
   "outputs": [],
   "source": [
    "#Classify remaining columns as Success (1) or Fail (0)\n",
    "#(1) # 1 -- Loan originated\t2 -- Application approved but not accepted\t8 -- Preapproval request approved but not accepted (optional reporting) \n",
    "#(0) # 3 -- Application denied by financial institution 7 -- Preapproval request denied by financial institution\n",
    "dataset['action_taken'].replace({'2':'1', '3':'0', '7':'0', '8':\"1\"}, inplace=True)"
   ]
  },
  {
   "cell_type": "code",
   "execution_count": 54,
   "id": "6e9df889",
   "metadata": {},
   "outputs": [
    {
     "data": {
      "text/plain": [
       "1    26895875\n",
       "3     8208164\n",
       "2     1492533\n",
       "7        1764\n",
       "8        1187\n",
       "Name: action_taken, dtype: int64"
      ]
     },
     "execution_count": 54,
     "metadata": {},
     "output_type": "execute_result"
    }
   ],
   "source": [
    "dataset['action_taken'].value_counts()"
   ]
  },
  {
   "cell_type": "markdown",
   "id": "911efeb0",
   "metadata": {},
   "source": [
    "### Filter down to just New Home Purchases"
   ]
  },
  {
   "cell_type": "code",
   "execution_count": 55,
   "id": "47bd36f0",
   "metadata": {},
   "outputs": [],
   "source": [
    "# 'loan_purpose' 1 -- Home purchase\t2 -- Home improvement\t 3 -- Refinancing \n",
    "dataset=dataset[dataset['loan_purpose']== 1]"
   ]
  },
  {
   "cell_type": "code",
   "execution_count": 63,
   "id": "587c31a8",
   "metadata": {},
   "outputs": [],
   "source": [
    "dataset= dataset.reset_index(drop=True)"
   ]
  },
  {
   "cell_type": "code",
   "execution_count": 70,
   "id": "ba758ee1",
   "metadata": {},
   "outputs": [
    {
     "data": {
      "text/html": [
       "<div>\n",
       "<style scoped>\n",
       "    .dataframe tbody tr th:only-of-type {\n",
       "        vertical-align: middle;\n",
       "    }\n",
       "\n",
       "    .dataframe tbody tr th {\n",
       "        vertical-align: top;\n",
       "    }\n",
       "\n",
       "    .dataframe thead th {\n",
       "        text-align: right;\n",
       "    }\n",
       "</style>\n",
       "<table border=\"1\" class=\"dataframe\">\n",
       "  <thead>\n",
       "    <tr style=\"text-align: right;\">\n",
       "      <th></th>\n",
       "      <th>state_code</th>\n",
       "      <th>county_code</th>\n",
       "      <th>census_tract_number</th>\n",
       "    </tr>\n",
       "  </thead>\n",
       "  <tbody>\n",
       "    <tr>\n",
       "      <th>0</th>\n",
       "      <td>2</td>\n",
       "      <td>20</td>\n",
       "      <td>19.00</td>\n",
       "    </tr>\n",
       "    <tr>\n",
       "      <th>1</th>\n",
       "      <td>2</td>\n",
       "      <td>170</td>\n",
       "      <td>10.04</td>\n",
       "    </tr>\n",
       "    <tr>\n",
       "      <th>2</th>\n",
       "      <td>2</td>\n",
       "      <td>20</td>\n",
       "      <td>27.12</td>\n",
       "    </tr>\n",
       "    <tr>\n",
       "      <th>3</th>\n",
       "      <td>2</td>\n",
       "      <td>20</td>\n",
       "      <td>23.01</td>\n",
       "    </tr>\n",
       "    <tr>\n",
       "      <th>4</th>\n",
       "      <td>2</td>\n",
       "      <td>20</td>\n",
       "      <td>12.00</td>\n",
       "    </tr>\n",
       "    <tr>\n",
       "      <th>...</th>\n",
       "      <td>...</td>\n",
       "      <td>...</td>\n",
       "      <td>...</td>\n",
       "    </tr>\n",
       "    <tr>\n",
       "      <th>17744545</th>\n",
       "      <td>4</td>\n",
       "      <td>19</td>\n",
       "      <td>40.10</td>\n",
       "    </tr>\n",
       "    <tr>\n",
       "      <th>17744546</th>\n",
       "      <td>48</td>\n",
       "      <td>453</td>\n",
       "      <td>17.28</td>\n",
       "    </tr>\n",
       "    <tr>\n",
       "      <th>17744547</th>\n",
       "      <td>51</td>\n",
       "      <td>127</td>\n",
       "      <td>7001.00</td>\n",
       "    </tr>\n",
       "    <tr>\n",
       "      <th>17744548</th>\n",
       "      <td>24</td>\n",
       "      <td>31</td>\n",
       "      <td>7060.11</td>\n",
       "    </tr>\n",
       "    <tr>\n",
       "      <th>17744549</th>\n",
       "      <td>49</td>\n",
       "      <td>43</td>\n",
       "      <td>9644.02</td>\n",
       "    </tr>\n",
       "  </tbody>\n",
       "</table>\n",
       "<p>17744550 rows × 3 columns</p>\n",
       "</div>"
      ],
      "text/plain": [
       "          state_code  county_code  census_tract_number\n",
       "0                  2           20                19.00\n",
       "1                  2          170                10.04\n",
       "2                  2           20                27.12\n",
       "3                  2           20                23.01\n",
       "4                  2           20                12.00\n",
       "...              ...          ...                  ...\n",
       "17744545           4           19                40.10\n",
       "17744546          48          453                17.28\n",
       "17744547          51          127              7001.00\n",
       "17744548          24           31              7060.11\n",
       "17744549          49           43              9644.02\n",
       "\n",
       "[17744550 rows x 3 columns]"
      ]
     },
     "execution_count": 70,
     "metadata": {},
     "output_type": "execute_result"
    }
   ],
   "source": [
    "geo=pd.DataFrame(dataset, columns=['state_code', 'county_code', 'census_tract_number'])\n",
    "geo"
   ]
  },
  {
   "cell_type": "code",
   "execution_count": 69,
   "id": "4b2f4c40",
   "metadata": {},
   "outputs": [
    {
     "data": {
      "text/html": [
       "<div>\n",
       "<style scoped>\n",
       "    .dataframe tbody tr th:only-of-type {\n",
       "        vertical-align: middle;\n",
       "    }\n",
       "\n",
       "    .dataframe tbody tr th {\n",
       "        vertical-align: top;\n",
       "    }\n",
       "\n",
       "    .dataframe thead th {\n",
       "        text-align: right;\n",
       "    }\n",
       "</style>\n",
       "<table border=\"1\" class=\"dataframe\">\n",
       "  <thead>\n",
       "    <tr style=\"text-align: right;\">\n",
       "      <th></th>\n",
       "      <th>agency_code</th>\n",
       "      <th>loan_type</th>\n",
       "      <th>property_type</th>\n",
       "      <th>loan_purpose</th>\n",
       "      <th>loan_amount_000s</th>\n",
       "      <th>preapproval</th>\n",
       "      <th>action_taken</th>\n",
       "      <th>applicant_ethnicity</th>\n",
       "      <th>co_applicant_ethnicity</th>\n",
       "      <th>applicant_race_1</th>\n",
       "      <th>co_applicant_race_1</th>\n",
       "      <th>applicant_sex</th>\n",
       "      <th>co_applicant_sex</th>\n",
       "      <th>applicant_income_000s</th>\n",
       "      <th>purchaser_type</th>\n",
       "    </tr>\n",
       "  </thead>\n",
       "  <tbody>\n",
       "    <tr>\n",
       "      <th>0</th>\n",
       "      <td>5</td>\n",
       "      <td>1</td>\n",
       "      <td>1</td>\n",
       "      <td>1</td>\n",
       "      <td>144</td>\n",
       "      <td>2</td>\n",
       "      <td>1</td>\n",
       "      <td>2</td>\n",
       "      <td>2</td>\n",
       "      <td>5</td>\n",
       "      <td>5</td>\n",
       "      <td>1</td>\n",
       "      <td>2</td>\n",
       "      <td>154</td>\n",
       "      <td>0</td>\n",
       "    </tr>\n",
       "    <tr>\n",
       "      <th>1</th>\n",
       "      <td>3</td>\n",
       "      <td>1</td>\n",
       "      <td>1</td>\n",
       "      <td>1</td>\n",
       "      <td>300</td>\n",
       "      <td>3</td>\n",
       "      <td>1</td>\n",
       "      <td>2</td>\n",
       "      <td>5</td>\n",
       "      <td>5</td>\n",
       "      <td>8</td>\n",
       "      <td>1</td>\n",
       "      <td>5</td>\n",
       "      <td>119</td>\n",
       "      <td>1</td>\n",
       "    </tr>\n",
       "    <tr>\n",
       "      <th>2</th>\n",
       "      <td>5</td>\n",
       "      <td>1</td>\n",
       "      <td>1</td>\n",
       "      <td>1</td>\n",
       "      <td>263</td>\n",
       "      <td>3</td>\n",
       "      <td>1</td>\n",
       "      <td>1</td>\n",
       "      <td>5</td>\n",
       "      <td>5</td>\n",
       "      <td>8</td>\n",
       "      <td>1</td>\n",
       "      <td>5</td>\n",
       "      <td>141</td>\n",
       "      <td>7</td>\n",
       "    </tr>\n",
       "    <tr>\n",
       "      <th>3</th>\n",
       "      <td>5</td>\n",
       "      <td>1</td>\n",
       "      <td>1</td>\n",
       "      <td>1</td>\n",
       "      <td>187</td>\n",
       "      <td>1</td>\n",
       "      <td>1</td>\n",
       "      <td>2</td>\n",
       "      <td>5</td>\n",
       "      <td>5</td>\n",
       "      <td>8</td>\n",
       "      <td>1</td>\n",
       "      <td>5</td>\n",
       "      <td>76</td>\n",
       "      <td>1</td>\n",
       "    </tr>\n",
       "    <tr>\n",
       "      <th>4</th>\n",
       "      <td>5</td>\n",
       "      <td>1</td>\n",
       "      <td>1</td>\n",
       "      <td>1</td>\n",
       "      <td>438</td>\n",
       "      <td>1</td>\n",
       "      <td>1</td>\n",
       "      <td>3</td>\n",
       "      <td>3</td>\n",
       "      <td>6</td>\n",
       "      <td>6</td>\n",
       "      <td>2</td>\n",
       "      <td>1</td>\n",
       "      <td>225</td>\n",
       "      <td>1</td>\n",
       "    </tr>\n",
       "    <tr>\n",
       "      <th>...</th>\n",
       "      <td>...</td>\n",
       "      <td>...</td>\n",
       "      <td>...</td>\n",
       "      <td>...</td>\n",
       "      <td>...</td>\n",
       "      <td>...</td>\n",
       "      <td>...</td>\n",
       "      <td>...</td>\n",
       "      <td>...</td>\n",
       "      <td>...</td>\n",
       "      <td>...</td>\n",
       "      <td>...</td>\n",
       "      <td>...</td>\n",
       "      <td>...</td>\n",
       "      <td>...</td>\n",
       "    </tr>\n",
       "    <tr>\n",
       "      <th>17744545</th>\n",
       "      <td>7</td>\n",
       "      <td>1</td>\n",
       "      <td>1</td>\n",
       "      <td>1</td>\n",
       "      <td>76</td>\n",
       "      <td>3</td>\n",
       "      <td>1</td>\n",
       "      <td>2</td>\n",
       "      <td>2</td>\n",
       "      <td>5</td>\n",
       "      <td>5</td>\n",
       "      <td>2</td>\n",
       "      <td>1</td>\n",
       "      <td>80</td>\n",
       "      <td>7</td>\n",
       "    </tr>\n",
       "    <tr>\n",
       "      <th>17744546</th>\n",
       "      <td>7</td>\n",
       "      <td>1</td>\n",
       "      <td>1</td>\n",
       "      <td>1</td>\n",
       "      <td>195</td>\n",
       "      <td>2</td>\n",
       "      <td>1</td>\n",
       "      <td>2</td>\n",
       "      <td>2</td>\n",
       "      <td>5</td>\n",
       "      <td>5</td>\n",
       "      <td>2</td>\n",
       "      <td>1</td>\n",
       "      <td>45</td>\n",
       "      <td>1</td>\n",
       "    </tr>\n",
       "    <tr>\n",
       "      <th>17744547</th>\n",
       "      <td>9</td>\n",
       "      <td>3</td>\n",
       "      <td>1</td>\n",
       "      <td>1</td>\n",
       "      <td>480</td>\n",
       "      <td>3</td>\n",
       "      <td>1</td>\n",
       "      <td>2</td>\n",
       "      <td>2</td>\n",
       "      <td>5</td>\n",
       "      <td>5</td>\n",
       "      <td>2</td>\n",
       "      <td>1</td>\n",
       "      <td>225</td>\n",
       "      <td>2</td>\n",
       "    </tr>\n",
       "    <tr>\n",
       "      <th>17744548</th>\n",
       "      <td>7</td>\n",
       "      <td>1</td>\n",
       "      <td>1</td>\n",
       "      <td>1</td>\n",
       "      <td>627</td>\n",
       "      <td>3</td>\n",
       "      <td>1</td>\n",
       "      <td>2</td>\n",
       "      <td>5</td>\n",
       "      <td>2</td>\n",
       "      <td>8</td>\n",
       "      <td>1</td>\n",
       "      <td>5</td>\n",
       "      <td>191</td>\n",
       "      <td>6</td>\n",
       "    </tr>\n",
       "    <tr>\n",
       "      <th>17744549</th>\n",
       "      <td>9</td>\n",
       "      <td>1</td>\n",
       "      <td>1</td>\n",
       "      <td>1</td>\n",
       "      <td>1088</td>\n",
       "      <td>2</td>\n",
       "      <td>1</td>\n",
       "      <td>2</td>\n",
       "      <td>2</td>\n",
       "      <td>5</td>\n",
       "      <td>5</td>\n",
       "      <td>1</td>\n",
       "      <td>2</td>\n",
       "      <td>6981</td>\n",
       "      <td>0</td>\n",
       "    </tr>\n",
       "  </tbody>\n",
       "</table>\n",
       "<p>17744550 rows × 15 columns</p>\n",
       "</div>"
      ],
      "text/plain": [
       "          agency_code  loan_type  property_type  loan_purpose  \\\n",
       "0                   5          1              1             1   \n",
       "1                   3          1              1             1   \n",
       "2                   5          1              1             1   \n",
       "3                   5          1              1             1   \n",
       "4                   5          1              1             1   \n",
       "...               ...        ...            ...           ...   \n",
       "17744545            7          1              1             1   \n",
       "17744546            7          1              1             1   \n",
       "17744547            9          3              1             1   \n",
       "17744548            7          1              1             1   \n",
       "17744549            9          1              1             1   \n",
       "\n",
       "          loan_amount_000s  preapproval  action_taken  applicant_ethnicity  \\\n",
       "0                      144            2             1                    2   \n",
       "1                      300            3             1                    2   \n",
       "2                      263            3             1                    1   \n",
       "3                      187            1             1                    2   \n",
       "4                      438            1             1                    3   \n",
       "...                    ...          ...           ...                  ...   \n",
       "17744545                76            3             1                    2   \n",
       "17744546               195            2             1                    2   \n",
       "17744547               480            3             1                    2   \n",
       "17744548               627            3             1                    2   \n",
       "17744549              1088            2             1                    2   \n",
       "\n",
       "          co_applicant_ethnicity  applicant_race_1  co_applicant_race_1  \\\n",
       "0                              2                 5                    5   \n",
       "1                              5                 5                    8   \n",
       "2                              5                 5                    8   \n",
       "3                              5                 5                    8   \n",
       "4                              3                 6                    6   \n",
       "...                          ...               ...                  ...   \n",
       "17744545                       2                 5                    5   \n",
       "17744546                       2                 5                    5   \n",
       "17744547                       2                 5                    5   \n",
       "17744548                       5                 2                    8   \n",
       "17744549                       2                 5                    5   \n",
       "\n",
       "          applicant_sex  co_applicant_sex  applicant_income_000s  \\\n",
       "0                     1                 2                    154   \n",
       "1                     1                 5                    119   \n",
       "2                     1                 5                    141   \n",
       "3                     1                 5                     76   \n",
       "4                     2                 1                    225   \n",
       "...                 ...               ...                    ...   \n",
       "17744545              2                 1                     80   \n",
       "17744546              2                 1                     45   \n",
       "17744547              2                 1                    225   \n",
       "17744548              1                 5                    191   \n",
       "17744549              1                 2                   6981   \n",
       "\n",
       "          purchaser_type  \n",
       "0                      0  \n",
       "1                      1  \n",
       "2                      7  \n",
       "3                      1  \n",
       "4                      1  \n",
       "...                  ...  \n",
       "17744545               7  \n",
       "17744546               1  \n",
       "17744547               2  \n",
       "17744548               6  \n",
       "17744549               0  \n",
       "\n",
       "[17744550 rows x 15 columns]"
      ]
     },
     "execution_count": 69,
     "metadata": {},
     "output_type": "execute_result"
    }
   ],
   "source": [
    "loans=dataset.drop(columns=['state_code', 'county_code', 'census_tract_number'])\n",
    "loans"
   ]
  },
  {
   "cell_type": "code",
   "execution_count": 71,
   "id": "9234cfce",
   "metadata": {},
   "outputs": [],
   "source": [
    "loans.to_csv(\"resources/loans.csv\")"
   ]
  },
  {
   "cell_type": "code",
   "execution_count": 72,
   "id": "5a803a68",
   "metadata": {},
   "outputs": [],
   "source": [
    "geo.to_csv(\"resources/geo.csv\")"
   ]
  },
  {
   "cell_type": "code",
   "execution_count": 73,
   "id": "7e11dc0c",
   "metadata": {},
   "outputs": [],
   "source": [
    "dataset.to_csv(\"resources/all.csv\")"
   ]
  },
  {
   "cell_type": "code",
   "execution_count": null,
   "id": "f29f6492",
   "metadata": {},
   "outputs": [],
   "source": []
  }
 ],
 "metadata": {
  "kernelspec": {
   "display_name": "Python 3 (ipykernel)",
   "language": "python",
   "name": "python3"
  },
  "language_info": {
   "codemirror_mode": {
    "name": "ipython",
    "version": 3
   },
   "file_extension": ".py",
   "mimetype": "text/x-python",
   "name": "python",
   "nbconvert_exporter": "python",
   "pygments_lexer": "ipython3",
   "version": "3.7.11"
  }
 },
 "nbformat": 4,
 "nbformat_minor": 5
}
