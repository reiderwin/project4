{
 "cells": [
  {
   "cell_type": "code",
   "execution_count": 1,
   "id": "80a3e6ac",
   "metadata": {},
   "outputs": [],
   "source": [
    "import pandas as pd\n",
    "from sklearn.model_selection import train_test_split\n",
    "from sklearn.preprocessing import StandardScaler, MinMaxScaler, LabelEncoder\n",
    "import numpy as np\n",
    "from matplotlib import pyplot as plt\n",
    "from sklearn.linear_model import LogisticRegression\n",
    "from sklearn.ensemble import RandomForestClassifier, AdaBoostClassifier\n",
    "from sklearn.neighbors import KNeighborsClassifier\n",
    "from sklearn.svm import SVC, LinearSVC\n",
    "from sklearn.model_selection import GridSearchCV\n",
    "from sklearn.tree import DecisionTreeClassifier\n",
    "from sklearn.ensemble import ExtraTreesClassifier\n",
    "import pickle"
   ]
  },
  {
   "cell_type": "code",
   "execution_count": 2,
   "id": "4e93cb84",
   "metadata": {},
   "outputs": [],
   "source": [
    "df=pd.read_csv(\"resources/small_loans_final.csv\")"
   ]
  },
  {
   "cell_type": "code",
   "execution_count": 3,
   "id": "f701c9c6",
   "metadata": {},
   "outputs": [],
   "source": [
    "retypes={\n",
    "'loan_type':'str'\n",
    ",'loan_amount_000s':'int64'\n",
    ",'action_taken':'int8'\n",
    ",'applicant_ethnicity':'str'\n",
    ",'co_applicant_ethnicity':'str'\n",
    ",'applicant_race_1':'str'\n",
    ",'co_applicant_race_1':'str'\n",
    ",'applicant_sex':'str'\n",
    ",'co_applicant_sex':'str'\n",
    ",'applicant_income_000s':'int64'}"
   ]
  },
  {
   "cell_type": "code",
   "execution_count": 4,
   "id": "9741763b",
   "metadata": {},
   "outputs": [],
   "source": [
    "# categorical fields to strings for one-hot encoding\n",
    "df = df.astype(retypes)\n"
   ]
  },
  {
   "cell_type": "code",
   "execution_count": 5,
   "id": "33eafc1b",
   "metadata": {},
   "outputs": [],
   "source": [
    "X = df.drop(columns=['action_taken','Unnamed: 0'])\n"
   ]
  },
  {
   "cell_type": "code",
   "execution_count": 6,
   "id": "52f65f1c",
   "metadata": {},
   "outputs": [
    {
     "name": "stdout",
     "output_type": "stream",
     "text": [
      "Index(['loan_amount_000s', 'applicant_income_000s', 'loan_type_1',\n",
      "       'loan_type_2', 'loan_type_3', 'loan_type_4', 'applicant_ethnicity_1',\n",
      "       'applicant_ethnicity_2', 'co_applicant_ethnicity_1',\n",
      "       'co_applicant_ethnicity_2', 'co_applicant_ethnicity_5',\n",
      "       'applicant_race_1_1', 'applicant_race_1_2', 'applicant_race_1_3',\n",
      "       'applicant_race_1_4', 'applicant_race_1_5', 'co_applicant_race_1_1',\n",
      "       'co_applicant_race_1_2', 'co_applicant_race_1_3',\n",
      "       'co_applicant_race_1_4', 'co_applicant_race_1_5',\n",
      "       'co_applicant_race_1_8', 'applicant_sex_1', 'applicant_sex_2',\n",
      "       'co_applicant_sex_1', 'co_applicant_sex_2', 'co_applicant_sex_5'],\n",
      "      dtype='object')\n"
     ]
    },
    {
     "data": {
      "text/html": [
       "<div>\n",
       "<style scoped>\n",
       "    .dataframe tbody tr th:only-of-type {\n",
       "        vertical-align: middle;\n",
       "    }\n",
       "\n",
       "    .dataframe tbody tr th {\n",
       "        vertical-align: top;\n",
       "    }\n",
       "\n",
       "    .dataframe thead th {\n",
       "        text-align: right;\n",
       "    }\n",
       "</style>\n",
       "<table border=\"1\" class=\"dataframe\">\n",
       "  <thead>\n",
       "    <tr style=\"text-align: right;\">\n",
       "      <th></th>\n",
       "      <th>loan_amount_000s</th>\n",
       "      <th>applicant_income_000s</th>\n",
       "      <th>loan_type_1</th>\n",
       "      <th>loan_type_2</th>\n",
       "      <th>loan_type_3</th>\n",
       "      <th>loan_type_4</th>\n",
       "      <th>applicant_ethnicity_1</th>\n",
       "      <th>applicant_ethnicity_2</th>\n",
       "      <th>co_applicant_ethnicity_1</th>\n",
       "      <th>co_applicant_ethnicity_2</th>\n",
       "      <th>...</th>\n",
       "      <th>co_applicant_race_1_2</th>\n",
       "      <th>co_applicant_race_1_3</th>\n",
       "      <th>co_applicant_race_1_4</th>\n",
       "      <th>co_applicant_race_1_5</th>\n",
       "      <th>co_applicant_race_1_8</th>\n",
       "      <th>applicant_sex_1</th>\n",
       "      <th>applicant_sex_2</th>\n",
       "      <th>co_applicant_sex_1</th>\n",
       "      <th>co_applicant_sex_2</th>\n",
       "      <th>co_applicant_sex_5</th>\n",
       "    </tr>\n",
       "  </thead>\n",
       "  <tbody>\n",
       "    <tr>\n",
       "      <th>0</th>\n",
       "      <td>176</td>\n",
       "      <td>142</td>\n",
       "      <td>1</td>\n",
       "      <td>0</td>\n",
       "      <td>0</td>\n",
       "      <td>0</td>\n",
       "      <td>0</td>\n",
       "      <td>1</td>\n",
       "      <td>0</td>\n",
       "      <td>1</td>\n",
       "      <td>...</td>\n",
       "      <td>0</td>\n",
       "      <td>0</td>\n",
       "      <td>0</td>\n",
       "      <td>1</td>\n",
       "      <td>0</td>\n",
       "      <td>1</td>\n",
       "      <td>0</td>\n",
       "      <td>0</td>\n",
       "      <td>1</td>\n",
       "      <td>0</td>\n",
       "    </tr>\n",
       "    <tr>\n",
       "      <th>1</th>\n",
       "      <td>143</td>\n",
       "      <td>45</td>\n",
       "      <td>0</td>\n",
       "      <td>0</td>\n",
       "      <td>1</td>\n",
       "      <td>0</td>\n",
       "      <td>0</td>\n",
       "      <td>1</td>\n",
       "      <td>0</td>\n",
       "      <td>0</td>\n",
       "      <td>...</td>\n",
       "      <td>0</td>\n",
       "      <td>0</td>\n",
       "      <td>0</td>\n",
       "      <td>0</td>\n",
       "      <td>1</td>\n",
       "      <td>1</td>\n",
       "      <td>0</td>\n",
       "      <td>0</td>\n",
       "      <td>0</td>\n",
       "      <td>1</td>\n",
       "    </tr>\n",
       "    <tr>\n",
       "      <th>2</th>\n",
       "      <td>337</td>\n",
       "      <td>196</td>\n",
       "      <td>1</td>\n",
       "      <td>0</td>\n",
       "      <td>0</td>\n",
       "      <td>0</td>\n",
       "      <td>0</td>\n",
       "      <td>1</td>\n",
       "      <td>0</td>\n",
       "      <td>1</td>\n",
       "      <td>...</td>\n",
       "      <td>0</td>\n",
       "      <td>0</td>\n",
       "      <td>0</td>\n",
       "      <td>1</td>\n",
       "      <td>0</td>\n",
       "      <td>1</td>\n",
       "      <td>0</td>\n",
       "      <td>0</td>\n",
       "      <td>1</td>\n",
       "      <td>0</td>\n",
       "    </tr>\n",
       "    <tr>\n",
       "      <th>3</th>\n",
       "      <td>119</td>\n",
       "      <td>86</td>\n",
       "      <td>1</td>\n",
       "      <td>0</td>\n",
       "      <td>0</td>\n",
       "      <td>0</td>\n",
       "      <td>0</td>\n",
       "      <td>1</td>\n",
       "      <td>0</td>\n",
       "      <td>1</td>\n",
       "      <td>...</td>\n",
       "      <td>0</td>\n",
       "      <td>0</td>\n",
       "      <td>0</td>\n",
       "      <td>1</td>\n",
       "      <td>0</td>\n",
       "      <td>1</td>\n",
       "      <td>0</td>\n",
       "      <td>0</td>\n",
       "      <td>1</td>\n",
       "      <td>0</td>\n",
       "    </tr>\n",
       "    <tr>\n",
       "      <th>4</th>\n",
       "      <td>218</td>\n",
       "      <td>67</td>\n",
       "      <td>1</td>\n",
       "      <td>0</td>\n",
       "      <td>0</td>\n",
       "      <td>0</td>\n",
       "      <td>0</td>\n",
       "      <td>1</td>\n",
       "      <td>0</td>\n",
       "      <td>1</td>\n",
       "      <td>...</td>\n",
       "      <td>0</td>\n",
       "      <td>0</td>\n",
       "      <td>0</td>\n",
       "      <td>1</td>\n",
       "      <td>0</td>\n",
       "      <td>1</td>\n",
       "      <td>0</td>\n",
       "      <td>0</td>\n",
       "      <td>1</td>\n",
       "      <td>0</td>\n",
       "    </tr>\n",
       "    <tr>\n",
       "      <th>...</th>\n",
       "      <td>...</td>\n",
       "      <td>...</td>\n",
       "      <td>...</td>\n",
       "      <td>...</td>\n",
       "      <td>...</td>\n",
       "      <td>...</td>\n",
       "      <td>...</td>\n",
       "      <td>...</td>\n",
       "      <td>...</td>\n",
       "      <td>...</td>\n",
       "      <td>...</td>\n",
       "      <td>...</td>\n",
       "      <td>...</td>\n",
       "      <td>...</td>\n",
       "      <td>...</td>\n",
       "      <td>...</td>\n",
       "      <td>...</td>\n",
       "      <td>...</td>\n",
       "      <td>...</td>\n",
       "      <td>...</td>\n",
       "      <td>...</td>\n",
       "    </tr>\n",
       "    <tr>\n",
       "      <th>49995</th>\n",
       "      <td>236</td>\n",
       "      <td>71</td>\n",
       "      <td>1</td>\n",
       "      <td>0</td>\n",
       "      <td>0</td>\n",
       "      <td>0</td>\n",
       "      <td>0</td>\n",
       "      <td>1</td>\n",
       "      <td>0</td>\n",
       "      <td>0</td>\n",
       "      <td>...</td>\n",
       "      <td>0</td>\n",
       "      <td>0</td>\n",
       "      <td>0</td>\n",
       "      <td>0</td>\n",
       "      <td>1</td>\n",
       "      <td>1</td>\n",
       "      <td>0</td>\n",
       "      <td>0</td>\n",
       "      <td>0</td>\n",
       "      <td>1</td>\n",
       "    </tr>\n",
       "    <tr>\n",
       "      <th>49996</th>\n",
       "      <td>126</td>\n",
       "      <td>33</td>\n",
       "      <td>0</td>\n",
       "      <td>1</td>\n",
       "      <td>0</td>\n",
       "      <td>0</td>\n",
       "      <td>0</td>\n",
       "      <td>1</td>\n",
       "      <td>0</td>\n",
       "      <td>0</td>\n",
       "      <td>...</td>\n",
       "      <td>0</td>\n",
       "      <td>0</td>\n",
       "      <td>0</td>\n",
       "      <td>0</td>\n",
       "      <td>1</td>\n",
       "      <td>1</td>\n",
       "      <td>0</td>\n",
       "      <td>0</td>\n",
       "      <td>0</td>\n",
       "      <td>1</td>\n",
       "    </tr>\n",
       "    <tr>\n",
       "      <th>49997</th>\n",
       "      <td>156</td>\n",
       "      <td>90</td>\n",
       "      <td>1</td>\n",
       "      <td>0</td>\n",
       "      <td>0</td>\n",
       "      <td>0</td>\n",
       "      <td>0</td>\n",
       "      <td>1</td>\n",
       "      <td>0</td>\n",
       "      <td>0</td>\n",
       "      <td>...</td>\n",
       "      <td>0</td>\n",
       "      <td>0</td>\n",
       "      <td>0</td>\n",
       "      <td>0</td>\n",
       "      <td>1</td>\n",
       "      <td>1</td>\n",
       "      <td>0</td>\n",
       "      <td>0</td>\n",
       "      <td>0</td>\n",
       "      <td>1</td>\n",
       "    </tr>\n",
       "    <tr>\n",
       "      <th>49998</th>\n",
       "      <td>71</td>\n",
       "      <td>42</td>\n",
       "      <td>1</td>\n",
       "      <td>0</td>\n",
       "      <td>0</td>\n",
       "      <td>0</td>\n",
       "      <td>0</td>\n",
       "      <td>1</td>\n",
       "      <td>0</td>\n",
       "      <td>0</td>\n",
       "      <td>...</td>\n",
       "      <td>0</td>\n",
       "      <td>0</td>\n",
       "      <td>0</td>\n",
       "      <td>0</td>\n",
       "      <td>1</td>\n",
       "      <td>1</td>\n",
       "      <td>0</td>\n",
       "      <td>0</td>\n",
       "      <td>0</td>\n",
       "      <td>1</td>\n",
       "    </tr>\n",
       "    <tr>\n",
       "      <th>49999</th>\n",
       "      <td>738</td>\n",
       "      <td>158</td>\n",
       "      <td>1</td>\n",
       "      <td>0</td>\n",
       "      <td>0</td>\n",
       "      <td>0</td>\n",
       "      <td>0</td>\n",
       "      <td>1</td>\n",
       "      <td>0</td>\n",
       "      <td>0</td>\n",
       "      <td>...</td>\n",
       "      <td>0</td>\n",
       "      <td>0</td>\n",
       "      <td>0</td>\n",
       "      <td>0</td>\n",
       "      <td>1</td>\n",
       "      <td>0</td>\n",
       "      <td>1</td>\n",
       "      <td>0</td>\n",
       "      <td>0</td>\n",
       "      <td>1</td>\n",
       "    </tr>\n",
       "  </tbody>\n",
       "</table>\n",
       "<p>50000 rows × 27 columns</p>\n",
       "</div>"
      ],
      "text/plain": [
       "       loan_amount_000s  applicant_income_000s  loan_type_1  loan_type_2  \\\n",
       "0                   176                    142            1            0   \n",
       "1                   143                     45            0            0   \n",
       "2                   337                    196            1            0   \n",
       "3                   119                     86            1            0   \n",
       "4                   218                     67            1            0   \n",
       "...                 ...                    ...          ...          ...   \n",
       "49995               236                     71            1            0   \n",
       "49996               126                     33            0            1   \n",
       "49997               156                     90            1            0   \n",
       "49998                71                     42            1            0   \n",
       "49999               738                    158            1            0   \n",
       "\n",
       "       loan_type_3  loan_type_4  applicant_ethnicity_1  applicant_ethnicity_2  \\\n",
       "0                0            0                      0                      1   \n",
       "1                1            0                      0                      1   \n",
       "2                0            0                      0                      1   \n",
       "3                0            0                      0                      1   \n",
       "4                0            0                      0                      1   \n",
       "...            ...          ...                    ...                    ...   \n",
       "49995            0            0                      0                      1   \n",
       "49996            0            0                      0                      1   \n",
       "49997            0            0                      0                      1   \n",
       "49998            0            0                      0                      1   \n",
       "49999            0            0                      0                      1   \n",
       "\n",
       "       co_applicant_ethnicity_1  co_applicant_ethnicity_2  ...  \\\n",
       "0                             0                         1  ...   \n",
       "1                             0                         0  ...   \n",
       "2                             0                         1  ...   \n",
       "3                             0                         1  ...   \n",
       "4                             0                         1  ...   \n",
       "...                         ...                       ...  ...   \n",
       "49995                         0                         0  ...   \n",
       "49996                         0                         0  ...   \n",
       "49997                         0                         0  ...   \n",
       "49998                         0                         0  ...   \n",
       "49999                         0                         0  ...   \n",
       "\n",
       "       co_applicant_race_1_2  co_applicant_race_1_3  co_applicant_race_1_4  \\\n",
       "0                          0                      0                      0   \n",
       "1                          0                      0                      0   \n",
       "2                          0                      0                      0   \n",
       "3                          0                      0                      0   \n",
       "4                          0                      0                      0   \n",
       "...                      ...                    ...                    ...   \n",
       "49995                      0                      0                      0   \n",
       "49996                      0                      0                      0   \n",
       "49997                      0                      0                      0   \n",
       "49998                      0                      0                      0   \n",
       "49999                      0                      0                      0   \n",
       "\n",
       "       co_applicant_race_1_5  co_applicant_race_1_8  applicant_sex_1  \\\n",
       "0                          1                      0                1   \n",
       "1                          0                      1                1   \n",
       "2                          1                      0                1   \n",
       "3                          1                      0                1   \n",
       "4                          1                      0                1   \n",
       "...                      ...                    ...              ...   \n",
       "49995                      0                      1                1   \n",
       "49996                      0                      1                1   \n",
       "49997                      0                      1                1   \n",
       "49998                      0                      1                1   \n",
       "49999                      0                      1                0   \n",
       "\n",
       "       applicant_sex_2  co_applicant_sex_1  co_applicant_sex_2  \\\n",
       "0                    0                   0                   1   \n",
       "1                    0                   0                   0   \n",
       "2                    0                   0                   1   \n",
       "3                    0                   0                   1   \n",
       "4                    0                   0                   1   \n",
       "...                ...                 ...                 ...   \n",
       "49995                0                   0                   0   \n",
       "49996                0                   0                   0   \n",
       "49997                0                   0                   0   \n",
       "49998                0                   0                   0   \n",
       "49999                1                   0                   0   \n",
       "\n",
       "       co_applicant_sex_5  \n",
       "0                       0  \n",
       "1                       1  \n",
       "2                       0  \n",
       "3                       0  \n",
       "4                       0  \n",
       "...                   ...  \n",
       "49995                   1  \n",
       "49996                   1  \n",
       "49997                   1  \n",
       "49998                   1  \n",
       "49999                   1  \n",
       "\n",
       "[50000 rows x 27 columns]"
      ]
     },
     "execution_count": 6,
     "metadata": {},
     "output_type": "execute_result"
    }
   ],
   "source": [
    "X_dummies = pd.get_dummies(X)\n",
    "print(X_dummies.columns)\n",
    "X_dummies"
   ]
  },
  {
   "cell_type": "code",
   "execution_count": 7,
   "id": "19c23c53",
   "metadata": {},
   "outputs": [],
   "source": [
    "# Split our preprocessed data into our features and target arrays\n",
    "\n",
    "y = df['action_taken']\n",
    "\n",
    "# Split the preprocessed data into a training and testing dataset\n",
    "X_train, X_test, y_train, y_test = train_test_split(X_dummies, y, random_state=42)"
   ]
  },
  {
   "cell_type": "code",
   "execution_count": 8,
   "id": "457bc722",
   "metadata": {},
   "outputs": [],
   "source": [
    "# Create a StandardScaler instances\n",
    "scaler = StandardScaler()\n",
    "\n",
    "# Fit the StandardScaler\n",
    "X_scaler = scaler.fit(X_train)\n",
    "\n",
    "# Scale the data\n",
    "X_train_scaled = X_scaler.transform(X_train)\n",
    "X_test_scaled = X_scaler.transform(X_test)"
   ]
  },
  {
   "cell_type": "markdown",
   "id": "2cc4666f",
   "metadata": {},
   "source": [
    "## Baseline Testing"
   ]
  },
  {
   "cell_type": "code",
   "execution_count": 9,
   "id": "44046759",
   "metadata": {},
   "outputs": [],
   "source": [
    "data = [X_train_scaled, X_test_scaled, y_train, y_test]"
   ]
  },
  {
   "cell_type": "code",
   "execution_count": 10,
   "id": "c03abb04",
   "metadata": {},
   "outputs": [],
   "source": [
    "def test_model(model, data):\n",
    "    X_train_scaled, X_test_scaled, y_train, y_test = data\n",
    "    reg = model.fit(X_train_scaled, y_train)\n",
    "    print(f'Model: {type(reg).__name__}')\n",
    "    print(f'Train score: {reg.score(X_train_scaled, y_train)}')\n",
    "    print(f'Test Score: {reg.score(X_test_scaled, y_test)}\\n')\n",
    "    plt.show()   "
   ]
  },
  {
   "cell_type": "code",
   "execution_count": 11,
   "id": "bdae2bc9",
   "metadata": {},
   "outputs": [
    {
     "name": "stdout",
     "output_type": "stream",
     "text": [
      "Model: LogisticRegression\n",
      "Train score: 0.8952266666666666\n",
      "Test Score: 0.89328\n",
      "\n",
      "Model: AdaBoostClassifier\n",
      "Train score: 0.8967733333333333\n",
      "Test Score: 0.89328\n",
      "\n",
      "Model: RandomForestClassifier\n",
      "Train score: 0.9933866666666666\n",
      "Test Score: 0.86944\n",
      "\n"
     ]
    },
    {
     "name": "stderr",
     "output_type": "stream",
     "text": [
      "/Users/michaelraines/opt/anaconda3/lib/python3.8/site-packages/sklearn/svm/_base.py:1206: ConvergenceWarning: Liblinear failed to converge, increase the number of iterations.\n",
      "  warnings.warn(\n"
     ]
    },
    {
     "name": "stdout",
     "output_type": "stream",
     "text": [
      "Model: LinearSVC\n",
      "Train score: 0.8952266666666666\n",
      "Test Score: 0.89328\n",
      "\n",
      "Model: DecisionTreeClassifier\n",
      "Train score: 0.9934666666666667\n",
      "Test Score: 0.8036\n",
      "\n",
      "Model: ExtraTreesClassifier\n",
      "Train score: 0.9934666666666667\n",
      "Test Score: 0.85632\n",
      "\n",
      "Model: KNeighborsClassifier\n",
      "Train score: 0.90128\n",
      "Test Score: 0.88456\n",
      "\n"
     ]
    }
   ],
   "source": [
    "#test defaults \n",
    "test_model(LogisticRegression(), data)\n",
    "test_model(AdaBoostClassifier(), data)\n",
    "test_model(RandomForestClassifier(), data)\n",
    "test_model(LinearSVC(), data)\n",
    "test_model(DecisionTreeClassifier(), data)\n",
    "test_model(ExtraTreesClassifier(), data)\n",
    "test_model(KNeighborsClassifier(), data)"
   ]
  },
  {
   "cell_type": "markdown",
   "id": "fd5afc60",
   "metadata": {},
   "source": [
    "### Grid CV of Best Performing Classifiers"
   ]
  },
  {
   "cell_type": "markdown",
   "id": "218ceaba",
   "metadata": {},
   "source": [
    "#### Logistic Regression"
   ]
  },
  {
   "cell_type": "code",
   "execution_count": 12,
   "id": "b9d70169",
   "metadata": {},
   "outputs": [
    {
     "name": "stdout",
     "output_type": "stream",
     "text": [
      "Fitting 5 folds for each of 144 candidates, totalling 720 fits\n",
      "[CV 1/5] END C=1.0, max_iter=500, penalty=l1, solver=newton-cg;, score=nan total time=   0.0s\n",
      "[CV 2/5] END C=1.0, max_iter=500, penalty=l1, solver=newton-cg;, score=nan total time=   0.0s\n",
      "[CV 3/5] END C=1.0, max_iter=500, penalty=l1, solver=newton-cg;, score=nan total time=   0.0s\n",
      "[CV 4/5] END C=1.0, max_iter=500, penalty=l1, solver=newton-cg;, score=nan total time=   0.0s\n",
      "[CV 5/5] END C=1.0, max_iter=500, penalty=l1, solver=newton-cg;, score=nan total time=   0.0s\n",
      "[CV 1/5] END C=1.0, max_iter=500, penalty=l1, solver=sag;, score=nan total time=   0.0s\n",
      "[CV 2/5] END C=1.0, max_iter=500, penalty=l1, solver=sag;, score=nan total time=   0.0s\n",
      "[CV 3/5] END C=1.0, max_iter=500, penalty=l1, solver=sag;, score=nan total time=   0.0s\n",
      "[CV 4/5] END C=1.0, max_iter=500, penalty=l1, solver=sag;, score=nan total time=   0.0s\n",
      "[CV 5/5] END C=1.0, max_iter=500, penalty=l1, solver=sag;, score=nan total time=   0.0s\n"
     ]
    },
    {
     "name": "stderr",
     "output_type": "stream",
     "text": [
      "/Users/michaelraines/opt/anaconda3/lib/python3.8/site-packages/sklearn/linear_model/_sag.py:352: ConvergenceWarning: The max_iter was reached which means the coef_ did not converge\n",
      "  warnings.warn(\n"
     ]
    },
    {
     "name": "stdout",
     "output_type": "stream",
     "text": [
      "[CV 1/5] END C=1.0, max_iter=500, penalty=l1, solver=saga;, score=0.895 total time=   3.7s\n",
      "[CV 2/5] END C=1.0, max_iter=500, penalty=l1, solver=saga;, score=0.895 total time=   3.4s\n",
      "[CV 3/5] END C=1.0, max_iter=500, penalty=l1, solver=saga;, score=0.895 total time=   3.3s\n"
     ]
    },
    {
     "name": "stderr",
     "output_type": "stream",
     "text": [
      "/Users/michaelraines/opt/anaconda3/lib/python3.8/site-packages/sklearn/linear_model/_sag.py:352: ConvergenceWarning: The max_iter was reached which means the coef_ did not converge\n",
      "  warnings.warn(\n"
     ]
    },
    {
     "name": "stdout",
     "output_type": "stream",
     "text": [
      "[CV 4/5] END C=1.0, max_iter=500, penalty=l1, solver=saga;, score=0.895 total time=   3.4s\n"
     ]
    },
    {
     "name": "stderr",
     "output_type": "stream",
     "text": [
      "/Users/michaelraines/opt/anaconda3/lib/python3.8/site-packages/sklearn/linear_model/_sag.py:352: ConvergenceWarning: The max_iter was reached which means the coef_ did not converge\n",
      "  warnings.warn(\n"
     ]
    },
    {
     "name": "stdout",
     "output_type": "stream",
     "text": [
      "[CV 5/5] END C=1.0, max_iter=500, penalty=l1, solver=saga;, score=0.895 total time=   3.4s\n",
      "[CV 1/5] END C=1.0, max_iter=500, penalty=l1, solver=liblinear;, score=0.895 total time=   2.4s\n",
      "[CV 2/5] END C=1.0, max_iter=500, penalty=l1, solver=liblinear;, score=0.895 total time=   1.6s\n",
      "[CV 3/5] END C=1.0, max_iter=500, penalty=l1, solver=liblinear;, score=0.895 total time=   1.4s\n",
      "[CV 4/5] END C=1.0, max_iter=500, penalty=l1, solver=liblinear;, score=0.895 total time=   2.1s\n",
      "[CV 5/5] END C=1.0, max_iter=500, penalty=l1, solver=liblinear;, score=0.895 total time=   2.0s\n",
      "[CV 1/5] END C=1.0, max_iter=500, penalty=l2, solver=newton-cg;, score=0.895 total time=   0.1s\n",
      "[CV 2/5] END C=1.0, max_iter=500, penalty=l2, solver=newton-cg;, score=0.895 total time=   0.1s\n",
      "[CV 3/5] END C=1.0, max_iter=500, penalty=l2, solver=newton-cg;, score=0.895 total time=   0.1s\n",
      "[CV 4/5] END C=1.0, max_iter=500, penalty=l2, solver=newton-cg;, score=0.895 total time=   0.1s\n",
      "[CV 5/5] END C=1.0, max_iter=500, penalty=l2, solver=newton-cg;, score=0.895 total time=   0.1s\n",
      "[CV 1/5] END C=1.0, max_iter=500, penalty=l2, solver=sag;, score=0.895 total time=   0.2s\n",
      "[CV 2/5] END C=1.0, max_iter=500, penalty=l2, solver=sag;, score=0.895 total time=   0.2s\n",
      "[CV 3/5] END C=1.0, max_iter=500, penalty=l2, solver=sag;, score=0.895 total time=   0.2s\n",
      "[CV 4/5] END C=1.0, max_iter=500, penalty=l2, solver=sag;, score=0.895 total time=   0.2s\n",
      "[CV 5/5] END C=1.0, max_iter=500, penalty=l2, solver=sag;, score=0.895 total time=   0.2s\n",
      "[CV 1/5] END C=1.0, max_iter=500, penalty=l2, solver=saga;, score=0.895 total time=   0.1s\n",
      "[CV 2/5] END C=1.0, max_iter=500, penalty=l2, solver=saga;, score=0.895 total time=   0.1s\n",
      "[CV 3/5] END C=1.0, max_iter=500, penalty=l2, solver=saga;, score=0.895 total time=   0.1s\n",
      "[CV 4/5] END C=1.0, max_iter=500, penalty=l2, solver=saga;, score=0.895 total time=   0.1s\n",
      "[CV 5/5] END C=1.0, max_iter=500, penalty=l2, solver=saga;, score=0.895 total time=   0.1s\n",
      "[CV 1/5] END C=1.0, max_iter=500, penalty=l2, solver=liblinear;, score=0.895 total time=   0.1s\n",
      "[CV 2/5] END C=1.0, max_iter=500, penalty=l2, solver=liblinear;, score=0.895 total time=   0.1s\n",
      "[CV 3/5] END C=1.0, max_iter=500, penalty=l2, solver=liblinear;, score=0.895 total time=   0.1s\n",
      "[CV 4/5] END C=1.0, max_iter=500, penalty=l2, solver=liblinear;, score=0.895 total time=   0.1s\n",
      "[CV 5/5] END C=1.0, max_iter=500, penalty=l2, solver=liblinear;, score=0.895 total time=   0.1s\n",
      "[CV 1/5] END C=1.0, max_iter=500, penalty=elasticnet, solver=newton-cg;, score=nan total time=   0.0s\n",
      "[CV 2/5] END C=1.0, max_iter=500, penalty=elasticnet, solver=newton-cg;, score=nan total time=   0.0s\n",
      "[CV 3/5] END C=1.0, max_iter=500, penalty=elasticnet, solver=newton-cg;, score=nan total time=   0.0s\n",
      "[CV 4/5] END C=1.0, max_iter=500, penalty=elasticnet, solver=newton-cg;, score=nan total time=   0.0s\n",
      "[CV 5/5] END C=1.0, max_iter=500, penalty=elasticnet, solver=newton-cg;, score=nan total time=   0.0s\n",
      "[CV 1/5] END C=1.0, max_iter=500, penalty=elasticnet, solver=sag;, score=nan total time=   0.0s\n",
      "[CV 2/5] END C=1.0, max_iter=500, penalty=elasticnet, solver=sag;, score=nan total time=   0.0s\n",
      "[CV 3/5] END C=1.0, max_iter=500, penalty=elasticnet, solver=sag;, score=nan total time=   0.0s\n",
      "[CV 4/5] END C=1.0, max_iter=500, penalty=elasticnet, solver=sag;, score=nan total time=   0.0s\n",
      "[CV 5/5] END C=1.0, max_iter=500, penalty=elasticnet, solver=sag;, score=nan total time=   0.0s\n",
      "[CV 1/5] END C=1.0, max_iter=500, penalty=elasticnet, solver=saga;, score=nan total time=   0.0s\n",
      "[CV 2/5] END C=1.0, max_iter=500, penalty=elasticnet, solver=saga;, score=nan total time=   0.0s\n",
      "[CV 3/5] END C=1.0, max_iter=500, penalty=elasticnet, solver=saga;, score=nan total time=   0.0s\n",
      "[CV 4/5] END C=1.0, max_iter=500, penalty=elasticnet, solver=saga;, score=nan total time=   0.0s\n",
      "[CV 5/5] END C=1.0, max_iter=500, penalty=elasticnet, solver=saga;, score=nan total time=   0.0s\n",
      "[CV 1/5] END C=1.0, max_iter=500, penalty=elasticnet, solver=liblinear;, score=nan total time=   0.0s\n",
      "[CV 2/5] END C=1.0, max_iter=500, penalty=elasticnet, solver=liblinear;, score=nan total time=   0.0s\n",
      "[CV 3/5] END C=1.0, max_iter=500, penalty=elasticnet, solver=liblinear;, score=nan total time=   0.0s\n",
      "[CV 4/5] END C=1.0, max_iter=500, penalty=elasticnet, solver=liblinear;, score=nan total time=   0.0s\n",
      "[CV 5/5] END C=1.0, max_iter=500, penalty=elasticnet, solver=liblinear;, score=nan total time=   0.0s\n",
      "[CV 1/5] END C=1.0, max_iter=1000, penalty=l1, solver=newton-cg;, score=nan total time=   0.0s\n",
      "[CV 2/5] END C=1.0, max_iter=1000, penalty=l1, solver=newton-cg;, score=nan total time=   0.0s\n",
      "[CV 3/5] END C=1.0, max_iter=1000, penalty=l1, solver=newton-cg;, score=nan total time=   0.0s\n",
      "[CV 4/5] END C=1.0, max_iter=1000, penalty=l1, solver=newton-cg;, score=nan total time=   0.0s\n",
      "[CV 5/5] END C=1.0, max_iter=1000, penalty=l1, solver=newton-cg;, score=nan total time=   0.0s\n",
      "[CV 1/5] END C=1.0, max_iter=1000, penalty=l1, solver=sag;, score=nan total time=   0.0s\n",
      "[CV 2/5] END C=1.0, max_iter=1000, penalty=l1, solver=sag;, score=nan total time=   0.0s\n",
      "[CV 3/5] END C=1.0, max_iter=1000, penalty=l1, solver=sag;, score=nan total time=   0.0s\n",
      "[CV 4/5] END C=1.0, max_iter=1000, penalty=l1, solver=sag;, score=nan total time=   0.0s\n",
      "[CV 5/5] END C=1.0, max_iter=1000, penalty=l1, solver=sag;, score=nan total time=   0.0s\n"
     ]
    },
    {
     "name": "stderr",
     "output_type": "stream",
     "text": [
      "/Users/michaelraines/opt/anaconda3/lib/python3.8/site-packages/sklearn/linear_model/_sag.py:352: ConvergenceWarning: The max_iter was reached which means the coef_ did not converge\n",
      "  warnings.warn(\n"
     ]
    },
    {
     "name": "stdout",
     "output_type": "stream",
     "text": [
      "[CV 1/5] END C=1.0, max_iter=1000, penalty=l1, solver=saga;, score=0.895 total time=   7.2s\n",
      "[CV 2/5] END C=1.0, max_iter=1000, penalty=l1, solver=saga;, score=0.895 total time=   3.9s\n",
      "[CV 3/5] END C=1.0, max_iter=1000, penalty=l1, solver=saga;, score=0.895 total time=   3.4s\n",
      "[CV 4/5] END C=1.0, max_iter=1000, penalty=l1, solver=saga;, score=0.895 total time=   6.7s\n",
      "[CV 5/5] END C=1.0, max_iter=1000, penalty=l1, solver=saga;, score=0.895 total time=   6.4s\n",
      "[CV 1/5] END C=1.0, max_iter=1000, penalty=l1, solver=liblinear;, score=0.895 total time=   2.4s\n",
      "[CV 2/5] END C=1.0, max_iter=1000, penalty=l1, solver=liblinear;, score=0.895 total time=   1.6s\n",
      "[CV 3/5] END C=1.0, max_iter=1000, penalty=l1, solver=liblinear;, score=0.895 total time=   1.4s\n",
      "[CV 4/5] END C=1.0, max_iter=1000, penalty=l1, solver=liblinear;, score=0.895 total time=   2.1s\n",
      "[CV 5/5] END C=1.0, max_iter=1000, penalty=l1, solver=liblinear;, score=0.895 total time=   2.1s\n",
      "[CV 1/5] END C=1.0, max_iter=1000, penalty=l2, solver=newton-cg;, score=0.895 total time=   0.1s\n",
      "[CV 2/5] END C=1.0, max_iter=1000, penalty=l2, solver=newton-cg;, score=0.895 total time=   0.1s\n",
      "[CV 3/5] END C=1.0, max_iter=1000, penalty=l2, solver=newton-cg;, score=0.895 total time=   0.1s\n",
      "[CV 4/5] END C=1.0, max_iter=1000, penalty=l2, solver=newton-cg;, score=0.895 total time=   0.1s\n",
      "[CV 5/5] END C=1.0, max_iter=1000, penalty=l2, solver=newton-cg;, score=0.895 total time=   0.1s\n",
      "[CV 1/5] END C=1.0, max_iter=1000, penalty=l2, solver=sag;, score=0.895 total time=   0.2s\n",
      "[CV 2/5] END C=1.0, max_iter=1000, penalty=l2, solver=sag;, score=0.895 total time=   0.2s\n",
      "[CV 3/5] END C=1.0, max_iter=1000, penalty=l2, solver=sag;, score=0.895 total time=   0.2s\n",
      "[CV 4/5] END C=1.0, max_iter=1000, penalty=l2, solver=sag;, score=0.895 total time=   0.1s\n",
      "[CV 5/5] END C=1.0, max_iter=1000, penalty=l2, solver=sag;, score=0.895 total time=   0.2s\n",
      "[CV 1/5] END C=1.0, max_iter=1000, penalty=l2, solver=saga;, score=0.895 total time=   0.1s\n",
      "[CV 2/5] END C=1.0, max_iter=1000, penalty=l2, solver=saga;, score=0.895 total time=   0.1s\n",
      "[CV 3/5] END C=1.0, max_iter=1000, penalty=l2, solver=saga;, score=0.895 total time=   0.1s\n",
      "[CV 4/5] END C=1.0, max_iter=1000, penalty=l2, solver=saga;, score=0.895 total time=   0.1s\n",
      "[CV 5/5] END C=1.0, max_iter=1000, penalty=l2, solver=saga;, score=0.895 total time=   0.1s\n",
      "[CV 1/5] END C=1.0, max_iter=1000, penalty=l2, solver=liblinear;, score=0.895 total time=   0.1s\n",
      "[CV 2/5] END C=1.0, max_iter=1000, penalty=l2, solver=liblinear;, score=0.895 total time=   0.1s\n",
      "[CV 3/5] END C=1.0, max_iter=1000, penalty=l2, solver=liblinear;, score=0.895 total time=   0.1s\n",
      "[CV 4/5] END C=1.0, max_iter=1000, penalty=l2, solver=liblinear;, score=0.895 total time=   0.1s\n",
      "[CV 5/5] END C=1.0, max_iter=1000, penalty=l2, solver=liblinear;, score=0.895 total time=   0.1s\n",
      "[CV 1/5] END C=1.0, max_iter=1000, penalty=elasticnet, solver=newton-cg;, score=nan total time=   0.0s\n",
      "[CV 2/5] END C=1.0, max_iter=1000, penalty=elasticnet, solver=newton-cg;, score=nan total time=   0.0s\n",
      "[CV 3/5] END C=1.0, max_iter=1000, penalty=elasticnet, solver=newton-cg;, score=nan total time=   0.0s\n",
      "[CV 4/5] END C=1.0, max_iter=1000, penalty=elasticnet, solver=newton-cg;, score=nan total time=   0.0s\n",
      "[CV 5/5] END C=1.0, max_iter=1000, penalty=elasticnet, solver=newton-cg;, score=nan total time=   0.0s\n",
      "[CV 1/5] END C=1.0, max_iter=1000, penalty=elasticnet, solver=sag;, score=nan total time=   0.0s\n",
      "[CV 2/5] END C=1.0, max_iter=1000, penalty=elasticnet, solver=sag;, score=nan total time=   0.0s\n",
      "[CV 3/5] END C=1.0, max_iter=1000, penalty=elasticnet, solver=sag;, score=nan total time=   0.0s\n",
      "[CV 4/5] END C=1.0, max_iter=1000, penalty=elasticnet, solver=sag;, score=nan total time=   0.0s\n",
      "[CV 5/5] END C=1.0, max_iter=1000, penalty=elasticnet, solver=sag;, score=nan total time=   0.0s\n",
      "[CV 1/5] END C=1.0, max_iter=1000, penalty=elasticnet, solver=saga;, score=nan total time=   0.0s\n",
      "[CV 2/5] END C=1.0, max_iter=1000, penalty=elasticnet, solver=saga;, score=nan total time=   0.0s\n",
      "[CV 3/5] END C=1.0, max_iter=1000, penalty=elasticnet, solver=saga;, score=nan total time=   0.0s\n",
      "[CV 4/5] END C=1.0, max_iter=1000, penalty=elasticnet, solver=saga;, score=nan total time=   0.0s\n",
      "[CV 5/5] END C=1.0, max_iter=1000, penalty=elasticnet, solver=saga;, score=nan total time=   0.0s\n",
      "[CV 1/5] END C=1.0, max_iter=1000, penalty=elasticnet, solver=liblinear;, score=nan total time=   0.0s\n",
      "[CV 2/5] END C=1.0, max_iter=1000, penalty=elasticnet, solver=liblinear;, score=nan total time=   0.0s\n",
      "[CV 3/5] END C=1.0, max_iter=1000, penalty=elasticnet, solver=liblinear;, score=nan total time=   0.0s\n",
      "[CV 4/5] END C=1.0, max_iter=1000, penalty=elasticnet, solver=liblinear;, score=nan total time=   0.0s\n",
      "[CV 5/5] END C=1.0, max_iter=1000, penalty=elasticnet, solver=liblinear;, score=nan total time=   0.0s\n",
      "[CV 1/5] END C=1.0, max_iter=1500, penalty=l1, solver=newton-cg;, score=nan total time=   0.0s\n",
      "[CV 2/5] END C=1.0, max_iter=1500, penalty=l1, solver=newton-cg;, score=nan total time=   0.0s\n",
      "[CV 3/5] END C=1.0, max_iter=1500, penalty=l1, solver=newton-cg;, score=nan total time=   0.0s\n",
      "[CV 4/5] END C=1.0, max_iter=1500, penalty=l1, solver=newton-cg;, score=nan total time=   0.0s\n",
      "[CV 5/5] END C=1.0, max_iter=1500, penalty=l1, solver=newton-cg;, score=nan total time=   0.0s\n",
      "[CV 1/5] END C=1.0, max_iter=1500, penalty=l1, solver=sag;, score=nan total time=   0.0s\n",
      "[CV 2/5] END C=1.0, max_iter=1500, penalty=l1, solver=sag;, score=nan total time=   0.0s\n",
      "[CV 3/5] END C=1.0, max_iter=1500, penalty=l1, solver=sag;, score=nan total time=   0.0s\n",
      "[CV 4/5] END C=1.0, max_iter=1500, penalty=l1, solver=sag;, score=nan total time=   0.0s\n",
      "[CV 5/5] END C=1.0, max_iter=1500, penalty=l1, solver=sag;, score=nan total time=   0.0s\n",
      "[CV 1/5] END C=1.0, max_iter=1500, penalty=l1, solver=saga;, score=0.895 total time=   8.4s\n",
      "[CV 2/5] END C=1.0, max_iter=1500, penalty=l1, solver=saga;, score=0.895 total time=   3.5s\n",
      "[CV 3/5] END C=1.0, max_iter=1500, penalty=l1, solver=saga;, score=0.895 total time=   3.6s\n",
      "[CV 4/5] END C=1.0, max_iter=1500, penalty=l1, solver=saga;, score=0.895 total time=   6.9s\n",
      "[CV 5/5] END C=1.0, max_iter=1500, penalty=l1, solver=saga;, score=0.895 total time=   6.5s\n",
      "[CV 1/5] END C=1.0, max_iter=1500, penalty=l1, solver=liblinear;, score=0.895 total time=   2.5s\n",
      "[CV 2/5] END C=1.0, max_iter=1500, penalty=l1, solver=liblinear;, score=0.895 total time=   1.6s\n",
      "[CV 3/5] END C=1.0, max_iter=1500, penalty=l1, solver=liblinear;, score=0.895 total time=   1.4s\n",
      "[CV 4/5] END C=1.0, max_iter=1500, penalty=l1, solver=liblinear;, score=0.895 total time=   2.1s\n",
      "[CV 5/5] END C=1.0, max_iter=1500, penalty=l1, solver=liblinear;, score=0.895 total time=   2.0s\n",
      "[CV 1/5] END C=1.0, max_iter=1500, penalty=l2, solver=newton-cg;, score=0.895 total time=   0.1s\n",
      "[CV 2/5] END C=1.0, max_iter=1500, penalty=l2, solver=newton-cg;, score=0.895 total time=   0.1s\n",
      "[CV 3/5] END C=1.0, max_iter=1500, penalty=l2, solver=newton-cg;, score=0.895 total time=   0.1s\n",
      "[CV 4/5] END C=1.0, max_iter=1500, penalty=l2, solver=newton-cg;, score=0.895 total time=   0.1s\n",
      "[CV 5/5] END C=1.0, max_iter=1500, penalty=l2, solver=newton-cg;, score=0.895 total time=   0.1s\n",
      "[CV 1/5] END C=1.0, max_iter=1500, penalty=l2, solver=sag;, score=0.895 total time=   0.2s\n",
      "[CV 2/5] END C=1.0, max_iter=1500, penalty=l2, solver=sag;, score=0.895 total time=   0.2s\n",
      "[CV 3/5] END C=1.0, max_iter=1500, penalty=l2, solver=sag;, score=0.895 total time=   0.2s\n",
      "[CV 4/5] END C=1.0, max_iter=1500, penalty=l2, solver=sag;, score=0.895 total time=   0.2s\n",
      "[CV 5/5] END C=1.0, max_iter=1500, penalty=l2, solver=sag;, score=0.895 total time=   0.2s\n",
      "[CV 1/5] END C=1.0, max_iter=1500, penalty=l2, solver=saga;, score=0.895 total time=   0.1s\n",
      "[CV 2/5] END C=1.0, max_iter=1500, penalty=l2, solver=saga;, score=0.895 total time=   0.1s\n",
      "[CV 3/5] END C=1.0, max_iter=1500, penalty=l2, solver=saga;, score=0.895 total time=   0.1s\n",
      "[CV 4/5] END C=1.0, max_iter=1500, penalty=l2, solver=saga;, score=0.895 total time=   0.1s\n",
      "[CV 5/5] END C=1.0, max_iter=1500, penalty=l2, solver=saga;, score=0.895 total time=   0.1s\n",
      "[CV 1/5] END C=1.0, max_iter=1500, penalty=l2, solver=liblinear;, score=0.895 total time=   0.1s\n"
     ]
    },
    {
     "name": "stdout",
     "output_type": "stream",
     "text": [
      "[CV 2/5] END C=1.0, max_iter=1500, penalty=l2, solver=liblinear;, score=0.895 total time=   0.1s\n",
      "[CV 3/5] END C=1.0, max_iter=1500, penalty=l2, solver=liblinear;, score=0.895 total time=   0.1s\n",
      "[CV 4/5] END C=1.0, max_iter=1500, penalty=l2, solver=liblinear;, score=0.895 total time=   0.1s\n",
      "[CV 5/5] END C=1.0, max_iter=1500, penalty=l2, solver=liblinear;, score=0.895 total time=   0.1s\n",
      "[CV 1/5] END C=1.0, max_iter=1500, penalty=elasticnet, solver=newton-cg;, score=nan total time=   0.0s\n",
      "[CV 2/5] END C=1.0, max_iter=1500, penalty=elasticnet, solver=newton-cg;, score=nan total time=   0.0s\n",
      "[CV 3/5] END C=1.0, max_iter=1500, penalty=elasticnet, solver=newton-cg;, score=nan total time=   0.0s\n",
      "[CV 4/5] END C=1.0, max_iter=1500, penalty=elasticnet, solver=newton-cg;, score=nan total time=   0.0s\n",
      "[CV 5/5] END C=1.0, max_iter=1500, penalty=elasticnet, solver=newton-cg;, score=nan total time=   0.0s\n",
      "[CV 1/5] END C=1.0, max_iter=1500, penalty=elasticnet, solver=sag;, score=nan total time=   0.0s\n",
      "[CV 2/5] END C=1.0, max_iter=1500, penalty=elasticnet, solver=sag;, score=nan total time=   0.0s\n",
      "[CV 3/5] END C=1.0, max_iter=1500, penalty=elasticnet, solver=sag;, score=nan total time=   0.0s\n",
      "[CV 4/5] END C=1.0, max_iter=1500, penalty=elasticnet, solver=sag;, score=nan total time=   0.0s\n",
      "[CV 5/5] END C=1.0, max_iter=1500, penalty=elasticnet, solver=sag;, score=nan total time=   0.0s\n",
      "[CV 1/5] END C=1.0, max_iter=1500, penalty=elasticnet, solver=saga;, score=nan total time=   0.0s\n",
      "[CV 2/5] END C=1.0, max_iter=1500, penalty=elasticnet, solver=saga;, score=nan total time=   0.0s\n",
      "[CV 3/5] END C=1.0, max_iter=1500, penalty=elasticnet, solver=saga;, score=nan total time=   0.0s\n",
      "[CV 4/5] END C=1.0, max_iter=1500, penalty=elasticnet, solver=saga;, score=nan total time=   0.0s\n",
      "[CV 5/5] END C=1.0, max_iter=1500, penalty=elasticnet, solver=saga;, score=nan total time=   0.0s\n",
      "[CV 1/5] END C=1.0, max_iter=1500, penalty=elasticnet, solver=liblinear;, score=nan total time=   0.0s\n",
      "[CV 2/5] END C=1.0, max_iter=1500, penalty=elasticnet, solver=liblinear;, score=nan total time=   0.0s\n",
      "[CV 3/5] END C=1.0, max_iter=1500, penalty=elasticnet, solver=liblinear;, score=nan total time=   0.0s\n",
      "[CV 4/5] END C=1.0, max_iter=1500, penalty=elasticnet, solver=liblinear;, score=nan total time=   0.0s\n",
      "[CV 5/5] END C=1.0, max_iter=1500, penalty=elasticnet, solver=liblinear;, score=nan total time=   0.0s\n",
      "[CV 1/5] END C=1.0, max_iter=2000, penalty=l1, solver=newton-cg;, score=nan total time=   0.0s\n",
      "[CV 2/5] END C=1.0, max_iter=2000, penalty=l1, solver=newton-cg;, score=nan total time=   0.0s\n",
      "[CV 3/5] END C=1.0, max_iter=2000, penalty=l1, solver=newton-cg;, score=nan total time=   0.0s\n",
      "[CV 4/5] END C=1.0, max_iter=2000, penalty=l1, solver=newton-cg;, score=nan total time=   0.0s\n",
      "[CV 5/5] END C=1.0, max_iter=2000, penalty=l1, solver=newton-cg;, score=nan total time=   0.0s\n",
      "[CV 1/5] END C=1.0, max_iter=2000, penalty=l1, solver=sag;, score=nan total time=   0.0s\n",
      "[CV 2/5] END C=1.0, max_iter=2000, penalty=l1, solver=sag;, score=nan total time=   0.0s\n",
      "[CV 3/5] END C=1.0, max_iter=2000, penalty=l1, solver=sag;, score=nan total time=   0.0s\n",
      "[CV 4/5] END C=1.0, max_iter=2000, penalty=l1, solver=sag;, score=nan total time=   0.0s\n",
      "[CV 5/5] END C=1.0, max_iter=2000, penalty=l1, solver=sag;, score=nan total time=   0.0s\n",
      "[CV 1/5] END C=1.0, max_iter=2000, penalty=l1, solver=saga;, score=0.895 total time=   7.9s\n",
      "[CV 2/5] END C=1.0, max_iter=2000, penalty=l1, solver=saga;, score=0.895 total time=   3.4s\n",
      "[CV 3/5] END C=1.0, max_iter=2000, penalty=l1, solver=saga;, score=0.895 total time=   3.4s\n",
      "[CV 4/5] END C=1.0, max_iter=2000, penalty=l1, solver=saga;, score=0.895 total time=   6.9s\n",
      "[CV 5/5] END C=1.0, max_iter=2000, penalty=l1, solver=saga;, score=0.895 total time=   6.4s\n",
      "[CV 1/5] END C=1.0, max_iter=2000, penalty=l1, solver=liblinear;, score=0.895 total time=   2.4s\n",
      "[CV 2/5] END C=1.0, max_iter=2000, penalty=l1, solver=liblinear;, score=0.895 total time=   1.6s\n",
      "[CV 3/5] END C=1.0, max_iter=2000, penalty=l1, solver=liblinear;, score=0.895 total time=   1.4s\n",
      "[CV 4/5] END C=1.0, max_iter=2000, penalty=l1, solver=liblinear;, score=0.895 total time=   2.1s\n",
      "[CV 5/5] END C=1.0, max_iter=2000, penalty=l1, solver=liblinear;, score=0.895 total time=   2.0s\n",
      "[CV 1/5] END C=1.0, max_iter=2000, penalty=l2, solver=newton-cg;, score=0.895 total time=   0.1s\n",
      "[CV 2/5] END C=1.0, max_iter=2000, penalty=l2, solver=newton-cg;, score=0.895 total time=   0.1s\n",
      "[CV 3/5] END C=1.0, max_iter=2000, penalty=l2, solver=newton-cg;, score=0.895 total time=   0.1s\n",
      "[CV 4/5] END C=1.0, max_iter=2000, penalty=l2, solver=newton-cg;, score=0.895 total time=   0.1s\n",
      "[CV 5/5] END C=1.0, max_iter=2000, penalty=l2, solver=newton-cg;, score=0.895 total time=   0.1s\n",
      "[CV 1/5] END C=1.0, max_iter=2000, penalty=l2, solver=sag;, score=0.895 total time=   0.2s\n",
      "[CV 2/5] END C=1.0, max_iter=2000, penalty=l2, solver=sag;, score=0.895 total time=   0.2s\n",
      "[CV 3/5] END C=1.0, max_iter=2000, penalty=l2, solver=sag;, score=0.895 total time=   0.1s\n",
      "[CV 4/5] END C=1.0, max_iter=2000, penalty=l2, solver=sag;, score=0.895 total time=   0.1s\n",
      "[CV 5/5] END C=1.0, max_iter=2000, penalty=l2, solver=sag;, score=0.895 total time=   0.2s\n",
      "[CV 1/5] END C=1.0, max_iter=2000, penalty=l2, solver=saga;, score=0.895 total time=   0.1s\n",
      "[CV 2/5] END C=1.0, max_iter=2000, penalty=l2, solver=saga;, score=0.895 total time=   0.1s\n",
      "[CV 3/5] END C=1.0, max_iter=2000, penalty=l2, solver=saga;, score=0.895 total time=   0.2s\n",
      "[CV 4/5] END C=1.0, max_iter=2000, penalty=l2, solver=saga;, score=0.895 total time=   0.1s\n",
      "[CV 5/5] END C=1.0, max_iter=2000, penalty=l2, solver=saga;, score=0.895 total time=   0.1s\n",
      "[CV 1/5] END C=1.0, max_iter=2000, penalty=l2, solver=liblinear;, score=0.895 total time=   0.1s\n",
      "[CV 2/5] END C=1.0, max_iter=2000, penalty=l2, solver=liblinear;, score=0.895 total time=   0.1s\n",
      "[CV 3/5] END C=1.0, max_iter=2000, penalty=l2, solver=liblinear;, score=0.895 total time=   0.1s\n",
      "[CV 4/5] END C=1.0, max_iter=2000, penalty=l2, solver=liblinear;, score=0.895 total time=   0.1s\n",
      "[CV 5/5] END C=1.0, max_iter=2000, penalty=l2, solver=liblinear;, score=0.895 total time=   0.1s\n",
      "[CV 1/5] END C=1.0, max_iter=2000, penalty=elasticnet, solver=newton-cg;, score=nan total time=   0.0s\n",
      "[CV 2/5] END C=1.0, max_iter=2000, penalty=elasticnet, solver=newton-cg;, score=nan total time=   0.0s\n",
      "[CV 3/5] END C=1.0, max_iter=2000, penalty=elasticnet, solver=newton-cg;, score=nan total time=   0.0s\n",
      "[CV 4/5] END C=1.0, max_iter=2000, penalty=elasticnet, solver=newton-cg;, score=nan total time=   0.0s\n",
      "[CV 5/5] END C=1.0, max_iter=2000, penalty=elasticnet, solver=newton-cg;, score=nan total time=   0.0s\n",
      "[CV 1/5] END C=1.0, max_iter=2000, penalty=elasticnet, solver=sag;, score=nan total time=   0.0s\n",
      "[CV 2/5] END C=1.0, max_iter=2000, penalty=elasticnet, solver=sag;, score=nan total time=   0.0s\n",
      "[CV 3/5] END C=1.0, max_iter=2000, penalty=elasticnet, solver=sag;, score=nan total time=   0.0s\n",
      "[CV 4/5] END C=1.0, max_iter=2000, penalty=elasticnet, solver=sag;, score=nan total time=   0.0s\n",
      "[CV 5/5] END C=1.0, max_iter=2000, penalty=elasticnet, solver=sag;, score=nan total time=   0.0s\n",
      "[CV 1/5] END C=1.0, max_iter=2000, penalty=elasticnet, solver=saga;, score=nan total time=   0.0s\n",
      "[CV 2/5] END C=1.0, max_iter=2000, penalty=elasticnet, solver=saga;, score=nan total time=   0.0s\n",
      "[CV 3/5] END C=1.0, max_iter=2000, penalty=elasticnet, solver=saga;, score=nan total time=   0.0s\n",
      "[CV 4/5] END C=1.0, max_iter=2000, penalty=elasticnet, solver=saga;, score=nan total time=   0.0s\n",
      "[CV 5/5] END C=1.0, max_iter=2000, penalty=elasticnet, solver=saga;, score=nan total time=   0.0s\n",
      "[CV 1/5] END C=1.0, max_iter=2000, penalty=elasticnet, solver=liblinear;, score=nan total time=   0.0s\n",
      "[CV 2/5] END C=1.0, max_iter=2000, penalty=elasticnet, solver=liblinear;, score=nan total time=   0.0s\n",
      "[CV 3/5] END C=1.0, max_iter=2000, penalty=elasticnet, solver=liblinear;, score=nan total time=   0.0s\n",
      "[CV 4/5] END C=1.0, max_iter=2000, penalty=elasticnet, solver=liblinear;, score=nan total time=   0.0s\n",
      "[CV 5/5] END C=1.0, max_iter=2000, penalty=elasticnet, solver=liblinear;, score=nan total time=   0.0s\n",
      "[CV 1/5] END C=0.1, max_iter=500, penalty=l1, solver=newton-cg;, score=nan total time=   0.0s\n",
      "[CV 2/5] END C=0.1, max_iter=500, penalty=l1, solver=newton-cg;, score=nan total time=   0.0s\n",
      "[CV 3/5] END C=0.1, max_iter=500, penalty=l1, solver=newton-cg;, score=nan total time=   0.0s\n",
      "[CV 4/5] END C=0.1, max_iter=500, penalty=l1, solver=newton-cg;, score=nan total time=   0.0s\n",
      "[CV 5/5] END C=0.1, max_iter=500, penalty=l1, solver=newton-cg;, score=nan total time=   0.0s\n",
      "[CV 1/5] END C=0.1, max_iter=500, penalty=l1, solver=sag;, score=nan total time=   0.0s\n",
      "[CV 2/5] END C=0.1, max_iter=500, penalty=l1, solver=sag;, score=nan total time=   0.0s\n",
      "[CV 3/5] END C=0.1, max_iter=500, penalty=l1, solver=sag;, score=nan total time=   0.0s\n",
      "[CV 4/5] END C=0.1, max_iter=500, penalty=l1, solver=sag;, score=nan total time=   0.0s\n",
      "[CV 5/5] END C=0.1, max_iter=500, penalty=l1, solver=sag;, score=nan total time=   0.0s\n"
     ]
    },
    {
     "name": "stdout",
     "output_type": "stream",
     "text": [
      "[CV 1/5] END C=0.1, max_iter=500, penalty=l1, solver=saga;, score=0.895 total time=   1.2s\n",
      "[CV 2/5] END C=0.1, max_iter=500, penalty=l1, solver=saga;, score=0.895 total time=   1.6s\n",
      "[CV 3/5] END C=0.1, max_iter=500, penalty=l1, solver=saga;, score=0.895 total time=   1.5s\n",
      "[CV 4/5] END C=0.1, max_iter=500, penalty=l1, solver=saga;, score=0.895 total time=   1.9s\n",
      "[CV 5/5] END C=0.1, max_iter=500, penalty=l1, solver=saga;, score=0.895 total time=   1.6s\n",
      "[CV 1/5] END C=0.1, max_iter=500, penalty=l1, solver=liblinear;, score=0.895 total time=   0.3s\n",
      "[CV 2/5] END C=0.1, max_iter=500, penalty=l1, solver=liblinear;, score=0.895 total time=   0.3s\n",
      "[CV 3/5] END C=0.1, max_iter=500, penalty=l1, solver=liblinear;, score=0.895 total time=   0.3s\n",
      "[CV 4/5] END C=0.1, max_iter=500, penalty=l1, solver=liblinear;, score=0.895 total time=   0.5s\n",
      "[CV 5/5] END C=0.1, max_iter=500, penalty=l1, solver=liblinear;, score=0.895 total time=   0.5s\n",
      "[CV 1/5] END C=0.1, max_iter=500, penalty=l2, solver=newton-cg;, score=0.895 total time=   0.1s\n",
      "[CV 2/5] END C=0.1, max_iter=500, penalty=l2, solver=newton-cg;, score=0.895 total time=   0.1s\n",
      "[CV 3/5] END C=0.1, max_iter=500, penalty=l2, solver=newton-cg;, score=0.895 total time=   0.1s\n",
      "[CV 4/5] END C=0.1, max_iter=500, penalty=l2, solver=newton-cg;, score=0.895 total time=   0.1s\n",
      "[CV 5/5] END C=0.1, max_iter=500, penalty=l2, solver=newton-cg;, score=0.895 total time=   0.1s\n",
      "[CV 1/5] END C=0.1, max_iter=500, penalty=l2, solver=sag;, score=0.895 total time=   0.1s\n",
      "[CV 2/5] END C=0.1, max_iter=500, penalty=l2, solver=sag;, score=0.895 total time=   0.2s\n",
      "[CV 3/5] END C=0.1, max_iter=500, penalty=l2, solver=sag;, score=0.895 total time=   0.2s\n",
      "[CV 4/5] END C=0.1, max_iter=500, penalty=l2, solver=sag;, score=0.895 total time=   0.1s\n",
      "[CV 5/5] END C=0.1, max_iter=500, penalty=l2, solver=sag;, score=0.895 total time=   0.2s\n",
      "[CV 1/5] END C=0.1, max_iter=500, penalty=l2, solver=saga;, score=0.895 total time=   0.1s\n",
      "[CV 2/5] END C=0.1, max_iter=500, penalty=l2, solver=saga;, score=0.895 total time=   0.1s\n",
      "[CV 3/5] END C=0.1, max_iter=500, penalty=l2, solver=saga;, score=0.895 total time=   0.1s\n",
      "[CV 4/5] END C=0.1, max_iter=500, penalty=l2, solver=saga;, score=0.895 total time=   0.1s\n",
      "[CV 5/5] END C=0.1, max_iter=500, penalty=l2, solver=saga;, score=0.895 total time=   0.1s\n",
      "[CV 1/5] END C=0.1, max_iter=500, penalty=l2, solver=liblinear;, score=0.895 total time=   0.1s\n",
      "[CV 2/5] END C=0.1, max_iter=500, penalty=l2, solver=liblinear;, score=0.895 total time=   0.1s\n",
      "[CV 3/5] END C=0.1, max_iter=500, penalty=l2, solver=liblinear;, score=0.895 total time=   0.1s\n",
      "[CV 4/5] END C=0.1, max_iter=500, penalty=l2, solver=liblinear;, score=0.895 total time=   0.1s\n",
      "[CV 5/5] END C=0.1, max_iter=500, penalty=l2, solver=liblinear;, score=0.895 total time=   0.1s\n",
      "[CV 1/5] END C=0.1, max_iter=500, penalty=elasticnet, solver=newton-cg;, score=nan total time=   0.0s\n",
      "[CV 2/5] END C=0.1, max_iter=500, penalty=elasticnet, solver=newton-cg;, score=nan total time=   0.0s\n",
      "[CV 3/5] END C=0.1, max_iter=500, penalty=elasticnet, solver=newton-cg;, score=nan total time=   0.0s\n",
      "[CV 4/5] END C=0.1, max_iter=500, penalty=elasticnet, solver=newton-cg;, score=nan total time=   0.0s\n",
      "[CV 5/5] END C=0.1, max_iter=500, penalty=elasticnet, solver=newton-cg;, score=nan total time=   0.0s\n",
      "[CV 1/5] END C=0.1, max_iter=500, penalty=elasticnet, solver=sag;, score=nan total time=   0.0s\n",
      "[CV 2/5] END C=0.1, max_iter=500, penalty=elasticnet, solver=sag;, score=nan total time=   0.0s\n",
      "[CV 3/5] END C=0.1, max_iter=500, penalty=elasticnet, solver=sag;, score=nan total time=   0.0s\n",
      "[CV 4/5] END C=0.1, max_iter=500, penalty=elasticnet, solver=sag;, score=nan total time=   0.0s\n",
      "[CV 5/5] END C=0.1, max_iter=500, penalty=elasticnet, solver=sag;, score=nan total time=   0.0s\n",
      "[CV 1/5] END C=0.1, max_iter=500, penalty=elasticnet, solver=saga;, score=nan total time=   0.0s\n",
      "[CV 2/5] END C=0.1, max_iter=500, penalty=elasticnet, solver=saga;, score=nan total time=   0.0s\n",
      "[CV 3/5] END C=0.1, max_iter=500, penalty=elasticnet, solver=saga;, score=nan total time=   0.0s\n",
      "[CV 4/5] END C=0.1, max_iter=500, penalty=elasticnet, solver=saga;, score=nan total time=   0.0s\n",
      "[CV 5/5] END C=0.1, max_iter=500, penalty=elasticnet, solver=saga;, score=nan total time=   0.0s\n",
      "[CV 1/5] END C=0.1, max_iter=500, penalty=elasticnet, solver=liblinear;, score=nan total time=   0.0s\n",
      "[CV 2/5] END C=0.1, max_iter=500, penalty=elasticnet, solver=liblinear;, score=nan total time=   0.0s\n",
      "[CV 3/5] END C=0.1, max_iter=500, penalty=elasticnet, solver=liblinear;, score=nan total time=   0.0s\n",
      "[CV 4/5] END C=0.1, max_iter=500, penalty=elasticnet, solver=liblinear;, score=nan total time=   0.0s\n",
      "[CV 5/5] END C=0.1, max_iter=500, penalty=elasticnet, solver=liblinear;, score=nan total time=   0.0s\n",
      "[CV 1/5] END C=0.1, max_iter=1000, penalty=l1, solver=newton-cg;, score=nan total time=   0.0s\n",
      "[CV 2/5] END C=0.1, max_iter=1000, penalty=l1, solver=newton-cg;, score=nan total time=   0.0s\n",
      "[CV 3/5] END C=0.1, max_iter=1000, penalty=l1, solver=newton-cg;, score=nan total time=   0.0s\n",
      "[CV 4/5] END C=0.1, max_iter=1000, penalty=l1, solver=newton-cg;, score=nan total time=   0.0s\n",
      "[CV 5/5] END C=0.1, max_iter=1000, penalty=l1, solver=newton-cg;, score=nan total time=   0.0s\n",
      "[CV 1/5] END C=0.1, max_iter=1000, penalty=l1, solver=sag;, score=nan total time=   0.0s\n",
      "[CV 2/5] END C=0.1, max_iter=1000, penalty=l1, solver=sag;, score=nan total time=   0.0s\n",
      "[CV 3/5] END C=0.1, max_iter=1000, penalty=l1, solver=sag;, score=nan total time=   0.0s\n",
      "[CV 4/5] END C=0.1, max_iter=1000, penalty=l1, solver=sag;, score=nan total time=   0.0s\n",
      "[CV 5/5] END C=0.1, max_iter=1000, penalty=l1, solver=sag;, score=nan total time=   0.0s\n",
      "[CV 1/5] END C=0.1, max_iter=1000, penalty=l1, solver=saga;, score=0.895 total time=   1.1s\n",
      "[CV 2/5] END C=0.1, max_iter=1000, penalty=l1, solver=saga;, score=0.895 total time=   1.6s\n",
      "[CV 3/5] END C=0.1, max_iter=1000, penalty=l1, solver=saga;, score=0.895 total time=   1.4s\n",
      "[CV 4/5] END C=0.1, max_iter=1000, penalty=l1, solver=saga;, score=0.895 total time=   1.8s\n",
      "[CV 5/5] END C=0.1, max_iter=1000, penalty=l1, solver=saga;, score=0.895 total time=   1.6s\n",
      "[CV 1/5] END C=0.1, max_iter=1000, penalty=l1, solver=liblinear;, score=0.895 total time=   0.3s\n",
      "[CV 2/5] END C=0.1, max_iter=1000, penalty=l1, solver=liblinear;, score=0.895 total time=   0.3s\n",
      "[CV 3/5] END C=0.1, max_iter=1000, penalty=l1, solver=liblinear;, score=0.895 total time=   0.3s\n",
      "[CV 4/5] END C=0.1, max_iter=1000, penalty=l1, solver=liblinear;, score=0.895 total time=   0.5s\n",
      "[CV 5/5] END C=0.1, max_iter=1000, penalty=l1, solver=liblinear;, score=0.895 total time=   0.5s\n",
      "[CV 1/5] END C=0.1, max_iter=1000, penalty=l2, solver=newton-cg;, score=0.895 total time=   0.1s\n",
      "[CV 2/5] END C=0.1, max_iter=1000, penalty=l2, solver=newton-cg;, score=0.895 total time=   0.1s\n",
      "[CV 3/5] END C=0.1, max_iter=1000, penalty=l2, solver=newton-cg;, score=0.895 total time=   0.1s\n",
      "[CV 4/5] END C=0.1, max_iter=1000, penalty=l2, solver=newton-cg;, score=0.895 total time=   0.1s\n",
      "[CV 5/5] END C=0.1, max_iter=1000, penalty=l2, solver=newton-cg;, score=0.895 total time=   0.1s\n",
      "[CV 1/5] END C=0.1, max_iter=1000, penalty=l2, solver=sag;, score=0.895 total time=   0.1s\n",
      "[CV 2/5] END C=0.1, max_iter=1000, penalty=l2, solver=sag;, score=0.895 total time=   0.2s\n",
      "[CV 3/5] END C=0.1, max_iter=1000, penalty=l2, solver=sag;, score=0.895 total time=   0.2s\n",
      "[CV 4/5] END C=0.1, max_iter=1000, penalty=l2, solver=sag;, score=0.895 total time=   0.1s\n",
      "[CV 5/5] END C=0.1, max_iter=1000, penalty=l2, solver=sag;, score=0.895 total time=   0.2s\n",
      "[CV 1/5] END C=0.1, max_iter=1000, penalty=l2, solver=saga;, score=0.895 total time=   0.1s\n",
      "[CV 2/5] END C=0.1, max_iter=1000, penalty=l2, solver=saga;, score=0.895 total time=   0.1s\n",
      "[CV 3/5] END C=0.1, max_iter=1000, penalty=l2, solver=saga;, score=0.895 total time=   0.1s\n",
      "[CV 4/5] END C=0.1, max_iter=1000, penalty=l2, solver=saga;, score=0.895 total time=   0.1s\n",
      "[CV 5/5] END C=0.1, max_iter=1000, penalty=l2, solver=saga;, score=0.895 total time=   0.1s\n",
      "[CV 1/5] END C=0.1, max_iter=1000, penalty=l2, solver=liblinear;, score=0.895 total time=   0.1s\n",
      "[CV 2/5] END C=0.1, max_iter=1000, penalty=l2, solver=liblinear;, score=0.895 total time=   0.1s\n",
      "[CV 3/5] END C=0.1, max_iter=1000, penalty=l2, solver=liblinear;, score=0.895 total time=   0.1s\n",
      "[CV 4/5] END C=0.1, max_iter=1000, penalty=l2, solver=liblinear;, score=0.895 total time=   0.1s\n",
      "[CV 5/5] END C=0.1, max_iter=1000, penalty=l2, solver=liblinear;, score=0.895 total time=   0.1s\n",
      "[CV 1/5] END C=0.1, max_iter=1000, penalty=elasticnet, solver=newton-cg;, score=nan total time=   0.0s\n",
      "[CV 2/5] END C=0.1, max_iter=1000, penalty=elasticnet, solver=newton-cg;, score=nan total time=   0.0s\n",
      "[CV 3/5] END C=0.1, max_iter=1000, penalty=elasticnet, solver=newton-cg;, score=nan total time=   0.0s\n",
      "[CV 4/5] END C=0.1, max_iter=1000, penalty=elasticnet, solver=newton-cg;, score=nan total time=   0.0s\n",
      "[CV 5/5] END C=0.1, max_iter=1000, penalty=elasticnet, solver=newton-cg;, score=nan total time=   0.0s\n",
      "[CV 1/5] END C=0.1, max_iter=1000, penalty=elasticnet, solver=sag;, score=nan total time=   0.0s\n",
      "[CV 2/5] END C=0.1, max_iter=1000, penalty=elasticnet, solver=sag;, score=nan total time=   0.0s\n",
      "[CV 3/5] END C=0.1, max_iter=1000, penalty=elasticnet, solver=sag;, score=nan total time=   0.0s\n",
      "[CV 4/5] END C=0.1, max_iter=1000, penalty=elasticnet, solver=sag;, score=nan total time=   0.0s\n",
      "[CV 5/5] END C=0.1, max_iter=1000, penalty=elasticnet, solver=sag;, score=nan total time=   0.0s\n",
      "[CV 1/5] END C=0.1, max_iter=1000, penalty=elasticnet, solver=saga;, score=nan total time=   0.0s\n",
      "[CV 2/5] END C=0.1, max_iter=1000, penalty=elasticnet, solver=saga;, score=nan total time=   0.0s\n",
      "[CV 3/5] END C=0.1, max_iter=1000, penalty=elasticnet, solver=saga;, score=nan total time=   0.0s\n",
      "[CV 4/5] END C=0.1, max_iter=1000, penalty=elasticnet, solver=saga;, score=nan total time=   0.0s\n",
      "[CV 5/5] END C=0.1, max_iter=1000, penalty=elasticnet, solver=saga;, score=nan total time=   0.0s\n",
      "[CV 1/5] END C=0.1, max_iter=1000, penalty=elasticnet, solver=liblinear;, score=nan total time=   0.0s\n",
      "[CV 2/5] END C=0.1, max_iter=1000, penalty=elasticnet, solver=liblinear;, score=nan total time=   0.0s\n",
      "[CV 3/5] END C=0.1, max_iter=1000, penalty=elasticnet, solver=liblinear;, score=nan total time=   0.0s\n"
     ]
    },
    {
     "name": "stdout",
     "output_type": "stream",
     "text": [
      "[CV 4/5] END C=0.1, max_iter=1000, penalty=elasticnet, solver=liblinear;, score=nan total time=   0.0s\n",
      "[CV 5/5] END C=0.1, max_iter=1000, penalty=elasticnet, solver=liblinear;, score=nan total time=   0.0s\n",
      "[CV 1/5] END C=0.1, max_iter=1500, penalty=l1, solver=newton-cg;, score=nan total time=   0.0s\n",
      "[CV 2/5] END C=0.1, max_iter=1500, penalty=l1, solver=newton-cg;, score=nan total time=   0.0s\n",
      "[CV 3/5] END C=0.1, max_iter=1500, penalty=l1, solver=newton-cg;, score=nan total time=   0.0s\n",
      "[CV 4/5] END C=0.1, max_iter=1500, penalty=l1, solver=newton-cg;, score=nan total time=   0.0s\n",
      "[CV 5/5] END C=0.1, max_iter=1500, penalty=l1, solver=newton-cg;, score=nan total time=   0.0s\n",
      "[CV 1/5] END C=0.1, max_iter=1500, penalty=l1, solver=sag;, score=nan total time=   0.0s\n",
      "[CV 2/5] END C=0.1, max_iter=1500, penalty=l1, solver=sag;, score=nan total time=   0.0s\n",
      "[CV 3/5] END C=0.1, max_iter=1500, penalty=l1, solver=sag;, score=nan total time=   0.0s\n",
      "[CV 4/5] END C=0.1, max_iter=1500, penalty=l1, solver=sag;, score=nan total time=   0.0s\n",
      "[CV 5/5] END C=0.1, max_iter=1500, penalty=l1, solver=sag;, score=nan total time=   0.0s\n",
      "[CV 1/5] END C=0.1, max_iter=1500, penalty=l1, solver=saga;, score=0.895 total time=   1.1s\n",
      "[CV 2/5] END C=0.1, max_iter=1500, penalty=l1, solver=saga;, score=0.895 total time=   1.7s\n",
      "[CV 3/5] END C=0.1, max_iter=1500, penalty=l1, solver=saga;, score=0.895 total time=   1.5s\n",
      "[CV 4/5] END C=0.1, max_iter=1500, penalty=l1, solver=saga;, score=0.895 total time=   1.8s\n",
      "[CV 5/5] END C=0.1, max_iter=1500, penalty=l1, solver=saga;, score=0.895 total time=   1.8s\n",
      "[CV 1/5] END C=0.1, max_iter=1500, penalty=l1, solver=liblinear;, score=0.895 total time=   0.3s\n",
      "[CV 2/5] END C=0.1, max_iter=1500, penalty=l1, solver=liblinear;, score=0.895 total time=   0.3s\n",
      "[CV 3/5] END C=0.1, max_iter=1500, penalty=l1, solver=liblinear;, score=0.895 total time=   0.3s\n",
      "[CV 4/5] END C=0.1, max_iter=1500, penalty=l1, solver=liblinear;, score=0.895 total time=   0.5s\n",
      "[CV 5/5] END C=0.1, max_iter=1500, penalty=l1, solver=liblinear;, score=0.895 total time=   0.5s\n",
      "[CV 1/5] END C=0.1, max_iter=1500, penalty=l2, solver=newton-cg;, score=0.895 total time=   0.1s\n",
      "[CV 2/5] END C=0.1, max_iter=1500, penalty=l2, solver=newton-cg;, score=0.895 total time=   0.1s\n",
      "[CV 3/5] END C=0.1, max_iter=1500, penalty=l2, solver=newton-cg;, score=0.895 total time=   0.1s\n",
      "[CV 4/5] END C=0.1, max_iter=1500, penalty=l2, solver=newton-cg;, score=0.895 total time=   0.1s\n",
      "[CV 5/5] END C=0.1, max_iter=1500, penalty=l2, solver=newton-cg;, score=0.895 total time=   0.1s\n",
      "[CV 1/5] END C=0.1, max_iter=1500, penalty=l2, solver=sag;, score=0.895 total time=   0.1s\n",
      "[CV 2/5] END C=0.1, max_iter=1500, penalty=l2, solver=sag;, score=0.895 total time=   0.2s\n",
      "[CV 3/5] END C=0.1, max_iter=1500, penalty=l2, solver=sag;, score=0.895 total time=   0.2s\n",
      "[CV 4/5] END C=0.1, max_iter=1500, penalty=l2, solver=sag;, score=0.895 total time=   0.2s\n",
      "[CV 5/5] END C=0.1, max_iter=1500, penalty=l2, solver=sag;, score=0.895 total time=   0.3s\n",
      "[CV 1/5] END C=0.1, max_iter=1500, penalty=l2, solver=saga;, score=0.895 total time=   0.2s\n",
      "[CV 2/5] END C=0.1, max_iter=1500, penalty=l2, solver=saga;, score=0.895 total time=   0.2s\n",
      "[CV 3/5] END C=0.1, max_iter=1500, penalty=l2, solver=saga;, score=0.895 total time=   0.2s\n",
      "[CV 4/5] END C=0.1, max_iter=1500, penalty=l2, solver=saga;, score=0.895 total time=   0.2s\n",
      "[CV 5/5] END C=0.1, max_iter=1500, penalty=l2, solver=saga;, score=0.895 total time=   0.2s\n",
      "[CV 1/5] END C=0.1, max_iter=1500, penalty=l2, solver=liblinear;, score=0.895 total time=   0.1s\n",
      "[CV 2/5] END C=0.1, max_iter=1500, penalty=l2, solver=liblinear;, score=0.895 total time=   0.1s\n",
      "[CV 3/5] END C=0.1, max_iter=1500, penalty=l2, solver=liblinear;, score=0.895 total time=   0.1s\n",
      "[CV 4/5] END C=0.1, max_iter=1500, penalty=l2, solver=liblinear;, score=0.895 total time=   0.1s\n",
      "[CV 5/5] END C=0.1, max_iter=1500, penalty=l2, solver=liblinear;, score=0.895 total time=   0.1s\n",
      "[CV 1/5] END C=0.1, max_iter=1500, penalty=elasticnet, solver=newton-cg;, score=nan total time=   0.0s\n",
      "[CV 2/5] END C=0.1, max_iter=1500, penalty=elasticnet, solver=newton-cg;, score=nan total time=   0.0s\n",
      "[CV 3/5] END C=0.1, max_iter=1500, penalty=elasticnet, solver=newton-cg;, score=nan total time=   0.0s\n",
      "[CV 4/5] END C=0.1, max_iter=1500, penalty=elasticnet, solver=newton-cg;, score=nan total time=   0.0s\n",
      "[CV 5/5] END C=0.1, max_iter=1500, penalty=elasticnet, solver=newton-cg;, score=nan total time=   0.0s\n",
      "[CV 1/5] END C=0.1, max_iter=1500, penalty=elasticnet, solver=sag;, score=nan total time=   0.0s\n",
      "[CV 2/5] END C=0.1, max_iter=1500, penalty=elasticnet, solver=sag;, score=nan total time=   0.0s\n",
      "[CV 3/5] END C=0.1, max_iter=1500, penalty=elasticnet, solver=sag;, score=nan total time=   0.0s\n",
      "[CV 4/5] END C=0.1, max_iter=1500, penalty=elasticnet, solver=sag;, score=nan total time=   0.0s\n",
      "[CV 5/5] END C=0.1, max_iter=1500, penalty=elasticnet, solver=sag;, score=nan total time=   0.0s\n",
      "[CV 1/5] END C=0.1, max_iter=1500, penalty=elasticnet, solver=saga;, score=nan total time=   0.0s\n",
      "[CV 2/5] END C=0.1, max_iter=1500, penalty=elasticnet, solver=saga;, score=nan total time=   0.0s\n",
      "[CV 3/5] END C=0.1, max_iter=1500, penalty=elasticnet, solver=saga;, score=nan total time=   0.0s\n",
      "[CV 4/5] END C=0.1, max_iter=1500, penalty=elasticnet, solver=saga;, score=nan total time=   0.0s\n",
      "[CV 5/5] END C=0.1, max_iter=1500, penalty=elasticnet, solver=saga;, score=nan total time=   0.0s\n",
      "[CV 1/5] END C=0.1, max_iter=1500, penalty=elasticnet, solver=liblinear;, score=nan total time=   0.0s\n",
      "[CV 2/5] END C=0.1, max_iter=1500, penalty=elasticnet, solver=liblinear;, score=nan total time=   0.0s\n",
      "[CV 3/5] END C=0.1, max_iter=1500, penalty=elasticnet, solver=liblinear;, score=nan total time=   0.0s\n",
      "[CV 4/5] END C=0.1, max_iter=1500, penalty=elasticnet, solver=liblinear;, score=nan total time=   0.0s\n",
      "[CV 5/5] END C=0.1, max_iter=1500, penalty=elasticnet, solver=liblinear;, score=nan total time=   0.0s\n",
      "[CV 1/5] END C=0.1, max_iter=2000, penalty=l1, solver=newton-cg;, score=nan total time=   0.0s\n",
      "[CV 2/5] END C=0.1, max_iter=2000, penalty=l1, solver=newton-cg;, score=nan total time=   0.0s\n",
      "[CV 3/5] END C=0.1, max_iter=2000, penalty=l1, solver=newton-cg;, score=nan total time=   0.0s\n",
      "[CV 4/5] END C=0.1, max_iter=2000, penalty=l1, solver=newton-cg;, score=nan total time=   0.0s\n",
      "[CV 5/5] END C=0.1, max_iter=2000, penalty=l1, solver=newton-cg;, score=nan total time=   0.0s\n",
      "[CV 1/5] END C=0.1, max_iter=2000, penalty=l1, solver=sag;, score=nan total time=   0.0s\n",
      "[CV 2/5] END C=0.1, max_iter=2000, penalty=l1, solver=sag;, score=nan total time=   0.0s\n",
      "[CV 3/5] END C=0.1, max_iter=2000, penalty=l1, solver=sag;, score=nan total time=   0.0s\n",
      "[CV 4/5] END C=0.1, max_iter=2000, penalty=l1, solver=sag;, score=nan total time=   0.0s\n",
      "[CV 5/5] END C=0.1, max_iter=2000, penalty=l1, solver=sag;, score=nan total time=   0.0s\n",
      "[CV 1/5] END C=0.1, max_iter=2000, penalty=l1, solver=saga;, score=0.895 total time=   1.2s\n",
      "[CV 2/5] END C=0.1, max_iter=2000, penalty=l1, solver=saga;, score=0.895 total time=   1.6s\n",
      "[CV 3/5] END C=0.1, max_iter=2000, penalty=l1, solver=saga;, score=0.895 total time=   1.5s\n",
      "[CV 4/5] END C=0.1, max_iter=2000, penalty=l1, solver=saga;, score=0.895 total time=   2.4s\n",
      "[CV 5/5] END C=0.1, max_iter=2000, penalty=l1, solver=saga;, score=0.895 total time=   1.7s\n",
      "[CV 1/5] END C=0.1, max_iter=2000, penalty=l1, solver=liblinear;, score=0.895 total time=   0.3s\n",
      "[CV 2/5] END C=0.1, max_iter=2000, penalty=l1, solver=liblinear;, score=0.895 total time=   0.3s\n",
      "[CV 3/5] END C=0.1, max_iter=2000, penalty=l1, solver=liblinear;, score=0.895 total time=   0.4s\n",
      "[CV 4/5] END C=0.1, max_iter=2000, penalty=l1, solver=liblinear;, score=0.895 total time=   0.6s\n",
      "[CV 5/5] END C=0.1, max_iter=2000, penalty=l1, solver=liblinear;, score=0.895 total time=   0.6s\n",
      "[CV 1/5] END C=0.1, max_iter=2000, penalty=l2, solver=newton-cg;, score=0.895 total time=   0.1s\n",
      "[CV 2/5] END C=0.1, max_iter=2000, penalty=l2, solver=newton-cg;, score=0.895 total time=   0.1s\n",
      "[CV 3/5] END C=0.1, max_iter=2000, penalty=l2, solver=newton-cg;, score=0.895 total time=   0.1s\n",
      "[CV 4/5] END C=0.1, max_iter=2000, penalty=l2, solver=newton-cg;, score=0.895 total time=   0.1s\n"
     ]
    },
    {
     "name": "stdout",
     "output_type": "stream",
     "text": [
      "[CV 5/5] END C=0.1, max_iter=2000, penalty=l2, solver=newton-cg;, score=0.895 total time=   0.1s\n",
      "[CV 1/5] END C=0.1, max_iter=2000, penalty=l2, solver=sag;, score=0.895 total time=   0.2s\n",
      "[CV 2/5] END C=0.1, max_iter=2000, penalty=l2, solver=sag;, score=0.895 total time=   0.2s\n",
      "[CV 3/5] END C=0.1, max_iter=2000, penalty=l2, solver=sag;, score=0.895 total time=   0.2s\n",
      "[CV 4/5] END C=0.1, max_iter=2000, penalty=l2, solver=sag;, score=0.895 total time=   0.2s\n",
      "[CV 5/5] END C=0.1, max_iter=2000, penalty=l2, solver=sag;, score=0.895 total time=   0.2s\n",
      "[CV 1/5] END C=0.1, max_iter=2000, penalty=l2, solver=saga;, score=0.895 total time=   0.1s\n",
      "[CV 2/5] END C=0.1, max_iter=2000, penalty=l2, solver=saga;, score=0.895 total time=   0.1s\n",
      "[CV 3/5] END C=0.1, max_iter=2000, penalty=l2, solver=saga;, score=0.895 total time=   0.1s\n",
      "[CV 4/5] END C=0.1, max_iter=2000, penalty=l2, solver=saga;, score=0.895 total time=   0.1s\n",
      "[CV 5/5] END C=0.1, max_iter=2000, penalty=l2, solver=saga;, score=0.895 total time=   0.1s\n",
      "[CV 1/5] END C=0.1, max_iter=2000, penalty=l2, solver=liblinear;, score=0.895 total time=   0.1s\n",
      "[CV 2/5] END C=0.1, max_iter=2000, penalty=l2, solver=liblinear;, score=0.895 total time=   0.1s\n",
      "[CV 3/5] END C=0.1, max_iter=2000, penalty=l2, solver=liblinear;, score=0.895 total time=   0.1s\n",
      "[CV 4/5] END C=0.1, max_iter=2000, penalty=l2, solver=liblinear;, score=0.895 total time=   0.1s\n",
      "[CV 5/5] END C=0.1, max_iter=2000, penalty=l2, solver=liblinear;, score=0.895 total time=   0.1s\n",
      "[CV 1/5] END C=0.1, max_iter=2000, penalty=elasticnet, solver=newton-cg;, score=nan total time=   0.0s\n",
      "[CV 2/5] END C=0.1, max_iter=2000, penalty=elasticnet, solver=newton-cg;, score=nan total time=   0.0s\n",
      "[CV 3/5] END C=0.1, max_iter=2000, penalty=elasticnet, solver=newton-cg;, score=nan total time=   0.0s\n",
      "[CV 4/5] END C=0.1, max_iter=2000, penalty=elasticnet, solver=newton-cg;, score=nan total time=   0.0s\n",
      "[CV 5/5] END C=0.1, max_iter=2000, penalty=elasticnet, solver=newton-cg;, score=nan total time=   0.0s\n",
      "[CV 1/5] END C=0.1, max_iter=2000, penalty=elasticnet, solver=sag;, score=nan total time=   0.0s\n",
      "[CV 2/5] END C=0.1, max_iter=2000, penalty=elasticnet, solver=sag;, score=nan total time=   0.0s\n",
      "[CV 3/5] END C=0.1, max_iter=2000, penalty=elasticnet, solver=sag;, score=nan total time=   0.0s\n",
      "[CV 4/5] END C=0.1, max_iter=2000, penalty=elasticnet, solver=sag;, score=nan total time=   0.0s\n",
      "[CV 5/5] END C=0.1, max_iter=2000, penalty=elasticnet, solver=sag;, score=nan total time=   0.0s\n",
      "[CV 1/5] END C=0.1, max_iter=2000, penalty=elasticnet, solver=saga;, score=nan total time=   0.0s\n",
      "[CV 2/5] END C=0.1, max_iter=2000, penalty=elasticnet, solver=saga;, score=nan total time=   0.0s\n",
      "[CV 3/5] END C=0.1, max_iter=2000, penalty=elasticnet, solver=saga;, score=nan total time=   0.0s\n",
      "[CV 4/5] END C=0.1, max_iter=2000, penalty=elasticnet, solver=saga;, score=nan total time=   0.0s\n",
      "[CV 5/5] END C=0.1, max_iter=2000, penalty=elasticnet, solver=saga;, score=nan total time=   0.0s\n",
      "[CV 1/5] END C=0.1, max_iter=2000, penalty=elasticnet, solver=liblinear;, score=nan total time=   0.0s\n",
      "[CV 2/5] END C=0.1, max_iter=2000, penalty=elasticnet, solver=liblinear;, score=nan total time=   0.0s\n",
      "[CV 3/5] END C=0.1, max_iter=2000, penalty=elasticnet, solver=liblinear;, score=nan total time=   0.0s\n",
      "[CV 4/5] END C=0.1, max_iter=2000, penalty=elasticnet, solver=liblinear;, score=nan total time=   0.0s\n",
      "[CV 5/5] END C=0.1, max_iter=2000, penalty=elasticnet, solver=liblinear;, score=nan total time=   0.0s\n",
      "[CV 1/5] END C=0.01, max_iter=500, penalty=l1, solver=newton-cg;, score=nan total time=   0.0s\n",
      "[CV 2/5] END C=0.01, max_iter=500, penalty=l1, solver=newton-cg;, score=nan total time=   0.0s\n",
      "[CV 3/5] END C=0.01, max_iter=500, penalty=l1, solver=newton-cg;, score=nan total time=   0.0s\n",
      "[CV 4/5] END C=0.01, max_iter=500, penalty=l1, solver=newton-cg;, score=nan total time=   0.0s\n",
      "[CV 5/5] END C=0.01, max_iter=500, penalty=l1, solver=newton-cg;, score=nan total time=   0.0s\n",
      "[CV 1/5] END C=0.01, max_iter=500, penalty=l1, solver=sag;, score=nan total time=   0.0s\n",
      "[CV 2/5] END C=0.01, max_iter=500, penalty=l1, solver=sag;, score=nan total time=   0.0s\n",
      "[CV 3/5] END C=0.01, max_iter=500, penalty=l1, solver=sag;, score=nan total time=   0.0s\n",
      "[CV 4/5] END C=0.01, max_iter=500, penalty=l1, solver=sag;, score=nan total time=   0.0s\n",
      "[CV 5/5] END C=0.01, max_iter=500, penalty=l1, solver=sag;, score=nan total time=   0.0s\n",
      "[CV 1/5] END C=0.01, max_iter=500, penalty=l1, solver=saga;, score=0.895 total time=   0.1s\n",
      "[CV 2/5] END C=0.01, max_iter=500, penalty=l1, solver=saga;, score=0.895 total time=   0.2s\n",
      "[CV 3/5] END C=0.01, max_iter=500, penalty=l1, solver=saga;, score=0.895 total time=   0.1s\n",
      "[CV 4/5] END C=0.01, max_iter=500, penalty=l1, solver=saga;, score=0.895 total time=   0.1s\n",
      "[CV 5/5] END C=0.01, max_iter=500, penalty=l1, solver=saga;, score=0.895 total time=   0.1s\n",
      "[CV 1/5] END C=0.01, max_iter=500, penalty=l1, solver=liblinear;, score=0.895 total time=   0.1s\n",
      "[CV 2/5] END C=0.01, max_iter=500, penalty=l1, solver=liblinear;, score=0.895 total time=   0.1s\n",
      "[CV 3/5] END C=0.01, max_iter=500, penalty=l1, solver=liblinear;, score=0.895 total time=   0.1s\n",
      "[CV 4/5] END C=0.01, max_iter=500, penalty=l1, solver=liblinear;, score=0.895 total time=   0.1s\n",
      "[CV 5/5] END C=0.01, max_iter=500, penalty=l1, solver=liblinear;, score=0.895 total time=   0.1s\n",
      "[CV 1/5] END C=0.01, max_iter=500, penalty=l2, solver=newton-cg;, score=0.895 total time=   0.1s\n",
      "[CV 2/5] END C=0.01, max_iter=500, penalty=l2, solver=newton-cg;, score=0.895 total time=   0.1s\n",
      "[CV 3/5] END C=0.01, max_iter=500, penalty=l2, solver=newton-cg;, score=0.895 total time=   0.1s\n",
      "[CV 4/5] END C=0.01, max_iter=500, penalty=l2, solver=newton-cg;, score=0.895 total time=   0.1s\n",
      "[CV 5/5] END C=0.01, max_iter=500, penalty=l2, solver=newton-cg;, score=0.895 total time=   0.1s\n",
      "[CV 1/5] END C=0.01, max_iter=500, penalty=l2, solver=sag;, score=0.895 total time=   0.1s\n",
      "[CV 2/5] END C=0.01, max_iter=500, penalty=l2, solver=sag;, score=0.895 total time=   0.1s\n",
      "[CV 3/5] END C=0.01, max_iter=500, penalty=l2, solver=sag;, score=0.895 total time=   0.2s\n",
      "[CV 4/5] END C=0.01, max_iter=500, penalty=l2, solver=sag;, score=0.895 total time=   0.2s\n",
      "[CV 5/5] END C=0.01, max_iter=500, penalty=l2, solver=sag;, score=0.895 total time=   0.2s\n",
      "[CV 1/5] END C=0.01, max_iter=500, penalty=l2, solver=saga;, score=0.895 total time=   0.1s\n",
      "[CV 2/5] END C=0.01, max_iter=500, penalty=l2, solver=saga;, score=0.895 total time=   0.1s\n",
      "[CV 3/5] END C=0.01, max_iter=500, penalty=l2, solver=saga;, score=0.895 total time=   0.1s\n",
      "[CV 4/5] END C=0.01, max_iter=500, penalty=l2, solver=saga;, score=0.895 total time=   0.1s\n",
      "[CV 5/5] END C=0.01, max_iter=500, penalty=l2, solver=saga;, score=0.895 total time=   0.1s\n",
      "[CV 1/5] END C=0.01, max_iter=500, penalty=l2, solver=liblinear;, score=0.895 total time=   0.1s\n",
      "[CV 2/5] END C=0.01, max_iter=500, penalty=l2, solver=liblinear;, score=0.895 total time=   0.1s\n",
      "[CV 3/5] END C=0.01, max_iter=500, penalty=l2, solver=liblinear;, score=0.895 total time=   0.1s\n",
      "[CV 4/5] END C=0.01, max_iter=500, penalty=l2, solver=liblinear;, score=0.895 total time=   0.1s\n",
      "[CV 5/5] END C=0.01, max_iter=500, penalty=l2, solver=liblinear;, score=0.895 total time=   0.1s\n",
      "[CV 1/5] END C=0.01, max_iter=500, penalty=elasticnet, solver=newton-cg;, score=nan total time=   0.0s\n",
      "[CV 2/5] END C=0.01, max_iter=500, penalty=elasticnet, solver=newton-cg;, score=nan total time=   0.0s\n",
      "[CV 3/5] END C=0.01, max_iter=500, penalty=elasticnet, solver=newton-cg;, score=nan total time=   0.0s\n",
      "[CV 4/5] END C=0.01, max_iter=500, penalty=elasticnet, solver=newton-cg;, score=nan total time=   0.0s\n",
      "[CV 5/5] END C=0.01, max_iter=500, penalty=elasticnet, solver=newton-cg;, score=nan total time=   0.0s\n",
      "[CV 1/5] END C=0.01, max_iter=500, penalty=elasticnet, solver=sag;, score=nan total time=   0.0s\n",
      "[CV 2/5] END C=0.01, max_iter=500, penalty=elasticnet, solver=sag;, score=nan total time=   0.0s\n",
      "[CV 3/5] END C=0.01, max_iter=500, penalty=elasticnet, solver=sag;, score=nan total time=   0.0s\n",
      "[CV 4/5] END C=0.01, max_iter=500, penalty=elasticnet, solver=sag;, score=nan total time=   0.0s\n",
      "[CV 5/5] END C=0.01, max_iter=500, penalty=elasticnet, solver=sag;, score=nan total time=   0.0s\n",
      "[CV 1/5] END C=0.01, max_iter=500, penalty=elasticnet, solver=saga;, score=nan total time=   0.0s\n",
      "[CV 2/5] END C=0.01, max_iter=500, penalty=elasticnet, solver=saga;, score=nan total time=   0.0s\n",
      "[CV 3/5] END C=0.01, max_iter=500, penalty=elasticnet, solver=saga;, score=nan total time=   0.0s\n",
      "[CV 4/5] END C=0.01, max_iter=500, penalty=elasticnet, solver=saga;, score=nan total time=   0.0s\n"
     ]
    },
    {
     "name": "stdout",
     "output_type": "stream",
     "text": [
      "[CV 5/5] END C=0.01, max_iter=500, penalty=elasticnet, solver=saga;, score=nan total time=   0.0s\n",
      "[CV 1/5] END C=0.01, max_iter=500, penalty=elasticnet, solver=liblinear;, score=nan total time=   0.0s\n",
      "[CV 2/5] END C=0.01, max_iter=500, penalty=elasticnet, solver=liblinear;, score=nan total time=   0.0s\n",
      "[CV 3/5] END C=0.01, max_iter=500, penalty=elasticnet, solver=liblinear;, score=nan total time=   0.0s\n",
      "[CV 4/5] END C=0.01, max_iter=500, penalty=elasticnet, solver=liblinear;, score=nan total time=   0.0s\n",
      "[CV 5/5] END C=0.01, max_iter=500, penalty=elasticnet, solver=liblinear;, score=nan total time=   0.0s\n",
      "[CV 1/5] END C=0.01, max_iter=1000, penalty=l1, solver=newton-cg;, score=nan total time=   0.0s\n",
      "[CV 2/5] END C=0.01, max_iter=1000, penalty=l1, solver=newton-cg;, score=nan total time=   0.0s\n",
      "[CV 3/5] END C=0.01, max_iter=1000, penalty=l1, solver=newton-cg;, score=nan total time=   0.0s\n",
      "[CV 4/5] END C=0.01, max_iter=1000, penalty=l1, solver=newton-cg;, score=nan total time=   0.0s\n",
      "[CV 5/5] END C=0.01, max_iter=1000, penalty=l1, solver=newton-cg;, score=nan total time=   0.0s\n",
      "[CV 1/5] END C=0.01, max_iter=1000, penalty=l1, solver=sag;, score=nan total time=   0.0s\n",
      "[CV 2/5] END C=0.01, max_iter=1000, penalty=l1, solver=sag;, score=nan total time=   0.0s\n",
      "[CV 3/5] END C=0.01, max_iter=1000, penalty=l1, solver=sag;, score=nan total time=   0.0s\n",
      "[CV 4/5] END C=0.01, max_iter=1000, penalty=l1, solver=sag;, score=nan total time=   0.0s\n",
      "[CV 5/5] END C=0.01, max_iter=1000, penalty=l1, solver=sag;, score=nan total time=   0.0s\n",
      "[CV 1/5] END C=0.01, max_iter=1000, penalty=l1, solver=saga;, score=0.895 total time=   0.2s\n",
      "[CV 2/5] END C=0.01, max_iter=1000, penalty=l1, solver=saga;, score=0.895 total time=   0.2s\n",
      "[CV 3/5] END C=0.01, max_iter=1000, penalty=l1, solver=saga;, score=0.895 total time=   0.1s\n",
      "[CV 4/5] END C=0.01, max_iter=1000, penalty=l1, solver=saga;, score=0.895 total time=   0.1s\n",
      "[CV 5/5] END C=0.01, max_iter=1000, penalty=l1, solver=saga;, score=0.895 total time=   0.1s\n",
      "[CV 1/5] END C=0.01, max_iter=1000, penalty=l1, solver=liblinear;, score=0.895 total time=   0.1s\n",
      "[CV 2/5] END C=0.01, max_iter=1000, penalty=l1, solver=liblinear;, score=0.895 total time=   0.1s\n",
      "[CV 3/5] END C=0.01, max_iter=1000, penalty=l1, solver=liblinear;, score=0.895 total time=   0.1s\n",
      "[CV 4/5] END C=0.01, max_iter=1000, penalty=l1, solver=liblinear;, score=0.895 total time=   0.1s\n",
      "[CV 5/5] END C=0.01, max_iter=1000, penalty=l1, solver=liblinear;, score=0.895 total time=   0.1s\n",
      "[CV 1/5] END C=0.01, max_iter=1000, penalty=l2, solver=newton-cg;, score=0.895 total time=   0.1s\n",
      "[CV 2/5] END C=0.01, max_iter=1000, penalty=l2, solver=newton-cg;, score=0.895 total time=   0.1s\n",
      "[CV 3/5] END C=0.01, max_iter=1000, penalty=l2, solver=newton-cg;, score=0.895 total time=   0.1s\n",
      "[CV 4/5] END C=0.01, max_iter=1000, penalty=l2, solver=newton-cg;, score=0.895 total time=   0.1s\n",
      "[CV 5/5] END C=0.01, max_iter=1000, penalty=l2, solver=newton-cg;, score=0.895 total time=   0.1s\n",
      "[CV 1/5] END C=0.01, max_iter=1000, penalty=l2, solver=sag;, score=0.895 total time=   0.2s\n",
      "[CV 2/5] END C=0.01, max_iter=1000, penalty=l2, solver=sag;, score=0.895 total time=   0.1s\n",
      "[CV 3/5] END C=0.01, max_iter=1000, penalty=l2, solver=sag;, score=0.895 total time=   0.2s\n",
      "[CV 4/5] END C=0.01, max_iter=1000, penalty=l2, solver=sag;, score=0.895 total time=   0.2s\n",
      "[CV 5/5] END C=0.01, max_iter=1000, penalty=l2, solver=sag;, score=0.895 total time=   0.2s\n",
      "[CV 1/5] END C=0.01, max_iter=1000, penalty=l2, solver=saga;, score=0.895 total time=   0.1s\n",
      "[CV 2/5] END C=0.01, max_iter=1000, penalty=l2, solver=saga;, score=0.895 total time=   0.1s\n",
      "[CV 3/5] END C=0.01, max_iter=1000, penalty=l2, solver=saga;, score=0.895 total time=   0.1s\n",
      "[CV 4/5] END C=0.01, max_iter=1000, penalty=l2, solver=saga;, score=0.895 total time=   0.1s\n",
      "[CV 5/5] END C=0.01, max_iter=1000, penalty=l2, solver=saga;, score=0.895 total time=   0.1s\n",
      "[CV 1/5] END C=0.01, max_iter=1000, penalty=l2, solver=liblinear;, score=0.895 total time=   0.1s\n",
      "[CV 2/5] END C=0.01, max_iter=1000, penalty=l2, solver=liblinear;, score=0.895 total time=   0.1s\n",
      "[CV 3/5] END C=0.01, max_iter=1000, penalty=l2, solver=liblinear;, score=0.895 total time=   0.1s\n",
      "[CV 4/5] END C=0.01, max_iter=1000, penalty=l2, solver=liblinear;, score=0.895 total time=   0.1s\n",
      "[CV 5/5] END C=0.01, max_iter=1000, penalty=l2, solver=liblinear;, score=0.895 total time=   0.1s\n",
      "[CV 1/5] END C=0.01, max_iter=1000, penalty=elasticnet, solver=newton-cg;, score=nan total time=   0.0s\n",
      "[CV 2/5] END C=0.01, max_iter=1000, penalty=elasticnet, solver=newton-cg;, score=nan total time=   0.0s\n",
      "[CV 3/5] END C=0.01, max_iter=1000, penalty=elasticnet, solver=newton-cg;, score=nan total time=   0.0s\n",
      "[CV 4/5] END C=0.01, max_iter=1000, penalty=elasticnet, solver=newton-cg;, score=nan total time=   0.0s\n",
      "[CV 5/5] END C=0.01, max_iter=1000, penalty=elasticnet, solver=newton-cg;, score=nan total time=   0.0s\n",
      "[CV 1/5] END C=0.01, max_iter=1000, penalty=elasticnet, solver=sag;, score=nan total time=   0.0s\n",
      "[CV 2/5] END C=0.01, max_iter=1000, penalty=elasticnet, solver=sag;, score=nan total time=   0.0s\n",
      "[CV 3/5] END C=0.01, max_iter=1000, penalty=elasticnet, solver=sag;, score=nan total time=   0.0s\n",
      "[CV 4/5] END C=0.01, max_iter=1000, penalty=elasticnet, solver=sag;, score=nan total time=   0.0s\n",
      "[CV 5/5] END C=0.01, max_iter=1000, penalty=elasticnet, solver=sag;, score=nan total time=   0.0s\n",
      "[CV 1/5] END C=0.01, max_iter=1000, penalty=elasticnet, solver=saga;, score=nan total time=   0.0s\n",
      "[CV 2/5] END C=0.01, max_iter=1000, penalty=elasticnet, solver=saga;, score=nan total time=   0.0s\n",
      "[CV 3/5] END C=0.01, max_iter=1000, penalty=elasticnet, solver=saga;, score=nan total time=   0.0s\n",
      "[CV 4/5] END C=0.01, max_iter=1000, penalty=elasticnet, solver=saga;, score=nan total time=   0.0s\n",
      "[CV 5/5] END C=0.01, max_iter=1000, penalty=elasticnet, solver=saga;, score=nan total time=   0.0s\n",
      "[CV 1/5] END C=0.01, max_iter=1000, penalty=elasticnet, solver=liblinear;, score=nan total time=   0.0s\n",
      "[CV 2/5] END C=0.01, max_iter=1000, penalty=elasticnet, solver=liblinear;, score=nan total time=   0.0s\n",
      "[CV 3/5] END C=0.01, max_iter=1000, penalty=elasticnet, solver=liblinear;, score=nan total time=   0.0s\n",
      "[CV 4/5] END C=0.01, max_iter=1000, penalty=elasticnet, solver=liblinear;, score=nan total time=   0.0s\n",
      "[CV 5/5] END C=0.01, max_iter=1000, penalty=elasticnet, solver=liblinear;, score=nan total time=   0.0s\n",
      "[CV 1/5] END C=0.01, max_iter=1500, penalty=l1, solver=newton-cg;, score=nan total time=   0.0s\n",
      "[CV 2/5] END C=0.01, max_iter=1500, penalty=l1, solver=newton-cg;, score=nan total time=   0.0s\n",
      "[CV 3/5] END C=0.01, max_iter=1500, penalty=l1, solver=newton-cg;, score=nan total time=   0.0s\n",
      "[CV 4/5] END C=0.01, max_iter=1500, penalty=l1, solver=newton-cg;, score=nan total time=   0.0s\n",
      "[CV 5/5] END C=0.01, max_iter=1500, penalty=l1, solver=newton-cg;, score=nan total time=   0.0s\n",
      "[CV 1/5] END C=0.01, max_iter=1500, penalty=l1, solver=sag;, score=nan total time=   0.0s\n",
      "[CV 2/5] END C=0.01, max_iter=1500, penalty=l1, solver=sag;, score=nan total time=   0.0s\n",
      "[CV 3/5] END C=0.01, max_iter=1500, penalty=l1, solver=sag;, score=nan total time=   0.0s\n",
      "[CV 4/5] END C=0.01, max_iter=1500, penalty=l1, solver=sag;, score=nan total time=   0.0s\n",
      "[CV 5/5] END C=0.01, max_iter=1500, penalty=l1, solver=sag;, score=nan total time=   0.0s\n",
      "[CV 1/5] END C=0.01, max_iter=1500, penalty=l1, solver=saga;, score=0.895 total time=   0.1s\n",
      "[CV 2/5] END C=0.01, max_iter=1500, penalty=l1, solver=saga;, score=0.895 total time=   0.2s\n",
      "[CV 3/5] END C=0.01, max_iter=1500, penalty=l1, solver=saga;, score=0.895 total time=   0.1s\n",
      "[CV 4/5] END C=0.01, max_iter=1500, penalty=l1, solver=saga;, score=0.895 total time=   0.1s\n",
      "[CV 5/5] END C=0.01, max_iter=1500, penalty=l1, solver=saga;, score=0.895 total time=   0.1s\n",
      "[CV 1/5] END C=0.01, max_iter=1500, penalty=l1, solver=liblinear;, score=0.895 total time=   0.1s\n",
      "[CV 2/5] END C=0.01, max_iter=1500, penalty=l1, solver=liblinear;, score=0.895 total time=   0.1s\n",
      "[CV 3/5] END C=0.01, max_iter=1500, penalty=l1, solver=liblinear;, score=0.895 total time=   0.1s\n",
      "[CV 4/5] END C=0.01, max_iter=1500, penalty=l1, solver=liblinear;, score=0.895 total time=   0.1s\n",
      "[CV 5/5] END C=0.01, max_iter=1500, penalty=l1, solver=liblinear;, score=0.895 total time=   0.1s\n"
     ]
    },
    {
     "name": "stdout",
     "output_type": "stream",
     "text": [
      "[CV 1/5] END C=0.01, max_iter=1500, penalty=l2, solver=newton-cg;, score=0.895 total time=   0.1s\n",
      "[CV 2/5] END C=0.01, max_iter=1500, penalty=l2, solver=newton-cg;, score=0.895 total time=   0.1s\n",
      "[CV 3/5] END C=0.01, max_iter=1500, penalty=l2, solver=newton-cg;, score=0.895 total time=   0.1s\n",
      "[CV 4/5] END C=0.01, max_iter=1500, penalty=l2, solver=newton-cg;, score=0.895 total time=   0.1s\n",
      "[CV 5/5] END C=0.01, max_iter=1500, penalty=l2, solver=newton-cg;, score=0.895 total time=   0.1s\n",
      "[CV 1/5] END C=0.01, max_iter=1500, penalty=l2, solver=sag;, score=0.895 total time=   0.2s\n",
      "[CV 2/5] END C=0.01, max_iter=1500, penalty=l2, solver=sag;, score=0.895 total time=   0.2s\n",
      "[CV 3/5] END C=0.01, max_iter=1500, penalty=l2, solver=sag;, score=0.895 total time=   0.2s\n",
      "[CV 4/5] END C=0.01, max_iter=1500, penalty=l2, solver=sag;, score=0.895 total time=   0.2s\n",
      "[CV 5/5] END C=0.01, max_iter=1500, penalty=l2, solver=sag;, score=0.895 total time=   0.2s\n",
      "[CV 1/5] END C=0.01, max_iter=1500, penalty=l2, solver=saga;, score=0.895 total time=   0.1s\n",
      "[CV 2/5] END C=0.01, max_iter=1500, penalty=l2, solver=saga;, score=0.895 total time=   0.1s\n",
      "[CV 3/5] END C=0.01, max_iter=1500, penalty=l2, solver=saga;, score=0.895 total time=   0.2s\n",
      "[CV 4/5] END C=0.01, max_iter=1500, penalty=l2, solver=saga;, score=0.895 total time=   0.2s\n",
      "[CV 5/5] END C=0.01, max_iter=1500, penalty=l2, solver=saga;, score=0.895 total time=   0.1s\n",
      "[CV 1/5] END C=0.01, max_iter=1500, penalty=l2, solver=liblinear;, score=0.895 total time=   0.1s\n",
      "[CV 2/5] END C=0.01, max_iter=1500, penalty=l2, solver=liblinear;, score=0.895 total time=   0.1s\n",
      "[CV 3/5] END C=0.01, max_iter=1500, penalty=l2, solver=liblinear;, score=0.895 total time=   0.1s\n",
      "[CV 4/5] END C=0.01, max_iter=1500, penalty=l2, solver=liblinear;, score=0.895 total time=   0.1s\n",
      "[CV 5/5] END C=0.01, max_iter=1500, penalty=l2, solver=liblinear;, score=0.895 total time=   0.1s\n",
      "[CV 1/5] END C=0.01, max_iter=1500, penalty=elasticnet, solver=newton-cg;, score=nan total time=   0.0s\n",
      "[CV 2/5] END C=0.01, max_iter=1500, penalty=elasticnet, solver=newton-cg;, score=nan total time=   0.0s\n",
      "[CV 3/5] END C=0.01, max_iter=1500, penalty=elasticnet, solver=newton-cg;, score=nan total time=   0.0s\n",
      "[CV 4/5] END C=0.01, max_iter=1500, penalty=elasticnet, solver=newton-cg;, score=nan total time=   0.0s\n",
      "[CV 5/5] END C=0.01, max_iter=1500, penalty=elasticnet, solver=newton-cg;, score=nan total time=   0.0s\n",
      "[CV 1/5] END C=0.01, max_iter=1500, penalty=elasticnet, solver=sag;, score=nan total time=   0.0s\n",
      "[CV 2/5] END C=0.01, max_iter=1500, penalty=elasticnet, solver=sag;, score=nan total time=   0.0s\n",
      "[CV 3/5] END C=0.01, max_iter=1500, penalty=elasticnet, solver=sag;, score=nan total time=   0.0s\n",
      "[CV 4/5] END C=0.01, max_iter=1500, penalty=elasticnet, solver=sag;, score=nan total time=   0.0s\n",
      "[CV 5/5] END C=0.01, max_iter=1500, penalty=elasticnet, solver=sag;, score=nan total time=   0.0s\n",
      "[CV 1/5] END C=0.01, max_iter=1500, penalty=elasticnet, solver=saga;, score=nan total time=   0.0s\n",
      "[CV 2/5] END C=0.01, max_iter=1500, penalty=elasticnet, solver=saga;, score=nan total time=   0.0s\n",
      "[CV 3/5] END C=0.01, max_iter=1500, penalty=elasticnet, solver=saga;, score=nan total time=   0.0s\n",
      "[CV 4/5] END C=0.01, max_iter=1500, penalty=elasticnet, solver=saga;, score=nan total time=   0.0s\n",
      "[CV 5/5] END C=0.01, max_iter=1500, penalty=elasticnet, solver=saga;, score=nan total time=   0.0s\n",
      "[CV 1/5] END C=0.01, max_iter=1500, penalty=elasticnet, solver=liblinear;, score=nan total time=   0.0s\n",
      "[CV 2/5] END C=0.01, max_iter=1500, penalty=elasticnet, solver=liblinear;, score=nan total time=   0.0s\n",
      "[CV 3/5] END C=0.01, max_iter=1500, penalty=elasticnet, solver=liblinear;, score=nan total time=   0.0s\n",
      "[CV 4/5] END C=0.01, max_iter=1500, penalty=elasticnet, solver=liblinear;, score=nan total time=   0.0s\n",
      "[CV 5/5] END C=0.01, max_iter=1500, penalty=elasticnet, solver=liblinear;, score=nan total time=   0.0s\n",
      "[CV 1/5] END C=0.01, max_iter=2000, penalty=l1, solver=newton-cg;, score=nan total time=   0.0s\n",
      "[CV 2/5] END C=0.01, max_iter=2000, penalty=l1, solver=newton-cg;, score=nan total time=   0.0s\n",
      "[CV 3/5] END C=0.01, max_iter=2000, penalty=l1, solver=newton-cg;, score=nan total time=   0.0s\n",
      "[CV 4/5] END C=0.01, max_iter=2000, penalty=l1, solver=newton-cg;, score=nan total time=   0.0s\n",
      "[CV 5/5] END C=0.01, max_iter=2000, penalty=l1, solver=newton-cg;, score=nan total time=   0.0s\n",
      "[CV 1/5] END C=0.01, max_iter=2000, penalty=l1, solver=sag;, score=nan total time=   0.0s\n",
      "[CV 2/5] END C=0.01, max_iter=2000, penalty=l1, solver=sag;, score=nan total time=   0.0s\n",
      "[CV 3/5] END C=0.01, max_iter=2000, penalty=l1, solver=sag;, score=nan total time=   0.0s\n",
      "[CV 4/5] END C=0.01, max_iter=2000, penalty=l1, solver=sag;, score=nan total time=   0.0s\n",
      "[CV 5/5] END C=0.01, max_iter=2000, penalty=l1, solver=sag;, score=nan total time=   0.0s\n",
      "[CV 1/5] END C=0.01, max_iter=2000, penalty=l1, solver=saga;, score=0.895 total time=   0.1s\n",
      "[CV 2/5] END C=0.01, max_iter=2000, penalty=l1, solver=saga;, score=0.895 total time=   0.3s\n",
      "[CV 3/5] END C=0.01, max_iter=2000, penalty=l1, solver=saga;, score=0.895 total time=   0.2s\n",
      "[CV 4/5] END C=0.01, max_iter=2000, penalty=l1, solver=saga;, score=0.895 total time=   0.2s\n",
      "[CV 5/5] END C=0.01, max_iter=2000, penalty=l1, solver=saga;, score=0.895 total time=   0.1s\n",
      "[CV 1/5] END C=0.01, max_iter=2000, penalty=l1, solver=liblinear;, score=0.895 total time=   0.1s\n",
      "[CV 2/5] END C=0.01, max_iter=2000, penalty=l1, solver=liblinear;, score=0.895 total time=   0.1s\n",
      "[CV 3/5] END C=0.01, max_iter=2000, penalty=l1, solver=liblinear;, score=0.895 total time=   0.1s\n",
      "[CV 4/5] END C=0.01, max_iter=2000, penalty=l1, solver=liblinear;, score=0.895 total time=   0.1s\n",
      "[CV 5/5] END C=0.01, max_iter=2000, penalty=l1, solver=liblinear;, score=0.895 total time=   0.1s\n",
      "[CV 1/5] END C=0.01, max_iter=2000, penalty=l2, solver=newton-cg;, score=0.895 total time=   0.1s\n",
      "[CV 2/5] END C=0.01, max_iter=2000, penalty=l2, solver=newton-cg;, score=0.895 total time=   0.1s\n",
      "[CV 3/5] END C=0.01, max_iter=2000, penalty=l2, solver=newton-cg;, score=0.895 total time=   0.2s\n",
      "[CV 4/5] END C=0.01, max_iter=2000, penalty=l2, solver=newton-cg;, score=0.895 total time=   0.1s\n",
      "[CV 5/5] END C=0.01, max_iter=2000, penalty=l2, solver=newton-cg;, score=0.895 total time=   0.1s\n",
      "[CV 1/5] END C=0.01, max_iter=2000, penalty=l2, solver=sag;, score=0.895 total time=   0.3s\n",
      "[CV 2/5] END C=0.01, max_iter=2000, penalty=l2, solver=sag;, score=0.895 total time=   0.2s\n",
      "[CV 3/5] END C=0.01, max_iter=2000, penalty=l2, solver=sag;, score=0.895 total time=   0.2s\n",
      "[CV 4/5] END C=0.01, max_iter=2000, penalty=l2, solver=sag;, score=0.895 total time=   0.2s\n",
      "[CV 5/5] END C=0.01, max_iter=2000, penalty=l2, solver=sag;, score=0.895 total time=   0.2s\n",
      "[CV 1/5] END C=0.01, max_iter=2000, penalty=l2, solver=saga;, score=0.895 total time=   0.1s\n",
      "[CV 2/5] END C=0.01, max_iter=2000, penalty=l2, solver=saga;, score=0.895 total time=   0.1s\n",
      "[CV 3/5] END C=0.01, max_iter=2000, penalty=l2, solver=saga;, score=0.895 total time=   0.2s\n",
      "[CV 4/5] END C=0.01, max_iter=2000, penalty=l2, solver=saga;, score=0.895 total time=   0.1s\n",
      "[CV 5/5] END C=0.01, max_iter=2000, penalty=l2, solver=saga;, score=0.895 total time=   0.1s\n",
      "[CV 1/5] END C=0.01, max_iter=2000, penalty=l2, solver=liblinear;, score=0.895 total time=   0.1s\n",
      "[CV 2/5] END C=0.01, max_iter=2000, penalty=l2, solver=liblinear;, score=0.895 total time=   0.1s\n",
      "[CV 3/5] END C=0.01, max_iter=2000, penalty=l2, solver=liblinear;, score=0.895 total time=   0.1s\n",
      "[CV 4/5] END C=0.01, max_iter=2000, penalty=l2, solver=liblinear;, score=0.895 total time=   0.1s\n",
      "[CV 5/5] END C=0.01, max_iter=2000, penalty=l2, solver=liblinear;, score=0.895 total time=   0.1s\n",
      "[CV 1/5] END C=0.01, max_iter=2000, penalty=elasticnet, solver=newton-cg;, score=nan total time=   0.0s\n",
      "[CV 2/5] END C=0.01, max_iter=2000, penalty=elasticnet, solver=newton-cg;, score=nan total time=   0.0s\n",
      "[CV 3/5] END C=0.01, max_iter=2000, penalty=elasticnet, solver=newton-cg;, score=nan total time=   0.0s\n",
      "[CV 4/5] END C=0.01, max_iter=2000, penalty=elasticnet, solver=newton-cg;, score=nan total time=   0.0s\n",
      "[CV 5/5] END C=0.01, max_iter=2000, penalty=elasticnet, solver=newton-cg;, score=nan total time=   0.0s\n",
      "[CV 1/5] END C=0.01, max_iter=2000, penalty=elasticnet, solver=sag;, score=nan total time=   0.0s\n",
      "[CV 2/5] END C=0.01, max_iter=2000, penalty=elasticnet, solver=sag;, score=nan total time=   0.0s\n",
      "[CV 3/5] END C=0.01, max_iter=2000, penalty=elasticnet, solver=sag;, score=nan total time=   0.0s\n",
      "[CV 4/5] END C=0.01, max_iter=2000, penalty=elasticnet, solver=sag;, score=nan total time=   0.0s\n",
      "[CV 5/5] END C=0.01, max_iter=2000, penalty=elasticnet, solver=sag;, score=nan total time=   0.0s\n",
      "[CV 1/5] END C=0.01, max_iter=2000, penalty=elasticnet, solver=saga;, score=nan total time=   0.0s\n",
      "[CV 2/5] END C=0.01, max_iter=2000, penalty=elasticnet, solver=saga;, score=nan total time=   0.0s\n",
      "[CV 3/5] END C=0.01, max_iter=2000, penalty=elasticnet, solver=saga;, score=nan total time=   0.0s\n",
      "[CV 4/5] END C=0.01, max_iter=2000, penalty=elasticnet, solver=saga;, score=nan total time=   0.0s\n",
      "[CV 5/5] END C=0.01, max_iter=2000, penalty=elasticnet, solver=saga;, score=nan total time=   0.0s\n",
      "[CV 1/5] END C=0.01, max_iter=2000, penalty=elasticnet, solver=liblinear;, score=nan total time=   0.0s\n",
      "[CV 2/5] END C=0.01, max_iter=2000, penalty=elasticnet, solver=liblinear;, score=nan total time=   0.0s\n",
      "[CV 3/5] END C=0.01, max_iter=2000, penalty=elasticnet, solver=liblinear;, score=nan total time=   0.0s\n",
      "[CV 4/5] END C=0.01, max_iter=2000, penalty=elasticnet, solver=liblinear;, score=nan total time=   0.0s\n",
      "[CV 5/5] END C=0.01, max_iter=2000, penalty=elasticnet, solver=liblinear;, score=nan total time=   0.0s\n"
     ]
    },
    {
     "name": "stderr",
     "output_type": "stream",
     "text": [
      "/Users/michaelraines/opt/anaconda3/lib/python3.8/site-packages/sklearn/model_selection/_validation.py:372: FitFailedWarning: \n",
      "360 fits failed out of a total of 720.\n",
      "The score on these train-test partitions for these parameters will be set to nan.\n",
      "If these failures are not expected, you can try to debug them by setting error_score='raise'.\n",
      "\n",
      "Below are more details about the failures:\n",
      "--------------------------------------------------------------------------------\n",
      "60 fits failed with the following error:\n",
      "Traceback (most recent call last):\n",
      "  File \"/Users/michaelraines/opt/anaconda3/lib/python3.8/site-packages/sklearn/model_selection/_validation.py\", line 680, in _fit_and_score\n",
      "    estimator.fit(X_train, y_train, **fit_params)\n",
      "  File \"/Users/michaelraines/opt/anaconda3/lib/python3.8/site-packages/sklearn/linear_model/_logistic.py\", line 1461, in fit\n",
      "    solver = _check_solver(self.solver, self.penalty, self.dual)\n",
      "  File \"/Users/michaelraines/opt/anaconda3/lib/python3.8/site-packages/sklearn/linear_model/_logistic.py\", line 447, in _check_solver\n",
      "    raise ValueError(\n",
      "ValueError: Solver newton-cg supports only 'l2' or 'none' penalties, got l1 penalty.\n",
      "\n",
      "--------------------------------------------------------------------------------\n",
      "60 fits failed with the following error:\n",
      "Traceback (most recent call last):\n",
      "  File \"/Users/michaelraines/opt/anaconda3/lib/python3.8/site-packages/sklearn/model_selection/_validation.py\", line 680, in _fit_and_score\n",
      "    estimator.fit(X_train, y_train, **fit_params)\n",
      "  File \"/Users/michaelraines/opt/anaconda3/lib/python3.8/site-packages/sklearn/linear_model/_logistic.py\", line 1461, in fit\n",
      "    solver = _check_solver(self.solver, self.penalty, self.dual)\n",
      "  File \"/Users/michaelraines/opt/anaconda3/lib/python3.8/site-packages/sklearn/linear_model/_logistic.py\", line 447, in _check_solver\n",
      "    raise ValueError(\n",
      "ValueError: Solver sag supports only 'l2' or 'none' penalties, got l1 penalty.\n",
      "\n",
      "--------------------------------------------------------------------------------\n",
      "60 fits failed with the following error:\n",
      "Traceback (most recent call last):\n",
      "  File \"/Users/michaelraines/opt/anaconda3/lib/python3.8/site-packages/sklearn/model_selection/_validation.py\", line 680, in _fit_and_score\n",
      "    estimator.fit(X_train, y_train, **fit_params)\n",
      "  File \"/Users/michaelraines/opt/anaconda3/lib/python3.8/site-packages/sklearn/linear_model/_logistic.py\", line 1461, in fit\n",
      "    solver = _check_solver(self.solver, self.penalty, self.dual)\n",
      "  File \"/Users/michaelraines/opt/anaconda3/lib/python3.8/site-packages/sklearn/linear_model/_logistic.py\", line 447, in _check_solver\n",
      "    raise ValueError(\n",
      "ValueError: Solver newton-cg supports only 'l2' or 'none' penalties, got elasticnet penalty.\n",
      "\n",
      "--------------------------------------------------------------------------------\n",
      "60 fits failed with the following error:\n",
      "Traceback (most recent call last):\n",
      "  File \"/Users/michaelraines/opt/anaconda3/lib/python3.8/site-packages/sklearn/model_selection/_validation.py\", line 680, in _fit_and_score\n",
      "    estimator.fit(X_train, y_train, **fit_params)\n",
      "  File \"/Users/michaelraines/opt/anaconda3/lib/python3.8/site-packages/sklearn/linear_model/_logistic.py\", line 1461, in fit\n",
      "    solver = _check_solver(self.solver, self.penalty, self.dual)\n",
      "  File \"/Users/michaelraines/opt/anaconda3/lib/python3.8/site-packages/sklearn/linear_model/_logistic.py\", line 447, in _check_solver\n",
      "    raise ValueError(\n",
      "ValueError: Solver sag supports only 'l2' or 'none' penalties, got elasticnet penalty.\n",
      "\n",
      "--------------------------------------------------------------------------------\n",
      "60 fits failed with the following error:\n",
      "Traceback (most recent call last):\n",
      "  File \"/Users/michaelraines/opt/anaconda3/lib/python3.8/site-packages/sklearn/model_selection/_validation.py\", line 680, in _fit_and_score\n",
      "    estimator.fit(X_train, y_train, **fit_params)\n",
      "  File \"/Users/michaelraines/opt/anaconda3/lib/python3.8/site-packages/sklearn/linear_model/_logistic.py\", line 1471, in fit\n",
      "    raise ValueError(\n",
      "ValueError: l1_ratio must be between 0 and 1; got (l1_ratio=None)\n",
      "\n",
      "--------------------------------------------------------------------------------\n",
      "60 fits failed with the following error:\n",
      "Traceback (most recent call last):\n",
      "  File \"/Users/michaelraines/opt/anaconda3/lib/python3.8/site-packages/sklearn/model_selection/_validation.py\", line 680, in _fit_and_score\n",
      "    estimator.fit(X_train, y_train, **fit_params)\n",
      "  File \"/Users/michaelraines/opt/anaconda3/lib/python3.8/site-packages/sklearn/linear_model/_logistic.py\", line 1461, in fit\n",
      "    solver = _check_solver(self.solver, self.penalty, self.dual)\n",
      "  File \"/Users/michaelraines/opt/anaconda3/lib/python3.8/site-packages/sklearn/linear_model/_logistic.py\", line 457, in _check_solver\n",
      "    raise ValueError(\n",
      "ValueError: Only 'saga' solver supports elasticnet penalty, got solver=liblinear.\n",
      "\n",
      "  warnings.warn(some_fits_failed_message, FitFailedWarning)\n",
      "/Users/michaelraines/opt/anaconda3/lib/python3.8/site-packages/sklearn/model_selection/_search.py:969: UserWarning: One or more of the test scores are non-finite: [       nan        nan 0.89522667 0.89522667 0.89522667 0.89522667\n",
      " 0.89522667 0.89522667        nan        nan        nan        nan\n",
      "        nan        nan 0.89522667 0.89522667 0.89522667 0.89522667\n",
      " 0.89522667 0.89522667        nan        nan        nan        nan\n",
      "        nan        nan 0.89522667 0.89522667 0.89522667 0.89522667\n",
      " 0.89522667 0.89522667        nan        nan        nan        nan\n",
      "        nan        nan 0.89522667 0.89522667 0.89522667 0.89522667\n",
      " 0.89522667 0.89522667        nan        nan        nan        nan\n",
      "        nan        nan 0.89522667 0.89522667 0.89522667 0.89522667\n",
      " 0.89522667 0.89522667        nan        nan        nan        nan\n",
      "        nan        nan 0.89522667 0.89522667 0.89522667 0.89522667\n",
      " 0.89522667 0.89522667        nan        nan        nan        nan\n",
      "        nan        nan 0.89522667 0.89522667 0.89522667 0.89522667\n",
      " 0.89522667 0.89522667        nan        nan        nan        nan\n",
      "        nan        nan 0.89522667 0.89522667 0.89522667 0.89522667\n",
      " 0.89522667 0.89522667        nan        nan        nan        nan\n",
      "        nan        nan 0.89522667 0.89522667 0.89522667 0.89522667\n",
      " 0.89522667 0.89522667        nan        nan        nan        nan\n",
      "        nan        nan 0.89522667 0.89522667 0.89522667 0.89522667\n",
      " 0.89522667 0.89522667        nan        nan        nan        nan\n",
      "        nan        nan 0.89522667 0.89522667 0.89522667 0.89522667\n",
      " 0.89522667 0.89522667        nan        nan        nan        nan\n",
      "        nan        nan 0.89522667 0.89522667 0.89522667 0.89522667\n",
      " 0.89522667 0.89522667        nan        nan        nan        nan]\n",
      "  warnings.warn(\n",
      "/Users/michaelraines/opt/anaconda3/lib/python3.8/site-packages/sklearn/linear_model/_sag.py:352: ConvergenceWarning: The max_iter was reached which means the coef_ did not converge\n",
      "  warnings.warn(\n"
     ]
    },
    {
     "data": {
      "text/plain": [
       "GridSearchCV(estimator=LogisticRegression(random_state=1),\n",
       "             param_grid={'C': [1.0, 0.1, 0.01],\n",
       "                         'max_iter': [500, 1000, 1500, 2000],\n",
       "                         'penalty': ['l1', 'l2', 'elasticnet'],\n",
       "                         'solver': ['newton-cg', 'sag', 'saga', 'liblinear']},\n",
       "             verbose=3)"
      ]
     },
     "execution_count": 12,
     "metadata": {},
     "output_type": "execute_result"
    }
   ],
   "source": [
    "model= LogisticRegression(random_state=1)\n",
    "param_grid = {\n",
    "   'penalty':['l1', 'l2', 'elasticnet'],\n",
    "    'C': [1.0, 0.1, 0.01],\n",
    "    'solver': ['newton-cg', 'sag', 'saga', 'liblinear'],\n",
    "              'max_iter': [500, 1000, 1500, 2000]}\n",
    "lr_grid_clf = GridSearchCV(model, param_grid, verbose=3)\n",
    "lr_grid_clf.fit(X_train_scaled, y_train)"
   ]
  },
  {
   "cell_type": "code",
   "execution_count": 13,
   "id": "231496cd",
   "metadata": {},
   "outputs": [
    {
     "name": "stdout",
     "output_type": "stream",
     "text": [
      "{'C': 1.0, 'max_iter': 500, 'penalty': 'l1', 'solver': 'saga'}\n",
      "0.8952266666666666\n"
     ]
    }
   ],
   "source": [
    "print(lr_grid_clf.best_params_)\n",
    "print(lr_grid_clf.best_score_)"
   ]
  },
  {
   "cell_type": "code",
   "execution_count": 14,
   "id": "37164245",
   "metadata": {},
   "outputs": [
    {
     "name": "stdout",
     "output_type": "stream",
     "text": [
      "Training Data Score: 0.8952266666666666\n",
      "Testing Data Score: 0.89328\n"
     ]
    },
    {
     "name": "stderr",
     "output_type": "stream",
     "text": [
      "/Users/michaelraines/opt/anaconda3/lib/python3.8/site-packages/sklearn/linear_model/_sag.py:352: ConvergenceWarning: The max_iter was reached which means the coef_ did not converge\n",
      "  warnings.warn(\n"
     ]
    }
   ],
   "source": [
    "lr_best_params=lr_grid_clf.best_params_\n",
    "lr_classifier= LogisticRegression(**lr_best_params, random_state=1).fit(X_train_scaled, y_train)\n",
    "print(f\"Training Data Score: {lr_classifier.score(X_train_scaled, y_train)}\")\n",
    "print(f\"Testing Data Score: {lr_classifier.score(X_test_scaled, y_test)}\")\n"
   ]
  },
  {
   "cell_type": "code",
   "execution_count": 15,
   "id": "e751132e",
   "metadata": {},
   "outputs": [],
   "source": [
    "# Print best to compare vs entire dataset\n",
    "pickle.dump(lr_classifier, open('Resources/lr_classifier.pkl','wb'))"
   ]
  },
  {
   "cell_type": "markdown",
   "id": "86b69f6f",
   "metadata": {},
   "source": [
    "#### Random Forest"
   ]
  },
  {
   "cell_type": "code",
   "execution_count": 16,
   "id": "545318c6",
   "metadata": {},
   "outputs": [
    {
     "name": "stdout",
     "output_type": "stream",
     "text": [
      "Fitting 5 folds for each of 12 candidates, totalling 60 fits\n",
      "[CV 1/5] END bootstrap=True, max_features=sqrt, n_estimators=100;, score=0.877 total time=   2.4s\n",
      "[CV 2/5] END bootstrap=True, max_features=sqrt, n_estimators=100;, score=0.878 total time=   2.1s\n",
      "[CV 3/5] END bootstrap=True, max_features=sqrt, n_estimators=100;, score=0.873 total time=   2.2s\n",
      "[CV 4/5] END bootstrap=True, max_features=sqrt, n_estimators=100;, score=0.878 total time=   2.2s\n",
      "[CV 5/5] END bootstrap=True, max_features=sqrt, n_estimators=100;, score=0.876 total time=   2.2s\n",
      "[CV 1/5] END bootstrap=True, max_features=sqrt, n_estimators=150;, score=0.878 total time=   3.2s\n",
      "[CV 2/5] END bootstrap=True, max_features=sqrt, n_estimators=150;, score=0.878 total time=   3.2s\n",
      "[CV 3/5] END bootstrap=True, max_features=sqrt, n_estimators=150;, score=0.872 total time=   3.2s\n",
      "[CV 4/5] END bootstrap=True, max_features=sqrt, n_estimators=150;, score=0.877 total time=   3.1s\n",
      "[CV 5/5] END bootstrap=True, max_features=sqrt, n_estimators=150;, score=0.876 total time=   3.1s\n",
      "[CV 1/5] END bootstrap=True, max_features=sqrt, n_estimators=200;, score=0.878 total time=   4.2s\n",
      "[CV 2/5] END bootstrap=True, max_features=sqrt, n_estimators=200;, score=0.878 total time=   4.1s\n",
      "[CV 3/5] END bootstrap=True, max_features=sqrt, n_estimators=200;, score=0.873 total time=   4.1s\n",
      "[CV 4/5] END bootstrap=True, max_features=sqrt, n_estimators=200;, score=0.877 total time=   4.2s\n",
      "[CV 5/5] END bootstrap=True, max_features=sqrt, n_estimators=200;, score=0.877 total time=   4.2s\n",
      "[CV 1/5] END bootstrap=True, max_features=log2, n_estimators=100;, score=0.876 total time=   2.0s\n",
      "[CV 2/5] END bootstrap=True, max_features=log2, n_estimators=100;, score=0.878 total time=   2.0s\n",
      "[CV 3/5] END bootstrap=True, max_features=log2, n_estimators=100;, score=0.873 total time=   2.0s\n",
      "[CV 4/5] END bootstrap=True, max_features=log2, n_estimators=100;, score=0.877 total time=   2.0s\n",
      "[CV 5/5] END bootstrap=True, max_features=log2, n_estimators=100;, score=0.877 total time=   2.0s\n",
      "[CV 1/5] END bootstrap=True, max_features=log2, n_estimators=150;, score=0.876 total time=   3.0s\n",
      "[CV 2/5] END bootstrap=True, max_features=log2, n_estimators=150;, score=0.878 total time=   3.0s\n",
      "[CV 3/5] END bootstrap=True, max_features=log2, n_estimators=150;, score=0.873 total time=   3.0s\n",
      "[CV 4/5] END bootstrap=True, max_features=log2, n_estimators=150;, score=0.878 total time=   3.0s\n",
      "[CV 5/5] END bootstrap=True, max_features=log2, n_estimators=150;, score=0.878 total time=   3.0s\n",
      "[CV 1/5] END bootstrap=True, max_features=log2, n_estimators=200;, score=0.877 total time=   4.0s\n",
      "[CV 2/5] END bootstrap=True, max_features=log2, n_estimators=200;, score=0.878 total time=   3.9s\n",
      "[CV 3/5] END bootstrap=True, max_features=log2, n_estimators=200;, score=0.873 total time=   4.0s\n",
      "[CV 4/5] END bootstrap=True, max_features=log2, n_estimators=200;, score=0.878 total time=   4.0s\n",
      "[CV 5/5] END bootstrap=True, max_features=log2, n_estimators=200;, score=0.878 total time=   4.0s\n",
      "[CV 1/5] END bootstrap=False, max_features=sqrt, n_estimators=100;, score=0.851 total time=   3.1s\n",
      "[CV 2/5] END bootstrap=False, max_features=sqrt, n_estimators=100;, score=0.848 total time=   3.1s\n",
      "[CV 3/5] END bootstrap=False, max_features=sqrt, n_estimators=100;, score=0.842 total time=   3.1s\n",
      "[CV 4/5] END bootstrap=False, max_features=sqrt, n_estimators=100;, score=0.851 total time=   3.1s\n",
      "[CV 5/5] END bootstrap=False, max_features=sqrt, n_estimators=100;, score=0.852 total time=   3.1s\n",
      "[CV 1/5] END bootstrap=False, max_features=sqrt, n_estimators=150;, score=0.851 total time=   4.7s\n",
      "[CV 2/5] END bootstrap=False, max_features=sqrt, n_estimators=150;, score=0.850 total time=   4.7s\n",
      "[CV 3/5] END bootstrap=False, max_features=sqrt, n_estimators=150;, score=0.843 total time=   4.7s\n",
      "[CV 4/5] END bootstrap=False, max_features=sqrt, n_estimators=150;, score=0.851 total time=   4.8s\n",
      "[CV 5/5] END bootstrap=False, max_features=sqrt, n_estimators=150;, score=0.853 total time=   4.7s\n",
      "[CV 1/5] END bootstrap=False, max_features=sqrt, n_estimators=200;, score=0.851 total time=   6.4s\n",
      "[CV 2/5] END bootstrap=False, max_features=sqrt, n_estimators=200;, score=0.850 total time=   6.4s\n",
      "[CV 3/5] END bootstrap=False, max_features=sqrt, n_estimators=200;, score=0.843 total time=   6.9s\n",
      "[CV 4/5] END bootstrap=False, max_features=sqrt, n_estimators=200;, score=0.850 total time=   7.6s\n",
      "[CV 5/5] END bootstrap=False, max_features=sqrt, n_estimators=200;, score=0.853 total time=   6.8s\n",
      "[CV 1/5] END bootstrap=False, max_features=log2, n_estimators=100;, score=0.851 total time=   3.2s\n",
      "[CV 2/5] END bootstrap=False, max_features=log2, n_estimators=100;, score=0.850 total time=   3.5s\n",
      "[CV 3/5] END bootstrap=False, max_features=log2, n_estimators=100;, score=0.843 total time=   3.3s\n",
      "[CV 4/5] END bootstrap=False, max_features=log2, n_estimators=100;, score=0.850 total time=   3.2s\n",
      "[CV 5/5] END bootstrap=False, max_features=log2, n_estimators=100;, score=0.852 total time=   3.1s\n",
      "[CV 1/5] END bootstrap=False, max_features=log2, n_estimators=150;, score=0.851 total time=   4.7s\n",
      "[CV 2/5] END bootstrap=False, max_features=log2, n_estimators=150;, score=0.849 total time=   5.2s\n",
      "[CV 3/5] END bootstrap=False, max_features=log2, n_estimators=150;, score=0.842 total time=   4.9s\n",
      "[CV 4/5] END bootstrap=False, max_features=log2, n_estimators=150;, score=0.851 total time=   5.2s\n",
      "[CV 5/5] END bootstrap=False, max_features=log2, n_estimators=150;, score=0.852 total time=   4.9s\n",
      "[CV 1/5] END bootstrap=False, max_features=log2, n_estimators=200;, score=0.851 total time=   6.7s\n",
      "[CV 2/5] END bootstrap=False, max_features=log2, n_estimators=200;, score=0.851 total time=   6.8s\n",
      "[CV 3/5] END bootstrap=False, max_features=log2, n_estimators=200;, score=0.843 total time=   6.5s\n",
      "[CV 4/5] END bootstrap=False, max_features=log2, n_estimators=200;, score=0.850 total time=   7.6s\n",
      "[CV 5/5] END bootstrap=False, max_features=log2, n_estimators=200;, score=0.852 total time=   9.0s\n"
     ]
    },
    {
     "data": {
      "text/plain": [
       "GridSearchCV(estimator=RandomForestClassifier(random_state=1),\n",
       "             param_grid={'bootstrap': [True, False],\n",
       "                         'max_features': ['sqrt', 'log2'],\n",
       "                         'n_estimators': [100, 150, 200]},\n",
       "             verbose=3)"
      ]
     },
     "execution_count": 16,
     "metadata": {},
     "output_type": "execute_result"
    }
   ],
   "source": [
    "model= RandomForestClassifier(random_state=1)\n",
    "\n",
    "param_grid = {\n",
    "    'n_estimators': [100,150,200],\n",
    "    'bootstrap' : [True, False],\n",
    "    'max_features': ['sqrt', 'log2']\n",
    "}\n",
    "rf_grid_clf = GridSearchCV(model, param_grid, verbose=3)\n",
    "rf_grid_clf.fit(X_train_scaled, y_train)"
   ]
  },
  {
   "cell_type": "code",
   "execution_count": 17,
   "id": "8947050b",
   "metadata": {},
   "outputs": [
    {
     "name": "stdout",
     "output_type": "stream",
     "text": [
      "{'bootstrap': True, 'max_features': 'log2', 'n_estimators': 200}\n",
      "0.8769866666666667\n"
     ]
    }
   ],
   "source": [
    "print(rf_grid_clf.best_params_)\n",
    "print(rf_grid_clf.best_score_)"
   ]
  },
  {
   "cell_type": "code",
   "execution_count": 18,
   "id": "4044a257",
   "metadata": {},
   "outputs": [
    {
     "name": "stdout",
     "output_type": "stream",
     "text": [
      "Training Data Score: 0.9934666666666667\n",
      "Testing Data Score: 0.8696\n"
     ]
    }
   ],
   "source": [
    "rf_best_params=rf_grid_clf.best_params_\n",
    "rf_classifier= RandomForestClassifier(**rf_best_params, random_state=1).fit(X_train_scaled, y_train)\n",
    "print(f\"Training Data Score: {rf_classifier.score(X_train_scaled, y_train)}\")\n",
    "print(f\"Testing Data Score: {rf_classifier.score(X_test_scaled, y_test)}\")"
   ]
  },
  {
   "cell_type": "code",
   "execution_count": 19,
   "id": "b6cba8a0",
   "metadata": {},
   "outputs": [],
   "source": [
    "pickle.dump(rf_classifier, open('Resources/rf_classifier.pkl','wb'))"
   ]
  },
  {
   "cell_type": "markdown",
   "id": "62d2fa45",
   "metadata": {},
   "source": [
    "#### Ada Boost "
   ]
  },
  {
   "cell_type": "code",
   "execution_count": 20,
   "id": "bb3fff62",
   "metadata": {},
   "outputs": [
    {
     "name": "stdout",
     "output_type": "stream",
     "text": [
      "Fitting 5 folds for each of 30 candidates, totalling 150 fits\n",
      "[CV 1/5] END algorithm=SAMME, learning_rate=0.001, n_estimators=500;, score=0.895 total time=   5.4s\n",
      "[CV 2/5] END algorithm=SAMME, learning_rate=0.001, n_estimators=500;, score=0.895 total time=   5.5s\n",
      "[CV 3/5] END algorithm=SAMME, learning_rate=0.001, n_estimators=500;, score=0.895 total time=   5.9s\n",
      "[CV 4/5] END algorithm=SAMME, learning_rate=0.001, n_estimators=500;, score=0.895 total time=   5.5s\n",
      "[CV 5/5] END algorithm=SAMME, learning_rate=0.001, n_estimators=500;, score=0.895 total time=   5.4s\n",
      "[CV 1/5] END algorithm=SAMME, learning_rate=0.001, n_estimators=1000;, score=0.895 total time=  10.9s\n",
      "[CV 2/5] END algorithm=SAMME, learning_rate=0.001, n_estimators=1000;, score=0.895 total time=  10.9s\n",
      "[CV 3/5] END algorithm=SAMME, learning_rate=0.001, n_estimators=1000;, score=0.895 total time=  11.2s\n",
      "[CV 4/5] END algorithm=SAMME, learning_rate=0.001, n_estimators=1000;, score=0.895 total time=  12.2s\n",
      "[CV 5/5] END algorithm=SAMME, learning_rate=0.001, n_estimators=1000;, score=0.895 total time=  11.2s\n",
      "[CV 1/5] END algorithm=SAMME, learning_rate=0.001, n_estimators=1500;, score=0.895 total time=  16.2s\n",
      "[CV 2/5] END algorithm=SAMME, learning_rate=0.001, n_estimators=1500;, score=0.895 total time=  14.9s\n",
      "[CV 3/5] END algorithm=SAMME, learning_rate=0.001, n_estimators=1500;, score=0.895 total time=  13.9s\n",
      "[CV 4/5] END algorithm=SAMME, learning_rate=0.001, n_estimators=1500;, score=0.895 total time=  14.0s\n",
      "[CV 5/5] END algorithm=SAMME, learning_rate=0.001, n_estimators=1500;, score=0.895 total time=  13.8s\n",
      "[CV 1/5] END algorithm=SAMME, learning_rate=0.01, n_estimators=500;, score=0.895 total time=   4.7s\n",
      "[CV 2/5] END algorithm=SAMME, learning_rate=0.01, n_estimators=500;, score=0.895 total time=   4.7s\n",
      "[CV 3/5] END algorithm=SAMME, learning_rate=0.01, n_estimators=500;, score=0.895 total time=   4.7s\n",
      "[CV 4/5] END algorithm=SAMME, learning_rate=0.01, n_estimators=500;, score=0.895 total time=   4.7s\n",
      "[CV 5/5] END algorithm=SAMME, learning_rate=0.01, n_estimators=500;, score=0.895 total time=   4.7s\n",
      "[CV 1/5] END algorithm=SAMME, learning_rate=0.01, n_estimators=1000;, score=0.895 total time=   9.3s\n",
      "[CV 2/5] END algorithm=SAMME, learning_rate=0.01, n_estimators=1000;, score=0.895 total time=   9.3s\n",
      "[CV 3/5] END algorithm=SAMME, learning_rate=0.01, n_estimators=1000;, score=0.895 total time=   9.3s\n",
      "[CV 4/5] END algorithm=SAMME, learning_rate=0.01, n_estimators=1000;, score=0.895 total time=   9.4s\n",
      "[CV 5/5] END algorithm=SAMME, learning_rate=0.01, n_estimators=1000;, score=0.895 total time=   9.3s\n",
      "[CV 1/5] END algorithm=SAMME, learning_rate=0.01, n_estimators=1500;, score=0.895 total time=  13.9s\n",
      "[CV 2/5] END algorithm=SAMME, learning_rate=0.01, n_estimators=1500;, score=0.895 total time=  13.9s\n",
      "[CV 3/5] END algorithm=SAMME, learning_rate=0.01, n_estimators=1500;, score=0.895 total time=  13.9s\n",
      "[CV 4/5] END algorithm=SAMME, learning_rate=0.01, n_estimators=1500;, score=0.895 total time=  13.9s\n",
      "[CV 5/5] END algorithm=SAMME, learning_rate=0.01, n_estimators=1500;, score=0.895 total time=  13.9s\n",
      "[CV 1/5] END algorithm=SAMME, learning_rate=0.1, n_estimators=500;, score=0.895 total time=   4.7s\n",
      "[CV 2/5] END algorithm=SAMME, learning_rate=0.1, n_estimators=500;, score=0.895 total time=   4.6s\n",
      "[CV 3/5] END algorithm=SAMME, learning_rate=0.1, n_estimators=500;, score=0.895 total time=   4.7s\n",
      "[CV 4/5] END algorithm=SAMME, learning_rate=0.1, n_estimators=500;, score=0.895 total time=   4.7s\n",
      "[CV 5/5] END algorithm=SAMME, learning_rate=0.1, n_estimators=500;, score=0.895 total time=   4.6s\n",
      "[CV 1/5] END algorithm=SAMME, learning_rate=0.1, n_estimators=1000;, score=0.895 total time=   9.2s\n",
      "[CV 2/5] END algorithm=SAMME, learning_rate=0.1, n_estimators=1000;, score=0.895 total time=   9.2s\n",
      "[CV 3/5] END algorithm=SAMME, learning_rate=0.1, n_estimators=1000;, score=0.895 total time=   9.3s\n",
      "[CV 4/5] END algorithm=SAMME, learning_rate=0.1, n_estimators=1000;, score=0.895 total time=   9.3s\n",
      "[CV 5/5] END algorithm=SAMME, learning_rate=0.1, n_estimators=1000;, score=0.895 total time=   9.2s\n",
      "[CV 1/5] END algorithm=SAMME, learning_rate=0.1, n_estimators=1500;, score=0.896 total time=  14.3s\n",
      "[CV 2/5] END algorithm=SAMME, learning_rate=0.1, n_estimators=1500;, score=0.896 total time=  14.0s\n",
      "[CV 3/5] END algorithm=SAMME, learning_rate=0.1, n_estimators=1500;, score=0.896 total time=  14.1s\n",
      "[CV 4/5] END algorithm=SAMME, learning_rate=0.1, n_estimators=1500;, score=0.895 total time=  14.3s\n",
      "[CV 5/5] END algorithm=SAMME, learning_rate=0.1, n_estimators=1500;, score=0.895 total time=  13.7s\n",
      "[CV 1/5] END algorithm=SAMME, learning_rate=0.5, n_estimators=500;, score=0.897 total time=   5.4s\n",
      "[CV 2/5] END algorithm=SAMME, learning_rate=0.5, n_estimators=500;, score=0.896 total time=   5.3s\n",
      "[CV 3/5] END algorithm=SAMME, learning_rate=0.5, n_estimators=500;, score=0.896 total time=   5.5s\n",
      "[CV 4/5] END algorithm=SAMME, learning_rate=0.5, n_estimators=500;, score=0.896 total time=   5.4s\n",
      "[CV 5/5] END algorithm=SAMME, learning_rate=0.5, n_estimators=500;, score=0.897 total time=   5.4s\n",
      "[CV 1/5] END algorithm=SAMME, learning_rate=0.5, n_estimators=1000;, score=0.896 total time=  11.2s\n",
      "[CV 2/5] END algorithm=SAMME, learning_rate=0.5, n_estimators=1000;, score=0.896 total time=  11.0s\n",
      "[CV 3/5] END algorithm=SAMME, learning_rate=0.5, n_estimators=1000;, score=0.896 total time=  11.3s\n",
      "[CV 4/5] END algorithm=SAMME, learning_rate=0.5, n_estimators=1000;, score=0.896 total time=  11.2s\n",
      "[CV 5/5] END algorithm=SAMME, learning_rate=0.5, n_estimators=1000;, score=0.897 total time=  11.0s\n",
      "[CV 1/5] END algorithm=SAMME, learning_rate=0.5, n_estimators=1500;, score=0.896 total time=  16.8s\n",
      "[CV 2/5] END algorithm=SAMME, learning_rate=0.5, n_estimators=1500;, score=0.896 total time=  16.8s\n",
      "[CV 3/5] END algorithm=SAMME, learning_rate=0.5, n_estimators=1500;, score=0.896 total time=  17.2s\n",
      "[CV 4/5] END algorithm=SAMME, learning_rate=0.5, n_estimators=1500;, score=0.896 total time=  17.0s\n",
      "[CV 5/5] END algorithm=SAMME, learning_rate=0.5, n_estimators=1500;, score=0.897 total time=  17.3s\n",
      "[CV 1/5] END algorithm=SAMME, learning_rate=0.7, n_estimators=500;, score=0.896 total time=   5.6s\n",
      "[CV 2/5] END algorithm=SAMME, learning_rate=0.7, n_estimators=500;, score=0.896 total time=   5.7s\n",
      "[CV 3/5] END algorithm=SAMME, learning_rate=0.7, n_estimators=500;, score=0.896 total time=   5.5s\n",
      "[CV 4/5] END algorithm=SAMME, learning_rate=0.7, n_estimators=500;, score=0.896 total time=   5.7s\n",
      "[CV 5/5] END algorithm=SAMME, learning_rate=0.7, n_estimators=500;, score=0.897 total time=   5.7s\n",
      "[CV 1/5] END algorithm=SAMME, learning_rate=0.7, n_estimators=1000;, score=0.896 total time=  12.8s\n",
      "[CV 2/5] END algorithm=SAMME, learning_rate=0.7, n_estimators=1000;, score=0.896 total time=  11.4s\n",
      "[CV 3/5] END algorithm=SAMME, learning_rate=0.7, n_estimators=1000;, score=0.896 total time=  11.6s\n",
      "[CV 4/5] END algorithm=SAMME, learning_rate=0.7, n_estimators=1000;, score=0.896 total time=  11.6s\n",
      "[CV 5/5] END algorithm=SAMME, learning_rate=0.7, n_estimators=1000;, score=0.897 total time=  11.5s\n",
      "[CV 1/5] END algorithm=SAMME, learning_rate=0.7, n_estimators=1500;, score=0.896 total time=  17.8s\n",
      "[CV 2/5] END algorithm=SAMME, learning_rate=0.7, n_estimators=1500;, score=0.896 total time=  17.1s\n",
      "[CV 3/5] END algorithm=SAMME, learning_rate=0.7, n_estimators=1500;, score=0.896 total time=  14.1s\n",
      "[CV 4/5] END algorithm=SAMME, learning_rate=0.7, n_estimators=1500;, score=0.896 total time=  13.8s\n",
      "[CV 5/5] END algorithm=SAMME, learning_rate=0.7, n_estimators=1500;, score=0.897 total time=  13.9s\n",
      "[CV 1/5] END algorithm=SAMME.R, learning_rate=0.001, n_estimators=500;, score=0.895 total time=   5.8s\n",
      "[CV 2/5] END algorithm=SAMME.R, learning_rate=0.001, n_estimators=500;, score=0.895 total time=   5.8s\n",
      "[CV 3/5] END algorithm=SAMME.R, learning_rate=0.001, n_estimators=500;, score=0.895 total time=   5.8s\n",
      "[CV 4/5] END algorithm=SAMME.R, learning_rate=0.001, n_estimators=500;, score=0.895 total time=   5.9s\n",
      "[CV 5/5] END algorithm=SAMME.R, learning_rate=0.001, n_estimators=500;, score=0.895 total time=   5.6s\n",
      "[CV 1/5] END algorithm=SAMME.R, learning_rate=0.001, n_estimators=1000;, score=0.895 total time=  11.3s\n"
     ]
    },
    {
     "name": "stdout",
     "output_type": "stream",
     "text": [
      "[CV 2/5] END algorithm=SAMME.R, learning_rate=0.001, n_estimators=1000;, score=0.895 total time=  11.7s\n",
      "[CV 3/5] END algorithm=SAMME.R, learning_rate=0.001, n_estimators=1000;, score=0.895 total time=  11.5s\n",
      "[CV 4/5] END algorithm=SAMME.R, learning_rate=0.001, n_estimators=1000;, score=0.895 total time=  11.4s\n",
      "[CV 5/5] END algorithm=SAMME.R, learning_rate=0.001, n_estimators=1000;, score=0.895 total time=  11.4s\n",
      "[CV 1/5] END algorithm=SAMME.R, learning_rate=0.001, n_estimators=1500;, score=0.895 total time=  17.6s\n",
      "[CV 2/5] END algorithm=SAMME.R, learning_rate=0.001, n_estimators=1500;, score=0.895 total time=  17.1s\n",
      "[CV 3/5] END algorithm=SAMME.R, learning_rate=0.001, n_estimators=1500;, score=0.895 total time=  17.4s\n",
      "[CV 4/5] END algorithm=SAMME.R, learning_rate=0.001, n_estimators=1500;, score=0.895 total time=  18.1s\n",
      "[CV 5/5] END algorithm=SAMME.R, learning_rate=0.001, n_estimators=1500;, score=0.895 total time=  17.9s\n",
      "[CV 1/5] END algorithm=SAMME.R, learning_rate=0.01, n_estimators=500;, score=0.896 total time=   5.8s\n",
      "[CV 2/5] END algorithm=SAMME.R, learning_rate=0.01, n_estimators=500;, score=0.895 total time=   6.0s\n",
      "[CV 3/5] END algorithm=SAMME.R, learning_rate=0.01, n_estimators=500;, score=0.896 total time=   5.9s\n",
      "[CV 4/5] END algorithm=SAMME.R, learning_rate=0.01, n_estimators=500;, score=0.895 total time=   5.9s\n",
      "[CV 5/5] END algorithm=SAMME.R, learning_rate=0.01, n_estimators=500;, score=0.896 total time=   5.7s\n",
      "[CV 1/5] END algorithm=SAMME.R, learning_rate=0.01, n_estimators=1000;, score=0.897 total time=  11.8s\n",
      "[CV 2/5] END algorithm=SAMME.R, learning_rate=0.01, n_estimators=1000;, score=0.897 total time=  11.8s\n",
      "[CV 3/5] END algorithm=SAMME.R, learning_rate=0.01, n_estimators=1000;, score=0.896 total time=  11.5s\n",
      "[CV 4/5] END algorithm=SAMME.R, learning_rate=0.01, n_estimators=1000;, score=0.896 total time=  12.0s\n",
      "[CV 5/5] END algorithm=SAMME.R, learning_rate=0.01, n_estimators=1000;, score=0.897 total time=  11.9s\n",
      "[CV 1/5] END algorithm=SAMME.R, learning_rate=0.01, n_estimators=1500;, score=0.896 total time=  17.5s\n",
      "[CV 2/5] END algorithm=SAMME.R, learning_rate=0.01, n_estimators=1500;, score=0.897 total time=  17.5s\n",
      "[CV 3/5] END algorithm=SAMME.R, learning_rate=0.01, n_estimators=1500;, score=0.896 total time=  17.4s\n",
      "[CV 4/5] END algorithm=SAMME.R, learning_rate=0.01, n_estimators=1500;, score=0.896 total time=  17.3s\n",
      "[CV 5/5] END algorithm=SAMME.R, learning_rate=0.01, n_estimators=1500;, score=0.897 total time=  17.1s\n",
      "[CV 1/5] END algorithm=SAMME.R, learning_rate=0.1, n_estimators=500;, score=0.896 total time=   5.7s\n",
      "[CV 2/5] END algorithm=SAMME.R, learning_rate=0.1, n_estimators=500;, score=0.897 total time=   5.7s\n",
      "[CV 3/5] END algorithm=SAMME.R, learning_rate=0.1, n_estimators=500;, score=0.896 total time=   5.6s\n",
      "[CV 4/5] END algorithm=SAMME.R, learning_rate=0.1, n_estimators=500;, score=0.896 total time=   5.6s\n",
      "[CV 5/5] END algorithm=SAMME.R, learning_rate=0.1, n_estimators=500;, score=0.897 total time=   5.6s\n",
      "[CV 1/5] END algorithm=SAMME.R, learning_rate=0.1, n_estimators=1000;, score=0.896 total time=  11.3s\n",
      "[CV 2/5] END algorithm=SAMME.R, learning_rate=0.1, n_estimators=1000;, score=0.897 total time=  11.4s\n",
      "[CV 3/5] END algorithm=SAMME.R, learning_rate=0.1, n_estimators=1000;, score=0.896 total time=  11.4s\n",
      "[CV 4/5] END algorithm=SAMME.R, learning_rate=0.1, n_estimators=1000;, score=0.896 total time=  11.8s\n",
      "[CV 5/5] END algorithm=SAMME.R, learning_rate=0.1, n_estimators=1000;, score=0.897 total time=  11.6s\n",
      "[CV 1/5] END algorithm=SAMME.R, learning_rate=0.1, n_estimators=1500;, score=0.896 total time=  16.9s\n",
      "[CV 2/5] END algorithm=SAMME.R, learning_rate=0.1, n_estimators=1500;, score=0.897 total time=  17.1s\n",
      "[CV 3/5] END algorithm=SAMME.R, learning_rate=0.1, n_estimators=1500;, score=0.896 total time=  17.3s\n",
      "[CV 4/5] END algorithm=SAMME.R, learning_rate=0.1, n_estimators=1500;, score=0.896 total time=  17.9s\n",
      "[CV 5/5] END algorithm=SAMME.R, learning_rate=0.1, n_estimators=1500;, score=0.897 total time=  17.1s\n",
      "[CV 1/5] END algorithm=SAMME.R, learning_rate=0.5, n_estimators=500;, score=0.896 total time=   5.8s\n",
      "[CV 2/5] END algorithm=SAMME.R, learning_rate=0.5, n_estimators=500;, score=0.897 total time=   5.7s\n",
      "[CV 3/5] END algorithm=SAMME.R, learning_rate=0.5, n_estimators=500;, score=0.896 total time=   5.8s\n",
      "[CV 4/5] END algorithm=SAMME.R, learning_rate=0.5, n_estimators=500;, score=0.895 total time=   5.8s\n",
      "[CV 5/5] END algorithm=SAMME.R, learning_rate=0.5, n_estimators=500;, score=0.897 total time=   5.6s\n",
      "[CV 1/5] END algorithm=SAMME.R, learning_rate=0.5, n_estimators=1000;, score=0.896 total time=  11.3s\n",
      "[CV 2/5] END algorithm=SAMME.R, learning_rate=0.5, n_estimators=1000;, score=0.897 total time=  11.4s\n",
      "[CV 3/5] END algorithm=SAMME.R, learning_rate=0.5, n_estimators=1000;, score=0.896 total time=  11.3s\n",
      "[CV 4/5] END algorithm=SAMME.R, learning_rate=0.5, n_estimators=1000;, score=0.895 total time=  11.6s\n",
      "[CV 5/5] END algorithm=SAMME.R, learning_rate=0.5, n_estimators=1000;, score=0.896 total time=  11.5s\n",
      "[CV 1/5] END algorithm=SAMME.R, learning_rate=0.5, n_estimators=1500;, score=0.896 total time=  17.1s\n",
      "[CV 2/5] END algorithm=SAMME.R, learning_rate=0.5, n_estimators=1500;, score=0.897 total time=  17.5s\n",
      "[CV 3/5] END algorithm=SAMME.R, learning_rate=0.5, n_estimators=1500;, score=0.896 total time=  17.0s\n",
      "[CV 4/5] END algorithm=SAMME.R, learning_rate=0.5, n_estimators=1500;, score=0.895 total time=  17.0s\n",
      "[CV 5/5] END algorithm=SAMME.R, learning_rate=0.5, n_estimators=1500;, score=0.897 total time=  16.9s\n",
      "[CV 1/5] END algorithm=SAMME.R, learning_rate=0.7, n_estimators=500;, score=0.896 total time=   5.7s\n",
      "[CV 2/5] END algorithm=SAMME.R, learning_rate=0.7, n_estimators=500;, score=0.897 total time=   5.7s\n",
      "[CV 3/5] END algorithm=SAMME.R, learning_rate=0.7, n_estimators=500;, score=0.896 total time=   5.6s\n",
      "[CV 4/5] END algorithm=SAMME.R, learning_rate=0.7, n_estimators=500;, score=0.895 total time=   5.6s\n",
      "[CV 5/5] END algorithm=SAMME.R, learning_rate=0.7, n_estimators=500;, score=0.897 total time=   5.6s\n",
      "[CV 1/5] END algorithm=SAMME.R, learning_rate=0.7, n_estimators=1000;, score=0.895 total time=  11.3s\n",
      "[CV 2/5] END algorithm=SAMME.R, learning_rate=0.7, n_estimators=1000;, score=0.897 total time=  11.4s\n",
      "[CV 3/5] END algorithm=SAMME.R, learning_rate=0.7, n_estimators=1000;, score=0.896 total time=  11.6s\n",
      "[CV 4/5] END algorithm=SAMME.R, learning_rate=0.7, n_estimators=1000;, score=0.895 total time=  11.7s\n",
      "[CV 5/5] END algorithm=SAMME.R, learning_rate=0.7, n_estimators=1000;, score=0.897 total time=  12.1s\n",
      "[CV 1/5] END algorithm=SAMME.R, learning_rate=0.7, n_estimators=1500;, score=0.895 total time=  17.2s\n",
      "[CV 2/5] END algorithm=SAMME.R, learning_rate=0.7, n_estimators=1500;, score=0.897 total time=  17.0s\n",
      "[CV 3/5] END algorithm=SAMME.R, learning_rate=0.7, n_estimators=1500;, score=0.896 total time=  17.2s\n",
      "[CV 4/5] END algorithm=SAMME.R, learning_rate=0.7, n_estimators=1500;, score=0.895 total time=  17.1s\n",
      "[CV 5/5] END algorithm=SAMME.R, learning_rate=0.7, n_estimators=1500;, score=0.897 total time=  16.9s\n"
     ]
    },
    {
     "data": {
      "text/plain": [
       "GridSearchCV(estimator=AdaBoostClassifier(random_state=1),\n",
       "             param_grid={'algorithm': ['SAMME', 'SAMME.R'],\n",
       "                         'learning_rate': [0.001, 0.01, 0.1, 0.5, 0.7],\n",
       "                         'n_estimators': [500, 1000, 1500]},\n",
       "             verbose=3)"
      ]
     },
     "execution_count": 20,
     "metadata": {},
     "output_type": "execute_result"
    }
   ],
   "source": [
    "model= AdaBoostClassifier(random_state=1)\n",
    "\n",
    "param_grid = {\n",
    "    'learning_rate': [0.001, 0.01, 0.1, 0.5, 0.7],\n",
    "    'algorithm':['SAMME', 'SAMME.R'],\n",
    "    'n_estimators': [500, 1000, 1500]\n",
    "}\n",
    "ab_grid_clf = GridSearchCV(model, param_grid, verbose=3)\n",
    "ab_grid_clf.fit(X_train_scaled, y_train)"
   ]
  },
  {
   "cell_type": "code",
   "execution_count": 21,
   "id": "e74473f0",
   "metadata": {},
   "outputs": [
    {
     "name": "stdout",
     "output_type": "stream",
     "text": [
      "{'algorithm': 'SAMME.R', 'learning_rate': 0.01, 'n_estimators': 1000}\n",
      "0.8966133333333334\n"
     ]
    }
   ],
   "source": [
    "print(ab_grid_clf.best_params_)\n",
    "print(ab_grid_clf.best_score_)"
   ]
  },
  {
   "cell_type": "code",
   "execution_count": 22,
   "id": "b24ce990",
   "metadata": {},
   "outputs": [
    {
     "name": "stdout",
     "output_type": "stream",
     "text": [
      "Training Data Score: 0.8965866666666666\n",
      "Testing Data Score: 0.8936\n"
     ]
    }
   ],
   "source": [
    "ab_best_params=ab_grid_clf.best_params_\n",
    "ab_classifier= AdaBoostClassifier(**ab_best_params, random_state=1).fit(X_train_scaled, y_train)\n",
    "print(f\"Training Data Score: {ab_classifier.score(X_train_scaled, y_train)}\")\n",
    "print(f\"Testing Data Score: {ab_classifier.score(X_test_scaled, y_test)}\")"
   ]
  },
  {
   "cell_type": "code",
   "execution_count": 23,
   "id": "4ae87648",
   "metadata": {},
   "outputs": [],
   "source": [
    "pickle.dump(ab_classifier, open('Resources/ab_classifier.pkl','wb'))"
   ]
  },
  {
   "cell_type": "markdown",
   "id": "bc5a9470",
   "metadata": {},
   "source": [
    "#### SVC"
   ]
  },
  {
   "cell_type": "code",
   "execution_count": 24,
   "id": "1e7b9ac7",
   "metadata": {},
   "outputs": [
    {
     "name": "stdout",
     "output_type": "stream",
     "text": [
      "Fitting 5 folds for each of 24 candidates, totalling 120 fits\n",
      "[CV 1/5] END ....C=1.0, max_iter=1000, penalty=l1;, score=nan total time=   0.0s\n",
      "[CV 2/5] END ....C=1.0, max_iter=1000, penalty=l1;, score=nan total time=   0.0s\n",
      "[CV 3/5] END ....C=1.0, max_iter=1000, penalty=l1;, score=nan total time=   0.0s\n",
      "[CV 4/5] END ....C=1.0, max_iter=1000, penalty=l1;, score=nan total time=   0.0s\n",
      "[CV 5/5] END ....C=1.0, max_iter=1000, penalty=l1;, score=nan total time=   0.0s\n"
     ]
    },
    {
     "name": "stderr",
     "output_type": "stream",
     "text": [
      "/Users/michaelraines/opt/anaconda3/lib/python3.8/site-packages/sklearn/svm/_base.py:1206: ConvergenceWarning: Liblinear failed to converge, increase the number of iterations.\n",
      "  warnings.warn(\n"
     ]
    },
    {
     "name": "stdout",
     "output_type": "stream",
     "text": [
      "[CV 1/5] END ..C=1.0, max_iter=1000, penalty=l2;, score=0.895 total time=   2.5s\n"
     ]
    },
    {
     "name": "stderr",
     "output_type": "stream",
     "text": [
      "/Users/michaelraines/opt/anaconda3/lib/python3.8/site-packages/sklearn/svm/_base.py:1206: ConvergenceWarning: Liblinear failed to converge, increase the number of iterations.\n",
      "  warnings.warn(\n"
     ]
    },
    {
     "name": "stdout",
     "output_type": "stream",
     "text": [
      "[CV 2/5] END ..C=1.0, max_iter=1000, penalty=l2;, score=0.895 total time=   2.4s\n"
     ]
    },
    {
     "name": "stderr",
     "output_type": "stream",
     "text": [
      "/Users/michaelraines/opt/anaconda3/lib/python3.8/site-packages/sklearn/svm/_base.py:1206: ConvergenceWarning: Liblinear failed to converge, increase the number of iterations.\n",
      "  warnings.warn(\n"
     ]
    },
    {
     "name": "stdout",
     "output_type": "stream",
     "text": [
      "[CV 3/5] END ..C=1.0, max_iter=1000, penalty=l2;, score=0.895 total time=   2.3s\n"
     ]
    },
    {
     "name": "stderr",
     "output_type": "stream",
     "text": [
      "/Users/michaelraines/opt/anaconda3/lib/python3.8/site-packages/sklearn/svm/_base.py:1206: ConvergenceWarning: Liblinear failed to converge, increase the number of iterations.\n",
      "  warnings.warn(\n"
     ]
    },
    {
     "name": "stdout",
     "output_type": "stream",
     "text": [
      "[CV 4/5] END ..C=1.0, max_iter=1000, penalty=l2;, score=0.895 total time=   2.3s\n"
     ]
    },
    {
     "name": "stderr",
     "output_type": "stream",
     "text": [
      "/Users/michaelraines/opt/anaconda3/lib/python3.8/site-packages/sklearn/svm/_base.py:1206: ConvergenceWarning: Liblinear failed to converge, increase the number of iterations.\n",
      "  warnings.warn(\n"
     ]
    },
    {
     "name": "stdout",
     "output_type": "stream",
     "text": [
      "[CV 5/5] END ..C=1.0, max_iter=1000, penalty=l2;, score=0.895 total time=   2.3s\n",
      "[CV 1/5] END ....C=1.0, max_iter=1500, penalty=l1;, score=nan total time=   0.0s\n",
      "[CV 2/5] END ....C=1.0, max_iter=1500, penalty=l1;, score=nan total time=   0.0s\n",
      "[CV 3/5] END ....C=1.0, max_iter=1500, penalty=l1;, score=nan total time=   0.0s\n",
      "[CV 4/5] END ....C=1.0, max_iter=1500, penalty=l1;, score=nan total time=   0.0s\n",
      "[CV 5/5] END ....C=1.0, max_iter=1500, penalty=l1;, score=nan total time=   0.0s\n"
     ]
    },
    {
     "name": "stderr",
     "output_type": "stream",
     "text": [
      "/Users/michaelraines/opt/anaconda3/lib/python3.8/site-packages/sklearn/svm/_base.py:1206: ConvergenceWarning: Liblinear failed to converge, increase the number of iterations.\n",
      "  warnings.warn(\n"
     ]
    },
    {
     "name": "stdout",
     "output_type": "stream",
     "text": [
      "[CV 1/5] END ..C=1.0, max_iter=1500, penalty=l2;, score=0.895 total time=   3.8s\n"
     ]
    },
    {
     "name": "stderr",
     "output_type": "stream",
     "text": [
      "/Users/michaelraines/opt/anaconda3/lib/python3.8/site-packages/sklearn/svm/_base.py:1206: ConvergenceWarning: Liblinear failed to converge, increase the number of iterations.\n",
      "  warnings.warn(\n"
     ]
    },
    {
     "name": "stdout",
     "output_type": "stream",
     "text": [
      "[CV 2/5] END ..C=1.0, max_iter=1500, penalty=l2;, score=0.895 total time=   3.8s\n"
     ]
    },
    {
     "name": "stderr",
     "output_type": "stream",
     "text": [
      "/Users/michaelraines/opt/anaconda3/lib/python3.8/site-packages/sklearn/svm/_base.py:1206: ConvergenceWarning: Liblinear failed to converge, increase the number of iterations.\n",
      "  warnings.warn(\n"
     ]
    },
    {
     "name": "stdout",
     "output_type": "stream",
     "text": [
      "[CV 3/5] END ..C=1.0, max_iter=1500, penalty=l2;, score=0.895 total time=   3.4s\n"
     ]
    },
    {
     "name": "stderr",
     "output_type": "stream",
     "text": [
      "/Users/michaelraines/opt/anaconda3/lib/python3.8/site-packages/sklearn/svm/_base.py:1206: ConvergenceWarning: Liblinear failed to converge, increase the number of iterations.\n",
      "  warnings.warn(\n"
     ]
    },
    {
     "name": "stdout",
     "output_type": "stream",
     "text": [
      "[CV 4/5] END ..C=1.0, max_iter=1500, penalty=l2;, score=0.895 total time=   3.6s\n"
     ]
    },
    {
     "name": "stderr",
     "output_type": "stream",
     "text": [
      "/Users/michaelraines/opt/anaconda3/lib/python3.8/site-packages/sklearn/svm/_base.py:1206: ConvergenceWarning: Liblinear failed to converge, increase the number of iterations.\n",
      "  warnings.warn(\n"
     ]
    },
    {
     "name": "stdout",
     "output_type": "stream",
     "text": [
      "[CV 5/5] END ..C=1.0, max_iter=1500, penalty=l2;, score=0.895 total time=   3.6s\n",
      "[CV 1/5] END ....C=1.0, max_iter=2000, penalty=l1;, score=nan total time=   0.0s\n",
      "[CV 2/5] END ....C=1.0, max_iter=2000, penalty=l1;, score=nan total time=   0.0s\n",
      "[CV 3/5] END ....C=1.0, max_iter=2000, penalty=l1;, score=nan total time=   0.0s\n",
      "[CV 4/5] END ....C=1.0, max_iter=2000, penalty=l1;, score=nan total time=   0.0s\n",
      "[CV 5/5] END ....C=1.0, max_iter=2000, penalty=l1;, score=nan total time=   0.0s\n"
     ]
    },
    {
     "name": "stderr",
     "output_type": "stream",
     "text": [
      "/Users/michaelraines/opt/anaconda3/lib/python3.8/site-packages/sklearn/svm/_base.py:1206: ConvergenceWarning: Liblinear failed to converge, increase the number of iterations.\n",
      "  warnings.warn(\n"
     ]
    },
    {
     "name": "stdout",
     "output_type": "stream",
     "text": [
      "[CV 1/5] END ..C=1.0, max_iter=2000, penalty=l2;, score=0.895 total time=   4.7s\n"
     ]
    },
    {
     "name": "stderr",
     "output_type": "stream",
     "text": [
      "/Users/michaelraines/opt/anaconda3/lib/python3.8/site-packages/sklearn/svm/_base.py:1206: ConvergenceWarning: Liblinear failed to converge, increase the number of iterations.\n",
      "  warnings.warn(\n"
     ]
    },
    {
     "name": "stdout",
     "output_type": "stream",
     "text": [
      "[CV 2/5] END ..C=1.0, max_iter=2000, penalty=l2;, score=0.895 total time=   4.6s\n"
     ]
    },
    {
     "name": "stderr",
     "output_type": "stream",
     "text": [
      "/Users/michaelraines/opt/anaconda3/lib/python3.8/site-packages/sklearn/svm/_base.py:1206: ConvergenceWarning: Liblinear failed to converge, increase the number of iterations.\n",
      "  warnings.warn(\n"
     ]
    },
    {
     "name": "stdout",
     "output_type": "stream",
     "text": [
      "[CV 3/5] END ..C=1.0, max_iter=2000, penalty=l2;, score=0.895 total time=   4.9s\n"
     ]
    },
    {
     "name": "stderr",
     "output_type": "stream",
     "text": [
      "/Users/michaelraines/opt/anaconda3/lib/python3.8/site-packages/sklearn/svm/_base.py:1206: ConvergenceWarning: Liblinear failed to converge, increase the number of iterations.\n",
      "  warnings.warn(\n"
     ]
    },
    {
     "name": "stdout",
     "output_type": "stream",
     "text": [
      "[CV 4/5] END ..C=1.0, max_iter=2000, penalty=l2;, score=0.895 total time=   4.7s\n"
     ]
    },
    {
     "name": "stderr",
     "output_type": "stream",
     "text": [
      "/Users/michaelraines/opt/anaconda3/lib/python3.8/site-packages/sklearn/svm/_base.py:1206: ConvergenceWarning: Liblinear failed to converge, increase the number of iterations.\n",
      "  warnings.warn(\n"
     ]
    },
    {
     "name": "stdout",
     "output_type": "stream",
     "text": [
      "[CV 5/5] END ..C=1.0, max_iter=2000, penalty=l2;, score=0.895 total time=   4.5s\n",
      "[CV 1/5] END ....C=0.1, max_iter=1000, penalty=l1;, score=nan total time=   0.0s\n",
      "[CV 2/5] END ....C=0.1, max_iter=1000, penalty=l1;, score=nan total time=   0.0s\n",
      "[CV 3/5] END ....C=0.1, max_iter=1000, penalty=l1;, score=nan total time=   0.0s\n",
      "[CV 4/5] END ....C=0.1, max_iter=1000, penalty=l1;, score=nan total time=   0.0s\n",
      "[CV 5/5] END ....C=0.1, max_iter=1000, penalty=l1;, score=nan total time=   0.0s\n"
     ]
    },
    {
     "name": "stderr",
     "output_type": "stream",
     "text": [
      "/Users/michaelraines/opt/anaconda3/lib/python3.8/site-packages/sklearn/svm/_base.py:1206: ConvergenceWarning: Liblinear failed to converge, increase the number of iterations.\n",
      "  warnings.warn(\n"
     ]
    },
    {
     "name": "stdout",
     "output_type": "stream",
     "text": [
      "[CV 1/5] END ..C=0.1, max_iter=1000, penalty=l2;, score=0.895 total time=   2.3s\n"
     ]
    },
    {
     "name": "stderr",
     "output_type": "stream",
     "text": [
      "/Users/michaelraines/opt/anaconda3/lib/python3.8/site-packages/sklearn/svm/_base.py:1206: ConvergenceWarning: Liblinear failed to converge, increase the number of iterations.\n",
      "  warnings.warn(\n"
     ]
    },
    {
     "name": "stdout",
     "output_type": "stream",
     "text": [
      "[CV 2/5] END ..C=0.1, max_iter=1000, penalty=l2;, score=0.895 total time=   2.4s\n"
     ]
    },
    {
     "name": "stderr",
     "output_type": "stream",
     "text": [
      "/Users/michaelraines/opt/anaconda3/lib/python3.8/site-packages/sklearn/svm/_base.py:1206: ConvergenceWarning: Liblinear failed to converge, increase the number of iterations.\n",
      "  warnings.warn(\n"
     ]
    },
    {
     "name": "stdout",
     "output_type": "stream",
     "text": [
      "[CV 3/5] END ..C=0.1, max_iter=1000, penalty=l2;, score=0.895 total time=   2.8s\n"
     ]
    },
    {
     "name": "stderr",
     "output_type": "stream",
     "text": [
      "/Users/michaelraines/opt/anaconda3/lib/python3.8/site-packages/sklearn/svm/_base.py:1206: ConvergenceWarning: Liblinear failed to converge, increase the number of iterations.\n",
      "  warnings.warn(\n"
     ]
    },
    {
     "name": "stdout",
     "output_type": "stream",
     "text": [
      "[CV 4/5] END ..C=0.1, max_iter=1000, penalty=l2;, score=0.895 total time=   3.0s\n"
     ]
    },
    {
     "name": "stderr",
     "output_type": "stream",
     "text": [
      "/Users/michaelraines/opt/anaconda3/lib/python3.8/site-packages/sklearn/svm/_base.py:1206: ConvergenceWarning: Liblinear failed to converge, increase the number of iterations.\n",
      "  warnings.warn(\n"
     ]
    },
    {
     "name": "stdout",
     "output_type": "stream",
     "text": [
      "[CV 5/5] END ..C=0.1, max_iter=1000, penalty=l2;, score=0.895 total time=   2.4s\n",
      "[CV 1/5] END ....C=0.1, max_iter=1500, penalty=l1;, score=nan total time=   0.0s\n",
      "[CV 2/5] END ....C=0.1, max_iter=1500, penalty=l1;, score=nan total time=   0.0s\n",
      "[CV 3/5] END ....C=0.1, max_iter=1500, penalty=l1;, score=nan total time=   0.0s\n",
      "[CV 4/5] END ....C=0.1, max_iter=1500, penalty=l1;, score=nan total time=   0.0s\n",
      "[CV 5/5] END ....C=0.1, max_iter=1500, penalty=l1;, score=nan total time=   0.0s\n"
     ]
    },
    {
     "name": "stderr",
     "output_type": "stream",
     "text": [
      "/Users/michaelraines/opt/anaconda3/lib/python3.8/site-packages/sklearn/svm/_base.py:1206: ConvergenceWarning: Liblinear failed to converge, increase the number of iterations.\n",
      "  warnings.warn(\n"
     ]
    },
    {
     "name": "stdout",
     "output_type": "stream",
     "text": [
      "[CV 1/5] END ..C=0.1, max_iter=1500, penalty=l2;, score=0.895 total time=   3.7s\n"
     ]
    },
    {
     "name": "stderr",
     "output_type": "stream",
     "text": [
      "/Users/michaelraines/opt/anaconda3/lib/python3.8/site-packages/sklearn/svm/_base.py:1206: ConvergenceWarning: Liblinear failed to converge, increase the number of iterations.\n",
      "  warnings.warn(\n"
     ]
    },
    {
     "name": "stdout",
     "output_type": "stream",
     "text": [
      "[CV 2/5] END ..C=0.1, max_iter=1500, penalty=l2;, score=0.895 total time=   3.5s\n"
     ]
    },
    {
     "name": "stderr",
     "output_type": "stream",
     "text": [
      "/Users/michaelraines/opt/anaconda3/lib/python3.8/site-packages/sklearn/svm/_base.py:1206: ConvergenceWarning: Liblinear failed to converge, increase the number of iterations.\n",
      "  warnings.warn(\n"
     ]
    },
    {
     "name": "stdout",
     "output_type": "stream",
     "text": [
      "[CV 3/5] END ..C=0.1, max_iter=1500, penalty=l2;, score=0.895 total time=   3.6s\n"
     ]
    },
    {
     "name": "stderr",
     "output_type": "stream",
     "text": [
      "/Users/michaelraines/opt/anaconda3/lib/python3.8/site-packages/sklearn/svm/_base.py:1206: ConvergenceWarning: Liblinear failed to converge, increase the number of iterations.\n",
      "  warnings.warn(\n"
     ]
    },
    {
     "name": "stdout",
     "output_type": "stream",
     "text": [
      "[CV 4/5] END ..C=0.1, max_iter=1500, penalty=l2;, score=0.895 total time=   3.6s\n"
     ]
    },
    {
     "name": "stderr",
     "output_type": "stream",
     "text": [
      "/Users/michaelraines/opt/anaconda3/lib/python3.8/site-packages/sklearn/svm/_base.py:1206: ConvergenceWarning: Liblinear failed to converge, increase the number of iterations.\n",
      "  warnings.warn(\n"
     ]
    },
    {
     "name": "stdout",
     "output_type": "stream",
     "text": [
      "[CV 5/5] END ..C=0.1, max_iter=1500, penalty=l2;, score=0.895 total time=   3.6s\n",
      "[CV 1/5] END ....C=0.1, max_iter=2000, penalty=l1;, score=nan total time=   0.0s\n",
      "[CV 2/5] END ....C=0.1, max_iter=2000, penalty=l1;, score=nan total time=   0.0s\n",
      "[CV 3/5] END ....C=0.1, max_iter=2000, penalty=l1;, score=nan total time=   0.0s\n",
      "[CV 4/5] END ....C=0.1, max_iter=2000, penalty=l1;, score=nan total time=   0.0s\n",
      "[CV 5/5] END ....C=0.1, max_iter=2000, penalty=l1;, score=nan total time=   0.0s\n"
     ]
    },
    {
     "name": "stderr",
     "output_type": "stream",
     "text": [
      "/Users/michaelraines/opt/anaconda3/lib/python3.8/site-packages/sklearn/svm/_base.py:1206: ConvergenceWarning: Liblinear failed to converge, increase the number of iterations.\n",
      "  warnings.warn(\n"
     ]
    },
    {
     "name": "stdout",
     "output_type": "stream",
     "text": [
      "[CV 1/5] END ..C=0.1, max_iter=2000, penalty=l2;, score=0.895 total time=   4.6s\n"
     ]
    },
    {
     "name": "stderr",
     "output_type": "stream",
     "text": [
      "/Users/michaelraines/opt/anaconda3/lib/python3.8/site-packages/sklearn/svm/_base.py:1206: ConvergenceWarning: Liblinear failed to converge, increase the number of iterations.\n",
      "  warnings.warn(\n"
     ]
    },
    {
     "name": "stdout",
     "output_type": "stream",
     "text": [
      "[CV 2/5] END ..C=0.1, max_iter=2000, penalty=l2;, score=0.895 total time=   4.7s\n"
     ]
    },
    {
     "name": "stderr",
     "output_type": "stream",
     "text": [
      "/Users/michaelraines/opt/anaconda3/lib/python3.8/site-packages/sklearn/svm/_base.py:1206: ConvergenceWarning: Liblinear failed to converge, increase the number of iterations.\n",
      "  warnings.warn(\n"
     ]
    },
    {
     "name": "stdout",
     "output_type": "stream",
     "text": [
      "[CV 3/5] END ..C=0.1, max_iter=2000, penalty=l2;, score=0.895 total time=   4.7s\n"
     ]
    },
    {
     "name": "stderr",
     "output_type": "stream",
     "text": [
      "/Users/michaelraines/opt/anaconda3/lib/python3.8/site-packages/sklearn/svm/_base.py:1206: ConvergenceWarning: Liblinear failed to converge, increase the number of iterations.\n",
      "  warnings.warn(\n"
     ]
    },
    {
     "name": "stdout",
     "output_type": "stream",
     "text": [
      "[CV 4/5] END ..C=0.1, max_iter=2000, penalty=l2;, score=0.895 total time=   4.7s\n"
     ]
    },
    {
     "name": "stderr",
     "output_type": "stream",
     "text": [
      "/Users/michaelraines/opt/anaconda3/lib/python3.8/site-packages/sklearn/svm/_base.py:1206: ConvergenceWarning: Liblinear failed to converge, increase the number of iterations.\n",
      "  warnings.warn(\n"
     ]
    },
    {
     "name": "stdout",
     "output_type": "stream",
     "text": [
      "[CV 5/5] END ..C=0.1, max_iter=2000, penalty=l2;, score=0.895 total time=   5.1s\n",
      "[CV 1/5] END ...C=0.01, max_iter=1000, penalty=l1;, score=nan total time=   0.0s\n",
      "[CV 2/5] END ...C=0.01, max_iter=1000, penalty=l1;, score=nan total time=   0.0s\n",
      "[CV 3/5] END ...C=0.01, max_iter=1000, penalty=l1;, score=nan total time=   0.0s\n",
      "[CV 4/5] END ...C=0.01, max_iter=1000, penalty=l1;, score=nan total time=   0.0s\n",
      "[CV 5/5] END ...C=0.01, max_iter=1000, penalty=l1;, score=nan total time=   0.0s\n",
      "[CV 1/5] END .C=0.01, max_iter=1000, penalty=l2;, score=0.895 total time=   0.5s\n",
      "[CV 2/5] END .C=0.01, max_iter=1000, penalty=l2;, score=0.895 total time=   0.5s\n",
      "[CV 3/5] END .C=0.01, max_iter=1000, penalty=l2;, score=0.895 total time=   0.5s\n",
      "[CV 4/5] END .C=0.01, max_iter=1000, penalty=l2;, score=0.895 total time=   0.4s\n",
      "[CV 5/5] END .C=0.01, max_iter=1000, penalty=l2;, score=0.895 total time=   0.5s\n",
      "[CV 1/5] END ...C=0.01, max_iter=1500, penalty=l1;, score=nan total time=   0.0s\n",
      "[CV 2/5] END ...C=0.01, max_iter=1500, penalty=l1;, score=nan total time=   0.0s\n",
      "[CV 3/5] END ...C=0.01, max_iter=1500, penalty=l1;, score=nan total time=   0.0s\n",
      "[CV 4/5] END ...C=0.01, max_iter=1500, penalty=l1;, score=nan total time=   0.0s\n",
      "[CV 5/5] END ...C=0.01, max_iter=1500, penalty=l1;, score=nan total time=   0.0s\n",
      "[CV 1/5] END .C=0.01, max_iter=1500, penalty=l2;, score=0.895 total time=   0.5s\n",
      "[CV 2/5] END .C=0.01, max_iter=1500, penalty=l2;, score=0.895 total time=   0.5s\n",
      "[CV 3/5] END .C=0.01, max_iter=1500, penalty=l2;, score=0.895 total time=   0.8s\n",
      "[CV 4/5] END .C=0.01, max_iter=1500, penalty=l2;, score=0.895 total time=   0.4s\n",
      "[CV 5/5] END .C=0.01, max_iter=1500, penalty=l2;, score=0.895 total time=   0.5s\n",
      "[CV 1/5] END ...C=0.01, max_iter=2000, penalty=l1;, score=nan total time=   0.0s\n",
      "[CV 2/5] END ...C=0.01, max_iter=2000, penalty=l1;, score=nan total time=   0.0s\n",
      "[CV 3/5] END ...C=0.01, max_iter=2000, penalty=l1;, score=nan total time=   0.0s\n",
      "[CV 4/5] END ...C=0.01, max_iter=2000, penalty=l1;, score=nan total time=   0.0s\n",
      "[CV 5/5] END ...C=0.01, max_iter=2000, penalty=l1;, score=nan total time=   0.0s\n",
      "[CV 1/5] END .C=0.01, max_iter=2000, penalty=l2;, score=0.895 total time=   0.5s\n",
      "[CV 2/5] END .C=0.01, max_iter=2000, penalty=l2;, score=0.895 total time=   0.5s\n",
      "[CV 3/5] END .C=0.01, max_iter=2000, penalty=l2;, score=0.895 total time=   0.5s\n",
      "[CV 4/5] END .C=0.01, max_iter=2000, penalty=l2;, score=0.895 total time=   0.4s\n",
      "[CV 5/5] END .C=0.01, max_iter=2000, penalty=l2;, score=0.895 total time=   0.5s\n",
      "[CV 1/5] END ..C=0.001, max_iter=1000, penalty=l1;, score=nan total time=   0.0s\n",
      "[CV 2/5] END ..C=0.001, max_iter=1000, penalty=l1;, score=nan total time=   0.0s\n",
      "[CV 3/5] END ..C=0.001, max_iter=1000, penalty=l1;, score=nan total time=   0.0s\n",
      "[CV 4/5] END ..C=0.001, max_iter=1000, penalty=l1;, score=nan total time=   0.0s\n",
      "[CV 5/5] END ..C=0.001, max_iter=1000, penalty=l1;, score=nan total time=   0.0s\n",
      "[CV 1/5] END C=0.001, max_iter=1000, penalty=l2;, score=0.895 total time=   0.1s\n",
      "[CV 2/5] END C=0.001, max_iter=1000, penalty=l2;, score=0.895 total time=   0.1s\n",
      "[CV 3/5] END C=0.001, max_iter=1000, penalty=l2;, score=0.895 total time=   0.1s\n",
      "[CV 4/5] END C=0.001, max_iter=1000, penalty=l2;, score=0.895 total time=   0.1s\n",
      "[CV 5/5] END C=0.001, max_iter=1000, penalty=l2;, score=0.895 total time=   0.1s\n",
      "[CV 1/5] END ..C=0.001, max_iter=1500, penalty=l1;, score=nan total time=   0.0s\n",
      "[CV 2/5] END ..C=0.001, max_iter=1500, penalty=l1;, score=nan total time=   0.0s\n",
      "[CV 3/5] END ..C=0.001, max_iter=1500, penalty=l1;, score=nan total time=   0.0s\n",
      "[CV 4/5] END ..C=0.001, max_iter=1500, penalty=l1;, score=nan total time=   0.0s\n",
      "[CV 5/5] END ..C=0.001, max_iter=1500, penalty=l1;, score=nan total time=   0.0s\n",
      "[CV 1/5] END C=0.001, max_iter=1500, penalty=l2;, score=0.895 total time=   0.1s\n",
      "[CV 2/5] END C=0.001, max_iter=1500, penalty=l2;, score=0.895 total time=   0.1s\n",
      "[CV 3/5] END C=0.001, max_iter=1500, penalty=l2;, score=0.895 total time=   0.1s\n",
      "[CV 4/5] END C=0.001, max_iter=1500, penalty=l2;, score=0.895 total time=   0.1s\n",
      "[CV 5/5] END C=0.001, max_iter=1500, penalty=l2;, score=0.895 total time=   0.1s\n",
      "[CV 1/5] END ..C=0.001, max_iter=2000, penalty=l1;, score=nan total time=   0.0s\n",
      "[CV 2/5] END ..C=0.001, max_iter=2000, penalty=l1;, score=nan total time=   0.0s\n",
      "[CV 3/5] END ..C=0.001, max_iter=2000, penalty=l1;, score=nan total time=   0.0s\n",
      "[CV 4/5] END ..C=0.001, max_iter=2000, penalty=l1;, score=nan total time=   0.0s\n",
      "[CV 5/5] END ..C=0.001, max_iter=2000, penalty=l1;, score=nan total time=   0.0s\n",
      "[CV 1/5] END C=0.001, max_iter=2000, penalty=l2;, score=0.895 total time=   0.1s\n",
      "[CV 2/5] END C=0.001, max_iter=2000, penalty=l2;, score=0.895 total time=   0.1s\n",
      "[CV 3/5] END C=0.001, max_iter=2000, penalty=l2;, score=0.895 total time=   0.1s\n",
      "[CV 4/5] END C=0.001, max_iter=2000, penalty=l2;, score=0.895 total time=   0.1s\n",
      "[CV 5/5] END C=0.001, max_iter=2000, penalty=l2;, score=0.895 total time=   0.1s\n"
     ]
    },
    {
     "name": "stderr",
     "output_type": "stream",
     "text": [
      "/Users/michaelraines/opt/anaconda3/lib/python3.8/site-packages/sklearn/model_selection/_validation.py:372: FitFailedWarning: \n",
      "60 fits failed out of a total of 120.\n",
      "The score on these train-test partitions for these parameters will be set to nan.\n",
      "If these failures are not expected, you can try to debug them by setting error_score='raise'.\n",
      "\n",
      "Below are more details about the failures:\n",
      "--------------------------------------------------------------------------------\n",
      "60 fits failed with the following error:\n",
      "Traceback (most recent call last):\n",
      "  File \"/Users/michaelraines/opt/anaconda3/lib/python3.8/site-packages/sklearn/model_selection/_validation.py\", line 680, in _fit_and_score\n",
      "    estimator.fit(X_train, y_train, **fit_params)\n",
      "  File \"/Users/michaelraines/opt/anaconda3/lib/python3.8/site-packages/sklearn/svm/_classes.py\", line 257, in fit\n",
      "    self.coef_, self.intercept_, self.n_iter_ = _fit_liblinear(\n",
      "  File \"/Users/michaelraines/opt/anaconda3/lib/python3.8/site-packages/sklearn/svm/_base.py\", line 1185, in _fit_liblinear\n",
      "    solver_type = _get_liblinear_solver_type(multi_class, penalty, loss, dual)\n",
      "  File \"/Users/michaelraines/opt/anaconda3/lib/python3.8/site-packages/sklearn/svm/_base.py\", line 1024, in _get_liblinear_solver_type\n",
      "    raise ValueError(\n",
      "ValueError: Unsupported set of arguments: The combination of penalty='l1' and loss='squared_hinge' are not supported when dual=True, Parameters: penalty='l1', loss='squared_hinge', dual=True\n",
      "\n",
      "  warnings.warn(some_fits_failed_message, FitFailedWarning)\n",
      "/Users/michaelraines/opt/anaconda3/lib/python3.8/site-packages/sklearn/model_selection/_search.py:969: UserWarning: One or more of the test scores are non-finite: [       nan 0.89522667        nan 0.89522667        nan 0.89522667\n",
      "        nan 0.89522667        nan 0.89522667        nan 0.89522667\n",
      "        nan 0.89522667        nan 0.89522667        nan 0.89522667\n",
      "        nan 0.89522667        nan 0.89522667        nan 0.89522667]\n",
      "  warnings.warn(\n",
      "/Users/michaelraines/opt/anaconda3/lib/python3.8/site-packages/sklearn/svm/_base.py:1206: ConvergenceWarning: Liblinear failed to converge, increase the number of iterations.\n",
      "  warnings.warn(\n"
     ]
    },
    {
     "data": {
      "text/plain": [
       "GridSearchCV(estimator=LinearSVC(),\n",
       "             param_grid={'C': [1.0, 0.1, 0.01, 0.001],\n",
       "                         'max_iter': [1000, 1500, 2000],\n",
       "                         'penalty': ['l1', 'l2']},\n",
       "             verbose=3)"
      ]
     },
     "execution_count": 24,
     "metadata": {},
     "output_type": "execute_result"
    }
   ],
   "source": [
    "model= LinearSVC()\n",
    "param_grid = {'C': [1.0, 0.1, 0.01, 0.001],\n",
    "              'penalty': ['l1', 'l2'], \n",
    "            'max_iter':[1000, 1500, 2000]}\n",
    "svc_grid_clf = GridSearchCV(model, param_grid, verbose=3)\n",
    "svc_grid_clf.fit(X_train_scaled, y_train)"
   ]
  },
  {
   "cell_type": "code",
   "execution_count": 25,
   "id": "402967a6",
   "metadata": {},
   "outputs": [
    {
     "name": "stdout",
     "output_type": "stream",
     "text": [
      "{'C': 1.0, 'max_iter': 1000, 'penalty': 'l2'}\n",
      "0.8952266666666666\n"
     ]
    }
   ],
   "source": [
    "print(svc_grid_clf.best_params_)\n",
    "print(svc_grid_clf.best_score_)"
   ]
  },
  {
   "cell_type": "code",
   "execution_count": 26,
   "id": "44929ac4",
   "metadata": {},
   "outputs": [
    {
     "name": "stdout",
     "output_type": "stream",
     "text": [
      "Training Data Score: 0.8951733333333334\n",
      "Testing Data Score: 0.89312\n"
     ]
    },
    {
     "name": "stderr",
     "output_type": "stream",
     "text": [
      "/Users/michaelraines/opt/anaconda3/lib/python3.8/site-packages/sklearn/svm/_base.py:1206: ConvergenceWarning: Liblinear failed to converge, increase the number of iterations.\n",
      "  warnings.warn(\n"
     ]
    }
   ],
   "source": [
    "svc_best_params=svc_grid_clf.best_params_\n",
    "svc_classifier= LinearSVC(**svc_best_params).fit(X_train_scaled, y_train)\n",
    "print(f\"Training Data Score: {svc_classifier.score(X_train_scaled, y_train)}\")\n",
    "print(f\"Testing Data Score: {svc_classifier.score(X_test_scaled, y_test)}\")"
   ]
  },
  {
   "cell_type": "code",
   "execution_count": 27,
   "id": "59491c42",
   "metadata": {},
   "outputs": [],
   "source": [
    "pickle.dump(svc_classifier, open('Resources/svc_classifier.pkl','wb'))"
   ]
  },
  {
   "cell_type": "markdown",
   "id": "1698049b",
   "metadata": {},
   "source": [
    "#### KNeighbors Classifier"
   ]
  },
  {
   "cell_type": "code",
   "execution_count": 28,
   "id": "c1de667b",
   "metadata": {},
   "outputs": [
    {
     "name": "stdout",
     "output_type": "stream",
     "text": [
      "k: 1, Train/Test Score: 0.993/0.819\n",
      "k: 3, Train/Test Score: 0.910/0.869\n",
      "k: 5, Train/Test Score: 0.901/0.885\n",
      "k: 7, Train/Test Score: 0.898/0.889\n",
      "k: 9, Train/Test Score: 0.897/0.891\n",
      "k: 11, Train/Test Score: 0.896/0.892\n",
      "k: 13, Train/Test Score: 0.896/0.892\n",
      "k: 15, Train/Test Score: 0.896/0.893\n",
      "k: 17, Train/Test Score: 0.896/0.893\n",
      "k: 19, Train/Test Score: 0.895/0.893\n"
     ]
    },
    {
     "data": {
      "image/png": "[encoded data removed]",
      "text/plain": [
       "<Figure size 432x288 with 1 Axes>"
      ]
     },
     "metadata": {
      "needs_background": "light"
     },
     "output_type": "display_data"
    }
   ],
   "source": [
    "# Find N value\n",
    "\n",
    "train_scores = []\n",
    "test_scores = []\n",
    "for k in range(1, 20, 2):\n",
    "    knn = KNeighborsClassifier(n_neighbors=k)\n",
    "    knn.fit(X_train_scaled, y_train)\n",
    "    train_score = knn.score(X_train_scaled, y_train)\n",
    "    test_score = knn.score(X_test_scaled, y_test)\n",
    "    train_scores.append(train_score)\n",
    "    test_scores.append(test_score)\n",
    "    print(f\"k: {k}, Train/Test Score: {train_score:.3f}/{test_score:.3f}\")\n",
    "    \n",
    "    \n",
    "plt.plot(range(1, 20, 2), train_scores, marker='o')\n",
    "plt.plot(range(1, 20, 2), test_scores, marker=\"x\")\n",
    "plt.xlabel(\"k neighbors\")\n",
    "plt.ylabel(\"Testing accuracy Score\")\n",
    "plt.show()"
   ]
  },
  {
   "cell_type": "code",
   "execution_count": 30,
   "id": "239ef245",
   "metadata": {},
   "outputs": [
    {
     "name": "stdout",
     "output_type": "stream",
     "text": [
      "Fitting 5 folds for each of 32 candidates, totalling 160 fits\n",
      "[CV 1/5] END leaf_size=30, n_neighbors=9, weights=uniform;, score=0.893 total time=   7.1s\n",
      "[CV 2/5] END leaf_size=30, n_neighbors=9, weights=uniform;, score=0.895 total time=   7.1s\n",
      "[CV 3/5] END leaf_size=30, n_neighbors=9, weights=uniform;, score=0.894 total time=   6.8s\n",
      "[CV 4/5] END leaf_size=30, n_neighbors=9, weights=uniform;, score=0.893 total time=   4.5s\n",
      "[CV 5/5] END leaf_size=30, n_neighbors=9, weights=uniform;, score=0.895 total time=   7.0s\n",
      "[CV 1/5] END leaf_size=30, n_neighbors=9, weights=distance;, score=0.881 total time=   4.9s\n",
      "[CV 2/5] END leaf_size=30, n_neighbors=9, weights=distance;, score=0.884 total time=   5.2s\n",
      "[CV 3/5] END leaf_size=30, n_neighbors=9, weights=distance;, score=0.881 total time=   4.6s\n",
      "[CV 4/5] END leaf_size=30, n_neighbors=9, weights=distance;, score=0.883 total time=   3.6s\n",
      "[CV 5/5] END leaf_size=30, n_neighbors=9, weights=distance;, score=0.884 total time=   3.8s\n",
      "[CV 1/5] END leaf_size=30, n_neighbors=11, weights=uniform;, score=0.894 total time=   4.6s\n",
      "[CV 2/5] END leaf_size=30, n_neighbors=11, weights=uniform;, score=0.895 total time=   4.3s\n",
      "[CV 3/5] END leaf_size=30, n_neighbors=11, weights=uniform;, score=0.894 total time=   4.6s\n",
      "[CV 4/5] END leaf_size=30, n_neighbors=11, weights=uniform;, score=0.894 total time=   3.5s\n",
      "[CV 5/5] END leaf_size=30, n_neighbors=11, weights=uniform;, score=0.895 total time=   3.4s\n",
      "[CV 1/5] END leaf_size=30, n_neighbors=11, weights=distance;, score=0.884 total time=   3.7s\n",
      "[CV 2/5] END leaf_size=30, n_neighbors=11, weights=distance;, score=0.887 total time=   4.0s\n",
      "[CV 3/5] END leaf_size=30, n_neighbors=11, weights=distance;, score=0.882 total time=   4.2s\n",
      "[CV 4/5] END leaf_size=30, n_neighbors=11, weights=distance;, score=0.885 total time=   3.7s\n",
      "[CV 5/5] END leaf_size=30, n_neighbors=11, weights=distance;, score=0.887 total time=   3.5s\n",
      "[CV 1/5] END leaf_size=30, n_neighbors=13, weights=uniform;, score=0.894 total time=   3.7s\n",
      "[CV 2/5] END leaf_size=30, n_neighbors=13, weights=uniform;, score=0.895 total time=   3.9s\n",
      "[CV 3/5] END leaf_size=30, n_neighbors=13, weights=uniform;, score=0.895 total time=   4.7s\n",
      "[CV 4/5] END leaf_size=30, n_neighbors=13, weights=uniform;, score=0.895 total time=   3.7s\n",
      "[CV 5/5] END leaf_size=30, n_neighbors=13, weights=uniform;, score=0.896 total time=   3.8s\n",
      "[CV 1/5] END leaf_size=30, n_neighbors=13, weights=distance;, score=0.886 total time=   3.9s\n",
      "[CV 2/5] END leaf_size=30, n_neighbors=13, weights=distance;, score=0.888 total time=   3.9s\n",
      "[CV 3/5] END leaf_size=30, n_neighbors=13, weights=distance;, score=0.883 total time=   3.9s\n",
      "[CV 4/5] END leaf_size=30, n_neighbors=13, weights=distance;, score=0.886 total time=   3.1s\n",
      "[CV 5/5] END leaf_size=30, n_neighbors=13, weights=distance;, score=0.889 total time=   3.3s\n",
      "[CV 1/5] END leaf_size=30, n_neighbors=15, weights=uniform;, score=0.895 total time=   3.6s\n",
      "[CV 2/5] END leaf_size=30, n_neighbors=15, weights=uniform;, score=0.896 total time=   3.8s\n",
      "[CV 3/5] END leaf_size=30, n_neighbors=15, weights=uniform;, score=0.895 total time=   3.8s\n",
      "[CV 4/5] END leaf_size=30, n_neighbors=15, weights=uniform;, score=0.895 total time=   3.5s\n",
      "[CV 5/5] END leaf_size=30, n_neighbors=15, weights=uniform;, score=0.896 total time=   3.3s\n",
      "[CV 1/5] END leaf_size=30, n_neighbors=15, weights=distance;, score=0.887 total time=   3.7s\n",
      "[CV 2/5] END leaf_size=30, n_neighbors=15, weights=distance;, score=0.889 total time=   3.9s\n",
      "[CV 3/5] END leaf_size=30, n_neighbors=15, weights=distance;, score=0.883 total time=   4.3s\n",
      "[CV 4/5] END leaf_size=30, n_neighbors=15, weights=distance;, score=0.887 total time=   3.0s\n",
      "[CV 5/5] END leaf_size=30, n_neighbors=15, weights=distance;, score=0.889 total time=   3.3s\n",
      "[CV 1/5] END leaf_size=50, n_neighbors=9, weights=uniform;, score=0.893 total time=   3.9s\n",
      "[CV 2/5] END leaf_size=50, n_neighbors=9, weights=uniform;, score=0.895 total time=   4.5s\n",
      "[CV 3/5] END leaf_size=50, n_neighbors=9, weights=uniform;, score=0.894 total time=   4.2s\n",
      "[CV 4/5] END leaf_size=50, n_neighbors=9, weights=uniform;, score=0.893 total time=   4.3s\n",
      "[CV 5/5] END leaf_size=50, n_neighbors=9, weights=uniform;, score=0.895 total time=   3.5s\n",
      "[CV 1/5] END leaf_size=50, n_neighbors=9, weights=distance;, score=0.881 total time=   3.9s\n",
      "[CV 2/5] END leaf_size=50, n_neighbors=9, weights=distance;, score=0.884 total time=   4.1s\n",
      "[CV 3/5] END leaf_size=50, n_neighbors=9, weights=distance;, score=0.881 total time=   4.4s\n",
      "[CV 4/5] END leaf_size=50, n_neighbors=9, weights=distance;, score=0.883 total time=   3.4s\n",
      "[CV 5/5] END leaf_size=50, n_neighbors=9, weights=distance;, score=0.884 total time=   3.2s\n",
      "[CV 1/5] END leaf_size=50, n_neighbors=11, weights=uniform;, score=0.894 total time=   3.9s\n",
      "[CV 2/5] END leaf_size=50, n_neighbors=11, weights=uniform;, score=0.895 total time=   5.0s\n",
      "[CV 3/5] END leaf_size=50, n_neighbors=11, weights=uniform;, score=0.894 total time=   4.1s\n",
      "[CV 4/5] END leaf_size=50, n_neighbors=11, weights=uniform;, score=0.894 total time=   3.7s\n",
      "[CV 5/5] END leaf_size=50, n_neighbors=11, weights=uniform;, score=0.895 total time=   3.6s\n",
      "[CV 1/5] END leaf_size=50, n_neighbors=11, weights=distance;, score=0.884 total time=   4.0s\n",
      "[CV 2/5] END leaf_size=50, n_neighbors=11, weights=distance;, score=0.887 total time=   4.1s\n",
      "[CV 3/5] END leaf_size=50, n_neighbors=11, weights=distance;, score=0.882 total time=   3.8s\n",
      "[CV 4/5] END leaf_size=50, n_neighbors=11, weights=distance;, score=0.885 total time=   3.5s\n",
      "[CV 5/5] END leaf_size=50, n_neighbors=11, weights=distance;, score=0.887 total time=   3.6s\n",
      "[CV 1/5] END leaf_size=50, n_neighbors=13, weights=uniform;, score=0.894 total time=   4.1s\n",
      "[CV 2/5] END leaf_size=50, n_neighbors=13, weights=uniform;, score=0.895 total time=   4.1s\n",
      "[CV 3/5] END leaf_size=50, n_neighbors=13, weights=uniform;, score=0.895 total time=   4.2s\n",
      "[CV 4/5] END leaf_size=50, n_neighbors=13, weights=uniform;, score=0.895 total time=   3.8s\n",
      "[CV 5/5] END leaf_size=50, n_neighbors=13, weights=uniform;, score=0.896 total time=   3.8s\n",
      "[CV 1/5] END leaf_size=50, n_neighbors=13, weights=distance;, score=0.886 total time=   3.9s\n",
      "[CV 2/5] END leaf_size=50, n_neighbors=13, weights=distance;, score=0.888 total time=   4.0s\n",
      "[CV 3/5] END leaf_size=50, n_neighbors=13, weights=distance;, score=0.883 total time=   4.1s\n",
      "[CV 4/5] END leaf_size=50, n_neighbors=13, weights=distance;, score=0.886 total time=   3.8s\n",
      "[CV 5/5] END leaf_size=50, n_neighbors=13, weights=distance;, score=0.889 total time=   3.3s\n",
      "[CV 1/5] END leaf_size=50, n_neighbors=15, weights=uniform;, score=0.895 total time=   5.4s\n",
      "[CV 2/5] END leaf_size=50, n_neighbors=15, weights=uniform;, score=0.896 total time=   4.0s\n",
      "[CV 3/5] END leaf_size=50, n_neighbors=15, weights=uniform;, score=0.895 total time=   4.2s\n",
      "[CV 4/5] END leaf_size=50, n_neighbors=15, weights=uniform;, score=0.895 total time=   3.5s\n",
      "[CV 5/5] END leaf_size=50, n_neighbors=15, weights=uniform;, score=0.896 total time=   3.6s\n",
      "[CV 1/5] END leaf_size=50, n_neighbors=15, weights=distance;, score=0.887 total time=   3.9s\n",
      "[CV 2/5] END leaf_size=50, n_neighbors=15, weights=distance;, score=0.889 total time=   3.8s\n",
      "[CV 3/5] END leaf_size=50, n_neighbors=15, weights=distance;, score=0.883 total time=   4.1s\n",
      "[CV 4/5] END leaf_size=50, n_neighbors=15, weights=distance;, score=0.887 total time=   3.4s\n",
      "[CV 5/5] END leaf_size=50, n_neighbors=15, weights=distance;, score=0.889 total time=   3.0s\n",
      "[CV 1/5] END leaf_size=100, n_neighbors=9, weights=uniform;, score=0.893 total time=   3.5s\n",
      "[CV 2/5] END leaf_size=100, n_neighbors=9, weights=uniform;, score=0.895 total time=   3.9s\n",
      "[CV 3/5] END leaf_size=100, n_neighbors=9, weights=uniform;, score=0.894 total time=   4.0s\n",
      "[CV 4/5] END leaf_size=100, n_neighbors=9, weights=uniform;, score=0.893 total time=   3.4s\n",
      "[CV 5/5] END leaf_size=100, n_neighbors=9, weights=uniform;, score=0.895 total time=   3.4s\n",
      "[CV 1/5] END leaf_size=100, n_neighbors=9, weights=distance;, score=0.881 total time=   3.9s\n",
      "[CV 2/5] END leaf_size=100, n_neighbors=9, weights=distance;, score=0.884 total time=   3.5s\n",
      "[CV 3/5] END leaf_size=100, n_neighbors=9, weights=distance;, score=0.881 total time=   3.6s\n",
      "[CV 4/5] END leaf_size=100, n_neighbors=9, weights=distance;, score=0.883 total time=   3.0s\n"
     ]
    },
    {
     "name": "stdout",
     "output_type": "stream",
     "text": [
      "[CV 5/5] END leaf_size=100, n_neighbors=9, weights=distance;, score=0.884 total time=   3.1s\n",
      "[CV 1/5] END leaf_size=100, n_neighbors=11, weights=uniform;, score=0.894 total time=   3.7s\n",
      "[CV 2/5] END leaf_size=100, n_neighbors=11, weights=uniform;, score=0.895 total time=   4.5s\n",
      "[CV 3/5] END leaf_size=100, n_neighbors=11, weights=uniform;, score=0.894 total time=   3.9s\n",
      "[CV 4/5] END leaf_size=100, n_neighbors=11, weights=uniform;, score=0.894 total time=   3.4s\n",
      "[CV 5/5] END leaf_size=100, n_neighbors=11, weights=uniform;, score=0.895 total time=   3.6s\n",
      "[CV 1/5] END leaf_size=100, n_neighbors=11, weights=distance;, score=0.884 total time=   4.0s\n",
      "[CV 2/5] END leaf_size=100, n_neighbors=11, weights=distance;, score=0.887 total time=   4.1s\n",
      "[CV 3/5] END leaf_size=100, n_neighbors=11, weights=distance;, score=0.882 total time=   4.1s\n",
      "[CV 4/5] END leaf_size=100, n_neighbors=11, weights=distance;, score=0.885 total time=   3.2s\n",
      "[CV 5/5] END leaf_size=100, n_neighbors=11, weights=distance;, score=0.887 total time=   3.5s\n",
      "[CV 1/5] END leaf_size=100, n_neighbors=13, weights=uniform;, score=0.894 total time=   3.9s\n",
      "[CV 2/5] END leaf_size=100, n_neighbors=13, weights=uniform;, score=0.895 total time=   4.0s\n",
      "[CV 3/5] END leaf_size=100, n_neighbors=13, weights=uniform;, score=0.895 total time=   5.7s\n",
      "[CV 4/5] END leaf_size=100, n_neighbors=13, weights=uniform;, score=0.895 total time=   3.5s\n",
      "[CV 5/5] END leaf_size=100, n_neighbors=13, weights=uniform;, score=0.896 total time=   3.6s\n",
      "[CV 1/5] END leaf_size=100, n_neighbors=13, weights=distance;, score=0.886 total time=   4.0s\n",
      "[CV 2/5] END leaf_size=100, n_neighbors=13, weights=distance;, score=0.888 total time=   4.8s\n",
      "[CV 3/5] END leaf_size=100, n_neighbors=13, weights=distance;, score=0.883 total time=   4.2s\n",
      "[CV 4/5] END leaf_size=100, n_neighbors=13, weights=distance;, score=0.886 total time=   3.6s\n",
      "[CV 5/5] END leaf_size=100, n_neighbors=13, weights=distance;, score=0.889 total time=   3.4s\n",
      "[CV 1/5] END leaf_size=100, n_neighbors=15, weights=uniform;, score=0.895 total time=   4.0s\n",
      "[CV 2/5] END leaf_size=100, n_neighbors=15, weights=uniform;, score=0.896 total time=   3.8s\n",
      "[CV 3/5] END leaf_size=100, n_neighbors=15, weights=uniform;, score=0.895 total time=   4.0s\n",
      "[CV 4/5] END leaf_size=100, n_neighbors=15, weights=uniform;, score=0.895 total time=   3.4s\n",
      "[CV 5/5] END leaf_size=100, n_neighbors=15, weights=uniform;, score=0.896 total time=   3.5s\n",
      "[CV 1/5] END leaf_size=100, n_neighbors=15, weights=distance;, score=0.887 total time=   3.8s\n",
      "[CV 2/5] END leaf_size=100, n_neighbors=15, weights=distance;, score=0.889 total time=   3.9s\n",
      "[CV 3/5] END leaf_size=100, n_neighbors=15, weights=distance;, score=0.883 total time=   4.1s\n",
      "[CV 4/5] END leaf_size=100, n_neighbors=15, weights=distance;, score=0.887 total time=   3.5s\n",
      "[CV 5/5] END leaf_size=100, n_neighbors=15, weights=distance;, score=0.889 total time=   3.5s\n",
      "[CV 1/5] END leaf_size=200, n_neighbors=9, weights=uniform;, score=0.893 total time=   3.7s\n",
      "[CV 2/5] END leaf_size=200, n_neighbors=9, weights=uniform;, score=0.895 total time=   4.0s\n",
      "[CV 3/5] END leaf_size=200, n_neighbors=9, weights=uniform;, score=0.894 total time=   4.6s\n",
      "[CV 4/5] END leaf_size=200, n_neighbors=9, weights=uniform;, score=0.893 total time=   3.4s\n",
      "[CV 5/5] END leaf_size=200, n_neighbors=9, weights=uniform;, score=0.895 total time=   3.8s\n",
      "[CV 1/5] END leaf_size=200, n_neighbors=9, weights=distance;, score=0.881 total time=   4.2s\n",
      "[CV 2/5] END leaf_size=200, n_neighbors=9, weights=distance;, score=0.884 total time=   4.0s\n",
      "[CV 3/5] END leaf_size=200, n_neighbors=9, weights=distance;, score=0.881 total time=   4.4s\n",
      "[CV 4/5] END leaf_size=200, n_neighbors=9, weights=distance;, score=0.883 total time=   4.4s\n",
      "[CV 5/5] END leaf_size=200, n_neighbors=9, weights=distance;, score=0.884 total time=   3.9s\n",
      "[CV 1/5] END leaf_size=200, n_neighbors=11, weights=uniform;, score=0.894 total time=   4.2s\n",
      "[CV 2/5] END leaf_size=200, n_neighbors=11, weights=uniform;, score=0.895 total time=   4.3s\n",
      "[CV 3/5] END leaf_size=200, n_neighbors=11, weights=uniform;, score=0.894 total time=   4.1s\n",
      "[CV 4/5] END leaf_size=200, n_neighbors=11, weights=uniform;, score=0.894 total time=   3.5s\n",
      "[CV 5/5] END leaf_size=200, n_neighbors=11, weights=uniform;, score=0.895 total time=   3.5s\n",
      "[CV 1/5] END leaf_size=200, n_neighbors=11, weights=distance;, score=0.884 total time=   3.8s\n",
      "[CV 2/5] END leaf_size=200, n_neighbors=11, weights=distance;, score=0.887 total time=   4.0s\n",
      "[CV 3/5] END leaf_size=200, n_neighbors=11, weights=distance;, score=0.882 total time=   3.7s\n",
      "[CV 4/5] END leaf_size=200, n_neighbors=11, weights=distance;, score=0.885 total time=   3.1s\n",
      "[CV 5/5] END leaf_size=200, n_neighbors=11, weights=distance;, score=0.887 total time=   3.2s\n",
      "[CV 1/5] END leaf_size=200, n_neighbors=13, weights=uniform;, score=0.894 total time=   3.9s\n",
      "[CV 2/5] END leaf_size=200, n_neighbors=13, weights=uniform;, score=0.895 total time=   3.7s\n",
      "[CV 3/5] END leaf_size=200, n_neighbors=13, weights=uniform;, score=0.895 total time=   3.8s\n",
      "[CV 4/5] END leaf_size=200, n_neighbors=13, weights=uniform;, score=0.895 total time=   3.8s\n",
      "[CV 5/5] END leaf_size=200, n_neighbors=13, weights=uniform;, score=0.896 total time=   3.6s\n",
      "[CV 1/5] END leaf_size=200, n_neighbors=13, weights=distance;, score=0.886 total time=   3.6s\n",
      "[CV 2/5] END leaf_size=200, n_neighbors=13, weights=distance;, score=0.888 total time=   4.2s\n",
      "[CV 3/5] END leaf_size=200, n_neighbors=13, weights=distance;, score=0.883 total time=   3.8s\n",
      "[CV 4/5] END leaf_size=200, n_neighbors=13, weights=distance;, score=0.886 total time=   3.1s\n",
      "[CV 5/5] END leaf_size=200, n_neighbors=13, weights=distance;, score=0.889 total time=   3.5s\n",
      "[CV 1/5] END leaf_size=200, n_neighbors=15, weights=uniform;, score=0.895 total time=   4.2s\n",
      "[CV 2/5] END leaf_size=200, n_neighbors=15, weights=uniform;, score=0.896 total time=   4.2s\n",
      "[CV 3/5] END leaf_size=200, n_neighbors=15, weights=uniform;, score=0.895 total time=   4.1s\n",
      "[CV 4/5] END leaf_size=200, n_neighbors=15, weights=uniform;, score=0.895 total time=   3.2s\n",
      "[CV 5/5] END leaf_size=200, n_neighbors=15, weights=uniform;, score=0.896 total time=   3.3s\n",
      "[CV 1/5] END leaf_size=200, n_neighbors=15, weights=distance;, score=0.887 total time=   3.6s\n",
      "[CV 2/5] END leaf_size=200, n_neighbors=15, weights=distance;, score=0.889 total time=   3.6s\n",
      "[CV 3/5] END leaf_size=200, n_neighbors=15, weights=distance;, score=0.883 total time=   3.9s\n",
      "[CV 4/5] END leaf_size=200, n_neighbors=15, weights=distance;, score=0.887 total time=   3.7s\n",
      "[CV 5/5] END leaf_size=200, n_neighbors=15, weights=distance;, score=0.889 total time=   3.8s\n"
     ]
    },
    {
     "data": {
      "text/plain": [
       "GridSearchCV(estimator=KNeighborsClassifier(),\n",
       "             param_grid={'leaf_size': [30, 50, 100, 200],\n",
       "                         'n_neighbors': [9, 11, 13, 15],\n",
       "                         'weights': ['uniform', 'distance']},\n",
       "             verbose=3)"
      ]
     },
     "execution_count": 30,
     "metadata": {},
     "output_type": "execute_result"
    }
   ],
   "source": [
    "model= KNeighborsClassifier()\n",
    "\n",
    "param_grid = {\n",
    "    'n_neighbors': [9,11,13,15],\n",
    "    'weights': ['uniform', 'distance'],\n",
    "    'leaf_size': [30, 50, 100, 200]\n",
    "}\n",
    "knn_grid_clf = GridSearchCV(model, param_grid, verbose=3)\n",
    "knn_grid_clf.fit(X_train_scaled, y_train)"
   ]
  },
  {
   "cell_type": "code",
   "execution_count": 31,
   "id": "84c5e42c",
   "metadata": {},
   "outputs": [
    {
     "name": "stdout",
     "output_type": "stream",
     "text": [
      "{'leaf_size': 30, 'n_neighbors': 15, 'weights': 'uniform'}\n",
      "0.8950933333333333\n"
     ]
    }
   ],
   "source": [
    "print(knn_grid_clf.best_params_)\n",
    "print(knn_grid_clf.best_score_)"
   ]
  },
  {
   "cell_type": "code",
   "execution_count": 33,
   "id": "a131f2d2",
   "metadata": {},
   "outputs": [
    {
     "name": "stdout",
     "output_type": "stream",
     "text": [
      "Training Data Score: 0.8958133333333334\n",
      "Testing Data Score: 0.8928\n"
     ]
    }
   ],
   "source": [
    "knn_best_params=knn_grid_clf.best_params_\n",
    "kn_classifier= KNeighborsClassifier(**knn_best_params).fit(X_train_scaled, y_train)\n",
    "print(f\"Training Data Score: {kn_classifier.score(X_train_scaled, y_train)}\")\n",
    "print(f\"Testing Data Score: {kn_classifier.score(X_test_scaled, y_test)}\")"
   ]
  },
  {
   "cell_type": "code",
   "execution_count": 34,
   "id": "90390560",
   "metadata": {},
   "outputs": [],
   "source": [
    "pickle.dump(kn_classifier, open('Resources/kn_classifier.pkl','wb'))"
   ]
  },
  {
   "cell_type": "code",
   "execution_count": null,
   "id": "f8667e61",
   "metadata": {},
   "outputs": [],
   "source": []
  },
  {
   "cell_type": "code",
   "execution_count": null,
   "id": "510da389",
   "metadata": {},
   "outputs": [],
   "source": []
  }
 ],
 "metadata": {
  "kernelspec": {
   "display_name": "Python 3 (ipykernel)",
   "language": "python",
   "name": "python3"
  },
  "language_info": {
   "codemirror_mode": {
    "name": "ipython",
    "version": 3
   },
   "file_extension": ".py",
   "mimetype": "text/x-python",
   "name": "python",
   "nbconvert_exporter": "python",
   "pygments_lexer": "ipython3",
   "version": "3.8.12"
  }
 },
 "nbformat": 4,
 "nbformat_minor": 5
}
